{
  "nbformat": 4,
  "nbformat_minor": 0,
  "metadata": {
    "colab": {
      "provenance": [],
      "include_colab_link": true
    },
    "kernelspec": {
      "name": "python3",
      "display_name": "Python 3"
    },
    "language_info": {
      "name": "python"
    }
  },
  "cells": [
    {
      "cell_type": "markdown",
      "metadata": {
        "id": "view-in-github",
        "colab_type": "text"
      },
      "source": [
        "<a href=\"https://colab.research.google.com/github/AlineFiori/MVP/blob/main/Template_An%C3%A1lise_de_Dados_Pregnancy.ipynb\" target=\"_parent\"><img src=\"https://colab.research.google.com/assets/colab-badge.svg\" alt=\"Open In Colab\"/></a>"
      ]
    },
    {
      "cell_type": "markdown",
      "source": [
        "# MVP Análise de Dados e Boas Práticas\n",
        "\n",
        "**Nome:** Aline Fiori Gonçalves\n",
        "\n",
        "**Matrícula:** 4052025000106\n",
        "\n",
        "**Dataset:** [Pregnancy](https://www.kaggle.com/datasets/csafrit2/maternal-health-risk-data?resource=download)"
      ],
      "metadata": {
        "id": "cmYX3PLx58Jg"
      }
    },
    {
      "cell_type": "markdown",
      "source": [
        "# Descrição do Problema\n",
        "\n",
        "O conjunto de dados Pregnancy contém dados de mulheres gestantes com a finalidade de identificar caracteterísticas de saúde que possam apresentar risco à gestação. Neste dataset poderemos avaliar aspectos como: idade gestacional, pressão arterial, glicemia, frequencia cardiaca e a classificação de risco gestacional do conjunto de dados."
      ],
      "metadata": {
        "id": "YW_JS-EEBFaR"
      }
    },
    {
      "cell_type": "markdown",
      "source": [
        "## Hipóteses do Problema\n",
        "\n",
        "As hipóteses que tracei são as seguintes:\n",
        "\n",
        "- É comprovado cientificamente que a idade da gestacional acima dos 35 anos (35+), por sí só, aumenta o risco gestacional. Qual o percentual deste grupo de risco na amostra avaliada e como está classificado em relação ao risco?\n",
        "\n",
        "- Qual a correlação entre a idade materna 35+ e o risco gestacional?\n",
        "\n",
        "- Dos aspectos de saúde apresentados neste trabalho, qual tem maior influência no risco gestacional de gestantes 35+?"
      ],
      "metadata": {
        "id": "Gm6mOo5PBYwr"
      }
    },
    {
      "cell_type": "markdown",
      "source": [
        "## Tipo de Problema\n",
        "\n",
        "Este é um problema de **classificação supervisionada**. Dado um conjunto de características (idade gestacional, pressáo arterial, glicemia e frequencia cardiaca), o objetivo é prever a qual o risco gestacional."
      ],
      "metadata": {
        "id": "x1zNNZt6BfdF"
      }
    },
    {
      "cell_type": "markdown",
      "source": [
        "## Atributos do Dataset\n",
        "\n",
        "O dataset Pregnancy contém 1.014 amostras, 07 colunas, e 03 classificações diferentes de risco gestacional.\n",
        "\n",
        "Possui cinco atributos:\n",
        "\n",
        "- ***Age*** (idade em anos da gestante)\n",
        "- ***SystolicBP*** (valor máximo da pressão arterial em mmHg, durante a gravidez)\n",
        "- ***DiastolicBP*** (valor mínimo da pressão arterial em mmHg, durante a gravidez)\n",
        "- ***BS (Blood Glicose)*** (níveis de glicose no sangue em termos de concentração molar, mmol/L)\n",
        "- ***BodyTemp*** (temperatura corporal)\n",
        "- ***HeartRate*** (frequência cardíaca normal em repouso, em batimentos por minuto)\n",
        "- ***Risk Level*** (nível de intensidade de risco previsto durante a gravidez)"
      ],
      "metadata": {
        "id": "FC6QJHhWBnzH"
      }
    },
    {
      "cell_type": "markdown",
      "source": [
        "## Seleção de Dados\n",
        "\n",
        "Para responder um dos questionamentos levantados na hipotese do problema, será necessario criar uma coluna no dataset Pregnancy classificando a idade gestacional em \"35+\"."
      ],
      "metadata": {
        "id": "N91bTLbiBxrm"
      }
    },
    {
      "cell_type": "markdown",
      "source": [
        "# Importação das Bibliotecas Necessárias e Carga de Dados\n",
        "\n",
        "Esta seção consolida todas as importações de bibliotecas necessárias para a análise, visualização e pré-processamento dos dados, bem como o carregamento inicial do dataset Pregnancy."
      ],
      "metadata": {
        "id": "DObGnkf0bJBh"
      }
    },
    {
      "cell_type": "code",
      "source": [
        "# Importar bibliotecas\n",
        "import pandas as pd #manipulação e análise de dados\n",
        "import numpy as np #computação numérica e científica em Python\n",
        "import matplotlib.pyplot as plt #plotagem e visualização de dados\n",
        "import seaborn as sns #visualização de dados científicos\n",
        "import altair as alt # <-- Adicione esta linha para importar Altair explicarrrrr\n",
        "from sklearn.model_selection import train_test_split #utilizado na valiação de modelos de Machine Learning, divide o dataset em treino e teste\n",
        "from sklearn.preprocessing import MinMaxScaler #para escalonamento de dados (normalização)\n",
        "from sklearn.preprocessing import StandardScaler #para padronizacao de dados (média de 0 e desvio padrão de 1)"
      ],
      "metadata": {
        "id": "tCohWn2jbkDB"
      },
      "execution_count": 103,
      "outputs": []
    },
    {
      "cell_type": "code",
      "source": [
        "# Link do GitHub em que o dataset 'Pregnancy' está salvo\n",
        "url_github = 'https://github.com/AlineFiori/MVP/raw/refs/heads/main/Maternal%20Health%20Risk%20Data%20Set.csv.xls'"
      ],
      "metadata": {
        "id": "p3DuPNtm6Bam"
      },
      "execution_count": 81,
      "outputs": []
    },
    {
      "cell_type": "code",
      "source": [
        "# Carregar os dados da url para um data frame pandas\n",
        "Dataset = pd.read_csv(url_github)"
      ],
      "metadata": {
        "id": "QYfROr5-9AvT"
      },
      "execution_count": 82,
      "outputs": []
    },
    {
      "cell_type": "code",
      "source": [
        "# Primeiras linhas\n",
        "Dataset.head()"
      ],
      "metadata": {
        "colab": {
          "base_uri": "https://localhost:8080/",
          "height": 204
        },
        "id": "AKb_BDQ6E6sR",
        "outputId": "0d2726e2-9439-4a7d-9fbe-48f87d3ab60d"
      },
      "execution_count": 83,
      "outputs": [
        {
          "output_type": "execute_result",
          "data": {
            "text/plain": [
              "   Age  SystolicBP  DiastolicBP    BS  BodyTemp  HeartRate  RiskLevel\n",
              "0   25         130           80  15.0      98.0         86  high risk\n",
              "1   35         140           90  13.0      98.0         70  high risk\n",
              "2   29          90           70   8.0     100.0         80  high risk\n",
              "3   30         140           85   7.0      98.0         70  high risk\n",
              "4   35         120           60   6.1      98.0         76   low risk"
            ],
            "text/html": [
              "\n",
              "  <div id=\"df-c595f46a-2629-4d60-b93d-6ae60a31dda3\" class=\"colab-df-container\">\n",
              "    <div>\n",
              "<style scoped>\n",
              "    .dataframe tbody tr th:only-of-type {\n",
              "        vertical-align: middle;\n",
              "    }\n",
              "\n",
              "    .dataframe tbody tr th {\n",
              "        vertical-align: top;\n",
              "    }\n",
              "\n",
              "    .dataframe thead th {\n",
              "        text-align: right;\n",
              "    }\n",
              "</style>\n",
              "<table border=\"1\" class=\"dataframe\">\n",
              "  <thead>\n",
              "    <tr style=\"text-align: right;\">\n",
              "      <th></th>\n",
              "      <th>Age</th>\n",
              "      <th>SystolicBP</th>\n",
              "      <th>DiastolicBP</th>\n",
              "      <th>BS</th>\n",
              "      <th>BodyTemp</th>\n",
              "      <th>HeartRate</th>\n",
              "      <th>RiskLevel</th>\n",
              "    </tr>\n",
              "  </thead>\n",
              "  <tbody>\n",
              "    <tr>\n",
              "      <th>0</th>\n",
              "      <td>25</td>\n",
              "      <td>130</td>\n",
              "      <td>80</td>\n",
              "      <td>15.0</td>\n",
              "      <td>98.0</td>\n",
              "      <td>86</td>\n",
              "      <td>high risk</td>\n",
              "    </tr>\n",
              "    <tr>\n",
              "      <th>1</th>\n",
              "      <td>35</td>\n",
              "      <td>140</td>\n",
              "      <td>90</td>\n",
              "      <td>13.0</td>\n",
              "      <td>98.0</td>\n",
              "      <td>70</td>\n",
              "      <td>high risk</td>\n",
              "    </tr>\n",
              "    <tr>\n",
              "      <th>2</th>\n",
              "      <td>29</td>\n",
              "      <td>90</td>\n",
              "      <td>70</td>\n",
              "      <td>8.0</td>\n",
              "      <td>100.0</td>\n",
              "      <td>80</td>\n",
              "      <td>high risk</td>\n",
              "    </tr>\n",
              "    <tr>\n",
              "      <th>3</th>\n",
              "      <td>30</td>\n",
              "      <td>140</td>\n",
              "      <td>85</td>\n",
              "      <td>7.0</td>\n",
              "      <td>98.0</td>\n",
              "      <td>70</td>\n",
              "      <td>high risk</td>\n",
              "    </tr>\n",
              "    <tr>\n",
              "      <th>4</th>\n",
              "      <td>35</td>\n",
              "      <td>120</td>\n",
              "      <td>60</td>\n",
              "      <td>6.1</td>\n",
              "      <td>98.0</td>\n",
              "      <td>76</td>\n",
              "      <td>low risk</td>\n",
              "    </tr>\n",
              "  </tbody>\n",
              "</table>\n",
              "</div>\n",
              "    <div class=\"colab-df-buttons\">\n",
              "\n",
              "  <div class=\"colab-df-container\">\n",
              "    <button class=\"colab-df-convert\" onclick=\"convertToInteractive('df-c595f46a-2629-4d60-b93d-6ae60a31dda3')\"\n",
              "            title=\"Convert this dataframe to an interactive table.\"\n",
              "            style=\"display:none;\">\n",
              "\n",
              "  <svg xmlns=\"http://www.w3.org/2000/svg\" height=\"24px\" viewBox=\"0 -960 960 960\">\n",
              "    <path d=\"M120-120v-720h720v720H120Zm60-500h600v-160H180v160Zm220 220h160v-160H400v160Zm0 220h160v-160H400v160ZM180-400h160v-160H180v160Zm440 0h160v-160H620v160ZM180-180h160v-160H180v160Zm440 0h160v-160H620v160Z\"/>\n",
              "  </svg>\n",
              "    </button>\n",
              "\n",
              "  <style>\n",
              "    .colab-df-container {\n",
              "      display:flex;\n",
              "      gap: 12px;\n",
              "    }\n",
              "\n",
              "    .colab-df-convert {\n",
              "      background-color: #E8F0FE;\n",
              "      border: none;\n",
              "      border-radius: 50%;\n",
              "      cursor: pointer;\n",
              "      display: none;\n",
              "      fill: #1967D2;\n",
              "      height: 32px;\n",
              "      padding: 0 0 0 0;\n",
              "      width: 32px;\n",
              "    }\n",
              "\n",
              "    .colab-df-convert:hover {\n",
              "      background-color: #E2EBFA;\n",
              "      box-shadow: 0px 1px 2px rgba(60, 64, 67, 0.3), 0px 1px 3px 1px rgba(60, 64, 67, 0.15);\n",
              "      fill: #174EA6;\n",
              "    }\n",
              "\n",
              "    .colab-df-buttons div {\n",
              "      margin-bottom: 4px;\n",
              "    }\n",
              "\n",
              "    [theme=dark] .colab-df-convert {\n",
              "      background-color: #3B4455;\n",
              "      fill: #D2E3FC;\n",
              "    }\n",
              "\n",
              "    [theme=dark] .colab-df-convert:hover {\n",
              "      background-color: #434B5C;\n",
              "      box-shadow: 0px 1px 3px 1px rgba(0, 0, 0, 0.15);\n",
              "      filter: drop-shadow(0px 1px 2px rgba(0, 0, 0, 0.3));\n",
              "      fill: #FFFFFF;\n",
              "    }\n",
              "  </style>\n",
              "\n",
              "    <script>\n",
              "      const buttonEl =\n",
              "        document.querySelector('#df-c595f46a-2629-4d60-b93d-6ae60a31dda3 button.colab-df-convert');\n",
              "      buttonEl.style.display =\n",
              "        google.colab.kernel.accessAllowed ? 'block' : 'none';\n",
              "\n",
              "      async function convertToInteractive(key) {\n",
              "        const element = document.querySelector('#df-c595f46a-2629-4d60-b93d-6ae60a31dda3');\n",
              "        const dataTable =\n",
              "          await google.colab.kernel.invokeFunction('convertToInteractive',\n",
              "                                                    [key], {});\n",
              "        if (!dataTable) return;\n",
              "\n",
              "        const docLinkHtml = 'Like what you see? Visit the ' +\n",
              "          '<a target=\"_blank\" href=https://colab.research.google.com/notebooks/data_table.ipynb>data table notebook</a>'\n",
              "          + ' to learn more about interactive tables.';\n",
              "        element.innerHTML = '';\n",
              "        dataTable['output_type'] = 'display_data';\n",
              "        await google.colab.output.renderOutput(dataTable, element);\n",
              "        const docLink = document.createElement('div');\n",
              "        docLink.innerHTML = docLinkHtml;\n",
              "        element.appendChild(docLink);\n",
              "      }\n",
              "    </script>\n",
              "  </div>\n",
              "\n",
              "\n",
              "    <div id=\"df-4723f982-9523-4a6d-85aa-37c5541ffb50\">\n",
              "      <button class=\"colab-df-quickchart\" onclick=\"quickchart('df-4723f982-9523-4a6d-85aa-37c5541ffb50')\"\n",
              "                title=\"Suggest charts\"\n",
              "                style=\"display:none;\">\n",
              "\n",
              "<svg xmlns=\"http://www.w3.org/2000/svg\" height=\"24px\"viewBox=\"0 0 24 24\"\n",
              "     width=\"24px\">\n",
              "    <g>\n",
              "        <path d=\"M19 3H5c-1.1 0-2 .9-2 2v14c0 1.1.9 2 2 2h14c1.1 0 2-.9 2-2V5c0-1.1-.9-2-2-2zM9 17H7v-7h2v7zm4 0h-2V7h2v10zm4 0h-2v-4h2v4z\"/>\n",
              "    </g>\n",
              "</svg>\n",
              "      </button>\n",
              "\n",
              "<style>\n",
              "  .colab-df-quickchart {\n",
              "      --bg-color: #E8F0FE;\n",
              "      --fill-color: #1967D2;\n",
              "      --hover-bg-color: #E2EBFA;\n",
              "      --hover-fill-color: #174EA6;\n",
              "      --disabled-fill-color: #AAA;\n",
              "      --disabled-bg-color: #DDD;\n",
              "  }\n",
              "\n",
              "  [theme=dark] .colab-df-quickchart {\n",
              "      --bg-color: #3B4455;\n",
              "      --fill-color: #D2E3FC;\n",
              "      --hover-bg-color: #434B5C;\n",
              "      --hover-fill-color: #FFFFFF;\n",
              "      --disabled-bg-color: #3B4455;\n",
              "      --disabled-fill-color: #666;\n",
              "  }\n",
              "\n",
              "  .colab-df-quickchart {\n",
              "    background-color: var(--bg-color);\n",
              "    border: none;\n",
              "    border-radius: 50%;\n",
              "    cursor: pointer;\n",
              "    display: none;\n",
              "    fill: var(--fill-color);\n",
              "    height: 32px;\n",
              "    padding: 0;\n",
              "    width: 32px;\n",
              "  }\n",
              "\n",
              "  .colab-df-quickchart:hover {\n",
              "    background-color: var(--hover-bg-color);\n",
              "    box-shadow: 0 1px 2px rgba(60, 64, 67, 0.3), 0 1px 3px 1px rgba(60, 64, 67, 0.15);\n",
              "    fill: var(--button-hover-fill-color);\n",
              "  }\n",
              "\n",
              "  .colab-df-quickchart-complete:disabled,\n",
              "  .colab-df-quickchart-complete:disabled:hover {\n",
              "    background-color: var(--disabled-bg-color);\n",
              "    fill: var(--disabled-fill-color);\n",
              "    box-shadow: none;\n",
              "  }\n",
              "\n",
              "  .colab-df-spinner {\n",
              "    border: 2px solid var(--fill-color);\n",
              "    border-color: transparent;\n",
              "    border-bottom-color: var(--fill-color);\n",
              "    animation:\n",
              "      spin 1s steps(1) infinite;\n",
              "  }\n",
              "\n",
              "  @keyframes spin {\n",
              "    0% {\n",
              "      border-color: transparent;\n",
              "      border-bottom-color: var(--fill-color);\n",
              "      border-left-color: var(--fill-color);\n",
              "    }\n",
              "    20% {\n",
              "      border-color: transparent;\n",
              "      border-left-color: var(--fill-color);\n",
              "      border-top-color: var(--fill-color);\n",
              "    }\n",
              "    30% {\n",
              "      border-color: transparent;\n",
              "      border-left-color: var(--fill-color);\n",
              "      border-top-color: var(--fill-color);\n",
              "      border-right-color: var(--fill-color);\n",
              "    }\n",
              "    40% {\n",
              "      border-color: transparent;\n",
              "      border-right-color: var(--fill-color);\n",
              "      border-top-color: var(--fill-color);\n",
              "    }\n",
              "    60% {\n",
              "      border-color: transparent;\n",
              "      border-right-color: var(--fill-color);\n",
              "    }\n",
              "    80% {\n",
              "      border-color: transparent;\n",
              "      border-right-color: var(--fill-color);\n",
              "      border-bottom-color: var(--fill-color);\n",
              "    }\n",
              "    90% {\n",
              "      border-color: transparent;\n",
              "      border-bottom-color: var(--fill-color);\n",
              "    }\n",
              "  }\n",
              "</style>\n",
              "\n",
              "      <script>\n",
              "        async function quickchart(key) {\n",
              "          const quickchartButtonEl =\n",
              "            document.querySelector('#' + key + ' button');\n",
              "          quickchartButtonEl.disabled = true;  // To prevent multiple clicks.\n",
              "          quickchartButtonEl.classList.add('colab-df-spinner');\n",
              "          try {\n",
              "            const charts = await google.colab.kernel.invokeFunction(\n",
              "                'suggestCharts', [key], {});\n",
              "          } catch (error) {\n",
              "            console.error('Error during call to suggestCharts:', error);\n",
              "          }\n",
              "          quickchartButtonEl.classList.remove('colab-df-spinner');\n",
              "          quickchartButtonEl.classList.add('colab-df-quickchart-complete');\n",
              "        }\n",
              "        (() => {\n",
              "          let quickchartButtonEl =\n",
              "            document.querySelector('#df-4723f982-9523-4a6d-85aa-37c5541ffb50 button');\n",
              "          quickchartButtonEl.style.display =\n",
              "            google.colab.kernel.accessAllowed ? 'block' : 'none';\n",
              "        })();\n",
              "      </script>\n",
              "    </div>\n",
              "\n",
              "    </div>\n",
              "  </div>\n"
            ],
            "application/vnd.google.colaboratory.intrinsic+json": {
              "type": "dataframe",
              "variable_name": "Dataset",
              "summary": "{\n  \"name\": \"Dataset\",\n  \"rows\": 1014,\n  \"fields\": [\n    {\n      \"column\": \"Age\",\n      \"properties\": {\n        \"dtype\": \"number\",\n        \"std\": 13,\n        \"min\": 10,\n        \"max\": 70,\n        \"num_unique_values\": 50,\n        \"samples\": [\n          40,\n          43,\n          13\n        ],\n        \"semantic_type\": \"\",\n        \"description\": \"\"\n      }\n    },\n    {\n      \"column\": \"SystolicBP\",\n      \"properties\": {\n        \"dtype\": \"number\",\n        \"std\": 18,\n        \"min\": 70,\n        \"max\": 160,\n        \"num_unique_values\": 19,\n        \"samples\": [\n          130,\n          110,\n          80\n        ],\n        \"semantic_type\": \"\",\n        \"description\": \"\"\n      }\n    },\n    {\n      \"column\": \"DiastolicBP\",\n      \"properties\": {\n        \"dtype\": \"number\",\n        \"std\": 13,\n        \"min\": 49,\n        \"max\": 100,\n        \"num_unique_values\": 16,\n        \"samples\": [\n          80,\n          90,\n          89\n        ],\n        \"semantic_type\": \"\",\n        \"description\": \"\"\n      }\n    },\n    {\n      \"column\": \"BS\",\n      \"properties\": {\n        \"dtype\": \"number\",\n        \"std\": 3.293531721151271,\n        \"min\": 6.0,\n        \"max\": 19.0,\n        \"num_unique_values\": 29,\n        \"samples\": [\n          6.5,\n          7.7,\n          7.1\n        ],\n        \"semantic_type\": \"\",\n        \"description\": \"\"\n      }\n    },\n    {\n      \"column\": \"BodyTemp\",\n      \"properties\": {\n        \"dtype\": \"number\",\n        \"std\": 1.3713843755995325,\n        \"min\": 98.0,\n        \"max\": 103.0,\n        \"num_unique_values\": 8,\n        \"samples\": [\n          100.0,\n          98.4,\n          98.0\n        ],\n        \"semantic_type\": \"\",\n        \"description\": \"\"\n      }\n    },\n    {\n      \"column\": \"HeartRate\",\n      \"properties\": {\n        \"dtype\": \"number\",\n        \"std\": 8,\n        \"min\": 7,\n        \"max\": 90,\n        \"num_unique_values\": 16,\n        \"samples\": [\n          86,\n          70,\n          77\n        ],\n        \"semantic_type\": \"\",\n        \"description\": \"\"\n      }\n    },\n    {\n      \"column\": \"RiskLevel\",\n      \"properties\": {\n        \"dtype\": \"category\",\n        \"num_unique_values\": 3,\n        \"samples\": [\n          \"high risk\",\n          \"low risk\",\n          \"mid risk\"\n        ],\n        \"semantic_type\": \"\",\n        \"description\": \"\"\n      }\n    }\n  ]\n}"
            }
          },
          "metadata": {},
          "execution_count": 83
        }
      ]
    },
    {
      "cell_type": "markdown",
      "source": [
        "# Análise de Exploratória de Dados\n",
        "\n",
        "O objetivo desta etapa é entender a estrutura do dataset, identificar padrões, entender as características das variáveis, o que é crucial para as etapas subsequentes de pré-processamento e modelagem."
      ],
      "metadata": {
        "id": "XcHpQ9s_B4n1"
      }
    },
    {
      "cell_type": "code",
      "source": [
        "# 1. Renomear colunas para facilitar o uso\n",
        "colunas_para_renomear = {\n",
        "    'Age': 'Idade',\n",
        "    'SystolicBP': 'Pressao_Sistolica',\n",
        "    'DiastolicBP': 'Pressao_Diastolica',\n",
        "    'BS': 'Nivel_Glicose',\n",
        "    'BodyTemp': 'Temperatura_Corporal',\n",
        "    'HeartRate': 'Frequencia_Cardiaca',\n",
        "    'RiskLevel': 'Nivel_Risco'}\n",
        "\n",
        "\n",
        "Dataset = Dataset.rename(columns=colunas_para_renomear)\n",
        "\n",
        "print(\"\\nBase comcolunas renomeadas - Primeiras 5 linhas:\")\n",
        "print(Dataset.head())"
      ],
      "metadata": {
        "id": "cvcLmjzHND3T",
        "outputId": "fb1d42bc-b7ca-4dc8-8adb-fbff164fe2ce",
        "colab": {
          "base_uri": "https://localhost:8080/"
        }
      },
      "execution_count": 84,
      "outputs": [
        {
          "output_type": "stream",
          "name": "stdout",
          "text": [
            "\n",
            "Base comcolunas renomeadas - Primeiras 5 linhas:\n",
            "   Idade  Pressao_Sistolica  Pressao_Diastolica  Nivel_Glicose  \\\n",
            "0     25                130                  80           15.0   \n",
            "1     35                140                  90           13.0   \n",
            "2     29                 90                  70            8.0   \n",
            "3     30                140                  85            7.0   \n",
            "4     35                120                  60            6.1   \n",
            "\n",
            "   Temperatura_Corporal  Frequencia_Cardiaca Nivel_Risco  \n",
            "0                  98.0                   86   high risk  \n",
            "1                  98.0                   70   high risk  \n",
            "2                 100.0                   80   high risk  \n",
            "3                  98.0                   70   high risk  \n",
            "4                  98.0                   76    low risk  \n"
          ]
        }
      ]
    },
    {
      "cell_type": "code",
      "source": [
        "# 3. Mostra o Dataset\n",
        "print(\"\\nBase comcolunas renomeadas - Primeiras 5 linhas:\")\n",
        "print(Dataset.head())"
      ],
      "metadata": {
        "id": "jkn3VOQLey_c",
        "outputId": "bfd50c4a-74b0-4497-e575-c578110164e1",
        "colab": {
          "base_uri": "https://localhost:8080/"
        }
      },
      "execution_count": 108,
      "outputs": [
        {
          "output_type": "stream",
          "name": "stdout",
          "text": [
            "\n",
            "Base comcolunas renomeadas - Primeiras 5 linhas:\n",
            "   Idade  Pressao_Sistolica  Pressao_Diastolica  Nivel_Glicose  \\\n",
            "0     25                130                  80           15.0   \n",
            "1     35                140                  90           13.0   \n",
            "2     29                 90                  70            8.0   \n",
            "3     30                140                  85            7.0   \n",
            "4     35                120                  60            6.1   \n",
            "\n",
            "   Temperatura_Corporal  Frequencia_Cardiaca Nivel_Risco Idade_Categoria  \n",
            "0                  98.0                   86   high risk    Abaixo de 35  \n",
            "1                  98.0                   70   high risk             35+  \n",
            "2                 100.0                   80   high risk    Abaixo de 35  \n",
            "3                  98.0                   70   high risk    Abaixo de 35  \n",
            "4                  98.0                   76    low risk             35+  \n"
          ]
        }
      ]
    },
    {
      "cell_type": "code",
      "source": [
        "# 4. Visão geral: total de linhas e colunas\n",
        "\n",
        "print(f\"Total de instâncias (linhas): {len(Dataset)}\")\n",
        "print(f\"Total de colunas: {len(Dataset.columns)}\")"
      ],
      "metadata": {
        "id": "CBEBmoTSPKDQ",
        "outputId": "407c8fb9-dab0-4f7e-b624-9508db0c99a7",
        "colab": {
          "base_uri": "https://localhost:8080/"
        }
      },
      "execution_count": 87,
      "outputs": [
        {
          "output_type": "stream",
          "name": "stdout",
          "text": [
            "Total de instâncias (linhas): 1014\n",
            "Total de colunas: 8\n"
          ]
        }
      ]
    },
    {
      "cell_type": "code",
      "source": [
        "# 5. Análise de tipos de dados e valores nao nulos\n",
        "\n",
        "print(\"\\nInformações sobre os tipos de dados e valores não nulos\")\n",
        "Dataset.info()"
      ],
      "metadata": {
        "id": "4qM2vPudP2mh",
        "outputId": "62fae815-db44-49c9-a49b-4cb32b137ef4",
        "colab": {
          "base_uri": "https://localhost:8080/"
        }
      },
      "execution_count": 88,
      "outputs": [
        {
          "output_type": "stream",
          "name": "stdout",
          "text": [
            "\n",
            "Informações sobre os tipos de dados e valores não nulos\n",
            "<class 'pandas.core.frame.DataFrame'>\n",
            "RangeIndex: 1014 entries, 0 to 1013\n",
            "Data columns (total 8 columns):\n",
            " #   Column                Non-Null Count  Dtype  \n",
            "---  ------                --------------  -----  \n",
            " 0   Idade                 1014 non-null   int64  \n",
            " 1   Pressao_Sistolica     1014 non-null   int64  \n",
            " 2   Pressao_Diastolica    1014 non-null   int64  \n",
            " 3   Nivel_Glicose         1014 non-null   float64\n",
            " 4   Temperatura_Corporal  1014 non-null   float64\n",
            " 5   Frequencia_Cardiaca   1014 non-null   int64  \n",
            " 6   Nivel_Risco           1014 non-null   object \n",
            " 7   Idade_Categoria       1014 non-null   object \n",
            "dtypes: float64(2), int64(4), object(2)\n",
            "memory usage: 63.5+ KB\n"
          ]
        }
      ]
    },
    {
      "cell_type": "code",
      "source": [
        "# 6. Verificação de valores ausentes\n",
        "\n",
        "print(\"\\nVerificação de Valores Ausentes\")\n",
        "print(Dataset.isnull().sum())"
      ],
      "metadata": {
        "id": "o9jePjEfQ7vI",
        "outputId": "042b8c2f-22ae-4b82-bbb8-c9af6162258d",
        "colab": {
          "base_uri": "https://localhost:8080/"
        }
      },
      "execution_count": 89,
      "outputs": [
        {
          "output_type": "stream",
          "name": "stdout",
          "text": [
            "\n",
            "Verificação de Valores Ausentes\n",
            "Idade                   0\n",
            "Pressao_Sistolica       0\n",
            "Pressao_Diastolica      0\n",
            "Nivel_Glicose           0\n",
            "Temperatura_Corporal    0\n",
            "Frequencia_Cardiaca     0\n",
            "Nivel_Risco             0\n",
            "Idade_Categoria         0\n",
            "dtype: int64\n"
          ]
        }
      ]
    },
    {
      "cell_type": "code",
      "source": [
        "# 7. Análise de variáveis categóricas: analisando a categoria de risco por quantidade e percentual\n",
        "\n",
        "# Quantidade\n",
        "print(\"\\nContagem de valores únicos na coluna 'Nivel_Risco'\")\n",
        "print(Dataset['Nivel_Risco'].value_counts())\n",
        "\n",
        "# Percentual\n",
        "print(\"\\nPorcentagem do Nível de Risco para gestantes com idade maior que 35 anos:\")\n",
        "print(Dataset['Nivel_Risco'].value_counts(normalize=True) * 100)"
      ],
      "metadata": {
        "id": "oVIB26LVOu9L",
        "outputId": "a81411f7-08df-47d7-f28b-0060068d1292",
        "colab": {
          "base_uri": "https://localhost:8080/"
        }
      },
      "execution_count": 97,
      "outputs": [
        {
          "output_type": "stream",
          "name": "stdout",
          "text": [
            "\n",
            "Contagem de valores únicos na coluna 'Nivel_Risco'\n",
            "Nivel_Risco\n",
            "low risk     406\n",
            "mid risk     336\n",
            "high risk    272\n",
            "Name: count, dtype: int64\n",
            "\n",
            "Porcentagem do Nível de Risco para gestantes com idade maior que 35 anos:\n",
            "Nivel_Risco\n",
            "low risk     40.039448\n",
            "mid risk     33.136095\n",
            "high risk    26.824458\n",
            "Name: proportion, dtype: float64\n"
          ]
        }
      ]
    },
    {
      "cell_type": "code",
      "source": [
        "# 8. Análise de variáveis categóricas 35+: analisando a categoria de risco por quantidade e percentual\n",
        "\n",
        "# Filtrar o DataFrame para incluir apenas pessoas com idade maior que 35\n",
        "df_idade_maior_35 = Dataset[Dataset['Idade'] > 34]\n",
        "\n",
        "# Contar a ocorrência de cada tipo de risco para as pessoas filtradas\n",
        "contagem_risco_por_tipo = df_idade_maior_35['Nivel_Risco'].value_counts()\n",
        "\n",
        "# Imprimir o resultado\n",
        "print(\"Contagem do Nível de Risco para gestantes com idade maior que 35 anos:\")\n",
        "print(contagem_risco_por_tipo)\n",
        "\n",
        "# Opcional: Para ver as porcentagens\n",
        "print(\"\\nPorcentagem do Nível de Risco para gestantes com idade maior que 35 anos:\")\n",
        "print(df_idade_maior_35['Nivel_Risco'].value_counts(normalize=True) * 100)"
      ],
      "metadata": {
        "id": "hvPbCsxFiven"
      },
      "execution_count": null,
      "outputs": []
    },
    {
      "cell_type": "code",
      "source": [
        "# 1. Calcular os percentuais para o dataset total\n",
        "percent_total = Dataset['Nivel_Risco'].value_counts(normalize=True) * 100\n",
        "# Transformar em DataFrame para facilitar a manipulação\n",
        "percent_total_df = percent_total.reset_index()\n",
        "percent_total_df.columns = ['Nivel_Risco', 'Percentage']\n",
        "\n",
        "# 2. Filtrar o DataFrame para idade maior que 35\n",
        "df_age_gt_35 = Dataset[Dataset['Idade'] > 35]\n",
        "\n",
        "# 3. Calcular os percentuais para o dataset filtrado (idade > 35)\n",
        "percent_age_gt_35 = df_age_gt_35['Nivel_Risco'].value_counts(normalize=True) * 100\n",
        "# Transformar em DataFrame\n",
        "percent_age_gt_35_df = percent_age_gt_35.reset_index()\n",
        "percent_age_gt_35_df.columns = ['Nivel_Risco', 'Percentage']\n",
        "\n",
        "# Obter os níveis de risco únicos para os rótulos do eixo X\n",
        "risk_levels = sorted(percent_total_df['Nivel_Risco'].unique())\n",
        "\n",
        "# Configurações para o gráfico\n",
        "width = 0.35 # Largura das barras\n",
        "x_pos = range(len(risk_levels)) # Posições para as barras no eixo X\n",
        "\n",
        "# Criar a figura e os eixos\n",
        "fig, ax = plt.subplots(figsize=(10, 6))\n",
        "\n",
        "# Plotar as barras para o dataset total\n",
        "bars_total = ax.bar([p - width/2 for p in x_pos], percent_total_df['Percentage'], width, label='Total Dataset', color='skyblue')\n",
        "\n",
        "# Plotar as barras para o dataset filtrado (idade > 35)\n",
        "bars_age_gt_35 = ax.bar([p + width/2 for p in x_pos], percent_age_gt_35_df['Percentage'], width, label='Idade > 35 anos', color='lightcoral')\n",
        "\n",
        "# Adicionar rótulos, título e legenda\n",
        "ax.set_xlabel('Nível de Risco')\n",
        "ax.set_ylabel('Porcentagem (%)')\n",
        "ax.set_title('Comparação do Nível de Risco por Porcentagem (Matplotlib)')\n",
        "ax.set_xticks(x_pos)\n",
        "ax.set_xticklabels(risk_levels)\n",
        "ax.legend()\n",
        "ax.grid(axis='y', linestyle='--', alpha=0.7)\n",
        "\n",
        "# Adicionar os valores percentuais nas barras\n",
        "def autolabel(bars):\n",
        "    for bar in bars:\n",
        "        height = bar.get_height()\n",
        "        ax.annotate(f'{height:.1f}%',\n",
        "                    xy=(bar.get_x() + bar.get_width() / 2, height),\n",
        "                    xytext=(0, 3),  # 3 points vertical offset\n",
        "                    textcoords=\"offset points\",\n",
        "                    ha='center', va='bottom')\n",
        "\n",
        "autolabel(bars_total)\n",
        "autolabel(bars_age_gt_35)\n",
        "\n",
        "\n",
        "# Mostrar o gráfico\n",
        "plt.show()\n",
        "\n",
        "print(\"\\nGráfico salvo como 'comparacao_risco_por_idade_matplotlib.png' e exibido.\")\n"
      ],
      "metadata": {
        "colab": {
          "base_uri": "https://localhost:8080/",
          "height": 599
        },
        "id": "EJVwQn37hSsv",
        "outputId": "1b969646-1f18-4969-d102-9ba1e3fb6866"
      },
      "execution_count": 107,
      "outputs": [
        {
          "output_type": "display_data",
          "data": {
            "text/plain": [
              "<Figure size 1000x600 with 1 Axes>"
            ],
            "image/png": "[encoded data removed]"
          },
          "metadata": {}
        },
        {
          "output_type": "stream",
          "name": "stdout",
          "text": [
            "\n",
            "Gráfico salvo como 'comparacao_risco_por_idade_matplotlib.png' e exibido.\n"
          ]
        }
      ]
    },
    {
      "cell_type": "code",
      "source": [
        "# 6. Análise de variáveis categóricas: distribuição da frequência (%) do risco gestacional\n",
        "\n",
        "# Grafico de Barras para visualizarmos a frequenica de risco gestacional por tipo de risco\n",
        "\n",
        "\n",
        "#Para um gráfico de barras de contagem, primeiro precisamos contar a frequência de cada categoria.\n",
        "#contagem_risco = Dataset['Nivel_Risco'].value_counts()\n",
        "percentual_risco = Dataset['Nivel_Risco'].value_counts(normalize=True) * 100\n",
        "# 2. Criação do gráfico de barras\n",
        "# Prepara a figura e a area do grafico\n",
        "plt.figure(figsize=(9, 7))\n",
        "\n",
        "\n",
        "# É necessário armazenar o resultado de plt.bar() na variável 'bar_container', isso nos dá acesso aos objetos das barras para aplicar os rótulos.\n",
        "bar_container = plt.bar(\n",
        "    x=percentual_risco.index,     # Os nomes das categorias (Níveis de Risco) no eixo X\n",
        "    height=percentual_risco.values, # As contagens (quantidades) no eixo Y\n",
        "    color='skyblue' )       # Cor das barras\n",
        "\n",
        "\n",
        "#Insere titulo no grafico\n",
        "plt.title('Frequencia de Risco Gestacional por Categoria')\n",
        "\n",
        "#Insere os rótulos nos eixos\n",
        "plt.xlabel('Categoria')\n",
        "plt.ylabel('contagem_categorias')\n",
        "\n",
        "# Adiciona uma grade horizontal para facilitar a leitura dos valores\n",
        "plt.grid(axis='y', linestyle='--', alpha=0.7)\n",
        "\n",
        "#Ajusta margens do grafico (para eliminar margens desnecessarias)\n",
        "plt.tight_layout()\n",
        "\n",
        "# Adiciona os Rótulos de Dados em Cima das Barras\n",
        "# 'plt.bar_label()' é a função para isso, ela é chamada no 'bar_container' (o objeto que guarda as barras).\n",
        "# 'fmt=\"%d\"' formata os rótulos como números inteiros (sem casas decimais).\n",
        "\n",
        "plt.bar_label(bar_container,\n",
        "              fmt=\"%.1f%%\",   # Formato percentual com uma casa decimal\n",
        "              padding=4,      # Espaçamento entre a barra e o rótulo\n",
        "              fontsize=12,    # Tamanho da fonte do rótulo\n",
        "              color='black')  # Cor do texto do rótulo\n",
        "\n",
        "\n",
        "plt.show() #mostra o gráfico"
      ],
      "metadata": {
        "colab": {
          "base_uri": "https://localhost:8080/",
          "height": 707
        },
        "id": "zK6jvoPTJLZt",
        "outputId": "db725f8d-a45a-48fe-f729-81cecd100367"
      },
      "execution_count": null,
      "outputs": [
        {
          "output_type": "display_data",
          "data": {
            "text/plain": [
              "<Figure size 900x700 with 1 Axes>"
            ],
            "image/png": "[encoded data removed]"
          },
          "metadata": {}
        }
      ]
    },
    {
      "cell_type": "markdown",
      "source": [
        "O gráfico de barras evidencia que temos 03 categorias de riscos no dataset, sendo elas da maior para a menor:\n",
        "- 'Baixo Risco' com 406 registros representando 40,0% do risco\n",
        "- 'Médio Risco' com 336 registros representando 33,1% do risco\n",
        "- 'Alto Risco' com 272 registros representando 26,8% do risco"
      ],
      "metadata": {
        "id": "5VVAMJ3MHKVe"
      }
    },
    {
      "cell_type": "code",
      "source": [
        "# 6.2 avaliar\n",
        "\n",
        "#prompt: gerar grafico de histograma para o risk level e explicar o grafico\n",
        "\n",
        "# Histograma do Risco Gestacional\n",
        "plt.figure(figsize=(10, 6))\n",
        "sns.histplot(Dataset  ['Nivel_Risco'], kde=False, color='lightcoral', alpha=0.8) # kde=False para histograma simples\n",
        "plt.title('Distribuição dos Níveis de Risco Gestacional', fontsize=14)\n",
        "plt.xlabel('Nível de Risco', fontsize=12)\n",
        "plt.ylabel('Contagem', fontsize=12)\n",
        "plt.xticks(rotation=0) # Mantém os rótulos do eixo X na horizontal\n",
        "plt.grid(axis='y', linestyle='--', alpha=0.7)\n",
        "plt.tight_layout()\n",
        "plt.show()\n",
        "\n",
        "print(\"\"\"\n",
        "**Análise do Histograma 'Distribuição dos Níveis de Risco Gestacional':**\n",
        "\n",
        "Este histograma visualiza a frequência de cada uma das categorias de 'RiskLevel' no dataset.\n",
        "Ao contrário de um histograma tradicional para variáveis numéricas que mostra a distribuição contínua,\n",
        "aqui ele age mais como um gráfico de barras de contagem para uma variável categórica.\n",
        "\n",
        "Observamos as seguintes informações principais:\n",
        "\n",
        "1.  **Categorias de Risco:** O gráfico exibe as três categorias de risco presentes no dataset: 'Low Risk', 'Mid Risk', e 'High Risk'.\n",
        "2.  **Frequência das Categorias:** A altura de cada barra representa a contagem ou o número de gestantes em cada nível de risco.\n",
        "    - A barra para 'Low Risk' é a mais alta, indicando que a maior parte das gestantes na amostra se enquadra nesta categoria.\n",
        "    - A barra para 'Mid Risk' é a segunda mais alta.\n",
        "    - A barra para 'High Risk' é a mais baixa, sugerindo que há menos gestantes na amostra com alto risco gestacional em comparação com os outros dois níveis.\n",
        "\n",
        "Este gráfico confirma visualmente a contagem de cada categoria de risco que foi mostrada anteriormente pela função `.value_counts()`. Ele fornece uma rápida compreensão da distribuição da variável alvo 'RiskLevel' no dataset, mostrando que a amostra não é perfeitamente balanceada entre as categorias.\n",
        "\"\"\")\n"
      ],
      "metadata": {
        "id": "mS3R_FTuUAJs",
        "outputId": "c357f9b1-04c8-4c51-d4f0-ce0a88bef22c",
        "colab": {
          "base_uri": "https://localhost:8080/",
          "height": 916
        }
      },
      "execution_count": null,
      "outputs": [
        {
          "output_type": "display_data",
          "data": {
            "text/plain": [
              "<Figure size 1000x600 with 1 Axes>"
            ],
            "image/png": "[encoded data removed]"
          },
          "metadata": {}
        },
        {
          "output_type": "stream",
          "name": "stdout",
          "text": [
            "\n",
            "**Análise do Histograma 'Distribuição dos Níveis de Risco Gestacional':**\n",
            "\n",
            "Este histograma visualiza a frequência de cada uma das categorias de 'RiskLevel' no dataset.\n",
            "Ao contrário de um histograma tradicional para variáveis numéricas que mostra a distribuição contínua,\n",
            "aqui ele age mais como um gráfico de barras de contagem para uma variável categórica.\n",
            "\n",
            "Observamos as seguintes informações principais:\n",
            "\n",
            "1.  **Categorias de Risco:** O gráfico exibe as três categorias de risco presentes no dataset: 'Low Risk', 'Mid Risk', e 'High Risk'.\n",
            "2.  **Frequência das Categorias:** A altura de cada barra representa a contagem ou o número de gestantes em cada nível de risco.\n",
            "    - A barra para 'Low Risk' é a mais alta, indicando que a maior parte das gestantes na amostra se enquadra nesta categoria.\n",
            "    - A barra para 'Mid Risk' é a segunda mais alta.\n",
            "    - A barra para 'High Risk' é a mais baixa, sugerindo que há menos gestantes na amostra com alto risco gestacional em comparação com os outros dois níveis.\n",
            "\n",
            "Este gráfico confirma visualmente a contagem de cada categoria de risco que foi mostrada anteriormente pela função `.value_counts()`. Ele fornece uma rápida compreensão da distribuição da variável alvo 'RiskLevel' no dataset, mostrando que a amostra não é perfeitamente balanceada entre as categorias.\n",
            "\n"
          ]
        }
      ]
    },
    {
      "cell_type": "code",
      "source": [
        "# 6.3 histograma da idade - avaliar\n",
        "\n",
        "\n",
        "plt.figure(figsize=(8, 6))\n",
        "# Histograma do comprimento da sépala (um dos atributos)\n",
        "sns.histplot(Dataset['Idade'], kde=True)\n",
        "plt.title('nao sei')\n",
        "plt.xlabel('nao sei')\n",
        "plt.ylabel('Age')\n",
        "plt.show()"
      ],
      "metadata": {
        "colab": {
          "base_uri": "https://localhost:8080/",
          "height": 564
        },
        "id": "xFULQrKiGPqj",
        "outputId": "690181cc-fa56-40a1-dff4-67d00dbd9666"
      },
      "execution_count": null,
      "outputs": [
        {
          "output_type": "display_data",
          "data": {
            "text/plain": [
              "<Figure size 800x600 with 1 Axes>"
            ],
            "image/png": "[encoded data removed]"
          },
          "metadata": {}
        }
      ]
    },
    {
      "cell_type": "code",
      "source": [
        "# 7. Estatística Descritiva - Geral\n",
        "\n",
        "print(\"\\nEstatísticas descritivas das colunas numéricas\")\n",
        "print(Dataset.describe().T) # .T para transpor e facilitar a leitura, prefiro a visualização desta forma"
      ],
      "metadata": {
        "id": "2FVslBW6QEPL",
        "outputId": "c40179e8-ae86-4215-c459-215f389896ad",
        "colab": {
          "base_uri": "https://localhost:8080/"
        }
      },
      "execution_count": null,
      "outputs": [
        {
          "output_type": "stream",
          "name": "stdout",
          "text": [
            "\n",
            "Estatísticas descritivas das colunas numéricas\n",
            "                       count        mean        std   min    25%    50%  \\\n",
            "Idade                 1014.0   29.871795  13.474386  10.0   19.0   26.0   \n",
            "Pressao_Sistolica     1014.0  113.198225  18.403913  70.0  100.0  120.0   \n",
            "Pressao_Diastolica    1014.0   76.460552  13.885796  49.0   65.0   80.0   \n",
            "Nivel_Glicose         1014.0    8.725986   3.293532   6.0    6.9    7.5   \n",
            "Temperatura_Corporal  1014.0   98.665089   1.371384  98.0   98.0   98.0   \n",
            "Frequencia_Cardiaca   1014.0   74.301775   8.088702   7.0   70.0   76.0   \n",
            "\n",
            "                        75%    max  \n",
            "Idade                  39.0   70.0  \n",
            "Pressao_Sistolica     120.0  160.0  \n",
            "Pressao_Diastolica     90.0  100.0  \n",
            "Nivel_Glicose           8.0   19.0  \n",
            "Temperatura_Corporal   98.0  103.0  \n",
            "Frequencia_Cardiaca    80.0   90.0  \n"
          ]
        }
      ]
    },
    {
      "cell_type": "markdown",
      "source": [
        "count = contagem de registros do dataset\n",
        "\n",
        "mean = média\n",
        "\n",
        "std = desvio padrão\n",
        "\n",
        "min = valor mínimo da categoria\n",
        "\n",
        "25% = valor de 25% dos registros da categoria\n",
        "\n",
        "75% = valor de 75% dos registros da categoria\n",
        "\n",
        "max = valor máximo da categoria"
      ],
      "metadata": {
        "id": "UDQevY3J6E8H"
      }
    },
    {
      "cell_type": "markdown",
      "source": [
        "Quais impressões você tem sobre a distribuição do atributo 'sepal width'?"
      ],
      "metadata": {
        "id": "2iQSmHWkGUom"
      }
    },
    {
      "cell_type": "code",
      "source": [
        "# 8. Estatísticas descritivas agrupadas por espécie (boxplot)\n",
        "Dataset.groupby('Nivel_Risco').describe()"
      ],
      "metadata": {
        "id": "iH6ov-UMHHHJ",
        "colab": {
          "base_uri": "https://localhost:8080/",
          "height": 253
        },
        "outputId": "e6df1500-2f45-4fc3-8b71-6b4a935ad7f8"
      },
      "execution_count": null,
      "outputs": [
        {
          "output_type": "execute_result",
          "data": {
            "text/plain": [
              "             Idade                                                      \\\n",
              "             count       mean        std   min   25%   50%   75%   max   \n",
              "Nivel_Risco                                                              \n",
              "high risk    272.0  36.216912  13.032206  12.0  25.0  35.0  48.0  65.0   \n",
              "low risk     406.0  26.869458  13.121661  10.0  17.0  22.0  32.0  70.0   \n",
              "mid risk     336.0  28.363095  12.552660  10.0  19.0  25.0  32.0  60.0   \n",
              "\n",
              "            Pressao_Sistolica              ... Temperatura_Corporal         \\\n",
              "                        count        mean  ...                  75%    max   \n",
              "Nivel_Risco                                ...                               \n",
              "high risk               272.0  124.194853  ...                100.0  103.0   \n",
              "low risk                406.0  105.866995  ...                 98.0  103.0   \n",
              "mid risk                336.0  113.154762  ...                100.0  103.0   \n",
              "\n",
              "            Frequencia_Cardiaca                                               \\\n",
              "                          count       mean       std   min   25%   50%   75%   \n",
              "Nivel_Risco                                                                    \n",
              "high risk                 272.0  76.742647  8.697878  60.0  70.0  77.0  86.0   \n",
              "low risk                  406.0  72.770936  8.293341   7.0  70.0  70.0  77.0   \n",
              "mid risk                  336.0  74.175595  6.767490  60.0  70.0  76.0  78.0   \n",
              "\n",
              "                   \n",
              "              max  \n",
              "Nivel_Risco        \n",
              "high risk    90.0  \n",
              "low risk     88.0  \n",
              "mid risk     88.0  \n",
              "\n",
              "[3 rows x 48 columns]"
            ],
            "text/html": [
              "\n",
              "  <div id=\"df-afc2bc2d-9e78-43d3-bff0-310755e3d54a\" class=\"colab-df-container\">\n",
              "    <div>\n",
              "<style scoped>\n",
              "    .dataframe tbody tr th:only-of-type {\n",
              "        vertical-align: middle;\n",
              "    }\n",
              "\n",
              "    .dataframe tbody tr th {\n",
              "        vertical-align: top;\n",
              "    }\n",
              "\n",
              "    .dataframe thead tr th {\n",
              "        text-align: left;\n",
              "    }\n",
              "\n",
              "    .dataframe thead tr:last-of-type th {\n",
              "        text-align: right;\n",
              "    }\n",
              "</style>\n",
              "<table border=\"1\" class=\"dataframe\">\n",
              "  <thead>\n",
              "    <tr>\n",
              "      <th></th>\n",
              "      <th colspan=\"8\" halign=\"left\">Idade</th>\n",
              "      <th colspan=\"2\" halign=\"left\">Pressao_Sistolica</th>\n",
              "      <th>...</th>\n",
              "      <th colspan=\"2\" halign=\"left\">Temperatura_Corporal</th>\n",
              "      <th colspan=\"8\" halign=\"left\">Frequencia_Cardiaca</th>\n",
              "    </tr>\n",
              "    <tr>\n",
              "      <th></th>\n",
              "      <th>count</th>\n",
              "      <th>mean</th>\n",
              "      <th>std</th>\n",
              "      <th>min</th>\n",
              "      <th>25%</th>\n",
              "      <th>50%</th>\n",
              "      <th>75%</th>\n",
              "      <th>max</th>\n",
              "      <th>count</th>\n",
              "      <th>mean</th>\n",
              "      <th>...</th>\n",
              "      <th>75%</th>\n",
              "      <th>max</th>\n",
              "      <th>count</th>\n",
              "      <th>mean</th>\n",
              "      <th>std</th>\n",
              "      <th>min</th>\n",
              "      <th>25%</th>\n",
              "      <th>50%</th>\n",
              "      <th>75%</th>\n",
              "      <th>max</th>\n",
              "    </tr>\n",
              "    <tr>\n",
              "      <th>Nivel_Risco</th>\n",
              "      <th></th>\n",
              "      <th></th>\n",
              "      <th></th>\n",
              "      <th></th>\n",
              "      <th></th>\n",
              "      <th></th>\n",
              "      <th></th>\n",
              "      <th></th>\n",
              "      <th></th>\n",
              "      <th></th>\n",
              "      <th></th>\n",
              "      <th></th>\n",
              "      <th></th>\n",
              "      <th></th>\n",
              "      <th></th>\n",
              "      <th></th>\n",
              "      <th></th>\n",
              "      <th></th>\n",
              "      <th></th>\n",
              "      <th></th>\n",
              "      <th></th>\n",
              "    </tr>\n",
              "  </thead>\n",
              "  <tbody>\n",
              "    <tr>\n",
              "      <th>high risk</th>\n",
              "      <td>272.0</td>\n",
              "      <td>36.216912</td>\n",
              "      <td>13.032206</td>\n",
              "      <td>12.0</td>\n",
              "      <td>25.0</td>\n",
              "      <td>35.0</td>\n",
              "      <td>48.0</td>\n",
              "      <td>65.0</td>\n",
              "      <td>272.0</td>\n",
              "      <td>124.194853</td>\n",
              "      <td>...</td>\n",
              "      <td>100.0</td>\n",
              "      <td>103.0</td>\n",
              "      <td>272.0</td>\n",
              "      <td>76.742647</td>\n",
              "      <td>8.697878</td>\n",
              "      <td>60.0</td>\n",
              "      <td>70.0</td>\n",
              "      <td>77.0</td>\n",
              "      <td>86.0</td>\n",
              "      <td>90.0</td>\n",
              "    </tr>\n",
              "    <tr>\n",
              "      <th>low risk</th>\n",
              "      <td>406.0</td>\n",
              "      <td>26.869458</td>\n",
              "      <td>13.121661</td>\n",
              "      <td>10.0</td>\n",
              "      <td>17.0</td>\n",
              "      <td>22.0</td>\n",
              "      <td>32.0</td>\n",
              "      <td>70.0</td>\n",
              "      <td>406.0</td>\n",
              "      <td>105.866995</td>\n",
              "      <td>...</td>\n",
              "      <td>98.0</td>\n",
              "      <td>103.0</td>\n",
              "      <td>406.0</td>\n",
              "      <td>72.770936</td>\n",
              "      <td>8.293341</td>\n",
              "      <td>7.0</td>\n",
              "      <td>70.0</td>\n",
              "      <td>70.0</td>\n",
              "      <td>77.0</td>\n",
              "      <td>88.0</td>\n",
              "    </tr>\n",
              "    <tr>\n",
              "      <th>mid risk</th>\n",
              "      <td>336.0</td>\n",
              "      <td>28.363095</td>\n",
              "      <td>12.552660</td>\n",
              "      <td>10.0</td>\n",
              "      <td>19.0</td>\n",
              "      <td>25.0</td>\n",
              "      <td>32.0</td>\n",
              "      <td>60.0</td>\n",
              "      <td>336.0</td>\n",
              "      <td>113.154762</td>\n",
              "      <td>...</td>\n",
              "      <td>100.0</td>\n",
              "      <td>103.0</td>\n",
              "      <td>336.0</td>\n",
              "      <td>74.175595</td>\n",
              "      <td>6.767490</td>\n",
              "      <td>60.0</td>\n",
              "      <td>70.0</td>\n",
              "      <td>76.0</td>\n",
              "      <td>78.0</td>\n",
              "      <td>88.0</td>\n",
              "    </tr>\n",
              "  </tbody>\n",
              "</table>\n",
              "<p>3 rows × 48 columns</p>\n",
              "</div>\n",
              "    <div class=\"colab-df-buttons\">\n",
              "\n",
              "  <div class=\"colab-df-container\">\n",
              "    <button class=\"colab-df-convert\" onclick=\"convertToInteractive('df-afc2bc2d-9e78-43d3-bff0-310755e3d54a')\"\n",
              "            title=\"Convert this dataframe to an interactive table.\"\n",
              "            style=\"display:none;\">\n",
              "\n",
              "  <svg xmlns=\"http://www.w3.org/2000/svg\" height=\"24px\" viewBox=\"0 -960 960 960\">\n",
              "    <path d=\"M120-120v-720h720v720H120Zm60-500h600v-160H180v160Zm220 220h160v-160H400v160Zm0 220h160v-160H400v160ZM180-400h160v-160H180v160Zm440 0h160v-160H620v160ZM180-180h160v-160H180v160Zm440 0h160v-160H620v160Z\"/>\n",
              "  </svg>\n",
              "    </button>\n",
              "\n",
              "  <style>\n",
              "    .colab-df-container {\n",
              "      display:flex;\n",
              "      gap: 12px;\n",
              "    }\n",
              "\n",
              "    .colab-df-convert {\n",
              "      background-color: #E8F0FE;\n",
              "      border: none;\n",
              "      border-radius: 50%;\n",
              "      cursor: pointer;\n",
              "      display: none;\n",
              "      fill: #1967D2;\n",
              "      height: 32px;\n",
              "      padding: 0 0 0 0;\n",
              "      width: 32px;\n",
              "    }\n",
              "\n",
              "    .colab-df-convert:hover {\n",
              "      background-color: #E2EBFA;\n",
              "      box-shadow: 0px 1px 2px rgba(60, 64, 67, 0.3), 0px 1px 3px 1px rgba(60, 64, 67, 0.15);\n",
              "      fill: #174EA6;\n",
              "    }\n",
              "\n",
              "    .colab-df-buttons div {\n",
              "      margin-bottom: 4px;\n",
              "    }\n",
              "\n",
              "    [theme=dark] .colab-df-convert {\n",
              "      background-color: #3B4455;\n",
              "      fill: #D2E3FC;\n",
              "    }\n",
              "\n",
              "    [theme=dark] .colab-df-convert:hover {\n",
              "      background-color: #434B5C;\n",
              "      box-shadow: 0px 1px 3px 1px rgba(0, 0, 0, 0.15);\n",
              "      filter: drop-shadow(0px 1px 2px rgba(0, 0, 0, 0.3));\n",
              "      fill: #FFFFFF;\n",
              "    }\n",
              "  </style>\n",
              "\n",
              "    <script>\n",
              "      const buttonEl =\n",
              "        document.querySelector('#df-afc2bc2d-9e78-43d3-bff0-310755e3d54a button.colab-df-convert');\n",
              "      buttonEl.style.display =\n",
              "        google.colab.kernel.accessAllowed ? 'block' : 'none';\n",
              "\n",
              "      async function convertToInteractive(key) {\n",
              "        const element = document.querySelector('#df-afc2bc2d-9e78-43d3-bff0-310755e3d54a');\n",
              "        const dataTable =\n",
              "          await google.colab.kernel.invokeFunction('convertToInteractive',\n",
              "                                                    [key], {});\n",
              "        if (!dataTable) return;\n",
              "\n",
              "        const docLinkHtml = 'Like what you see? Visit the ' +\n",
              "          '<a target=\"_blank\" href=https://colab.research.google.com/notebooks/data_table.ipynb>data table notebook</a>'\n",
              "          + ' to learn more about interactive tables.';\n",
              "        element.innerHTML = '';\n",
              "        dataTable['output_type'] = 'display_data';\n",
              "        await google.colab.output.renderOutput(dataTable, element);\n",
              "        const docLink = document.createElement('div');\n",
              "        docLink.innerHTML = docLinkHtml;\n",
              "        element.appendChild(docLink);\n",
              "      }\n",
              "    </script>\n",
              "  </div>\n",
              "\n",
              "\n",
              "    <div id=\"df-7a4f5389-fa85-4e6b-a05f-8d5665ab758f\">\n",
              "      <button class=\"colab-df-quickchart\" onclick=\"quickchart('df-7a4f5389-fa85-4e6b-a05f-8d5665ab758f')\"\n",
              "                title=\"Suggest charts\"\n",
              "                style=\"display:none;\">\n",
              "\n",
              "<svg xmlns=\"http://www.w3.org/2000/svg\" height=\"24px\"viewBox=\"0 0 24 24\"\n",
              "     width=\"24px\">\n",
              "    <g>\n",
              "        <path d=\"M19 3H5c-1.1 0-2 .9-2 2v14c0 1.1.9 2 2 2h14c1.1 0 2-.9 2-2V5c0-1.1-.9-2-2-2zM9 17H7v-7h2v7zm4 0h-2V7h2v10zm4 0h-2v-4h2v4z\"/>\n",
              "    </g>\n",
              "</svg>\n",
              "      </button>\n",
              "\n",
              "<style>\n",
              "  .colab-df-quickchart {\n",
              "      --bg-color: #E8F0FE;\n",
              "      --fill-color: #1967D2;\n",
              "      --hover-bg-color: #E2EBFA;\n",
              "      --hover-fill-color: #174EA6;\n",
              "      --disabled-fill-color: #AAA;\n",
              "      --disabled-bg-color: #DDD;\n",
              "  }\n",
              "\n",
              "  [theme=dark] .colab-df-quickchart {\n",
              "      --bg-color: #3B4455;\n",
              "      --fill-color: #D2E3FC;\n",
              "      --hover-bg-color: #434B5C;\n",
              "      --hover-fill-color: #FFFFFF;\n",
              "      --disabled-bg-color: #3B4455;\n",
              "      --disabled-fill-color: #666;\n",
              "  }\n",
              "\n",
              "  .colab-df-quickchart {\n",
              "    background-color: var(--bg-color);\n",
              "    border: none;\n",
              "    border-radius: 50%;\n",
              "    cursor: pointer;\n",
              "    display: none;\n",
              "    fill: var(--fill-color);\n",
              "    height: 32px;\n",
              "    padding: 0;\n",
              "    width: 32px;\n",
              "  }\n",
              "\n",
              "  .colab-df-quickchart:hover {\n",
              "    background-color: var(--hover-bg-color);\n",
              "    box-shadow: 0 1px 2px rgba(60, 64, 67, 0.3), 0 1px 3px 1px rgba(60, 64, 67, 0.15);\n",
              "    fill: var(--button-hover-fill-color);\n",
              "  }\n",
              "\n",
              "  .colab-df-quickchart-complete:disabled,\n",
              "  .colab-df-quickchart-complete:disabled:hover {\n",
              "    background-color: var(--disabled-bg-color);\n",
              "    fill: var(--disabled-fill-color);\n",
              "    box-shadow: none;\n",
              "  }\n",
              "\n",
              "  .colab-df-spinner {\n",
              "    border: 2px solid var(--fill-color);\n",
              "    border-color: transparent;\n",
              "    border-bottom-color: var(--fill-color);\n",
              "    animation:\n",
              "      spin 1s steps(1) infinite;\n",
              "  }\n",
              "\n",
              "  @keyframes spin {\n",
              "    0% {\n",
              "      border-color: transparent;\n",
              "      border-bottom-color: var(--fill-color);\n",
              "      border-left-color: var(--fill-color);\n",
              "    }\n",
              "    20% {\n",
              "      border-color: transparent;\n",
              "      border-left-color: var(--fill-color);\n",
              "      border-top-color: var(--fill-color);\n",
              "    }\n",
              "    30% {\n",
              "      border-color: transparent;\n",
              "      border-left-color: var(--fill-color);\n",
              "      border-top-color: var(--fill-color);\n",
              "      border-right-color: var(--fill-color);\n",
              "    }\n",
              "    40% {\n",
              "      border-color: transparent;\n",
              "      border-right-color: var(--fill-color);\n",
              "      border-top-color: var(--fill-color);\n",
              "    }\n",
              "    60% {\n",
              "      border-color: transparent;\n",
              "      border-right-color: var(--fill-color);\n",
              "    }\n",
              "    80% {\n",
              "      border-color: transparent;\n",
              "      border-right-color: var(--fill-color);\n",
              "      border-bottom-color: var(--fill-color);\n",
              "    }\n",
              "    90% {\n",
              "      border-color: transparent;\n",
              "      border-bottom-color: var(--fill-color);\n",
              "    }\n",
              "  }\n",
              "</style>\n",
              "\n",
              "      <script>\n",
              "        async function quickchart(key) {\n",
              "          const quickchartButtonEl =\n",
              "            document.querySelector('#' + key + ' button');\n",
              "          quickchartButtonEl.disabled = true;  // To prevent multiple clicks.\n",
              "          quickchartButtonEl.classList.add('colab-df-spinner');\n",
              "          try {\n",
              "            const charts = await google.colab.kernel.invokeFunction(\n",
              "                'suggestCharts', [key], {});\n",
              "          } catch (error) {\n",
              "            console.error('Error during call to suggestCharts:', error);\n",
              "          }\n",
              "          quickchartButtonEl.classList.remove('colab-df-spinner');\n",
              "          quickchartButtonEl.classList.add('colab-df-quickchart-complete');\n",
              "        }\n",
              "        (() => {\n",
              "          let quickchartButtonEl =\n",
              "            document.querySelector('#df-7a4f5389-fa85-4e6b-a05f-8d5665ab758f button');\n",
              "          quickchartButtonEl.style.display =\n",
              "            google.colab.kernel.accessAllowed ? 'block' : 'none';\n",
              "        })();\n",
              "      </script>\n",
              "    </div>\n",
              "\n",
              "    </div>\n",
              "  </div>\n"
            ],
            "application/vnd.google.colaboratory.intrinsic+json": {
              "type": "dataframe"
            }
          },
          "metadata": {},
          "execution_count": 19
        }
      ]
    },
    {
      "cell_type": "code",
      "source": [
        "# Boxplot do comprimento da pétala por espécie\n",
        "plt.figure(figsize=(10, 6))\n",
        "sns.boxplot(x='Nivel_Risco', y='Idade', data=Dataset, order=['low risk', 'mid risk', 'high risk'])\n",
        "\n",
        "# Correcting the title and labels\n",
        "plt.title('Idade por Nível de Risco')\n",
        "plt.xlabel('Nível de Risco')\n",
        "plt.ylabel('Idade')\n",
        "plt.tight_layout()\n",
        "plt.show()"
      ],
      "metadata": {
        "id": "CXYVIeNfHHHJ",
        "colab": {
          "base_uri": "https://localhost:8080/",
          "height": 607
        },
        "outputId": "de5aa9da-a1f8-4df2-8ce6-5ffac7fc73f6"
      },
      "execution_count": null,
      "outputs": [
        {
          "output_type": "display_data",
          "data": {
            "text/plain": [
              "<Figure size 1000x600 with 1 Axes>"
            ],
            "image/png": "[encoded data removed]"
          },
          "metadata": {}
        }
      ]
    },
    {
      "cell_type": "markdown",
      "source": [
        "Inserir explicação"
      ],
      "metadata": {
        "id": "mqwFIROrHHHJ"
      }
    },
    {
      "cell_type": "markdown",
      "source": [
        "## Matriz de Correlação\n",
        "\n",
        "A matriz de correlação mede a força e a direção de uma relação linear que os atributos numéricos das espécies podem ter. Valores próximos a 1 indicam uma forte correlação positiva, -1 uma forte correlação negativa, e 0 ausência de correlação linear."
      ],
      "metadata": {
        "id": "3_ERHJAPEZAt"
      }
    },
    {
      "cell_type": "code",
      "source": [
        "# Matriz de correlação\n",
        "print(\"\\nMatriz de Correlação:\")\n",
        "Dataset.iloc[:, :4].corr()"
      ],
      "metadata": {
        "id": "jAmPsbzDHF2t",
        "colab": {
          "base_uri": "https://localhost:8080/",
          "height": 207
        },
        "outputId": "07c19f88-c89a-4b7a-935a-e31868cbe41c"
      },
      "execution_count": null,
      "outputs": [
        {
          "output_type": "stream",
          "name": "stdout",
          "text": [
            "\n",
            "Matriz de Correlação:\n"
          ]
        },
        {
          "output_type": "execute_result",
          "data": {
            "text/plain": [
              "                       Idade  Pressao_Sistolica  Pressao_Diastolica  \\\n",
              "Idade               1.000000           0.416045            0.398026   \n",
              "Pressao_Sistolica   0.416045           1.000000            0.787006   \n",
              "Pressao_Diastolica  0.398026           0.787006            1.000000   \n",
              "Nivel_Glicose       0.473284           0.425172            0.423824   \n",
              "\n",
              "                    Nivel_Glicose  \n",
              "Idade                    0.473284  \n",
              "Pressao_Sistolica        0.425172  \n",
              "Pressao_Diastolica       0.423824  \n",
              "Nivel_Glicose            1.000000  "
            ],
            "text/html": [
              "\n",
              "  <div id=\"df-96a36f05-cc0a-4fa1-b386-6292eeec4cef\" class=\"colab-df-container\">\n",
              "    <div>\n",
              "<style scoped>\n",
              "    .dataframe tbody tr th:only-of-type {\n",
              "        vertical-align: middle;\n",
              "    }\n",
              "\n",
              "    .dataframe tbody tr th {\n",
              "        vertical-align: top;\n",
              "    }\n",
              "\n",
              "    .dataframe thead th {\n",
              "        text-align: right;\n",
              "    }\n",
              "</style>\n",
              "<table border=\"1\" class=\"dataframe\">\n",
              "  <thead>\n",
              "    <tr style=\"text-align: right;\">\n",
              "      <th></th>\n",
              "      <th>Idade</th>\n",
              "      <th>Pressao_Sistolica</th>\n",
              "      <th>Pressao_Diastolica</th>\n",
              "      <th>Nivel_Glicose</th>\n",
              "    </tr>\n",
              "  </thead>\n",
              "  <tbody>\n",
              "    <tr>\n",
              "      <th>Idade</th>\n",
              "      <td>1.000000</td>\n",
              "      <td>0.416045</td>\n",
              "      <td>0.398026</td>\n",
              "      <td>0.473284</td>\n",
              "    </tr>\n",
              "    <tr>\n",
              "      <th>Pressao_Sistolica</th>\n",
              "      <td>0.416045</td>\n",
              "      <td>1.000000</td>\n",
              "      <td>0.787006</td>\n",
              "      <td>0.425172</td>\n",
              "    </tr>\n",
              "    <tr>\n",
              "      <th>Pressao_Diastolica</th>\n",
              "      <td>0.398026</td>\n",
              "      <td>0.787006</td>\n",
              "      <td>1.000000</td>\n",
              "      <td>0.423824</td>\n",
              "    </tr>\n",
              "    <tr>\n",
              "      <th>Nivel_Glicose</th>\n",
              "      <td>0.473284</td>\n",
              "      <td>0.425172</td>\n",
              "      <td>0.423824</td>\n",
              "      <td>1.000000</td>\n",
              "    </tr>\n",
              "  </tbody>\n",
              "</table>\n",
              "</div>\n",
              "    <div class=\"colab-df-buttons\">\n",
              "\n",
              "  <div class=\"colab-df-container\">\n",
              "    <button class=\"colab-df-convert\" onclick=\"convertToInteractive('df-96a36f05-cc0a-4fa1-b386-6292eeec4cef')\"\n",
              "            title=\"Convert this dataframe to an interactive table.\"\n",
              "            style=\"display:none;\">\n",
              "\n",
              "  <svg xmlns=\"http://www.w3.org/2000/svg\" height=\"24px\" viewBox=\"0 -960 960 960\">\n",
              "    <path d=\"M120-120v-720h720v720H120Zm60-500h600v-160H180v160Zm220 220h160v-160H400v160Zm0 220h160v-160H400v160ZM180-400h160v-160H180v160Zm440 0h160v-160H620v160ZM180-180h160v-160H180v160Zm440 0h160v-160H620v160Z\"/>\n",
              "  </svg>\n",
              "    </button>\n",
              "\n",
              "  <style>\n",
              "    .colab-df-container {\n",
              "      display:flex;\n",
              "      gap: 12px;\n",
              "    }\n",
              "\n",
              "    .colab-df-convert {\n",
              "      background-color: #E8F0FE;\n",
              "      border: none;\n",
              "      border-radius: 50%;\n",
              "      cursor: pointer;\n",
              "      display: none;\n",
              "      fill: #1967D2;\n",
              "      height: 32px;\n",
              "      padding: 0 0 0 0;\n",
              "      width: 32px;\n",
              "    }\n",
              "\n",
              "    .colab-df-convert:hover {\n",
              "      background-color: #E2EBFA;\n",
              "      box-shadow: 0px 1px 2px rgba(60, 64, 67, 0.3), 0px 1px 3px 1px rgba(60, 64, 67, 0.15);\n",
              "      fill: #174EA6;\n",
              "    }\n",
              "\n",
              "    .colab-df-buttons div {\n",
              "      margin-bottom: 4px;\n",
              "    }\n",
              "\n",
              "    [theme=dark] .colab-df-convert {\n",
              "      background-color: #3B4455;\n",
              "      fill: #D2E3FC;\n",
              "    }\n",
              "\n",
              "    [theme=dark] .colab-df-convert:hover {\n",
              "      background-color: #434B5C;\n",
              "      box-shadow: 0px 1px 3px 1px rgba(0, 0, 0, 0.15);\n",
              "      filter: drop-shadow(0px 1px 2px rgba(0, 0, 0, 0.3));\n",
              "      fill: #FFFFFF;\n",
              "    }\n",
              "  </style>\n",
              "\n",
              "    <script>\n",
              "      const buttonEl =\n",
              "        document.querySelector('#df-96a36f05-cc0a-4fa1-b386-6292eeec4cef button.colab-df-convert');\n",
              "      buttonEl.style.display =\n",
              "        google.colab.kernel.accessAllowed ? 'block' : 'none';\n",
              "\n",
              "      async function convertToInteractive(key) {\n",
              "        const element = document.querySelector('#df-96a36f05-cc0a-4fa1-b386-6292eeec4cef');\n",
              "        const dataTable =\n",
              "          await google.colab.kernel.invokeFunction('convertToInteractive',\n",
              "                                                    [key], {});\n",
              "        if (!dataTable) return;\n",
              "\n",
              "        const docLinkHtml = 'Like what you see? Visit the ' +\n",
              "          '<a target=\"_blank\" href=https://colab.research.google.com/notebooks/data_table.ipynb>data table notebook</a>'\n",
              "          + ' to learn more about interactive tables.';\n",
              "        element.innerHTML = '';\n",
              "        dataTable['output_type'] = 'display_data';\n",
              "        await google.colab.output.renderOutput(dataTable, element);\n",
              "        const docLink = document.createElement('div');\n",
              "        docLink.innerHTML = docLinkHtml;\n",
              "        element.appendChild(docLink);\n",
              "      }\n",
              "    </script>\n",
              "  </div>\n",
              "\n",
              "\n",
              "    <div id=\"df-782a3b72-cd12-421f-8f1e-caec2c2c66da\">\n",
              "      <button class=\"colab-df-quickchart\" onclick=\"quickchart('df-782a3b72-cd12-421f-8f1e-caec2c2c66da')\"\n",
              "                title=\"Suggest charts\"\n",
              "                style=\"display:none;\">\n",
              "\n",
              "<svg xmlns=\"http://www.w3.org/2000/svg\" height=\"24px\"viewBox=\"0 0 24 24\"\n",
              "     width=\"24px\">\n",
              "    <g>\n",
              "        <path d=\"M19 3H5c-1.1 0-2 .9-2 2v14c0 1.1.9 2 2 2h14c1.1 0 2-.9 2-2V5c0-1.1-.9-2-2-2zM9 17H7v-7h2v7zm4 0h-2V7h2v10zm4 0h-2v-4h2v4z\"/>\n",
              "    </g>\n",
              "</svg>\n",
              "      </button>\n",
              "\n",
              "<style>\n",
              "  .colab-df-quickchart {\n",
              "      --bg-color: #E8F0FE;\n",
              "      --fill-color: #1967D2;\n",
              "      --hover-bg-color: #E2EBFA;\n",
              "      --hover-fill-color: #174EA6;\n",
              "      --disabled-fill-color: #AAA;\n",
              "      --disabled-bg-color: #DDD;\n",
              "  }\n",
              "\n",
              "  [theme=dark] .colab-df-quickchart {\n",
              "      --bg-color: #3B4455;\n",
              "      --fill-color: #D2E3FC;\n",
              "      --hover-bg-color: #434B5C;\n",
              "      --hover-fill-color: #FFFFFF;\n",
              "      --disabled-bg-color: #3B4455;\n",
              "      --disabled-fill-color: #666;\n",
              "  }\n",
              "\n",
              "  .colab-df-quickchart {\n",
              "    background-color: var(--bg-color);\n",
              "    border: none;\n",
              "    border-radius: 50%;\n",
              "    cursor: pointer;\n",
              "    display: none;\n",
              "    fill: var(--fill-color);\n",
              "    height: 32px;\n",
              "    padding: 0;\n",
              "    width: 32px;\n",
              "  }\n",
              "\n",
              "  .colab-df-quickchart:hover {\n",
              "    background-color: var(--hover-bg-color);\n",
              "    box-shadow: 0 1px 2px rgba(60, 64, 67, 0.3), 0 1px 3px 1px rgba(60, 64, 67, 0.15);\n",
              "    fill: var(--button-hover-fill-color);\n",
              "  }\n",
              "\n",
              "  .colab-df-quickchart-complete:disabled,\n",
              "  .colab-df-quickchart-complete:disabled:hover {\n",
              "    background-color: var(--disabled-bg-color);\n",
              "    fill: var(--disabled-fill-color);\n",
              "    box-shadow: none;\n",
              "  }\n",
              "\n",
              "  .colab-df-spinner {\n",
              "    border: 2px solid var(--fill-color);\n",
              "    border-color: transparent;\n",
              "    border-bottom-color: var(--fill-color);\n",
              "    animation:\n",
              "      spin 1s steps(1) infinite;\n",
              "  }\n",
              "\n",
              "  @keyframes spin {\n",
              "    0% {\n",
              "      border-color: transparent;\n",
              "      border-bottom-color: var(--fill-color);\n",
              "      border-left-color: var(--fill-color);\n",
              "    }\n",
              "    20% {\n",
              "      border-color: transparent;\n",
              "      border-left-color: var(--fill-color);\n",
              "      border-top-color: var(--fill-color);\n",
              "    }\n",
              "    30% {\n",
              "      border-color: transparent;\n",
              "      border-left-color: var(--fill-color);\n",
              "      border-top-color: var(--fill-color);\n",
              "      border-right-color: var(--fill-color);\n",
              "    }\n",
              "    40% {\n",
              "      border-color: transparent;\n",
              "      border-right-color: var(--fill-color);\n",
              "      border-top-color: var(--fill-color);\n",
              "    }\n",
              "    60% {\n",
              "      border-color: transparent;\n",
              "      border-right-color: var(--fill-color);\n",
              "    }\n",
              "    80% {\n",
              "      border-color: transparent;\n",
              "      border-right-color: var(--fill-color);\n",
              "      border-bottom-color: var(--fill-color);\n",
              "    }\n",
              "    90% {\n",
              "      border-color: transparent;\n",
              "      border-bottom-color: var(--fill-color);\n",
              "    }\n",
              "  }\n",
              "</style>\n",
              "\n",
              "      <script>\n",
              "        async function quickchart(key) {\n",
              "          const quickchartButtonEl =\n",
              "            document.querySelector('#' + key + ' button');\n",
              "          quickchartButtonEl.disabled = true;  // To prevent multiple clicks.\n",
              "          quickchartButtonEl.classList.add('colab-df-spinner');\n",
              "          try {\n",
              "            const charts = await google.colab.kernel.invokeFunction(\n",
              "                'suggestCharts', [key], {});\n",
              "          } catch (error) {\n",
              "            console.error('Error during call to suggestCharts:', error);\n",
              "          }\n",
              "          quickchartButtonEl.classList.remove('colab-df-spinner');\n",
              "          quickchartButtonEl.classList.add('colab-df-quickchart-complete');\n",
              "        }\n",
              "        (() => {\n",
              "          let quickchartButtonEl =\n",
              "            document.querySelector('#df-782a3b72-cd12-421f-8f1e-caec2c2c66da button');\n",
              "          quickchartButtonEl.style.display =\n",
              "            google.colab.kernel.accessAllowed ? 'block' : 'none';\n",
              "        })();\n",
              "      </script>\n",
              "    </div>\n",
              "\n",
              "    </div>\n",
              "  </div>\n"
            ],
            "application/vnd.google.colaboratory.intrinsic+json": {
              "type": "dataframe",
              "summary": "{\n  \"name\": \"Dataset\",\n  \"rows\": 4,\n  \"fields\": [\n    {\n      \"column\": \"Idade\",\n      \"properties\": {\n        \"dtype\": \"number\",\n        \"std\": 0.28723820189717353,\n        \"min\": 0.3980262867031837,\n        \"max\": 1.0,\n        \"num_unique_values\": 4,\n        \"samples\": [\n          0.4160454479747322,\n          0.4732843359291685,\n          1.0\n        ],\n        \"semantic_type\": \"\",\n        \"description\": \"\"\n      }\n    },\n    {\n      \"column\": \"Pressao_Sistolica\",\n      \"properties\": {\n        \"dtype\": \"number\",\n        \"std\": 0.286562469783631,\n        \"min\": 0.4160454479747322,\n        \"max\": 1.0,\n        \"num_unique_values\": 4,\n        \"samples\": [\n          1.0,\n          0.4251716592710181,\n          0.4160454479747322\n        ],\n        \"semantic_type\": \"\",\n        \"description\": \"\"\n      }\n    },\n    {\n      \"column\": \"Pressao_Diastolica\",\n      \"properties\": {\n        \"dtype\": \"number\",\n        \"std\": 0.29206019193574334,\n        \"min\": 0.3980262867031837,\n        \"max\": 1.0,\n        \"num_unique_values\": 4,\n        \"samples\": [\n          0.78700647697753,\n          0.4238240704847053,\n          0.3980262867031837\n        ],\n        \"semantic_type\": \"\",\n        \"description\": \"\"\n      }\n    },\n    {\n      \"column\": \"Nivel_Glicose\",\n      \"properties\": {\n        \"dtype\": \"number\",\n        \"std\": 0.2805647099072706,\n        \"min\": 0.4238240704847053,\n        \"max\": 1.0,\n        \"num_unique_values\": 4,\n        \"samples\": [\n          0.4251716592710181,\n          1.0,\n          0.4732843359291685\n        ],\n        \"semantic_type\": \"\",\n        \"description\": \"\"\n      }\n    }\n  ]\n}"
            }
          },
          "metadata": {},
          "execution_count": 22
        }
      ]
    },
    {
      "cell_type": "code",
      "source": [
        "plt.figure(figsize=(8, 6))\n",
        "# mapa de calor das variáveis numéricas\n",
        "sns.heatmap(Dataset.iloc[:, :4].corr(), annot=True, cmap='coolwarm', fmt=\".2f\")\n",
        "plt.title('Matriz de Correlação das Características Numéricas')\n",
        "plt.show()"
      ],
      "metadata": {
        "id": "1iSnofo-HF2u",
        "colab": {
          "base_uri": "https://localhost:8080/",
          "height": 545
        },
        "outputId": "5b09a973-7aab-49e3-c117-19008b66cf90"
      },
      "execution_count": null,
      "outputs": [
        {
          "output_type": "display_data",
          "data": {
            "text/plain": [
              "<Figure size 800x600 with 2 Axes>"
            ],
            "image/png": "[encoded data removed]"
          },
          "metadata": {}
        }
      ]
    },
    {
      "cell_type": "markdown",
      "source": [
        "Explicar"
      ],
      "metadata": {
        "id": "oz1caOiQHF2u"
      }
    },
    {
      "cell_type": "markdown",
      "source": [
        "# Pré-Processamento de Dados\n",
        "\n",
        "O pré-processamento de dados é uma etapa crucial para preparar os dados para modelagem, ou seja, transformar os dados brutos em um formato adequado para algoritmos de aprendizado de máquina, garantindo que estejam no formato correto e otimizados para o desempenho do algoritmo."
      ],
      "metadata": {
        "id": "VDovmxgDFcbF"
      }
    },
    {
      "cell_type": "markdown",
      "source": [
        "## Treino e Teste"
      ],
      "metadata": {
        "id": "Cl5QdzJLMUMG"
      }
    },
    {
      "cell_type": "code",
      "source": [
        "# Preparar o dataset para a etapa de treino e teste\n",
        "\n",
        "# 1. Separar features (X) e target (y)\n",
        "# X serão todas as colunas, exceto 'Nivel_Risco'\n",
        "X = Dataset.drop('Nivel_Risco', axis=1)\n",
        "\n",
        "# y será a coluna 'Nivel_Risco'\n",
        "y = Dataset['Nivel_Risco']"
      ],
      "metadata": {
        "id": "82kzmWnHFkb6"
      },
      "execution_count": null,
      "outputs": []
    },
    {
      "cell_type": "code",
      "source": [
        "# 2. Dividir os dados em conjuntos de treino e teste\n",
        "\n",
        "# - Train_test_split(...): Esta é a função que faz a divisão:\n",
        "# - X, y: São os dados de entrada e a variável alvo.\n",
        "# - Test_size=0.3: Define que 30% dos dados serão usados para o conjunto de teste e os 70% restantes para o conjunto de treino.\n",
        "# - Random_state=42: garante que a divisão seja a mesma toda vez que você rodar o código.\n",
        "    #Isso é crucial para a reprodutibilidade dos seus experimentos.\n",
        "# - Stratify=y: é crucial para problemas de classificação, garantindo que as proporções de cada\n",
        "    # nível de risco (neste caso, 'low risk', 'mid risk', 'high risk') sejam mantidas nos conjuntos de treino e teste.\n",
        "\n",
        "X_train, X_test, y_train, y_test = train_test_split(X, y, test_size=0.3, random_state=42, stratify=y)"
      ],
      "metadata": {
        "id": "zzxbuTbIeuuU"
      },
      "execution_count": null,
      "outputs": []
    },
    {
      "cell_type": "code",
      "source": [
        "# 3. Imprimir as dimensões dos conjuntos para verificar\n",
        "print(f\"Dimensão total do Dataset: {Dataset.shape}\")\n",
        "print(f\"Dimensão de X (features): {X.shape}\")\n",
        "print(f\"Dimensão de y (target): {y.shape}\")\n",
        "print(\"-\" * 40)\n",
        "print(f\"Dimensão do conjunto de treino (X_train): {X_train.shape}\")\n",
        "print(f\"Dimensão do conjunto de teste (X_test): {X_test.shape}\")\n",
        "print(f\"Dimensão do target de treino (y_train): {y_train.shape}\")\n",
        "print(f\"Dimensão do target de teste (y_test): {y_test.shape}\")\n",
        "print(\"-\" * 40)\n",
        "print(\"Distribuição do Nivel_Risco no Dataset original:\")\n",
        "print(y.value_counts(normalize=True))\n",
        "print(\"\\nDistribuição do Nivel_Risco no conjunto de treino:\")\n",
        "print(y_train.value_counts(normalize=True))\n",
        "print(\"\\nDistribuição do Nivel_Risco no conjunto de teste:\")\n",
        "print(y_test.value_counts(normalize=True))"
      ],
      "metadata": {
        "colab": {
          "base_uri": "https://localhost:8080/"
        },
        "id": "rRhMXWaPId-J",
        "outputId": "3068afd6-c9db-482e-c5d5-3feeddfe1d8e"
      },
      "execution_count": null,
      "outputs": [
        {
          "output_type": "stream",
          "name": "stdout",
          "text": [
            "Dimensão total do Dataset: (1014, 7)\n",
            "Dimensão de X (features): (1014, 6)\n",
            "Dimensão de y (target): (1014,)\n",
            "----------------------------------------\n",
            "Dimensão do conjunto de treino (X_train): (709, 6)\n",
            "Dimensão do conjunto de teste (X_test): (305, 6)\n",
            "Dimensão do target de treino (y_train): (709,)\n",
            "Dimensão do target de teste (y_test): (305,)\n",
            "----------------------------------------\n",
            "Distribuição do Nivel_Risco no Dataset original:\n",
            "Nivel_Risco\n",
            "low risk     0.400394\n",
            "mid risk     0.331361\n",
            "high risk    0.268245\n",
            "Name: proportion, dtype: float64\n",
            "\n",
            "Distribuição do Nivel_Risco no conjunto de treino:\n",
            "Nivel_Risco\n",
            "low risk     0.400564\n",
            "mid risk     0.331453\n",
            "high risk    0.267983\n",
            "Name: proportion, dtype: float64\n",
            "\n",
            "Distribuição do Nivel_Risco no conjunto de teste:\n",
            "Nivel_Risco\n",
            "low risk     0.400000\n",
            "mid risk     0.331148\n",
            "high risk    0.268852\n",
            "Name: proportion, dtype: float64\n"
          ]
        }
      ]
    },
    {
      "cell_type": "code",
      "source": [
        "# Tratamento de valores ausentes\n",
        "\n",
        "#Náo há valores ausentes no dataset"
      ],
      "metadata": {
        "id": "M7-Z7kOSK0W0"
      },
      "execution_count": null,
      "outputs": []
    },
    {
      "cell_type": "markdown",
      "source": [
        "## Normalização\n",
        "\n",
        "A normalização escala os dados para um intervalo fixo, geralmente entre 0 e 1. É útil quando o algoritmo de machine learning assume que as características estão em uma escala semelhante.\n",
        "\n"
      ],
      "metadata": {
        "id": "7wQ9wP_zGJkk"
      }
    },
    {
      "cell_type": "code",
      "source": [
        "# Inicializar o MinMaxScaler\n",
        "scaler_norm = MinMaxScaler()"
      ],
      "metadata": {
        "id": "IHrDH13DHDDU"
      },
      "execution_count": null,
      "outputs": []
    },
    {
      "cell_type": "code",
      "source": [
        "# Aprende min e max APENAS de X_train\n",
        "scaler_norm.fit(X_train)\n",
        "X_train_normalized = scaler_norm.transform(X_train)\n",
        "# Usa a média e o desvio padrão aprendidos de X_train\n",
        "X_test_normalized = scaler_norm.transform(X_test)"
      ],
      "metadata": {
        "id": "WULXU6wBezB5"
      },
      "execution_count": null,
      "outputs": []
    },
    {
      "cell_type": "code",
      "source": [
        "# Exibir as primeiras linhas dos dados normalizados (como DataFrame para melhor visualização)\n",
        "df_normalized = pd.DataFrame(X_train_normalized, columns=X_train.columns)"
      ],
      "metadata": {
        "id": "-fHBl47Ve0NM"
      },
      "execution_count": null,
      "outputs": []
    },
    {
      "cell_type": "code",
      "source": [
        "print(\"\\nPrimeiras 5 linhas dos dados normalizados (treino):\")\n",
        "print(df_normalized.head())"
      ],
      "metadata": {
        "colab": {
          "base_uri": "https://localhost:8080/"
        },
        "id": "hynX-y4we3Nb",
        "outputId": "e624fbf8-230c-4fe5-eb92-3d7dfd5fce37"
      },
      "execution_count": null,
      "outputs": [
        {
          "output_type": "stream",
          "name": "stdout",
          "text": [
            "\n",
            "Primeiras 5 linhas dos dados normalizados (treino):\n",
            "      Idade  Pressao_Sistolica  Pressao_Diastolica  Nivel_Glicose  \\\n",
            "0  0.150000           0.555556            0.607843       0.076923   \n",
            "1  0.733333           0.777778            1.000000       0.692308   \n",
            "2  0.666667           0.666667            1.000000       0.769231   \n",
            "3  0.100000           0.222222            0.313725       0.069231   \n",
            "4  0.750000           0.555556            0.803922       0.061538   \n",
            "\n",
            "   Temperatura_Corporal  Frequencia_Cardiaca  \n",
            "0                   0.0             0.759036  \n",
            "1                   0.0             0.710843  \n",
            "2                   0.0             0.819277  \n",
            "3                   0.0             0.831325  \n",
            "4                   0.0             0.710843  \n"
          ]
        }
      ]
    },
    {
      "cell_type": "code",
      "source": [
        "# Visualização da distribuição após a normalização (exemplo para uma característica)\n",
        "plt.figure(figsize=(8, 6))\n",
        "sns.histplot(df_normalized['Idade'], kde=True)\n",
        "plt.title('Distribuição da Idade (Normalizado)')\n",
        "plt.xlabel('Idade Normalizada')\n",
        "plt.ylabel('Frequência')\n",
        "plt.show()"
      ],
      "metadata": {
        "id": "y5Ni6N10HDDU",
        "colab": {
          "base_uri": "https://localhost:8080/",
          "height": 564
        },
        "outputId": "7da6528d-99d2-45fa-c22a-6cf4083b9c51"
      },
      "execution_count": null,
      "outputs": [
        {
          "output_type": "display_data",
          "data": {
            "text/plain": [
              "<Figure size 800x600 with 1 Axes>"
            ],
            "image/png": "[encoded data removed]"
          },
          "metadata": {}
        }
      ]
    },
    {
      "cell_type": "markdown",
      "source": [
        "O histograma de *sepal length* após a normalização mostra que os valores foram escalados para o intervalo de 0 a 1, mantendo a forma da distribuição original.\n",
        "\n",
        "\n",
        "\n",
        "\n",
        "explicarrrrrrr"
      ],
      "metadata": {
        "id": "Eyb-mWfqHDDU"
      }
    },
    {
      "cell_type": "markdown",
      "source": [
        "## Padronização\n",
        "\n",
        "A padronização (ou Z-score scaling) transforma os dados para ter média 0 e desvio padrão 1. explicar maissssssss"
      ],
      "metadata": {
        "id": "UOSAwBz0GOAM"
      }
    },
    {
      "cell_type": "code",
      "source": [
        "# Identificar as colunas numéricas para padronização\n",
        "# Excluímos 'RiskLevel' porque é categórica (já tratada com codificação, como One-Hot)\n",
        "numerical_cols = ['Idade', 'Pressao_Sistolica', 'Pressao_Diastolica', 'Nivel_Glicose', 'Temperatura_Corporal', 'Frequencia_Cardiaca']\n",
        "\n",
        "\n",
        "# 3. Inicializar o StandardScaler\n",
        "scaler = StandardScaler()\n",
        "\n",
        "# 4. Ajustar (fit) o scaler APENAS nos dados de treino e transformar (transform)\n",
        "# Criar cópias para evitar SettingWithCopyWarning\n",
        "X_train_scaled = X_train.copy()\n",
        "X_test_scaled = X_test.copy()\n",
        "\n",
        "X_train_scaled[numerical_cols] = scaler.fit_transform(X_train[numerical_cols])\n",
        "\n",
        "# 5. Transformar os dados de teste usando o scaler já ajustado nos dados de treino\n",
        "X_test_scaled[numerical_cols] = scaler.transform(X_test[numerical_cols])\n",
        "\n",
        "print(\"X_train_scaled (Após Padronização nos dados de Treino):\")\n",
        "print(X_train_scaled.head())\n",
        "print(\"\\nVerificando médias e desvios padrão de X_train_scaled para as colunas numéricas:\")\n",
        "print(X_train_scaled[numerical_cols].agg(['mean', 'std']).round(2)) # Arredondar para melhor visualização\n",
        "\n",
        "print(\"\\nX_test_scaled (Após Padronização usando os parâmetros do Treino):\")\n",
        "print(X_test_scaled.head())\n",
        "print(\"\\nVerificando médias e desvios padrão de X_test_scaled para as colunas numéricas:\")\n",
        "print(X_test_scaled[numerical_cols].agg(['mean', 'std']).round(2))"
      ],
      "metadata": {
        "colab": {
          "base_uri": "https://localhost:8080/"
        },
        "id": "t_oqbQ6nTWFP",
        "outputId": "93fbae77-3336-487a-feef-be82408966f3"
      },
      "execution_count": null,
      "outputs": [
        {
          "output_type": "stream",
          "name": "stdout",
          "text": [
            "X_train_scaled (Após Padronização nos dados de Treino):\n",
            "        Idade  Pressao_Sistolica  Pressao_Diastolica  Nivel_Glicose  \\\n",
            "836 -0.806934           0.362239            0.254674      -0.526083   \n",
            "133  1.789549           1.432132            1.696301       1.892240   \n",
            "833  1.492808           0.897186            1.696301       2.194530   \n",
            "80  -1.029490          -1.242599           -0.826546      -0.556312   \n",
            "100  1.863734           0.362239            0.975487      -0.586541   \n",
            "\n",
            "     Temperatura_Corporal  Frequencia_Cardiaca  \n",
            "836              -0.49954            -0.542547  \n",
            "133              -0.49954            -1.019061  \n",
            "833              -0.49954             0.053095  \n",
            "80               -0.49954             0.172224  \n",
            "100              -0.49954            -1.019061  \n",
            "\n",
            "Verificando médias e desvios padrão de X_train_scaled para as colunas numéricas:\n",
            "      Idade  Pressao_Sistolica  Pressao_Diastolica  Nivel_Glicose  \\\n",
            "mean   -0.0               -0.0                 0.0            0.0   \n",
            "std     1.0                1.0                 1.0            1.0   \n",
            "\n",
            "      Temperatura_Corporal  Frequencia_Cardiaca  \n",
            "mean                   0.0                  0.0  \n",
            "std                    1.0                  1.0  \n",
            "\n",
            "X_test_scaled (Após Padronização usando os parâmetros do Treino):\n",
            "        Idade  Pressao_Sistolica  Pressao_Diastolica  Nivel_Glicose  \\\n",
            "425  0.380029          -0.707653           -1.186953       1.892240   \n",
            "85  -0.881120          -1.242599           -1.186953      -0.556312   \n",
            "289  1.492808           0.362239            0.254674      -0.314480   \n",
            "84  -0.658564          -1.242599           -0.826546      -0.556312   \n",
            "814 -0.510193           0.362239           -0.105733      -0.223793   \n",
            "\n",
            "     Temperatura_Corporal  Frequencia_Cardiaca  \n",
            "425              -0.49954             0.648738  \n",
            "85               -0.49954            -0.542547  \n",
            "289              -0.49954            -0.542547  \n",
            "84               -0.49954             0.172224  \n",
            "814              -0.49954            -0.542547  \n",
            "\n",
            "Verificando médias e desvios padrão de X_test_scaled para as colunas numéricas:\n",
            "      Idade  Pressao_Sistolica  Pressao_Diastolica  Nivel_Glicose  \\\n",
            "mean   -0.0              -0.01                -0.0          -0.01   \n",
            "std     1.0               0.95                 1.0           0.99   \n",
            "\n",
            "      Temperatura_Corporal  Frequencia_Cardiaca  \n",
            "mean                 -0.09                -0.10  \n",
            "std                   0.92                 0.87  \n"
          ]
        }
      ]
    },
    {
      "cell_type": "code",
      "source": [
        "# Visualização da distribuição após a padronização (exemplo para uma característica)\n",
        "plt.figure(figsize=(8, 6))\n",
        "sns.histplot(X_test_scaled['Idade'], kde=True)\n",
        "plt.title('Distribuição da Idade (Padronizado)')\n",
        "plt.xlabel('Distribuição da Idade Padronizado')\n",
        "plt.ylabel('Frequência')\n",
        "plt.show()"
      ],
      "metadata": {
        "id": "fyfnu7jSGxcA",
        "colab": {
          "base_uri": "https://localhost:8080/",
          "height": 564
        },
        "outputId": "c3c1696d-b49e-4c2c-d95a-32af5af05e37"
      },
      "execution_count": null,
      "outputs": [
        {
          "output_type": "display_data",
          "data": {
            "text/plain": [
              "<Figure size 800x600 with 1 Axes>"
            ],
            "image/png": "[encoded data removed]"
          },
          "metadata": {}
        }
      ]
    },
    {
      "cell_type": "markdown",
      "source": [
        "O histograma de *sepal length* após a padronização mostra que os valores foram transformados para ter uma média próxima de zero e um desvio padrão de um, centralizando a distribuição.\n",
        "\n",
        "\n",
        "\n",
        "Explicarrrrrrrrrr"
      ],
      "metadata": {
        "id": "zmeMPbfhGxcA"
      }
    },
    {
      "cell_type": "markdown",
      "source": [
        "## Tratamento de Valores Nulos\n",
        "\n",
        "O dataset Iris original não possui valores nulos. No entanto, o tratamento de valores nulos é crucial e pode envolver imputação (preenchimento com média, mediana, moda) ou remoção de linhas/colunas."
      ],
      "metadata": {
        "id": "UC1f5d_BGTVB"
      }
    },
    {
      "cell_type": "code",
      "source": [
        "# Verificar a presença de valores nulos no dataset original\n",
        "print(\"Valores nulos no dataset Iris:\")\n",
        "Dataset.isnull().sum()"
      ],
      "metadata": {
        "id": "fNQUvAnwG8fL",
        "colab": {
          "base_uri": "https://localhost:8080/",
          "height": 317
        },
        "outputId": "ebad48d8-4314-4fb9-b9c8-30d4f6101fa4"
      },
      "execution_count": null,
      "outputs": [
        {
          "output_type": "stream",
          "name": "stdout",
          "text": [
            "Valores nulos no dataset Iris:\n"
          ]
        },
        {
          "output_type": "execute_result",
          "data": {
            "text/plain": [
              "Idade                   0\n",
              "Pressao_Sistolica       0\n",
              "Pressao_Diastolica      0\n",
              "Nivel_Glicose           0\n",
              "Temperatura_Corporal    0\n",
              "Frequencia_Cardiaca     0\n",
              "Nivel_Risco             0\n",
              "dtype: int64"
            ],
            "text/html": [
              "<div>\n",
              "<style scoped>\n",
              "    .dataframe tbody tr th:only-of-type {\n",
              "        vertical-align: middle;\n",
              "    }\n",
              "\n",
              "    .dataframe tbody tr th {\n",
              "        vertical-align: top;\n",
              "    }\n",
              "\n",
              "    .dataframe thead th {\n",
              "        text-align: right;\n",
              "    }\n",
              "</style>\n",
              "<table border=\"1\" class=\"dataframe\">\n",
              "  <thead>\n",
              "    <tr style=\"text-align: right;\">\n",
              "      <th></th>\n",
              "      <th>0</th>\n",
              "    </tr>\n",
              "  </thead>\n",
              "  <tbody>\n",
              "    <tr>\n",
              "      <th>Idade</th>\n",
              "      <td>0</td>\n",
              "    </tr>\n",
              "    <tr>\n",
              "      <th>Pressao_Sistolica</th>\n",
              "      <td>0</td>\n",
              "    </tr>\n",
              "    <tr>\n",
              "      <th>Pressao_Diastolica</th>\n",
              "      <td>0</td>\n",
              "    </tr>\n",
              "    <tr>\n",
              "      <th>Nivel_Glicose</th>\n",
              "      <td>0</td>\n",
              "    </tr>\n",
              "    <tr>\n",
              "      <th>Temperatura_Corporal</th>\n",
              "      <td>0</td>\n",
              "    </tr>\n",
              "    <tr>\n",
              "      <th>Frequencia_Cardiaca</th>\n",
              "      <td>0</td>\n",
              "    </tr>\n",
              "    <tr>\n",
              "      <th>Nivel_Risco</th>\n",
              "      <td>0</td>\n",
              "    </tr>\n",
              "  </tbody>\n",
              "</table>\n",
              "</div><br><label><b>dtype:</b> int64</label>"
            ]
          },
          "metadata": {},
          "execution_count": 65
        }
      ]
    },
    {
      "cell_type": "markdown",
      "source": [
        "## Outras Transformações e Etapas de Pré-Processamento\n",
        "\n",
        "Outras etapas de pré-processamento incluem a seleção de características, redução de dimensionalidade (como PCA) ou criação de novas características (feature engineering). O que você faria a mais?\n",
        "\n"
      ],
      "metadata": {
        "id": "rBl8S0hDGap4"
      }
    },
    {
      "cell_type": "markdown",
      "source": [],
      "metadata": {
        "id": "tYwEJYooYHVu"
      }
    },
    {
      "cell_type": "markdown",
      "source": [
        "# Conclusão\n",
        "\n",
        "\n",
        "Responder:\n",
        "- É comprovado cientificamente que a idade da gestante, por sí só, aumenta o risco gestacional. Qual o precentual deste grupo de risco na amostra avaliada e como está classificado em relação ao risco?\n",
        "\n",
        "- Qual a correlação entre a idade materna e o risco gestacional?\n",
        "\n",
        "- Dos aspectos de saúde apresentados neste trabalho, qual tem maior influência no risco gestacional?\n",
        "\n",
        "\n",
        "\n",
        "\n",
        "\n",
        "A análise e pré-processamento do dataset Iris demonstram a importância de entender a estrutura dos dados antes da modelagem. O dataset é limpo e balanceado, com características numéricas bem definidas que permitem uma clara separação entre as espécies, especialmente a Iris setosa. A análise exploratória revelou correlações importantes entre as características e a eficácia de visualizações como boxplots para distinguir as classes. As etapas de normalização e padronização são fundamentais para preparar os dados para diversos algoritmos de aprendizado de máquina, garantindo que o modelo possa aprender eficientemente com as relações presentes nos dados.\n",
        "\n",
        "As três hipóteses levantadas foram validadas:\n",
        "\n",
        "1.   *As diferentes espécies de Íris podem ser distinguidas com base nas medições de suas sépalas e pétalas?* Sim, dado as análises que fizemos no boxplot, observamos um comportamento muito claro e distinto.\n",
        "\n",
        "2.   *Existe uma correlação entre comprimento da pétala e largura da pétala?* Existe forte correlação entre os atributos *petal length* e *petal width*.\n",
        "\n",
        "3.   *A espécie Iris setosa é mais facilmente separável das outras duas espécies?* Sim, devido às suas características distintas de menor comprimento e largura da pétala."
      ],
      "metadata": {
        "id": "OY_GDjf1G-PM"
      }
    }
  ]
}