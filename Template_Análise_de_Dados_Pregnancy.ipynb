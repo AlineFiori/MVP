{
  "nbformat": 4,
  "nbformat_minor": 0,
  "metadata": {
    "colab": {
      "provenance": [],
      "include_colab_link": true
    },
    "kernelspec": {
      "name": "python3",
      "display_name": "Python 3"
    },
    "language_info": {
      "name": "python"
    }
  },
  "cells": [
    {
      "cell_type": "markdown",
      "metadata": {
        "id": "view-in-github",
        "colab_type": "text"
      },
      "source": [
        "<a href=\"https://colab.research.google.com/github/AlineFiori/MVP/blob/main/Template_An%C3%A1lise_de_Dados_Pregnancy.ipynb\" target=\"_parent\"><img src=\"https://colab.research.google.com/assets/colab-badge.svg\" alt=\"Open In Colab\"/></a>"
      ]
    },
    {
      "cell_type": "markdown",
      "source": [
        "# MVP Análise de Dados e Boas Práticas\n",
        "\n",
        "**Nome:** Aline Fiori Gonçalves\n",
        "\n",
        "**Matrícula:** 4052025000106\n",
        "\n",
        "**Dataset:** [Pregnancy](https://www.kaggle.com/datasets/csafrit2/maternal-health-risk-data?resource=download)"
      ],
      "metadata": {
        "id": "cmYX3PLx58Jg"
      }
    },
    {
      "cell_type": "markdown",
      "source": [
        "# Descrição do Problema\n",
        "\n",
        "O conjunto de dados Pregnancy contém dados de mulheres gestantes com a finalidade de identificar caracteterísticas de saúde que possam apresentar risco à gestação. Neste dataset poderemos avaliar aspectos como: idade gestacional, pressão arterial, glicemia, frequencia cardiaca e a classificação de risco gestacional do conjunto de dados."
      ],
      "metadata": {
        "id": "YW_JS-EEBFaR"
      }
    },
    {
      "cell_type": "markdown",
      "source": [
        "## Hipóteses do Problema\n",
        "\n",
        "Em relação a idade gestacional 35+ (de 35 anos para cima):\n",
        "\n",
        "- Qual o percentual deste grupo de risco na amostra avaliada?\n",
        "\n",
        "- Qual a classificação de risco do grupo 35+ em relação ao restantes dos dados?\n",
        "\n",
        "- Qual a correlação entre a idade materna 35+ e o risco gestacional?"
      ],
      "metadata": {
        "id": "Gm6mOo5PBYwr"
      }
    },
    {
      "cell_type": "markdown",
      "source": [
        "## Tipo de Problema\n",
        "\n",
        "Este é um problema de **classificação supervisionada**. Dado um conjunto de características (idade gestacional, pressáo arterial, glicemia e frequencia cardiaca), o objetivo é prever a qual o risco gestacional."
      ],
      "metadata": {
        "id": "x1zNNZt6BfdF"
      }
    },
    {
      "cell_type": "markdown",
      "source": [
        "## Atributos do Dataset\n",
        "\n",
        "O dataset Pregnancy contém 1.014 amostras, 07 colunas, e 03 classificações diferentes de risco gestacional.\n",
        "\n",
        "Possui cinco atributos:\n",
        "\n",
        "- ***Age*** (idade em anos da gestante)\n",
        "- ***SystolicBP*** (valor máximo da pressão arterial em mmHg, durante a gravidez)\n",
        "- ***DiastolicBP*** (valor mínimo da pressão arterial em mmHg, durante a gravidez)\n",
        "- ***BS (Blood Glicose)*** (níveis de glicose no sangue em termos de concentração molar, mmol/L)\n",
        "- ***BodyTemp*** (temperatura corporal)\n",
        "- ***HeartRate*** (frequência cardíaca normal em repouso, em batimentos por minuto)\n",
        "- ***Risk Level*** (nível de intensidade de risco previsto durante a gravidez)"
      ],
      "metadata": {
        "id": "FC6QJHhWBnzH"
      }
    },
    {
      "cell_type": "markdown",
      "source": [
        "## Seleção de Dados\n",
        "\n",
        "Para responder um dos questionamentos levantados na hipotese do problema, será necessario criar uma coluna no dataset Pregnancy classificando a idade gestacional em \"35+\"."
      ],
      "metadata": {
        "id": "N91bTLbiBxrm"
      }
    },
    {
      "cell_type": "markdown",
      "source": [
        "# Importação das Bibliotecas Necessárias e Carga de Dados\n",
        "\n",
        "Esta seção consolida todas as importações de bibliotecas necessárias para a análise, visualização e pré-processamento dos dados, bem como o carregamento inicial do dataset Pregnancy."
      ],
      "metadata": {
        "id": "DObGnkf0bJBh"
      }
    },
    {
      "cell_type": "code",
      "source": [
        "# Importar bibliotecas\n",
        "import pandas as pd #manipulação e análise de dados\n",
        "import numpy as np #computação numérica e científica em Python\n",
        "import matplotlib.pyplot as plt #plotagem e visualização de dados\n",
        "import seaborn as sns #visualização de dados científicos\n",
        "from sklearn.model_selection import train_test_split #utilizado na valiação de modelos de Machine Learning, divide o dataset em treino e teste\n",
        "from sklearn.preprocessing import MinMaxScaler #para escalonamento de dados (normalização)\n",
        "from sklearn.preprocessing import StandardScaler #para padronizacao de dados (média de 0 e desvio padrão de 1)\n",
        "from sklearn.decomposition import PCA #explicar"
      ],
      "metadata": {
        "id": "tCohWn2jbkDB"
      },
      "execution_count": 255,
      "outputs": []
    },
    {
      "cell_type": "code",
      "source": [
        "# Link do GitHub em que o dataset 'Pregnancy' está salvo\n",
        "url_github = 'https://github.com/AlineFiori/MVP/raw/refs/heads/main/Maternal%20Health%20Risk%20Data%20Set.csv.xls'"
      ],
      "metadata": {
        "id": "p3DuPNtm6Bam"
      },
      "execution_count": 256,
      "outputs": []
    },
    {
      "cell_type": "code",
      "source": [
        "# Carregar os dados da url para um data frame pandas\n",
        "Dataset = pd.read_csv(url_github)"
      ],
      "metadata": {
        "id": "QYfROr5-9AvT"
      },
      "execution_count": 257,
      "outputs": []
    },
    {
      "cell_type": "code",
      "source": [
        "# Primeiras linhas\n",
        "Dataset.head()"
      ],
      "metadata": {
        "colab": {
          "base_uri": "https://localhost:8080/",
          "height": 204
        },
        "id": "AKb_BDQ6E6sR",
        "outputId": "9c0ee75d-0f35-4d19-a414-78afabaa08ea"
      },
      "execution_count": 259,
      "outputs": [
        {
          "output_type": "execute_result",
          "data": {
            "text/plain": [
              "   Age  SystolicBP  DiastolicBP    BS  BodyTemp  HeartRate  RiskLevel\n",
              "0   25         130           80  15.0      98.0         86  high risk\n",
              "1   35         140           90  13.0      98.0         70  high risk\n",
              "2   29          90           70   8.0     100.0         80  high risk\n",
              "3   30         140           85   7.0      98.0         70  high risk\n",
              "4   35         120           60   6.1      98.0         76   low risk"
            ],
            "text/html": [
              "\n",
              "  <div id=\"df-27edfb60-7810-42a2-bb35-479e035493e3\" class=\"colab-df-container\">\n",
              "    <div>\n",
              "<style scoped>\n",
              "    .dataframe tbody tr th:only-of-type {\n",
              "        vertical-align: middle;\n",
              "    }\n",
              "\n",
              "    .dataframe tbody tr th {\n",
              "        vertical-align: top;\n",
              "    }\n",
              "\n",
              "    .dataframe thead th {\n",
              "        text-align: right;\n",
              "    }\n",
              "</style>\n",
              "<table border=\"1\" class=\"dataframe\">\n",
              "  <thead>\n",
              "    <tr style=\"text-align: right;\">\n",
              "      <th></th>\n",
              "      <th>Age</th>\n",
              "      <th>SystolicBP</th>\n",
              "      <th>DiastolicBP</th>\n",
              "      <th>BS</th>\n",
              "      <th>BodyTemp</th>\n",
              "      <th>HeartRate</th>\n",
              "      <th>RiskLevel</th>\n",
              "    </tr>\n",
              "  </thead>\n",
              "  <tbody>\n",
              "    <tr>\n",
              "      <th>0</th>\n",
              "      <td>25</td>\n",
              "      <td>130</td>\n",
              "      <td>80</td>\n",
              "      <td>15.0</td>\n",
              "      <td>98.0</td>\n",
              "      <td>86</td>\n",
              "      <td>high risk</td>\n",
              "    </tr>\n",
              "    <tr>\n",
              "      <th>1</th>\n",
              "      <td>35</td>\n",
              "      <td>140</td>\n",
              "      <td>90</td>\n",
              "      <td>13.0</td>\n",
              "      <td>98.0</td>\n",
              "      <td>70</td>\n",
              "      <td>high risk</td>\n",
              "    </tr>\n",
              "    <tr>\n",
              "      <th>2</th>\n",
              "      <td>29</td>\n",
              "      <td>90</td>\n",
              "      <td>70</td>\n",
              "      <td>8.0</td>\n",
              "      <td>100.0</td>\n",
              "      <td>80</td>\n",
              "      <td>high risk</td>\n",
              "    </tr>\n",
              "    <tr>\n",
              "      <th>3</th>\n",
              "      <td>30</td>\n",
              "      <td>140</td>\n",
              "      <td>85</td>\n",
              "      <td>7.0</td>\n",
              "      <td>98.0</td>\n",
              "      <td>70</td>\n",
              "      <td>high risk</td>\n",
              "    </tr>\n",
              "    <tr>\n",
              "      <th>4</th>\n",
              "      <td>35</td>\n",
              "      <td>120</td>\n",
              "      <td>60</td>\n",
              "      <td>6.1</td>\n",
              "      <td>98.0</td>\n",
              "      <td>76</td>\n",
              "      <td>low risk</td>\n",
              "    </tr>\n",
              "  </tbody>\n",
              "</table>\n",
              "</div>\n",
              "    <div class=\"colab-df-buttons\">\n",
              "\n",
              "  <div class=\"colab-df-container\">\n",
              "    <button class=\"colab-df-convert\" onclick=\"convertToInteractive('df-27edfb60-7810-42a2-bb35-479e035493e3')\"\n",
              "            title=\"Convert this dataframe to an interactive table.\"\n",
              "            style=\"display:none;\">\n",
              "\n",
              "  <svg xmlns=\"http://www.w3.org/2000/svg\" height=\"24px\" viewBox=\"0 -960 960 960\">\n",
              "    <path d=\"M120-120v-720h720v720H120Zm60-500h600v-160H180v160Zm220 220h160v-160H400v160Zm0 220h160v-160H400v160ZM180-400h160v-160H180v160Zm440 0h160v-160H620v160ZM180-180h160v-160H180v160Zm440 0h160v-160H620v160Z\"/>\n",
              "  </svg>\n",
              "    </button>\n",
              "\n",
              "  <style>\n",
              "    .colab-df-container {\n",
              "      display:flex;\n",
              "      gap: 12px;\n",
              "    }\n",
              "\n",
              "    .colab-df-convert {\n",
              "      background-color: #E8F0FE;\n",
              "      border: none;\n",
              "      border-radius: 50%;\n",
              "      cursor: pointer;\n",
              "      display: none;\n",
              "      fill: #1967D2;\n",
              "      height: 32px;\n",
              "      padding: 0 0 0 0;\n",
              "      width: 32px;\n",
              "    }\n",
              "\n",
              "    .colab-df-convert:hover {\n",
              "      background-color: #E2EBFA;\n",
              "      box-shadow: 0px 1px 2px rgba(60, 64, 67, 0.3), 0px 1px 3px 1px rgba(60, 64, 67, 0.15);\n",
              "      fill: #174EA6;\n",
              "    }\n",
              "\n",
              "    .colab-df-buttons div {\n",
              "      margin-bottom: 4px;\n",
              "    }\n",
              "\n",
              "    [theme=dark] .colab-df-convert {\n",
              "      background-color: #3B4455;\n",
              "      fill: #D2E3FC;\n",
              "    }\n",
              "\n",
              "    [theme=dark] .colab-df-convert:hover {\n",
              "      background-color: #434B5C;\n",
              "      box-shadow: 0px 1px 3px 1px rgba(0, 0, 0, 0.15);\n",
              "      filter: drop-shadow(0px 1px 2px rgba(0, 0, 0, 0.3));\n",
              "      fill: #FFFFFF;\n",
              "    }\n",
              "  </style>\n",
              "\n",
              "    <script>\n",
              "      const buttonEl =\n",
              "        document.querySelector('#df-27edfb60-7810-42a2-bb35-479e035493e3 button.colab-df-convert');\n",
              "      buttonEl.style.display =\n",
              "        google.colab.kernel.accessAllowed ? 'block' : 'none';\n",
              "\n",
              "      async function convertToInteractive(key) {\n",
              "        const element = document.querySelector('#df-27edfb60-7810-42a2-bb35-479e035493e3');\n",
              "        const dataTable =\n",
              "          await google.colab.kernel.invokeFunction('convertToInteractive',\n",
              "                                                    [key], {});\n",
              "        if (!dataTable) return;\n",
              "\n",
              "        const docLinkHtml = 'Like what you see? Visit the ' +\n",
              "          '<a target=\"_blank\" href=https://colab.research.google.com/notebooks/data_table.ipynb>data table notebook</a>'\n",
              "          + ' to learn more about interactive tables.';\n",
              "        element.innerHTML = '';\n",
              "        dataTable['output_type'] = 'display_data';\n",
              "        await google.colab.output.renderOutput(dataTable, element);\n",
              "        const docLink = document.createElement('div');\n",
              "        docLink.innerHTML = docLinkHtml;\n",
              "        element.appendChild(docLink);\n",
              "      }\n",
              "    </script>\n",
              "  </div>\n",
              "\n",
              "\n",
              "    <div id=\"df-c842bb59-3577-4c13-9a37-a9fafa38aaa1\">\n",
              "      <button class=\"colab-df-quickchart\" onclick=\"quickchart('df-c842bb59-3577-4c13-9a37-a9fafa38aaa1')\"\n",
              "                title=\"Suggest charts\"\n",
              "                style=\"display:none;\">\n",
              "\n",
              "<svg xmlns=\"http://www.w3.org/2000/svg\" height=\"24px\"viewBox=\"0 0 24 24\"\n",
              "     width=\"24px\">\n",
              "    <g>\n",
              "        <path d=\"M19 3H5c-1.1 0-2 .9-2 2v14c0 1.1.9 2 2 2h14c1.1 0 2-.9 2-2V5c0-1.1-.9-2-2-2zM9 17H7v-7h2v7zm4 0h-2V7h2v10zm4 0h-2v-4h2v4z\"/>\n",
              "    </g>\n",
              "</svg>\n",
              "      </button>\n",
              "\n",
              "<style>\n",
              "  .colab-df-quickchart {\n",
              "      --bg-color: #E8F0FE;\n",
              "      --fill-color: #1967D2;\n",
              "      --hover-bg-color: #E2EBFA;\n",
              "      --hover-fill-color: #174EA6;\n",
              "      --disabled-fill-color: #AAA;\n",
              "      --disabled-bg-color: #DDD;\n",
              "  }\n",
              "\n",
              "  [theme=dark] .colab-df-quickchart {\n",
              "      --bg-color: #3B4455;\n",
              "      --fill-color: #D2E3FC;\n",
              "      --hover-bg-color: #434B5C;\n",
              "      --hover-fill-color: #FFFFFF;\n",
              "      --disabled-bg-color: #3B4455;\n",
              "      --disabled-fill-color: #666;\n",
              "  }\n",
              "\n",
              "  .colab-df-quickchart {\n",
              "    background-color: var(--bg-color);\n",
              "    border: none;\n",
              "    border-radius: 50%;\n",
              "    cursor: pointer;\n",
              "    display: none;\n",
              "    fill: var(--fill-color);\n",
              "    height: 32px;\n",
              "    padding: 0;\n",
              "    width: 32px;\n",
              "  }\n",
              "\n",
              "  .colab-df-quickchart:hover {\n",
              "    background-color: var(--hover-bg-color);\n",
              "    box-shadow: 0 1px 2px rgba(60, 64, 67, 0.3), 0 1px 3px 1px rgba(60, 64, 67, 0.15);\n",
              "    fill: var(--button-hover-fill-color);\n",
              "  }\n",
              "\n",
              "  .colab-df-quickchart-complete:disabled,\n",
              "  .colab-df-quickchart-complete:disabled:hover {\n",
              "    background-color: var(--disabled-bg-color);\n",
              "    fill: var(--disabled-fill-color);\n",
              "    box-shadow: none;\n",
              "  }\n",
              "\n",
              "  .colab-df-spinner {\n",
              "    border: 2px solid var(--fill-color);\n",
              "    border-color: transparent;\n",
              "    border-bottom-color: var(--fill-color);\n",
              "    animation:\n",
              "      spin 1s steps(1) infinite;\n",
              "  }\n",
              "\n",
              "  @keyframes spin {\n",
              "    0% {\n",
              "      border-color: transparent;\n",
              "      border-bottom-color: var(--fill-color);\n",
              "      border-left-color: var(--fill-color);\n",
              "    }\n",
              "    20% {\n",
              "      border-color: transparent;\n",
              "      border-left-color: var(--fill-color);\n",
              "      border-top-color: var(--fill-color);\n",
              "    }\n",
              "    30% {\n",
              "      border-color: transparent;\n",
              "      border-left-color: var(--fill-color);\n",
              "      border-top-color: var(--fill-color);\n",
              "      border-right-color: var(--fill-color);\n",
              "    }\n",
              "    40% {\n",
              "      border-color: transparent;\n",
              "      border-right-color: var(--fill-color);\n",
              "      border-top-color: var(--fill-color);\n",
              "    }\n",
              "    60% {\n",
              "      border-color: transparent;\n",
              "      border-right-color: var(--fill-color);\n",
              "    }\n",
              "    80% {\n",
              "      border-color: transparent;\n",
              "      border-right-color: var(--fill-color);\n",
              "      border-bottom-color: var(--fill-color);\n",
              "    }\n",
              "    90% {\n",
              "      border-color: transparent;\n",
              "      border-bottom-color: var(--fill-color);\n",
              "    }\n",
              "  }\n",
              "</style>\n",
              "\n",
              "      <script>\n",
              "        async function quickchart(key) {\n",
              "          const quickchartButtonEl =\n",
              "            document.querySelector('#' + key + ' button');\n",
              "          quickchartButtonEl.disabled = true;  // To prevent multiple clicks.\n",
              "          quickchartButtonEl.classList.add('colab-df-spinner');\n",
              "          try {\n",
              "            const charts = await google.colab.kernel.invokeFunction(\n",
              "                'suggestCharts', [key], {});\n",
              "          } catch (error) {\n",
              "            console.error('Error during call to suggestCharts:', error);\n",
              "          }\n",
              "          quickchartButtonEl.classList.remove('colab-df-spinner');\n",
              "          quickchartButtonEl.classList.add('colab-df-quickchart-complete');\n",
              "        }\n",
              "        (() => {\n",
              "          let quickchartButtonEl =\n",
              "            document.querySelector('#df-c842bb59-3577-4c13-9a37-a9fafa38aaa1 button');\n",
              "          quickchartButtonEl.style.display =\n",
              "            google.colab.kernel.accessAllowed ? 'block' : 'none';\n",
              "        })();\n",
              "      </script>\n",
              "    </div>\n",
              "\n",
              "    </div>\n",
              "  </div>\n"
            ],
            "application/vnd.google.colaboratory.intrinsic+json": {
              "type": "dataframe",
              "variable_name": "Dataset",
              "summary": "{\n  \"name\": \"Dataset\",\n  \"rows\": 1014,\n  \"fields\": [\n    {\n      \"column\": \"Age\",\n      \"properties\": {\n        \"dtype\": \"number\",\n        \"std\": 13,\n        \"min\": 10,\n        \"max\": 70,\n        \"num_unique_values\": 50,\n        \"samples\": [\n          40,\n          43,\n          13\n        ],\n        \"semantic_type\": \"\",\n        \"description\": \"\"\n      }\n    },\n    {\n      \"column\": \"SystolicBP\",\n      \"properties\": {\n        \"dtype\": \"number\",\n        \"std\": 18,\n        \"min\": 70,\n        \"max\": 160,\n        \"num_unique_values\": 19,\n        \"samples\": [\n          130,\n          110,\n          80\n        ],\n        \"semantic_type\": \"\",\n        \"description\": \"\"\n      }\n    },\n    {\n      \"column\": \"DiastolicBP\",\n      \"properties\": {\n        \"dtype\": \"number\",\n        \"std\": 13,\n        \"min\": 49,\n        \"max\": 100,\n        \"num_unique_values\": 16,\n        \"samples\": [\n          80,\n          90,\n          89\n        ],\n        \"semantic_type\": \"\",\n        \"description\": \"\"\n      }\n    },\n    {\n      \"column\": \"BS\",\n      \"properties\": {\n        \"dtype\": \"number\",\n        \"std\": 3.293531721151271,\n        \"min\": 6.0,\n        \"max\": 19.0,\n        \"num_unique_values\": 29,\n        \"samples\": [\n          6.5,\n          7.7,\n          7.1\n        ],\n        \"semantic_type\": \"\",\n        \"description\": \"\"\n      }\n    },\n    {\n      \"column\": \"BodyTemp\",\n      \"properties\": {\n        \"dtype\": \"number\",\n        \"std\": 1.3713843755995325,\n        \"min\": 98.0,\n        \"max\": 103.0,\n        \"num_unique_values\": 8,\n        \"samples\": [\n          100.0,\n          98.4,\n          98.0\n        ],\n        \"semantic_type\": \"\",\n        \"description\": \"\"\n      }\n    },\n    {\n      \"column\": \"HeartRate\",\n      \"properties\": {\n        \"dtype\": \"number\",\n        \"std\": 8,\n        \"min\": 7,\n        \"max\": 90,\n        \"num_unique_values\": 16,\n        \"samples\": [\n          86,\n          70,\n          77\n        ],\n        \"semantic_type\": \"\",\n        \"description\": \"\"\n      }\n    },\n    {\n      \"column\": \"RiskLevel\",\n      \"properties\": {\n        \"dtype\": \"category\",\n        \"num_unique_values\": 3,\n        \"samples\": [\n          \"high risk\",\n          \"low risk\",\n          \"mid risk\"\n        ],\n        \"semantic_type\": \"\",\n        \"description\": \"\"\n      }\n    }\n  ]\n}"
            }
          },
          "metadata": {},
          "execution_count": 259
        }
      ]
    },
    {
      "cell_type": "markdown",
      "source": [
        "# Análise de Exploratória de Dados\n",
        "\n",
        "O objetivo desta etapa é entender a estrutura do dataset, identificar padrões, entender as características das variáveis, o que é crucial para as etapas subsequentes de pré-processamento e modelagem."
      ],
      "metadata": {
        "id": "XcHpQ9s_B4n1"
      }
    },
    {
      "cell_type": "code",
      "source": [
        "# 1. Renomear colunas para facilitar o uso\n",
        "colunas_para_renomear = {\n",
        "    'Age': 'Idade',\n",
        "    'SystolicBP': 'Pressao_Sistolica',\n",
        "    'DiastolicBP': 'Pressao_Diastolica',\n",
        "    'BS': 'Nivel_Glicose',\n",
        "    'BodyTemp': 'Temperatura_Corporal',\n",
        "    'HeartRate': 'Frequencia_Cardiaca',\n",
        "    'RiskLevel': 'Nivel_Risco'}\n",
        "\n",
        "\n",
        "Dataset = Dataset.rename(columns=colunas_para_renomear)\n",
        "\n",
        "print(\"\\nBase comcolunas renomeadas - Primeiras 5 linhas:\")\n",
        "print(Dataset.head())"
      ],
      "metadata": {
        "id": "cvcLmjzHND3T",
        "outputId": "b7945be9-c6a8-4863-f85a-4911220763a8",
        "colab": {
          "base_uri": "https://localhost:8080/"
        }
      },
      "execution_count": 260,
      "outputs": [
        {
          "output_type": "stream",
          "name": "stdout",
          "text": [
            "\n",
            "Base comcolunas renomeadas - Primeiras 5 linhas:\n",
            "   Idade  Pressao_Sistolica  Pressao_Diastolica  Nivel_Glicose  \\\n",
            "0     25                130                  80           15.0   \n",
            "1     35                140                  90           13.0   \n",
            "2     29                 90                  70            8.0   \n",
            "3     30                140                  85            7.0   \n",
            "4     35                120                  60            6.1   \n",
            "\n",
            "   Temperatura_Corporal  Frequencia_Cardiaca Nivel_Risco  \n",
            "0                  98.0                   86   high risk  \n",
            "1                  98.0                   70   high risk  \n",
            "2                 100.0                   80   high risk  \n",
            "3                  98.0                   70   high risk  \n",
            "4                  98.0                   76    low risk  \n"
          ]
        }
      ]
    },
    {
      "cell_type": "code",
      "source": [
        "# 2. Visão geral: total de linhas e colunas\n",
        "\n",
        "print(f\"Total de instâncias (linhas): {len(Dataset)}\")\n",
        "print(f\"Total de colunas: {len(Dataset.columns)}\")"
      ],
      "metadata": {
        "id": "CBEBmoTSPKDQ",
        "outputId": "64f679c3-0c1c-4920-d4ab-c50d29507cfe",
        "colab": {
          "base_uri": "https://localhost:8080/"
        }
      },
      "execution_count": 261,
      "outputs": [
        {
          "output_type": "stream",
          "name": "stdout",
          "text": [
            "Total de instâncias (linhas): 1014\n",
            "Total de colunas: 7\n"
          ]
        }
      ]
    },
    {
      "cell_type": "code",
      "source": [
        "# 3. Análise de tipos de dados e valores nao nulos\n",
        "\n",
        "print(\"\\nInformações sobre os tipos de dados e valores não nulos\")\n",
        "Dataset.info()"
      ],
      "metadata": {
        "id": "4qM2vPudP2mh",
        "outputId": "f30c01e7-a3c2-4e32-ced3-d7175f1adb57",
        "colab": {
          "base_uri": "https://localhost:8080/"
        }
      },
      "execution_count": 262,
      "outputs": [
        {
          "output_type": "stream",
          "name": "stdout",
          "text": [
            "\n",
            "Informações sobre os tipos de dados e valores não nulos\n",
            "<class 'pandas.core.frame.DataFrame'>\n",
            "RangeIndex: 1014 entries, 0 to 1013\n",
            "Data columns (total 7 columns):\n",
            " #   Column                Non-Null Count  Dtype  \n",
            "---  ------                --------------  -----  \n",
            " 0   Idade                 1014 non-null   int64  \n",
            " 1   Pressao_Sistolica     1014 non-null   int64  \n",
            " 2   Pressao_Diastolica    1014 non-null   int64  \n",
            " 3   Nivel_Glicose         1014 non-null   float64\n",
            " 4   Temperatura_Corporal  1014 non-null   float64\n",
            " 5   Frequencia_Cardiaca   1014 non-null   int64  \n",
            " 6   Nivel_Risco           1014 non-null   object \n",
            "dtypes: float64(2), int64(4), object(1)\n",
            "memory usage: 55.6+ KB\n"
          ]
        }
      ]
    },
    {
      "cell_type": "code",
      "source": [
        "# 4. Verificação de valores ausentes\n",
        "\n",
        "print(\"\\nVerificação de Valores Ausentes\")\n",
        "print(Dataset.isnull().sum())"
      ],
      "metadata": {
        "id": "o9jePjEfQ7vI",
        "outputId": "80fbfcb6-be17-4ab6-b05d-e44e5c79a175",
        "colab": {
          "base_uri": "https://localhost:8080/"
        }
      },
      "execution_count": 263,
      "outputs": [
        {
          "output_type": "stream",
          "name": "stdout",
          "text": [
            "\n",
            "Verificação de Valores Ausentes\n",
            "Idade                   0\n",
            "Pressao_Sistolica       0\n",
            "Pressao_Diastolica      0\n",
            "Nivel_Glicose           0\n",
            "Temperatura_Corporal    0\n",
            "Frequencia_Cardiaca     0\n",
            "Nivel_Risco             0\n",
            "dtype: int64\n"
          ]
        }
      ]
    },
    {
      "cell_type": "code",
      "source": [
        "# 5. Estatística Descritiva - Geral\n",
        "\n",
        "print(\"\\nEstatísticas descritivas das colunas numéricas\")\n",
        "print(Dataset.describe().T) # .T para transpor e facilitar a leitura, prefiro a visualização desta forma"
      ],
      "metadata": {
        "id": "2FVslBW6QEPL",
        "outputId": "c636721b-938e-45a3-e2f2-c4c4a3306f16",
        "colab": {
          "base_uri": "https://localhost:8080/"
        }
      },
      "execution_count": 264,
      "outputs": [
        {
          "output_type": "stream",
          "name": "stdout",
          "text": [
            "\n",
            "Estatísticas descritivas das colunas numéricas\n",
            "                       count        mean        std   min    25%    50%  \\\n",
            "Idade                 1014.0   29.871795  13.474386  10.0   19.0   26.0   \n",
            "Pressao_Sistolica     1014.0  113.198225  18.403913  70.0  100.0  120.0   \n",
            "Pressao_Diastolica    1014.0   76.460552  13.885796  49.0   65.0   80.0   \n",
            "Nivel_Glicose         1014.0    8.725986   3.293532   6.0    6.9    7.5   \n",
            "Temperatura_Corporal  1014.0   98.665089   1.371384  98.0   98.0   98.0   \n",
            "Frequencia_Cardiaca   1014.0   74.301775   8.088702   7.0   70.0   76.0   \n",
            "\n",
            "                        75%    max  \n",
            "Idade                  39.0   70.0  \n",
            "Pressao_Sistolica     120.0  160.0  \n",
            "Pressao_Diastolica     90.0  100.0  \n",
            "Nivel_Glicose           8.0   19.0  \n",
            "Temperatura_Corporal   98.0  103.0  \n",
            "Frequencia_Cardiaca    80.0   90.0  \n"
          ]
        }
      ]
    },
    {
      "cell_type": "code",
      "source": [
        "# 6. Estatísticas descritivas agrupadas por tipo de risco\n",
        "Dataset.groupby('Nivel_Risco').describe()"
      ],
      "metadata": {
        "id": "iH6ov-UMHHHJ",
        "colab": {
          "base_uri": "https://localhost:8080/",
          "height": 253
        },
        "outputId": "d713e521-c88d-4558-f068-ba4d35a11e6f"
      },
      "execution_count": 265,
      "outputs": [
        {
          "output_type": "execute_result",
          "data": {
            "text/plain": [
              "             Idade                                                      \\\n",
              "             count       mean        std   min   25%   50%   75%   max   \n",
              "Nivel_Risco                                                              \n",
              "high risk    272.0  36.216912  13.032206  12.0  25.0  35.0  48.0  65.0   \n",
              "low risk     406.0  26.869458  13.121661  10.0  17.0  22.0  32.0  70.0   \n",
              "mid risk     336.0  28.363095  12.552660  10.0  19.0  25.0  32.0  60.0   \n",
              "\n",
              "            Pressao_Sistolica              ... Temperatura_Corporal         \\\n",
              "                        count        mean  ...                  75%    max   \n",
              "Nivel_Risco                                ...                               \n",
              "high risk               272.0  124.194853  ...                100.0  103.0   \n",
              "low risk                406.0  105.866995  ...                 98.0  103.0   \n",
              "mid risk                336.0  113.154762  ...                100.0  103.0   \n",
              "\n",
              "            Frequencia_Cardiaca                                               \\\n",
              "                          count       mean       std   min   25%   50%   75%   \n",
              "Nivel_Risco                                                                    \n",
              "high risk                 272.0  76.742647  8.697878  60.0  70.0  77.0  86.0   \n",
              "low risk                  406.0  72.770936  8.293341   7.0  70.0  70.0  77.0   \n",
              "mid risk                  336.0  74.175595  6.767490  60.0  70.0  76.0  78.0   \n",
              "\n",
              "                   \n",
              "              max  \n",
              "Nivel_Risco        \n",
              "high risk    90.0  \n",
              "low risk     88.0  \n",
              "mid risk     88.0  \n",
              "\n",
              "[3 rows x 48 columns]"
            ],
            "text/html": [
              "\n",
              "  <div id=\"df-3e9a64ec-4c77-4fd3-b0fb-498b658ff913\" class=\"colab-df-container\">\n",
              "    <div>\n",
              "<style scoped>\n",
              "    .dataframe tbody tr th:only-of-type {\n",
              "        vertical-align: middle;\n",
              "    }\n",
              "\n",
              "    .dataframe tbody tr th {\n",
              "        vertical-align: top;\n",
              "    }\n",
              "\n",
              "    .dataframe thead tr th {\n",
              "        text-align: left;\n",
              "    }\n",
              "\n",
              "    .dataframe thead tr:last-of-type th {\n",
              "        text-align: right;\n",
              "    }\n",
              "</style>\n",
              "<table border=\"1\" class=\"dataframe\">\n",
              "  <thead>\n",
              "    <tr>\n",
              "      <th></th>\n",
              "      <th colspan=\"8\" halign=\"left\">Idade</th>\n",
              "      <th colspan=\"2\" halign=\"left\">Pressao_Sistolica</th>\n",
              "      <th>...</th>\n",
              "      <th colspan=\"2\" halign=\"left\">Temperatura_Corporal</th>\n",
              "      <th colspan=\"8\" halign=\"left\">Frequencia_Cardiaca</th>\n",
              "    </tr>\n",
              "    <tr>\n",
              "      <th></th>\n",
              "      <th>count</th>\n",
              "      <th>mean</th>\n",
              "      <th>std</th>\n",
              "      <th>min</th>\n",
              "      <th>25%</th>\n",
              "      <th>50%</th>\n",
              "      <th>75%</th>\n",
              "      <th>max</th>\n",
              "      <th>count</th>\n",
              "      <th>mean</th>\n",
              "      <th>...</th>\n",
              "      <th>75%</th>\n",
              "      <th>max</th>\n",
              "      <th>count</th>\n",
              "      <th>mean</th>\n",
              "      <th>std</th>\n",
              "      <th>min</th>\n",
              "      <th>25%</th>\n",
              "      <th>50%</th>\n",
              "      <th>75%</th>\n",
              "      <th>max</th>\n",
              "    </tr>\n",
              "    <tr>\n",
              "      <th>Nivel_Risco</th>\n",
              "      <th></th>\n",
              "      <th></th>\n",
              "      <th></th>\n",
              "      <th></th>\n",
              "      <th></th>\n",
              "      <th></th>\n",
              "      <th></th>\n",
              "      <th></th>\n",
              "      <th></th>\n",
              "      <th></th>\n",
              "      <th></th>\n",
              "      <th></th>\n",
              "      <th></th>\n",
              "      <th></th>\n",
              "      <th></th>\n",
              "      <th></th>\n",
              "      <th></th>\n",
              "      <th></th>\n",
              "      <th></th>\n",
              "      <th></th>\n",
              "      <th></th>\n",
              "    </tr>\n",
              "  </thead>\n",
              "  <tbody>\n",
              "    <tr>\n",
              "      <th>high risk</th>\n",
              "      <td>272.0</td>\n",
              "      <td>36.216912</td>\n",
              "      <td>13.032206</td>\n",
              "      <td>12.0</td>\n",
              "      <td>25.0</td>\n",
              "      <td>35.0</td>\n",
              "      <td>48.0</td>\n",
              "      <td>65.0</td>\n",
              "      <td>272.0</td>\n",
              "      <td>124.194853</td>\n",
              "      <td>...</td>\n",
              "      <td>100.0</td>\n",
              "      <td>103.0</td>\n",
              "      <td>272.0</td>\n",
              "      <td>76.742647</td>\n",
              "      <td>8.697878</td>\n",
              "      <td>60.0</td>\n",
              "      <td>70.0</td>\n",
              "      <td>77.0</td>\n",
              "      <td>86.0</td>\n",
              "      <td>90.0</td>\n",
              "    </tr>\n",
              "    <tr>\n",
              "      <th>low risk</th>\n",
              "      <td>406.0</td>\n",
              "      <td>26.869458</td>\n",
              "      <td>13.121661</td>\n",
              "      <td>10.0</td>\n",
              "      <td>17.0</td>\n",
              "      <td>22.0</td>\n",
              "      <td>32.0</td>\n",
              "      <td>70.0</td>\n",
              "      <td>406.0</td>\n",
              "      <td>105.866995</td>\n",
              "      <td>...</td>\n",
              "      <td>98.0</td>\n",
              "      <td>103.0</td>\n",
              "      <td>406.0</td>\n",
              "      <td>72.770936</td>\n",
              "      <td>8.293341</td>\n",
              "      <td>7.0</td>\n",
              "      <td>70.0</td>\n",
              "      <td>70.0</td>\n",
              "      <td>77.0</td>\n",
              "      <td>88.0</td>\n",
              "    </tr>\n",
              "    <tr>\n",
              "      <th>mid risk</th>\n",
              "      <td>336.0</td>\n",
              "      <td>28.363095</td>\n",
              "      <td>12.552660</td>\n",
              "      <td>10.0</td>\n",
              "      <td>19.0</td>\n",
              "      <td>25.0</td>\n",
              "      <td>32.0</td>\n",
              "      <td>60.0</td>\n",
              "      <td>336.0</td>\n",
              "      <td>113.154762</td>\n",
              "      <td>...</td>\n",
              "      <td>100.0</td>\n",
              "      <td>103.0</td>\n",
              "      <td>336.0</td>\n",
              "      <td>74.175595</td>\n",
              "      <td>6.767490</td>\n",
              "      <td>60.0</td>\n",
              "      <td>70.0</td>\n",
              "      <td>76.0</td>\n",
              "      <td>78.0</td>\n",
              "      <td>88.0</td>\n",
              "    </tr>\n",
              "  </tbody>\n",
              "</table>\n",
              "<p>3 rows × 48 columns</p>\n",
              "</div>\n",
              "    <div class=\"colab-df-buttons\">\n",
              "\n",
              "  <div class=\"colab-df-container\">\n",
              "    <button class=\"colab-df-convert\" onclick=\"convertToInteractive('df-3e9a64ec-4c77-4fd3-b0fb-498b658ff913')\"\n",
              "            title=\"Convert this dataframe to an interactive table.\"\n",
              "            style=\"display:none;\">\n",
              "\n",
              "  <svg xmlns=\"http://www.w3.org/2000/svg\" height=\"24px\" viewBox=\"0 -960 960 960\">\n",
              "    <path d=\"M120-120v-720h720v720H120Zm60-500h600v-160H180v160Zm220 220h160v-160H400v160Zm0 220h160v-160H400v160ZM180-400h160v-160H180v160Zm440 0h160v-160H620v160ZM180-180h160v-160H180v160Zm440 0h160v-160H620v160Z\"/>\n",
              "  </svg>\n",
              "    </button>\n",
              "\n",
              "  <style>\n",
              "    .colab-df-container {\n",
              "      display:flex;\n",
              "      gap: 12px;\n",
              "    }\n",
              "\n",
              "    .colab-df-convert {\n",
              "      background-color: #E8F0FE;\n",
              "      border: none;\n",
              "      border-radius: 50%;\n",
              "      cursor: pointer;\n",
              "      display: none;\n",
              "      fill: #1967D2;\n",
              "      height: 32px;\n",
              "      padding: 0 0 0 0;\n",
              "      width: 32px;\n",
              "    }\n",
              "\n",
              "    .colab-df-convert:hover {\n",
              "      background-color: #E2EBFA;\n",
              "      box-shadow: 0px 1px 2px rgba(60, 64, 67, 0.3), 0px 1px 3px 1px rgba(60, 64, 67, 0.15);\n",
              "      fill: #174EA6;\n",
              "    }\n",
              "\n",
              "    .colab-df-buttons div {\n",
              "      margin-bottom: 4px;\n",
              "    }\n",
              "\n",
              "    [theme=dark] .colab-df-convert {\n",
              "      background-color: #3B4455;\n",
              "      fill: #D2E3FC;\n",
              "    }\n",
              "\n",
              "    [theme=dark] .colab-df-convert:hover {\n",
              "      background-color: #434B5C;\n",
              "      box-shadow: 0px 1px 3px 1px rgba(0, 0, 0, 0.15);\n",
              "      filter: drop-shadow(0px 1px 2px rgba(0, 0, 0, 0.3));\n",
              "      fill: #FFFFFF;\n",
              "    }\n",
              "  </style>\n",
              "\n",
              "    <script>\n",
              "      const buttonEl =\n",
              "        document.querySelector('#df-3e9a64ec-4c77-4fd3-b0fb-498b658ff913 button.colab-df-convert');\n",
              "      buttonEl.style.display =\n",
              "        google.colab.kernel.accessAllowed ? 'block' : 'none';\n",
              "\n",
              "      async function convertToInteractive(key) {\n",
              "        const element = document.querySelector('#df-3e9a64ec-4c77-4fd3-b0fb-498b658ff913');\n",
              "        const dataTable =\n",
              "          await google.colab.kernel.invokeFunction('convertToInteractive',\n",
              "                                                    [key], {});\n",
              "        if (!dataTable) return;\n",
              "\n",
              "        const docLinkHtml = 'Like what you see? Visit the ' +\n",
              "          '<a target=\"_blank\" href=https://colab.research.google.com/notebooks/data_table.ipynb>data table notebook</a>'\n",
              "          + ' to learn more about interactive tables.';\n",
              "        element.innerHTML = '';\n",
              "        dataTable['output_type'] = 'display_data';\n",
              "        await google.colab.output.renderOutput(dataTable, element);\n",
              "        const docLink = document.createElement('div');\n",
              "        docLink.innerHTML = docLinkHtml;\n",
              "        element.appendChild(docLink);\n",
              "      }\n",
              "    </script>\n",
              "  </div>\n",
              "\n",
              "\n",
              "    <div id=\"df-af285e2b-7594-47bd-909a-01969fcd1746\">\n",
              "      <button class=\"colab-df-quickchart\" onclick=\"quickchart('df-af285e2b-7594-47bd-909a-01969fcd1746')\"\n",
              "                title=\"Suggest charts\"\n",
              "                style=\"display:none;\">\n",
              "\n",
              "<svg xmlns=\"http://www.w3.org/2000/svg\" height=\"24px\"viewBox=\"0 0 24 24\"\n",
              "     width=\"24px\">\n",
              "    <g>\n",
              "        <path d=\"M19 3H5c-1.1 0-2 .9-2 2v14c0 1.1.9 2 2 2h14c1.1 0 2-.9 2-2V5c0-1.1-.9-2-2-2zM9 17H7v-7h2v7zm4 0h-2V7h2v10zm4 0h-2v-4h2v4z\"/>\n",
              "    </g>\n",
              "</svg>\n",
              "      </button>\n",
              "\n",
              "<style>\n",
              "  .colab-df-quickchart {\n",
              "      --bg-color: #E8F0FE;\n",
              "      --fill-color: #1967D2;\n",
              "      --hover-bg-color: #E2EBFA;\n",
              "      --hover-fill-color: #174EA6;\n",
              "      --disabled-fill-color: #AAA;\n",
              "      --disabled-bg-color: #DDD;\n",
              "  }\n",
              "\n",
              "  [theme=dark] .colab-df-quickchart {\n",
              "      --bg-color: #3B4455;\n",
              "      --fill-color: #D2E3FC;\n",
              "      --hover-bg-color: #434B5C;\n",
              "      --hover-fill-color: #FFFFFF;\n",
              "      --disabled-bg-color: #3B4455;\n",
              "      --disabled-fill-color: #666;\n",
              "  }\n",
              "\n",
              "  .colab-df-quickchart {\n",
              "    background-color: var(--bg-color);\n",
              "    border: none;\n",
              "    border-radius: 50%;\n",
              "    cursor: pointer;\n",
              "    display: none;\n",
              "    fill: var(--fill-color);\n",
              "    height: 32px;\n",
              "    padding: 0;\n",
              "    width: 32px;\n",
              "  }\n",
              "\n",
              "  .colab-df-quickchart:hover {\n",
              "    background-color: var(--hover-bg-color);\n",
              "    box-shadow: 0 1px 2px rgba(60, 64, 67, 0.3), 0 1px 3px 1px rgba(60, 64, 67, 0.15);\n",
              "    fill: var(--button-hover-fill-color);\n",
              "  }\n",
              "\n",
              "  .colab-df-quickchart-complete:disabled,\n",
              "  .colab-df-quickchart-complete:disabled:hover {\n",
              "    background-color: var(--disabled-bg-color);\n",
              "    fill: var(--disabled-fill-color);\n",
              "    box-shadow: none;\n",
              "  }\n",
              "\n",
              "  .colab-df-spinner {\n",
              "    border: 2px solid var(--fill-color);\n",
              "    border-color: transparent;\n",
              "    border-bottom-color: var(--fill-color);\n",
              "    animation:\n",
              "      spin 1s steps(1) infinite;\n",
              "  }\n",
              "\n",
              "  @keyframes spin {\n",
              "    0% {\n",
              "      border-color: transparent;\n",
              "      border-bottom-color: var(--fill-color);\n",
              "      border-left-color: var(--fill-color);\n",
              "    }\n",
              "    20% {\n",
              "      border-color: transparent;\n",
              "      border-left-color: var(--fill-color);\n",
              "      border-top-color: var(--fill-color);\n",
              "    }\n",
              "    30% {\n",
              "      border-color: transparent;\n",
              "      border-left-color: var(--fill-color);\n",
              "      border-top-color: var(--fill-color);\n",
              "      border-right-color: var(--fill-color);\n",
              "    }\n",
              "    40% {\n",
              "      border-color: transparent;\n",
              "      border-right-color: var(--fill-color);\n",
              "      border-top-color: var(--fill-color);\n",
              "    }\n",
              "    60% {\n",
              "      border-color: transparent;\n",
              "      border-right-color: var(--fill-color);\n",
              "    }\n",
              "    80% {\n",
              "      border-color: transparent;\n",
              "      border-right-color: var(--fill-color);\n",
              "      border-bottom-color: var(--fill-color);\n",
              "    }\n",
              "    90% {\n",
              "      border-color: transparent;\n",
              "      border-bottom-color: var(--fill-color);\n",
              "    }\n",
              "  }\n",
              "</style>\n",
              "\n",
              "      <script>\n",
              "        async function quickchart(key) {\n",
              "          const quickchartButtonEl =\n",
              "            document.querySelector('#' + key + ' button');\n",
              "          quickchartButtonEl.disabled = true;  // To prevent multiple clicks.\n",
              "          quickchartButtonEl.classList.add('colab-df-spinner');\n",
              "          try {\n",
              "            const charts = await google.colab.kernel.invokeFunction(\n",
              "                'suggestCharts', [key], {});\n",
              "          } catch (error) {\n",
              "            console.error('Error during call to suggestCharts:', error);\n",
              "          }\n",
              "          quickchartButtonEl.classList.remove('colab-df-spinner');\n",
              "          quickchartButtonEl.classList.add('colab-df-quickchart-complete');\n",
              "        }\n",
              "        (() => {\n",
              "          let quickchartButtonEl =\n",
              "            document.querySelector('#df-af285e2b-7594-47bd-909a-01969fcd1746 button');\n",
              "          quickchartButtonEl.style.display =\n",
              "            google.colab.kernel.accessAllowed ? 'block' : 'none';\n",
              "        })();\n",
              "      </script>\n",
              "    </div>\n",
              "\n",
              "    </div>\n",
              "  </div>\n"
            ],
            "application/vnd.google.colaboratory.intrinsic+json": {
              "type": "dataframe"
            }
          },
          "metadata": {},
          "execution_count": 265
        }
      ]
    },
    {
      "cell_type": "markdown",
      "source": [
        "count = contagem de registros do dataset\n",
        "\n",
        "mean = média\n",
        "\n",
        "std = desvio padrão\n",
        "\n",
        "min = valor mínimo da categoria\n",
        "\n",
        "25% = valor de 25% dos registros da categoria\n",
        "\n",
        "75% = valor de 75% dos registros da categoria\n",
        "\n",
        "max = valor máximo da categoria"
      ],
      "metadata": {
        "id": "UDQevY3J6E8H"
      }
    },
    {
      "cell_type": "markdown",
      "source": [
        "## Análise de variáveis categóricas"
      ],
      "metadata": {
        "id": "uabqXXr12ooZ"
      }
    },
    {
      "cell_type": "code",
      "source": [
        "# 7. Análise de variáveis categóricas: analisando a frequencia de distribuição de idade no dataset\n",
        "\n",
        "\n",
        "plt.figure(figsize=(8, 6))\n",
        "# Histograma do comprimento da sépala (um dos atributos)\n",
        "sns.histplot(Dataset['Idade'], kde=True)\n",
        "plt.title('Histograma de Idade')\n",
        "plt.xlabel('Idade')\n",
        "plt.ylabel('Frequencia')\n",
        "plt.show()"
      ],
      "metadata": {
        "colab": {
          "base_uri": "https://localhost:8080/",
          "height": 564
        },
        "id": "xFULQrKiGPqj",
        "outputId": "37c914e7-09aa-4b99-e813-097da20656ad"
      },
      "execution_count": 266,
      "outputs": [
        {
          "output_type": "display_data",
          "data": {
            "text/plain": [
              "<Figure size 800x600 with 1 Axes>"
            ],
            "image/png": "[encoded data removed]"
          },
          "metadata": {}
        }
      ]
    },
    {
      "cell_type": "markdown",
      "source": [
        "O gráfico mostra que há maior volume de dados de gestantes com idade inferior a 35 anos."
      ],
      "metadata": {
        "id": "9Wjg9LnpwBFD"
      }
    },
    {
      "cell_type": "code",
      "source": [
        "# 8. Análise de variáveis categóricas: analisando o % da idade <35 anos e > 35 anos\n",
        "\n",
        "# Criar uma coluna para categorizar a idade\n",
        "Dataset['Categoria_Idade'] = Dataset['Idade'].apply(lambda x: '<= 35 anos' if x <= 35 else '> 35 anos')\n",
        "\n",
        "# Calcular os percentuais para cada grupo de idade\n",
        "age_group_percentages = Dataset['Categoria_Idade'].value_counts(normalize=True) * 100\n",
        "age_group_percentages_df = age_group_percentages.reset_index()\n",
        "age_group_percentages_df.columns = ['Categoria_Idade', 'Percentage']\n",
        "\n",
        "# Ordenar os grupos de idade para garantir uma ordem consistente no gráfico\n",
        "order = ['<= 35 anos', '> 35 anos']\n",
        "age_group_percentages_df['Categoria_Idade'] = pd.Categorical(age_group_percentages_df['Categoria_Idade'], categories=order, ordered=True)\n",
        "age_group_percentages_df = age_group_percentages_df.sort_values('Categoria_Idade')\n",
        "\n",
        "# Configurações para o gráfico\n",
        "fig, ax = plt.subplots(figsize=(8, 6))\n",
        "\n",
        "# Plotar as barras\n",
        "bars = ax.bar(age_group_percentages_df['Categoria_Idade'], age_group_percentages_df['Percentage'], color=['skyblue', 'lightcoral'])\n",
        "\n",
        "# Adicionar rótulos, título\n",
        "ax.set_xlabel('Categoria de Idade')\n",
        "ax.set_ylabel('Porcentagem (%)')\n",
        "ax.set_title('Percentual de Gestantes por Categoria de Idade')\n",
        "ax.set_ylim(0, 100)\n",
        "ax.grid(axis='y', linestyle='--', alpha=0.7)\n",
        "\n",
        "# Adicionar os valores percentuais nas barras\n",
        "for bar in bars:\n",
        "    height = bar.get_height()\n",
        "    ax.annotate(f'{height:.1f}%',\n",
        "                xy=(bar.get_x() + bar.get_width() / 2, height),\n",
        "                xytext=(0, 3),\n",
        "                textcoords=\"offset points\",\n",
        "                ha='center', va='bottom')\n",
        "\n",
        "\n",
        "# Mostrar o gráfico\n",
        "plt.show()\n"
      ],
      "metadata": {
        "colab": {
          "base_uri": "https://localhost:8080/",
          "height": 564
        },
        "id": "jJpdFz9xoWHW",
        "outputId": "12a53021-3f1a-4119-cb40-608599d250c5"
      },
      "execution_count": 267,
      "outputs": [
        {
          "output_type": "display_data",
          "data": {
            "text/plain": [
              "<Figure size 800x600 with 1 Axes>"
            ],
            "image/png": "[encoded data removed]"
          },
          "metadata": {}
        }
      ]
    },
    {
      "cell_type": "markdown",
      "source": [
        "Confirmando a análise do gráfico anterior, do total de dados da base:\n",
        "- 73,6% dos dados são de gestantes com idade inferior a 35 anos\n",
        "- 26,4% dos dados são de gestantes com idade superior ou igual a 35 anos."
      ],
      "metadata": {
        "id": "HcwA_djcwaBr"
      }
    },
    {
      "cell_type": "code",
      "source": [
        "# 9. Análise de duas variáveis categóricas: analisando a idade em relação ao risco gestacional\n",
        "# Gráfico Boxplot\n",
        "plt.figure(figsize=(10, 6))\n",
        "sns.boxplot(x='Nivel_Risco', y='Idade', data=Dataset, order=['low risk', 'mid risk', 'high risk'])\n",
        "\n",
        "# Correcting the title and labels\n",
        "plt.title('Idade por Nível de Risco')\n",
        "plt.xlabel('Nível de Risco')\n",
        "plt.ylabel('Idade')\n",
        "plt.tight_layout()\n",
        "plt.show()"
      ],
      "metadata": {
        "id": "CXYVIeNfHHHJ",
        "colab": {
          "base_uri": "https://localhost:8080/",
          "height": 607
        },
        "outputId": "c18ff16f-ac93-441d-eff0-2d952430b0cb"
      },
      "execution_count": 268,
      "outputs": [
        {
          "output_type": "display_data",
          "data": {
            "text/plain": [
              "<Figure size 1000x600 with 1 Axes>"
            ],
            "image/png": "[encoded data removed]"
          },
          "metadata": {}
        }
      ]
    },
    {
      "cell_type": "markdown",
      "source": [
        "Este gráfico demonstra que temos 03 categorias de risco sendo o maior risco gestacional (hight risk) concentrado em idades >= 35 anos."
      ],
      "metadata": {
        "id": "IFcRuVJDxknz"
      }
    },
    {
      "cell_type": "code",
      "source": [
        "# 10. Análise de duas variáveis categóricas: analisando o % de nível de risco por idade\n",
        "# Gráfico Barras\n",
        "\n",
        "# 1. Calcular os percentuais para o dataset total\n",
        "percent_total = Dataset['Nivel_Risco'].value_counts(normalize=True) * 100\n",
        "# Transformar em DataFrame para facilitar a manipulação\n",
        "percent_total_df = percent_total.reset_index()\n",
        "percent_total_df.columns = ['Nivel_Risco', 'Percentage']\n",
        "\n",
        "# 2. Filtrar o DataFrame para idade maior que 35\n",
        "df_age_gt_35 = Dataset[Dataset['Idade'] > 35]\n",
        "\n",
        "# 3. Calcular os percentuais para o dataset filtrado (idade > 35)\n",
        "percent_age_gt_35 = df_age_gt_35['Nivel_Risco'].value_counts(normalize=True) * 100\n",
        "# Transformar em DataFrame\n",
        "percent_age_gt_35_df = percent_age_gt_35.reset_index()\n",
        "percent_age_gt_35_df.columns = ['Nivel_Risco', 'Percentage']\n",
        "\n",
        "# Obter os níveis de risco únicos para os rótulos do eixo X\n",
        "risk_levels = sorted(percent_total_df['Nivel_Risco'].unique())\n",
        "\n",
        "# Configurações para o gráfico\n",
        "width = 0.35 # Largura das barras\n",
        "x_pos = range(len(risk_levels)) # Posições para as barras no eixo X\n",
        "\n",
        "# Criar a figura e os eixos\n",
        "fig, ax = plt.subplots(figsize=(10, 6))\n",
        "\n",
        "# Plotar as barras para o dataset total\n",
        "bars_total = ax.bar([p - width/2 for p in x_pos], percent_total_df['Percentage'], width, label='Total Dataset', color='skyblue')\n",
        "\n",
        "# Plotar as barras para o dataset filtrado (idade > 35)\n",
        "bars_age_gt_35 = ax.bar([p + width/2 for p in x_pos], percent_age_gt_35_df['Percentage'], width, label='Idade > 35 anos', color='lightcoral')\n",
        "\n",
        "# Adicionar rótulos, título e legenda\n",
        "ax.set_xlabel('Nível de Risco')\n",
        "ax.set_ylabel('Porcentagem (%)')\n",
        "ax.set_title('Comparação do Nível de Risco por Porcentagem (Matplotlib)')\n",
        "ax.set_xticks(x_pos)\n",
        "ax.set_xticklabels(risk_levels)\n",
        "ax.legend()\n",
        "ax.grid(axis='y', linestyle='--', alpha=0.7)\n",
        "\n",
        "# Adicionar os valores percentuais nas barras\n",
        "def autolabel(bars):\n",
        "    for bar in bars:\n",
        "        height = bar.get_height()\n",
        "        ax.annotate(f'{height:.1f}%',\n",
        "                    xy=(bar.get_x() + bar.get_width() / 2, height),\n",
        "                    xytext=(0, 3),  # 3 points vertical offset\n",
        "                    textcoords=\"offset points\",\n",
        "                    ha='center', va='bottom')\n",
        "\n",
        "autolabel(bars_total)\n",
        "autolabel(bars_age_gt_35)\n",
        "\n",
        "\n",
        "# Mostrar o gráfico\n",
        "plt.show()\n"
      ],
      "metadata": {
        "colab": {
          "base_uri": "https://localhost:8080/",
          "height": 565
        },
        "id": "EJVwQn37hSsv",
        "outputId": "30c9796b-88be-4691-a033-12312dc704de"
      },
      "execution_count": 269,
      "outputs": [
        {
          "output_type": "display_data",
          "data": {
            "text/plain": [
              "<Figure size 1000x600 with 1 Axes>"
            ],
            "image/png": "[encoded data removed]"
          },
          "metadata": {}
        }
      ]
    },
    {
      "cell_type": "markdown",
      "source": [
        "O gráfico de barras evidencia que temos 03 categorias de riscos no dataset, que a categoria de maior risco tem maior representatividade de gestantes com idade >= 35 anos."
      ],
      "metadata": {
        "id": "5VVAMJ3MHKVe"
      }
    },
    {
      "cell_type": "markdown",
      "source": [
        "## Matriz de Correlação\n",
        "\n",
        "As correlações positivas indicam que as variáveis tendem a se mover na mesma direção.\n",
        "\n",
        "As correlações negativas indicam que elas tendem a se mover em direções opostas.\n",
        "\n",
        "A força da correlação (o quão perto de 1 ou -1 o valor está) indica o quão forte é essa relação linear."
      ],
      "metadata": {
        "id": "3_ERHJAPEZAt"
      }
    },
    {
      "cell_type": "code",
      "source": [
        "# 1. Matriz de correlação das 6 primeiras colunas\n",
        "print(\"\\nMatriz de Correlação:\")\n",
        "Dataset.iloc[:, :6].corr()"
      ],
      "metadata": {
        "id": "jAmPsbzDHF2t",
        "colab": {
          "base_uri": "https://localhost:8080/",
          "height": 269
        },
        "outputId": "c4339c7b-1856-4a2c-a8de-a4194b27f02c"
      },
      "execution_count": null,
      "outputs": [
        {
          "output_type": "stream",
          "name": "stdout",
          "text": [
            "\n",
            "Matriz de Correlação:\n"
          ]
        },
        {
          "output_type": "execute_result",
          "data": {
            "text/plain": [
              "                         Idade  Pressao_Sistolica  Pressao_Diastolica  \\\n",
              "Idade                 1.000000           0.416045            0.398026   \n",
              "Pressao_Sistolica     0.416045           1.000000            0.787006   \n",
              "Pressao_Diastolica    0.398026           0.787006            1.000000   \n",
              "Nivel_Glicose         0.473284           0.425172            0.423824   \n",
              "Temperatura_Corporal -0.255323          -0.286616           -0.257538   \n",
              "Frequencia_Cardiaca   0.079798          -0.023108           -0.046151   \n",
              "\n",
              "                      Nivel_Glicose  Temperatura_Corporal  Frequencia_Cardiaca  \n",
              "Idade                      0.473284             -0.255323             0.079798  \n",
              "Pressao_Sistolica          0.425172             -0.286616            -0.023108  \n",
              "Pressao_Diastolica         0.423824             -0.257538            -0.046151  \n",
              "Nivel_Glicose              1.000000             -0.103493             0.142867  \n",
              "Temperatura_Corporal      -0.103493              1.000000             0.098771  \n",
              "Frequencia_Cardiaca        0.142867              0.098771             1.000000  "
            ],
            "text/html": [
              "\n",
              "  <div id=\"df-84fb997c-1691-438a-abec-65990feb1a9f\" class=\"colab-df-container\">\n",
              "    <div>\n",
              "<style scoped>\n",
              "    .dataframe tbody tr th:only-of-type {\n",
              "        vertical-align: middle;\n",
              "    }\n",
              "\n",
              "    .dataframe tbody tr th {\n",
              "        vertical-align: top;\n",
              "    }\n",
              "\n",
              "    .dataframe thead th {\n",
              "        text-align: right;\n",
              "    }\n",
              "</style>\n",
              "<table border=\"1\" class=\"dataframe\">\n",
              "  <thead>\n",
              "    <tr style=\"text-align: right;\">\n",
              "      <th></th>\n",
              "      <th>Idade</th>\n",
              "      <th>Pressao_Sistolica</th>\n",
              "      <th>Pressao_Diastolica</th>\n",
              "      <th>Nivel_Glicose</th>\n",
              "      <th>Temperatura_Corporal</th>\n",
              "      <th>Frequencia_Cardiaca</th>\n",
              "    </tr>\n",
              "  </thead>\n",
              "  <tbody>\n",
              "    <tr>\n",
              "      <th>Idade</th>\n",
              "      <td>1.000000</td>\n",
              "      <td>0.416045</td>\n",
              "      <td>0.398026</td>\n",
              "      <td>0.473284</td>\n",
              "      <td>-0.255323</td>\n",
              "      <td>0.079798</td>\n",
              "    </tr>\n",
              "    <tr>\n",
              "      <th>Pressao_Sistolica</th>\n",
              "      <td>0.416045</td>\n",
              "      <td>1.000000</td>\n",
              "      <td>0.787006</td>\n",
              "      <td>0.425172</td>\n",
              "      <td>-0.286616</td>\n",
              "      <td>-0.023108</td>\n",
              "    </tr>\n",
              "    <tr>\n",
              "      <th>Pressao_Diastolica</th>\n",
              "      <td>0.398026</td>\n",
              "      <td>0.787006</td>\n",
              "      <td>1.000000</td>\n",
              "      <td>0.423824</td>\n",
              "      <td>-0.257538</td>\n",
              "      <td>-0.046151</td>\n",
              "    </tr>\n",
              "    <tr>\n",
              "      <th>Nivel_Glicose</th>\n",
              "      <td>0.473284</td>\n",
              "      <td>0.425172</td>\n",
              "      <td>0.423824</td>\n",
              "      <td>1.000000</td>\n",
              "      <td>-0.103493</td>\n",
              "      <td>0.142867</td>\n",
              "    </tr>\n",
              "    <tr>\n",
              "      <th>Temperatura_Corporal</th>\n",
              "      <td>-0.255323</td>\n",
              "      <td>-0.286616</td>\n",
              "      <td>-0.257538</td>\n",
              "      <td>-0.103493</td>\n",
              "      <td>1.000000</td>\n",
              "      <td>0.098771</td>\n",
              "    </tr>\n",
              "    <tr>\n",
              "      <th>Frequencia_Cardiaca</th>\n",
              "      <td>0.079798</td>\n",
              "      <td>-0.023108</td>\n",
              "      <td>-0.046151</td>\n",
              "      <td>0.142867</td>\n",
              "      <td>0.098771</td>\n",
              "      <td>1.000000</td>\n",
              "    </tr>\n",
              "  </tbody>\n",
              "</table>\n",
              "</div>\n",
              "    <div class=\"colab-df-buttons\">\n",
              "\n",
              "  <div class=\"colab-df-container\">\n",
              "    <button class=\"colab-df-convert\" onclick=\"convertToInteractive('df-84fb997c-1691-438a-abec-65990feb1a9f')\"\n",
              "            title=\"Convert this dataframe to an interactive table.\"\n",
              "            style=\"display:none;\">\n",
              "\n",
              "  <svg xmlns=\"http://www.w3.org/2000/svg\" height=\"24px\" viewBox=\"0 -960 960 960\">\n",
              "    <path d=\"M120-120v-720h720v720H120Zm60-500h600v-160H180v160Zm220 220h160v-160H400v160Zm0 220h160v-160H400v160ZM180-400h160v-160H180v160Zm440 0h160v-160H620v160ZM180-180h160v-160H180v160Zm440 0h160v-160H620v160Z\"/>\n",
              "  </svg>\n",
              "    </button>\n",
              "\n",
              "  <style>\n",
              "    .colab-df-container {\n",
              "      display:flex;\n",
              "      gap: 12px;\n",
              "    }\n",
              "\n",
              "    .colab-df-convert {\n",
              "      background-color: #E8F0FE;\n",
              "      border: none;\n",
              "      border-radius: 50%;\n",
              "      cursor: pointer;\n",
              "      display: none;\n",
              "      fill: #1967D2;\n",
              "      height: 32px;\n",
              "      padding: 0 0 0 0;\n",
              "      width: 32px;\n",
              "    }\n",
              "\n",
              "    .colab-df-convert:hover {\n",
              "      background-color: #E2EBFA;\n",
              "      box-shadow: 0px 1px 2px rgba(60, 64, 67, 0.3), 0px 1px 3px 1px rgba(60, 64, 67, 0.15);\n",
              "      fill: #174EA6;\n",
              "    }\n",
              "\n",
              "    .colab-df-buttons div {\n",
              "      margin-bottom: 4px;\n",
              "    }\n",
              "\n",
              "    [theme=dark] .colab-df-convert {\n",
              "      background-color: #3B4455;\n",
              "      fill: #D2E3FC;\n",
              "    }\n",
              "\n",
              "    [theme=dark] .colab-df-convert:hover {\n",
              "      background-color: #434B5C;\n",
              "      box-shadow: 0px 1px 3px 1px rgba(0, 0, 0, 0.15);\n",
              "      filter: drop-shadow(0px 1px 2px rgba(0, 0, 0, 0.3));\n",
              "      fill: #FFFFFF;\n",
              "    }\n",
              "  </style>\n",
              "\n",
              "    <script>\n",
              "      const buttonEl =\n",
              "        document.querySelector('#df-84fb997c-1691-438a-abec-65990feb1a9f button.colab-df-convert');\n",
              "      buttonEl.style.display =\n",
              "        google.colab.kernel.accessAllowed ? 'block' : 'none';\n",
              "\n",
              "      async function convertToInteractive(key) {\n",
              "        const element = document.querySelector('#df-84fb997c-1691-438a-abec-65990feb1a9f');\n",
              "        const dataTable =\n",
              "          await google.colab.kernel.invokeFunction('convertToInteractive',\n",
              "                                                    [key], {});\n",
              "        if (!dataTable) return;\n",
              "\n",
              "        const docLinkHtml = 'Like what you see? Visit the ' +\n",
              "          '<a target=\"_blank\" href=https://colab.research.google.com/notebooks/data_table.ipynb>data table notebook</a>'\n",
              "          + ' to learn more about interactive tables.';\n",
              "        element.innerHTML = '';\n",
              "        dataTable['output_type'] = 'display_data';\n",
              "        await google.colab.output.renderOutput(dataTable, element);\n",
              "        const docLink = document.createElement('div');\n",
              "        docLink.innerHTML = docLinkHtml;\n",
              "        element.appendChild(docLink);\n",
              "      }\n",
              "    </script>\n",
              "  </div>\n",
              "\n",
              "\n",
              "    <div id=\"df-1b3c76b7-0713-4838-91f1-f55c0d45864a\">\n",
              "      <button class=\"colab-df-quickchart\" onclick=\"quickchart('df-1b3c76b7-0713-4838-91f1-f55c0d45864a')\"\n",
              "                title=\"Suggest charts\"\n",
              "                style=\"display:none;\">\n",
              "\n",
              "<svg xmlns=\"http://www.w3.org/2000/svg\" height=\"24px\"viewBox=\"0 0 24 24\"\n",
              "     width=\"24px\">\n",
              "    <g>\n",
              "        <path d=\"M19 3H5c-1.1 0-2 .9-2 2v14c0 1.1.9 2 2 2h14c1.1 0 2-.9 2-2V5c0-1.1-.9-2-2-2zM9 17H7v-7h2v7zm4 0h-2V7h2v10zm4 0h-2v-4h2v4z\"/>\n",
              "    </g>\n",
              "</svg>\n",
              "      </button>\n",
              "\n",
              "<style>\n",
              "  .colab-df-quickchart {\n",
              "      --bg-color: #E8F0FE;\n",
              "      --fill-color: #1967D2;\n",
              "      --hover-bg-color: #E2EBFA;\n",
              "      --hover-fill-color: #174EA6;\n",
              "      --disabled-fill-color: #AAA;\n",
              "      --disabled-bg-color: #DDD;\n",
              "  }\n",
              "\n",
              "  [theme=dark] .colab-df-quickchart {\n",
              "      --bg-color: #3B4455;\n",
              "      --fill-color: #D2E3FC;\n",
              "      --hover-bg-color: #434B5C;\n",
              "      --hover-fill-color: #FFFFFF;\n",
              "      --disabled-bg-color: #3B4455;\n",
              "      --disabled-fill-color: #666;\n",
              "  }\n",
              "\n",
              "  .colab-df-quickchart {\n",
              "    background-color: var(--bg-color);\n",
              "    border: none;\n",
              "    border-radius: 50%;\n",
              "    cursor: pointer;\n",
              "    display: none;\n",
              "    fill: var(--fill-color);\n",
              "    height: 32px;\n",
              "    padding: 0;\n",
              "    width: 32px;\n",
              "  }\n",
              "\n",
              "  .colab-df-quickchart:hover {\n",
              "    background-color: var(--hover-bg-color);\n",
              "    box-shadow: 0 1px 2px rgba(60, 64, 67, 0.3), 0 1px 3px 1px rgba(60, 64, 67, 0.15);\n",
              "    fill: var(--button-hover-fill-color);\n",
              "  }\n",
              "\n",
              "  .colab-df-quickchart-complete:disabled,\n",
              "  .colab-df-quickchart-complete:disabled:hover {\n",
              "    background-color: var(--disabled-bg-color);\n",
              "    fill: var(--disabled-fill-color);\n",
              "    box-shadow: none;\n",
              "  }\n",
              "\n",
              "  .colab-df-spinner {\n",
              "    border: 2px solid var(--fill-color);\n",
              "    border-color: transparent;\n",
              "    border-bottom-color: var(--fill-color);\n",
              "    animation:\n",
              "      spin 1s steps(1) infinite;\n",
              "  }\n",
              "\n",
              "  @keyframes spin {\n",
              "    0% {\n",
              "      border-color: transparent;\n",
              "      border-bottom-color: var(--fill-color);\n",
              "      border-left-color: var(--fill-color);\n",
              "    }\n",
              "    20% {\n",
              "      border-color: transparent;\n",
              "      border-left-color: var(--fill-color);\n",
              "      border-top-color: var(--fill-color);\n",
              "    }\n",
              "    30% {\n",
              "      border-color: transparent;\n",
              "      border-left-color: var(--fill-color);\n",
              "      border-top-color: var(--fill-color);\n",
              "      border-right-color: var(--fill-color);\n",
              "    }\n",
              "    40% {\n",
              "      border-color: transparent;\n",
              "      border-right-color: var(--fill-color);\n",
              "      border-top-color: var(--fill-color);\n",
              "    }\n",
              "    60% {\n",
              "      border-color: transparent;\n",
              "      border-right-color: var(--fill-color);\n",
              "    }\n",
              "    80% {\n",
              "      border-color: transparent;\n",
              "      border-right-color: var(--fill-color);\n",
              "      border-bottom-color: var(--fill-color);\n",
              "    }\n",
              "    90% {\n",
              "      border-color: transparent;\n",
              "      border-bottom-color: var(--fill-color);\n",
              "    }\n",
              "  }\n",
              "</style>\n",
              "\n",
              "      <script>\n",
              "        async function quickchart(key) {\n",
              "          const quickchartButtonEl =\n",
              "            document.querySelector('#' + key + ' button');\n",
              "          quickchartButtonEl.disabled = true;  // To prevent multiple clicks.\n",
              "          quickchartButtonEl.classList.add('colab-df-spinner');\n",
              "          try {\n",
              "            const charts = await google.colab.kernel.invokeFunction(\n",
              "                'suggestCharts', [key], {});\n",
              "          } catch (error) {\n",
              "            console.error('Error during call to suggestCharts:', error);\n",
              "          }\n",
              "          quickchartButtonEl.classList.remove('colab-df-spinner');\n",
              "          quickchartButtonEl.classList.add('colab-df-quickchart-complete');\n",
              "        }\n",
              "        (() => {\n",
              "          let quickchartButtonEl =\n",
              "            document.querySelector('#df-1b3c76b7-0713-4838-91f1-f55c0d45864a button');\n",
              "          quickchartButtonEl.style.display =\n",
              "            google.colab.kernel.accessAllowed ? 'block' : 'none';\n",
              "        })();\n",
              "      </script>\n",
              "    </div>\n",
              "\n",
              "    </div>\n",
              "  </div>\n"
            ],
            "application/vnd.google.colaboratory.intrinsic+json": {
              "type": "dataframe",
              "summary": "{\n  \"name\": \"Dataset\",\n  \"rows\": 6,\n  \"fields\": [\n    {\n      \"column\": \"Idade\",\n      \"properties\": {\n        \"dtype\": \"number\",\n        \"std\": 0.42042113335318076,\n        \"min\": -0.25532313920501565,\n        \"max\": 1.0,\n        \"num_unique_values\": 6,\n        \"samples\": [\n          1.0,\n          0.4160454479747322,\n          0.0797976348285774\n        ],\n        \"semantic_type\": \"\",\n        \"description\": \"\"\n      }\n    },\n    {\n      \"column\": \"Pressao_Sistolica\",\n      \"properties\": {\n        \"dtype\": \"number\",\n        \"std\": 0.48166778253085124,\n        \"min\": -0.2866155235428736,\n        \"max\": 1.0,\n        \"num_unique_values\": 6,\n        \"samples\": [\n          0.4160454479747322,\n          1.0,\n          -0.023107956988353304\n        ],\n        \"semantic_type\": \"\",\n        \"description\": \"\"\n      }\n    },\n    {\n      \"column\": \"Pressao_Diastolica\",\n      \"properties\": {\n        \"dtype\": \"number\",\n        \"std\": 0.47754656718125965,\n        \"min\": -0.25753832233623913,\n        \"max\": 1.0,\n        \"num_unique_values\": 6,\n        \"samples\": [\n          0.3980262867031837,\n          0.78700647697753,\n          -0.04615057091697736\n        ],\n        \"semantic_type\": \"\",\n        \"description\": \"\"\n      }\n    },\n    {\n      \"column\": \"Nivel_Glicose\",\n      \"properties\": {\n        \"dtype\": \"number\",\n        \"std\": 0.37039156376988835,\n        \"min\": -0.10349336335222421,\n        \"max\": 1.0,\n        \"num_unique_values\": 6,\n        \"samples\": [\n          0.4732843359291685,\n          0.4251716592710181,\n          0.14286722659941492\n        ],\n        \"semantic_type\": \"\",\n        \"description\": \"\"\n      }\n    },\n    {\n      \"column\": \"Temperatura_Corporal\",\n      \"properties\": {\n        \"dtype\": \"number\",\n        \"std\": 0.495528262472129,\n        \"min\": -0.2866155235428736,\n        \"max\": 1.0,\n        \"num_unique_values\": 6,\n        \"samples\": [\n          -0.25532313920501565,\n          -0.2866155235428736,\n          0.09877104396427468\n        ],\n        \"semantic_type\": \"\",\n        \"description\": \"\"\n      }\n    },\n    {\n      \"column\": \"Frequencia_Cardiaca\",\n      \"properties\": {\n        \"dtype\": \"number\",\n        \"std\": 0.39442960880492506,\n        \"min\": -0.04615057091697736,\n        \"max\": 1.0,\n        \"num_unique_values\": 6,\n        \"samples\": [\n          0.0797976348285774,\n          -0.023107956988353304,\n          1.0\n        ],\n        \"semantic_type\": \"\",\n        \"description\": \"\"\n      }\n    }\n  ]\n}"
            }
          },
          "metadata": {},
          "execution_count": 202
        }
      ]
    },
    {
      "cell_type": "code",
      "source": [
        "# 2. Gerar e exibir o mapa de calor\n",
        "plt.figure(figsize=(8, 6))\n",
        "sns.heatmap(matriz_correlacao, annot=True, cmap='coolwarm', fmt=\".2f\")\n",
        "plt.title('Matriz de Correlação das Características Numéricas')\n",
        "plt.show()"
      ],
      "metadata": {
        "colab": {
          "base_uri": "https://localhost:8080/",
          "height": 686
        },
        "id": "0eTVxHMk3MeH",
        "outputId": "19394e44-2939-4185-882f-5a14ff3c61c6"
      },
      "execution_count": null,
      "outputs": [
        {
          "output_type": "display_data",
          "data": {
            "text/plain": [
              "<Figure size 800x600 with 2 Axes>"
            ],
            "image/png": "[encoded data removed]"
          },
          "metadata": {}
        }
      ]
    },
    {
      "cell_type": "markdown",
      "source": [
        "- Pressão Sistólica e Pressão Diastólica (0.787006): Essa é a correlação mais forte e positiva em toda a matriz. Isso significa que, à medida que a Pressão Sistólica aumenta, a Pressão Diastólica tende a aumentar significativamente também, e vice-versa. Essa é uma relação esperada, já que ambas as medidas estão intrinsecamente ligadas à pressão arterial.\n",
        "\n",
        "- Idade e Nível de Glicose (0.473284): Existe uma correlação positiva moderada. Isso sugere que, à medida que a Idade avança, há uma tendência para o Nível de Glicose também aumentar.\n",
        "\n",
        "- Idade e Pressões (Sistólica: 0.416045; Diastólica: 0.398026): Há uma correlação positiva moderada entre a Idade e ambas as pressões. Isso indica que, com o aumento da idade, a Pressão Sistólica e a Pressão Diastólica tendem a ser um pouco mais altas.\n",
        "\n",
        "- Pressão Sistólica/Diastólica e Nível de Glicose (Sistólica: 0.425172; Diastólica: 0.423824): Observamos uma correlação positiva moderada entre as pressões e o Nível de Glicose. Isso pode indicar que pessoas com níveis de glicose mais altos tendem a ter pressões arteriais um pouco mais elevadas.\n",
        "\n",
        "\n",
        "\n",
        "Relações Negativas com Temperatura Corporal:\n",
        "\n",
        "- Temperatura Corporal e Idade (-0.255323): Correlação negativa fraca. Pessoas mais velhas podem ter uma temperatura corporal ligeiramente mais baixa, ou vice-versa.\n",
        "\n",
        "- Temperatura Corporal e Pressões (Sistólica: -0.286616; Diastólica: -0.257538): Correlações negativas fracas. Isso sugere que, à medida que a Temperatura Corporal aumenta, a Pressão Sistólica e a Pressão Diastólica podem ter uma leve tendência a diminuir, ou o contrário. É uma relação mais sutil e pode depender de outros fatores.\n",
        "\n",
        "- Temperatura Corporal e Nível de Glicose (-0.103493): Correlação negativa muito fraca, quase desprezível.\n",
        "\n",
        "- Frequência Cardíaca: As correlações envolvendo a Frequência Cardíaca são, em geral, muito fracas (próximas de zero), tanto positivas quanto negativas.\n",
        "\n",
        "- Frequência Cardíaca e Nível de Glicose (0.142867): Correlação positiva muito fraca.\n",
        "\n",
        "- Frequência Cardíaca e Idade (0.079798): Correlação positiva muito fraca.\n",
        "\n",
        "- Frequência Cardíaca e Pressões (-0.023108 para Sistólica; -0.046151 para Diastólica): Correlações negativas extremamente fracas, praticamente sem relação linear evidente.\n",
        "\n",
        "- Frequência Cardíaca e Temperatura Corporal (0.098771): Correlação positiva muito fraca.\n"
      ],
      "metadata": {
        "id": "M8OdE0BZ46jw"
      }
    },
    {
      "cell_type": "code",
      "source": [
        "# 3. Matriz de correlação de idade x risco gestacional\n",
        "\n",
        "# 1. Filtrar o DataFrame para incluir apenas pessoas com idade maior que 35\n",
        "df_idade_maior_35 = Dataset[Dataset['Idade'] > 35].copy() # .copy() para evitar SettingWithCopyWarning\n",
        "\n",
        "# 2. Converter a coluna 'Nivel_Risco' de categórica para numérica\n",
        "# Vamos mapear os níveis de risco para números, assumindo uma ordem ordinal.\n",
        "# Você pode ajustar este mapeamento se a ordem for diferente ou se for nominal e não ordinal.\n",
        "mapeamento_risco = {'low risk': 0, 'mid risk': 1, 'high risk': 2}\n",
        "df_idade_maior_35['Nivel_Risco_Numerico'] = df_idade_maior_35['Nivel_Risco'].map(mapeamento_risco)\n",
        "\n",
        "# Verificar se há valores NaN após o mapeamento (se houver Nível_Risco não mapeado)\n",
        "if df_idade_maior_35['Nivel_Risco_Numerico'].isnull().any():\n",
        "    print(\"Atenção: Alguns valores de 'Nivel_Risco' não foram mapeados para numéricos. Verifique o mapeamento.\")\n",
        "    print(df_idade_maior_35[df_idade_maior_35['Nivel_Risco_Numerico'].isnull()]['Nivel_Risco'].unique())\n",
        "\n",
        "# 3. Selecionar as colunas para a matriz de correlação\n",
        "# Queremos 'Idade' e a versão numérica do 'Nivel_Risco'\n",
        "colunas_para_correlacao = df_idade_maior_35[['Idade', 'Nivel_Risco_Numerico']]\n",
        "\n",
        "# 4. Calcular a matriz de correlação\n",
        "matriz_correlacao = colunas_para_correlacao.corr()\n",
        "\n",
        "print(\"Matriz de Correlação para Idade > 35 e Risco Gestacional:\")\n",
        "print(matriz_correlacao)\n",
        "\n",
        "# Opcional: Visualizar a matriz de correlação com um heatmap (requer seaborn)\n",
        "plt.figure(figsize=(6, 5))\n",
        "sns.heatmap(matriz_correlacao, annot=True, cmap='coolwarm', fmt=\".2f\", linewidths=.5)\n",
        "plt.title('Matriz de Correlação (Idade > 35 e Nível de Risco)')\n",
        "plt.show()"
      ],
      "metadata": {
        "colab": {
          "base_uri": "https://localhost:8080/",
          "height": 536
        },
        "id": "VTe_M7AptFj3",
        "outputId": "6981e825-0d8d-41e8-acd2-8a67734e0454"
      },
      "execution_count": null,
      "outputs": [
        {
          "output_type": "stream",
          "name": "stdout",
          "text": [
            "Matriz de Correlação para Idade > 35 e Risco Gestacional:\n",
            "                         Idade  Nivel_Risco_Numerico\n",
            "Idade                 1.000000             -0.236107\n",
            "Nivel_Risco_Numerico -0.236107              1.000000\n"
          ]
        },
        {
          "output_type": "display_data",
          "data": {
            "text/plain": [
              "<Figure size 600x500 with 2 Axes>"
            ],
            "image/png": "[encoded data removed]"
          },
          "metadata": {}
        }
      ]
    },
    {
      "cell_type": "markdown",
      "source": [
        "O ponto chave aqui é o valor -0.236107 na célula que cruza Idade com Nível_Risco_Numerico (e vice-versa).\n",
        "\n",
        "Sinal Negativo (-): O sinal negativo indica uma correlação inversa ou negativa. Isso significa que, à medida que uma variável aumenta, a outra tende a diminuir.\n",
        "Magnitude (0.236107): O valor absoluto de 0.236107 é relativamente baixo. Isso aponta para uma correlação fraca.\n",
        "Conclusão\n",
        "\n",
        "Para o grupo de pessoas com idade superior a 35 anos, esta matriz de correlação sugere que existe uma correlação negativa fraca entre a idade e o nível de risco gestacional.\n",
        "\n",
        "Em termos práticos, isso significa que, dentro desse grupo de idade (maiores de 35), o aumento da idade está associado a uma muito leve e discreta diminuição no nível de risco gestacional numérico."
      ],
      "metadata": {
        "id": "s3fkrLiR6FB9"
      }
    },
    {
      "cell_type": "markdown",
      "source": [
        "# Pré-Processamento de Dados\n",
        "\n",
        "O pré-processamento de dados é uma etapa crucial para preparar os dados para modelagem, ou seja, transformar os dados brutos em um formato adequado para algoritmos de aprendizado de máquina, garantindo que estejam no formato correto e otimizados para o desempenho do algoritmo."
      ],
      "metadata": {
        "id": "VDovmxgDFcbF"
      }
    },
    {
      "cell_type": "markdown",
      "source": [
        "## Treino e Teste\n",
        "\n",
        "O conjunto de treino é usado para \"ensinar\" o modelo a encontrar padrões nos dados.\n",
        "\n",
        "O conjunto de teste é um conjunto de dados \"invisível\" que o modelo nunca viu durante o treinamento. Ele é usado para simular como o modelo se comportaria com novos dados do mundo real, dando uma estimativa imparcial de sua capacidade de generalização."
      ],
      "metadata": {
        "id": "Cl5QdzJLMUMG"
      }
    },
    {
      "cell_type": "code",
      "source": [
        "# Preparar o dataset para a etapa de treino e teste\n",
        "\n",
        "# 1. Mapear 'Nivel_Risco' para numérico\n",
        "mapeamento_risco = {\n",
        "    'low risk': 1,\n",
        "    'medium risk': 2,\n",
        "    'high risk': 3\n",
        "}\n",
        "Dataset['Nivel_Risco_Numerico'] = Dataset['Nivel_Risco'].map(mapeamento_risco)\n",
        "\n",
        "#Remove coluna original\n",
        "Dataset = Dataset.drop('Nivel_Risco', axis=1)\n",
        "\n",
        "\n",
        "print(\"Dataset Após Mapeamento de Risco:\")\n",
        "print(Dataset.head())"
      ],
      "metadata": {
        "id": "Z-2iH5FxAYuK",
        "outputId": "598b8da2-c012-46e8-aecf-4e5d2fa6aa80",
        "colab": {
          "base_uri": "https://localhost:8080/"
        }
      },
      "execution_count": 216,
      "outputs": [
        {
          "output_type": "stream",
          "name": "stdout",
          "text": [
            "Dataset Após Mapeamento de Risco:\n",
            "   Idade  Pressao_Sistolica  Pressao_Diastolica  Nivel_Glicose  \\\n",
            "0     25                130                  80           15.0   \n",
            "1     35                140                  90           13.0   \n",
            "2     29                 90                  70            8.0   \n",
            "3     30                140                  85            7.0   \n",
            "4     35                120                  60            6.1   \n",
            "\n",
            "   Temperatura_Corporal  Frequencia_Cardiaca Categoria_Idade  \\\n",
            "0                  98.0                   86      <= 35 anos   \n",
            "1                  98.0                   70      <= 35 anos   \n",
            "2                 100.0                   80      <= 35 anos   \n",
            "3                  98.0                   70      <= 35 anos   \n",
            "4                  98.0                   76      <= 35 anos   \n",
            "\n",
            "   Nivel_Risco_Numerico  \n",
            "0                   3.0  \n",
            "1                   3.0  \n",
            "2                   3.0  \n",
            "3                   3.0  \n",
            "4                   1.0  \n"
          ]
        }
      ]
    },
    {
      "cell_type": "code",
      "source": [
        "# Preparar o dataset para a etapa de treino e teste\n",
        "\n",
        "# 1. Mapear 'Categoria_Idade' para numérico\n",
        "Mapeamento_idade = {\n",
        "    '<= 35 anos': 1,\n",
        "    '> 35 anos': 2\n",
        "}\n",
        "Dataset['Mapeamento_idade'] = Dataset['Categoria_Idade'].map(Mapeamento_idade)\n",
        "\n",
        "#Remove coluna original\n",
        "Dataset = Dataset.drop('Categoria_Idade', axis=1)\n",
        "\n",
        "\n",
        "print(\"Dataset Após Mapeamento de Idade:\")\n",
        "print(Dataset.head())"
      ],
      "metadata": {
        "colab": {
          "base_uri": "https://localhost:8080/"
        },
        "id": "zEKC9OazGosX",
        "outputId": "0831832b-7106-45a8-df4a-36c0d52d2c9e"
      },
      "execution_count": 224,
      "outputs": [
        {
          "output_type": "stream",
          "name": "stdout",
          "text": [
            "Dataset Após Mapeamento de Idade:\n",
            "   Idade  Pressao_Sistolica  Pressao_Diastolica  Nivel_Glicose  \\\n",
            "0     25                130                  80           15.0   \n",
            "1     35                140                  90           13.0   \n",
            "2     29                 90                  70            8.0   \n",
            "3     30                140                  85            7.0   \n",
            "4     35                120                  60            6.1   \n",
            "\n",
            "   Temperatura_Corporal  Frequencia_Cardiaca  Nivel_Risco_Numerico  \\\n",
            "0                  98.0                   86                   3.0   \n",
            "1                  98.0                   70                   3.0   \n",
            "2                 100.0                   80                   3.0   \n",
            "3                  98.0                   70                   3.0   \n",
            "4                  98.0                   76                   1.0   \n",
            "\n",
            "   Mapeamento_idade  \n",
            "0                 1  \n",
            "1                 1  \n",
            "2                 1  \n",
            "3                 1  \n",
            "4                 1  \n"
          ]
        }
      ]
    },
    {
      "cell_type": "code",
      "source": [
        "# 2. Separar features (X) e target (y)\n",
        "# X serão todas as colunas, exceto 'Nivel_Risco'\n",
        "X = Dataset.drop('Nivel_Risco_Numerico', axis=1)\n",
        "\n",
        "# y será a coluna 'Nivel_Risco'\n",
        "y = Dataset['Nivel_Risco_Numerico']"
      ],
      "metadata": {
        "id": "82kzmWnHFkb6"
      },
      "execution_count": 225,
      "outputs": []
    },
    {
      "cell_type": "code",
      "source": [
        "# 3. Dividir os dados em conjuntos de treino e teste\n",
        "\n",
        "# - Train_test_split(...): Esta é a função que faz a divisão:\n",
        "# - X, y: São os dados de entrada e a variável alvo.\n",
        "# - Test_size=0.3: Define que 30% dos dados serão usados para o conjunto de teste e os 70% restantes para o conjunto de treino.\n",
        "# - Random_state=42: garante que a divisão seja a mesma toda vez que você rodar o código.\n",
        "    #Isso é crucial para a reprodutibilidade dos seus experimentos.\n",
        "# - Stratify=y: é crucial para problemas de classificação, garantindo que as proporções de cada\n",
        "    # nível de risco (neste caso, 'low risk', 'mid risk', 'high risk') sejam mantidas nos conjuntos de treino e teste.\n",
        "\n",
        "X_train, X_test, y_train, y_test = train_test_split(X, y, test_size=0.3, random_state=42)"
      ],
      "metadata": {
        "id": "zzxbuTbIeuuU"
      },
      "execution_count": 226,
      "outputs": []
    },
    {
      "cell_type": "code",
      "source": [
        "# 4. Imprimir as dimensões dos conjuntos para verificar\n",
        "print(f\"Dimensão total do Dataset: {Dataset.shape}\")\n",
        "print(f\"Dimensão de X (features): {X.shape}\")\n",
        "print(f\"Dimensão de y (target): {y.shape}\")\n",
        "print(\"-\" * 40)\n",
        "print(f\"Dimensão do conjunto de treino (X_train): {X_train.shape}\")\n",
        "print(f\"Dimensão do conjunto de teste (X_test): {X_test.shape}\")\n",
        "print(f\"Dimensão do target de treino (y_train): {y_train.shape}\")\n",
        "print(f\"Dimensão do target de teste (y_test): {y_test.shape}\")\n",
        "print(\"-\" * 40)\n",
        "print(\"Distribuição do Nivel_Risco no Dataset original:\")\n",
        "print(y.value_counts(normalize=True))\n",
        "print(\"\\nDistribuição do Nivel_Risco no conjunto de treino:\")\n",
        "print(y_train.value_counts(normalize=True))\n",
        "print(\"\\nDistribuição do Nivel_Risco no conjunto de teste:\")\n",
        "print(y_test.value_counts(normalize=True))"
      ],
      "metadata": {
        "colab": {
          "base_uri": "https://localhost:8080/"
        },
        "id": "rRhMXWaPId-J",
        "outputId": "1eba56c0-f0e2-49c1-b71e-94d65b111899"
      },
      "execution_count": 227,
      "outputs": [
        {
          "output_type": "stream",
          "name": "stdout",
          "text": [
            "Dimensão total do Dataset: (1014, 8)\n",
            "Dimensão de X (features): (1014, 7)\n",
            "Dimensão de y (target): (1014,)\n",
            "----------------------------------------\n",
            "Dimensão do conjunto de treino (X_train): (709, 7)\n",
            "Dimensão do conjunto de teste (X_test): (305, 7)\n",
            "Dimensão do target de treino (y_train): (709,)\n",
            "Dimensão do target de teste (y_test): (305,)\n",
            "----------------------------------------\n",
            "Distribuição do Nivel_Risco no Dataset original:\n",
            "Nivel_Risco_Numerico\n",
            "1.0    0.59882\n",
            "3.0    0.40118\n",
            "Name: proportion, dtype: float64\n",
            "\n",
            "Distribuição do Nivel_Risco no conjunto de treino:\n",
            "Nivel_Risco_Numerico\n",
            "1.0    0.595876\n",
            "3.0    0.404124\n",
            "Name: proportion, dtype: float64\n",
            "\n",
            "Distribuição do Nivel_Risco no conjunto de teste:\n",
            "Nivel_Risco_Numerico\n",
            "1.0    0.606218\n",
            "3.0    0.393782\n",
            "Name: proportion, dtype: float64\n"
          ]
        }
      ]
    },
    {
      "cell_type": "markdown",
      "source": [
        "## Normalização\n",
        "\n",
        "A normalização escala os dados para um intervalo fixo, geralmente entre 0 e 1. É útil quando o algoritmo de machine learning assume que as características estão em uma escala semelhante.\n",
        "\n"
      ],
      "metadata": {
        "id": "7wQ9wP_zGJkk"
      }
    },
    {
      "cell_type": "code",
      "source": [
        "# 1. Normalizar os dados de treino e teste\n",
        "scaler_norm = MinMaxScaler()\n",
        "\n",
        "# Aprende os valores mínimos e máximos APENAS de X_train\n",
        "scaler_norm.fit(X_train)\n",
        "X_train_normalized = scaler_norm.transform(X_train)\n",
        "\n",
        "# Transformar X_train_normalized de volta para um DataFrame, mantendo os nomes das colunas\n",
        "df_X_train_normalized = pd.DataFrame(X_train_normalized, columns=X_train.columns, index=X_train.index)\n",
        "\n",
        "print(\"\\nDataFrame X_train Normalizado (Min-Max) - Primeiras 5 linhas:\")\n",
        "print(df_X_train_normalized.head())\n",
        "\n"
      ],
      "metadata": {
        "id": "bngDh1AJCvo2",
        "outputId": "9583662c-4463-43e6-fd20-022e5c7ea16f",
        "colab": {
          "base_uri": "https://localhost:8080/"
        }
      },
      "execution_count": 230,
      "outputs": [
        {
          "output_type": "stream",
          "name": "stdout",
          "text": [
            "\n",
            "DataFrame X_train Normalizado (Min-Max) - Primeiras 5 linhas:\n",
            "        Idade  Pressao_Sistolica  Pressao_Diastolica  Nivel_Glicose  \\\n",
            "177  0.733333           0.777778            1.000000       0.692308   \n",
            "467  0.666667           0.777778            0.803922       0.692308   \n",
            "507  0.133333           0.555556            0.607843       0.146154   \n",
            "486  0.466667           0.722222            0.215686       0.146154   \n",
            "328  0.416667           0.222222            0.411765       0.069231   \n",
            "\n",
            "     Temperatura_Corporal  Frequencia_Cardiaca  Mapeamento_idade  \n",
            "177                   0.0             0.710843               1.0  \n",
            "467                   0.0             1.000000               1.0  \n",
            "507                   0.8             0.831325               0.0  \n",
            "486                   0.6             0.951807               1.0  \n",
            "328                   0.0             0.759036               0.0  \n"
          ]
        }
      ]
    },
    {
      "cell_type": "code",
      "source": [
        "# 2. Combinar X_train_normalized e y_train para a Matriz de Correlação\n",
        "\n",
        "df_train_combined = pd.concat([df_X_train_normalized, y_train], axis=1)"
      ],
      "metadata": {
        "id": "vIrCAPQyJDJ2"
      },
      "execution_count": 233,
      "outputs": []
    },
    {
      "cell_type": "code",
      "source": [
        "# 3. Calcular a Matriz de Correlação ---\n",
        "correlation_matrix = df_train_combined.corr()\n",
        "\n",
        "print(\"\\nMatriz de Correlação (Dados de Treino Normalizados e Target):\")\n",
        "print(correlation_matrix)"
      ],
      "metadata": {
        "colab": {
          "base_uri": "https://localhost:8080/"
        },
        "id": "R_EW5gsKJelT",
        "outputId": "f0a85670-4926-45a3-c689-e5e66f4d05fa"
      },
      "execution_count": 234,
      "outputs": [
        {
          "output_type": "stream",
          "name": "stdout",
          "text": [
            "\n",
            "Matriz de Correlação (Dados de Treino Normalizados e Target):\n",
            "                         Idade  Pressao_Sistolica  Pressao_Diastolica  \\\n",
            "Idade                 1.000000           0.445465            0.424106   \n",
            "Pressao_Sistolica     0.445465           1.000000            0.799290   \n",
            "Pressao_Diastolica    0.424106           0.799290            1.000000   \n",
            "Nivel_Glicose         0.492717           0.441792            0.437296   \n",
            "Temperatura_Corporal -0.246412          -0.314943           -0.295290   \n",
            "Frequencia_Cardiaca   0.068354          -0.015255           -0.058716   \n",
            "Mapeamento_idade      0.856664           0.365035            0.393095   \n",
            "Nivel_Risco_Numerico  0.355948           0.433841            0.401318   \n",
            "\n",
            "                      Nivel_Glicose  Temperatura_Corporal  \\\n",
            "Idade                      0.492717             -0.246412   \n",
            "Pressao_Sistolica          0.441792             -0.314943   \n",
            "Pressao_Diastolica         0.437296             -0.295290   \n",
            "Nivel_Glicose              1.000000             -0.109712   \n",
            "Temperatura_Corporal      -0.109712              1.000000   \n",
            "Frequencia_Cardiaca        0.162596              0.123986   \n",
            "Mapeamento_idade           0.532881             -0.180254   \n",
            "Nivel_Risco_Numerico       0.671069              0.184649   \n",
            "\n",
            "                      Frequencia_Cardiaca  Mapeamento_idade  \\\n",
            "Idade                            0.068354          0.856664   \n",
            "Pressao_Sistolica               -0.015255          0.365035   \n",
            "Pressao_Diastolica              -0.058716          0.393095   \n",
            "Nivel_Glicose                    0.162596          0.532881   \n",
            "Temperatura_Corporal             0.123986         -0.180254   \n",
            "Frequencia_Cardiaca              1.000000          0.099898   \n",
            "Mapeamento_idade                 0.099898          1.000000   \n",
            "Nivel_Risco_Numerico             0.253006          0.348056   \n",
            "\n",
            "                      Nivel_Risco_Numerico  \n",
            "Idade                             0.355948  \n",
            "Pressao_Sistolica                 0.433841  \n",
            "Pressao_Diastolica                0.401318  \n",
            "Nivel_Glicose                     0.671069  \n",
            "Temperatura_Corporal              0.184649  \n",
            "Frequencia_Cardiaca               0.253006  \n",
            "Mapeamento_idade                  0.348056  \n",
            "Nivel_Risco_Numerico              1.000000  \n"
          ]
        }
      ]
    },
    {
      "cell_type": "code",
      "source": [
        "# 4. Visualizar a Matriz de Correlação ---\n",
        "plt.figure(figsize=(10, 8))\n",
        "sns.heatmap(correlation_matrix, annot=True, cmap='coolwarm', fmt=\".2f\", linewidths=.5)\n",
        "plt.title('Matriz de Correlação dos Dados de Treino Normalizados e Target')\n",
        "plt.show()"
      ],
      "metadata": {
        "colab": {
          "base_uri": "https://localhost:8080/",
          "height": 840
        },
        "id": "nMa7zm-cJiLg",
        "outputId": "6373100f-7bd5-4472-aabb-9e0f00cc3834"
      },
      "execution_count": 235,
      "outputs": [
        {
          "output_type": "display_data",
          "data": {
            "text/plain": [
              "<Figure size 1000x800 with 2 Axes>"
            ],
            "image/png": "[encoded data removed]"
          },
          "metadata": {}
        }
      ]
    },
    {
      "cell_type": "markdown",
      "source": [
        "Correlações com Nivel_Risco_Numerico (Sua Variável Alvo)\n",
        "\n",
        "Vamos focar em como cada característica se relaciona com o Nivel_Risco_Numerico, pois isso é crucial para entender quais características podem ser bons preditores:\n",
        "\n",
        "Nível de Glicose (0.671069):\n",
        "\n",
        "Esta é a correlação positiva mais forte com o Nivel_Risco_Numerico. Isso é um achado significativo! Sugere que, à medida que o Nível de Glicose aumenta, o Nível de Risco Numérico tende a aumentar consideravelmente. Esta é uma característica muito importante para prever o risco.\n",
        "Pressão Sistólica (0.433841) e Pressão Diastólica (0.401318):\n",
        "\n",
        "Ambas têm correlações positivas moderadas com o Nivel_Risco_Numerico. Isso indica que, à medida que as pressões arteriais aumentam, o nível de risco tende a subir. São características relevantes, mas o Nível de Glicose parece ter uma relação mais forte.\n",
        "Idade (0.355948) e Mapeamento_idade (0.348056):\n",
        "\n",
        "Possuem correlações positivas fracas a moderadas com o Nivel_Risco_Numerico. Isso sugere que a idade tem alguma influência no risco, mas não é o fator principal por si só. Como a \"Idade\" e o \"Mapeamento_idade\" são altamente correlacionados entre si, provavelmente você escolherá apenas uma delas para seu modelo.\n",
        "Frequência Cardíaca (0.253006):\n",
        "\n",
        "Apresenta uma correlação positiva fraca com o Nivel_Risco_Numerico. A Frequência Cardíaca parece ter uma relação discreta com o risco, menos impactante que o Nível de Glicose ou as Pressões.\n",
        "Temperatura Corporal (0.184649):\n",
        "\n",
        "Mostra uma correlação positiva muito fraca com o Nivel_Risco_Numerico. Isso indica que a Temperatura Corporal tem pouquíssima relação linear com o nível de risco. É provável que esta variável não seja um preditor muito útil no seu modelo.\n",
        "Considerações Finais\n",
        "\n",
        "Prioridade de Variáveis: O Nível de Glicose se destaca como o fator mais correlacionado ao Nivel_Risco_Numerico. Pressão Sistólica e Diastólica também são importantes.\n",
        "Multicolinearidade: Fique atento às variáveis altamente correlacionadas entre si (como Pressão Sistólica/Diastólica e Idade/Mapeamento_idade). Em modelos de regressão linear, ter variáveis muito correlacionadas pode inflacionar a variância dos coeficientes, tornando-os menos estáveis e mais difíceis de interpretar. Você pode considerar remover uma delas ou usar técnicas como PCA (Análise de Componentes Principais).\n",
        "Correlação vs. Causalidade: Lembre-se sempre que correlação não implica causalidade. Esses resultados indicam tendências, mas não provam que uma variável causa a outra."
      ],
      "metadata": {
        "id": "tQAtjq-DKWRE"
      }
    },
    {
      "cell_type": "code",
      "source": [
        "# Visualização da distribuição após a normalização (exemplo para uma característica)\n",
        "plt.figure(figsize=(8, 6))\n",
        "sns.histplot(df_normalized['Idade'], kde=True)\n",
        "plt.title('Distribuição da Idade (Normalizado)')\n",
        "plt.xlabel('Idade Normalizada')\n",
        "plt.ylabel('Frequência')\n",
        "plt.show()"
      ],
      "metadata": {
        "id": "y5Ni6N10HDDU",
        "colab": {
          "base_uri": "https://localhost:8080/",
          "height": 564
        },
        "outputId": "76054bf3-5743-4a0d-da2f-2e0f7f894917"
      },
      "execution_count": 237,
      "outputs": [
        {
          "output_type": "display_data",
          "data": {
            "text/plain": [
              "<Figure size 800x600 with 1 Axes>"
            ],
            "image/png": "[encoded data removed]"
          },
          "metadata": {}
        }
      ]
    },
    {
      "cell_type": "markdown",
      "source": [
        "O histograma de *Idade* após a normalização mostra que os valores foram escalados para o intervalo de 0 a 1, mantendo a forma da distribuição original."
      ],
      "metadata": {
        "id": "Eyb-mWfqHDDU"
      }
    },
    {
      "cell_type": "code",
      "source": [
        "#Matriz de Correlacao de idade x risco gestacional com dados normalizados\n",
        "\n",
        "# Criar um mapeamento de strings para números\n",
        "mapeamento_risco = {\n",
        "    'low risk': 1,\n",
        "    'medium risk': 2,\n",
        "    'high risk': 3}\n",
        "\n",
        "\n",
        "# Aplicar o mapeamento à coluna 'Nivel_Risco'\n",
        "Dataset['Nivel_Risco_Numerico'] = Dataset['Nivel_Risco'].map(mapeamento_risco)\n",
        "\n",
        "\n",
        "print(\"\\nDataset Após Mapeamento de Risco:\")\n",
        "print(Dataset)\n",
        "print(\"-\" * 30)\n",
        "\n",
        "\n",
        "# Agora, selecione apenas as colunas numéricas para normalizar.\n",
        "# No meu exemplo, vamos normalizar 'Idade', 'Pressao' e 'Nivel_Risco_Numerico'.\n",
        "colunas_para_normalizar = ['Idade', 'Nivel_Risco_Numerico']\n",
        "df_para_normalizar = Dataset[colunas_para_normalizar]\n",
        "\n",
        "\n",
        "# 3. Aplicar a Normalização Min-Max aos dados numéricos\n",
        "scaler_minmax = MinMaxScaler()\n",
        "df_normalized_minmax = pd.DataFrame(scaler_minmax.fit_transform(df_para_normalizar),\n",
        "                                    columns=df_para_normalizar.columns)\n",
        "\n",
        "print(\"\\nDataFrame Normalizado (Min-Max):\")\n",
        "print(df_normalized_minmax)\n",
        "print(\"-\" * 30)\n",
        "\n",
        "\n",
        "## Matriz de Correlação dos Dados Normalizados\n",
        "\n",
        "#Agora que os dados estão normalizados e numéricos, podemos calcular a matriz de correlação.\n",
        "\n",
        "\n",
        "# 4. Calcular a Matriz de Correlação para dados normalizados\n",
        "correlation_matrix = df_normalized_minmax.corr()\n",
        "\n",
        "print(\"\\nMatriz de Correlação (Dados Normalizados):\")\n",
        "print(correlation_matrix)\n",
        "\n",
        "# 5. Visualizar a Matriz de Correlação\n",
        "plt.figure(figsize=(8, 6))\n",
        "sns.heatmap(correlation_matrix, annot=True, cmap='coolwarm', fmt=\".2f\", linewidths=.5)\n",
        "plt.title('Matriz de Correlação de Dados Normalizados')\n",
        "plt.show()"
      ],
      "metadata": {
        "id": "Fhdlbbt865gm",
        "outputId": "2bed22f3-dbc1-4450-f491-d68b92f6d1c0",
        "colab": {
          "base_uri": "https://localhost:8080/",
          "height": 1000
        }
      },
      "execution_count": null,
      "outputs": [
        {
          "output_type": "stream",
          "name": "stdout",
          "text": [
            "\n",
            "Dataset Após Mapeamento de Risco:\n",
            "      Idade  Pressao_Sistolica  Pressao_Diastolica  Nivel_Glicose  \\\n",
            "0        25                130                  80           15.0   \n",
            "1        35                140                  90           13.0   \n",
            "2        29                 90                  70            8.0   \n",
            "3        30                140                  85            7.0   \n",
            "4        35                120                  60            6.1   \n",
            "...     ...                ...                 ...            ...   \n",
            "1009     22                120                  60           15.0   \n",
            "1010     55                120                  90           18.0   \n",
            "1011     35                 85                  60           19.0   \n",
            "1012     43                120                  90           18.0   \n",
            "1013     32                120                  65            6.0   \n",
            "\n",
            "      Temperatura_Corporal  Frequencia_Cardiaca Nivel_Risco   Age_Group  \\\n",
            "0                     98.0                   86   high risk  <= 35 anos   \n",
            "1                     98.0                   70   high risk  <= 35 anos   \n",
            "2                    100.0                   80   high risk  <= 35 anos   \n",
            "3                     98.0                   70   high risk  <= 35 anos   \n",
            "4                     98.0                   76    low risk  <= 35 anos   \n",
            "...                    ...                  ...         ...         ...   \n",
            "1009                  98.0                   80   high risk  <= 35 anos   \n",
            "1010                  98.0                   60   high risk   > 35 anos   \n",
            "1011                  98.0                   86   high risk  <= 35 anos   \n",
            "1012                  98.0                   70   high risk   > 35 anos   \n",
            "1013                 101.0                   76    mid risk  <= 35 anos   \n",
            "\n",
            "      Nivel_Risco_Numerico  \n",
            "0                      3.0  \n",
            "1                      3.0  \n",
            "2                      3.0  \n",
            "3                      3.0  \n",
            "4                      1.0  \n",
            "...                    ...  \n",
            "1009                   3.0  \n",
            "1010                   3.0  \n",
            "1011                   3.0  \n",
            "1012                   3.0  \n",
            "1013                   NaN  \n",
            "\n",
            "[1014 rows x 9 columns]\n",
            "------------------------------\n",
            "\n",
            "DataFrame Normalizado (Min-Max):\n",
            "         Idade  Nivel_Risco_Numerico\n",
            "0     0.250000                   1.0\n",
            "1     0.416667                   1.0\n",
            "2     0.316667                   1.0\n",
            "3     0.333333                   1.0\n",
            "4     0.416667                   0.0\n",
            "...        ...                   ...\n",
            "1009  0.200000                   1.0\n",
            "1010  0.750000                   1.0\n",
            "1011  0.416667                   1.0\n",
            "1012  0.550000                   1.0\n",
            "1013  0.366667                   NaN\n",
            "\n",
            "[1014 rows x 2 columns]\n",
            "------------------------------\n",
            "\n",
            "Matriz de Correlação (Dados Normalizados):\n",
            "                         Idade  Nivel_Risco_Numerico\n",
            "Idade                 1.000000              0.330881\n",
            "Nivel_Risco_Numerico  0.330881              1.000000\n"
          ]
        },
        {
          "output_type": "display_data",
          "data": {
            "text/plain": [
              "<Figure size 800x600 with 2 Axes>"
            ],
            "image/png": "[encoded data removed]"
          },
          "metadata": {}
        }
      ]
    },
    {
      "cell_type": "markdown",
      "source": [
        "O valor principal a ser observado na matriz é 0.330881. Este número representa o coeficiente de correlação de Pearson entre a Idade e o Nível de Risco Numérico.\n",
        "\n",
        "Vamos detalhar o que isso significa:\n",
        "\n",
        "Sinal Positivo (+): O fato de o valor ser positivo (0.330881) indica que há uma correlação positiva. Isso significa que, à medida que a Idade aumenta, o Nivel_Risco_Numerico também tende a aumentar, e vice-versa. As duas variáveis se movem na mesma direção.\n",
        "\n",
        "Magnitude (0.330881): A magnitude do valor (quão perto de 1 ele está) indica a força da correlação. Um valor de 0.330881 é considerado uma correlação positiva fraca a moderada. Isso sugere que existe uma relação, mas ela não é extremamente forte ou determinante.\n",
        "\n",
        "Em Resumo\n",
        "\n",
        "Para os dados analisados, há uma tendência de que pessoas mais velhas apresentem um Nível de Risco Numérico um pouco mais elevado. No entanto, essa relação não é muito forte. A idade, por si só, explica apenas uma pequena parte da variação no nível de risco. Isso significa que outros fatores, além da idade, provavelmente têm uma influência maior no Nível de Risco Numérico."
      ],
      "metadata": {
        "id": "k-k_K8iM-H2C"
      }
    },
    {
      "cell_type": "markdown",
      "source": [
        "## Padronização\n",
        "\n",
        "A padronização (ou Z-score scaling) transforma os dados para ter média 0 e desvio padrão 1. explicar maissssssss"
      ],
      "metadata": {
        "id": "UOSAwBz0GOAM"
      }
    },
    {
      "cell_type": "code",
      "source": [
        "# Identificar as colunas numéricas para padronização\n",
        "# Excluímos 'RiskLevel' porque é categórica (já tratada com codificação, como One-Hot)\n",
        "numerical_cols = ['Idade', 'Pressao_Sistolica', 'Pressao_Diastolica', 'Nivel_Glicose', 'Temperatura_Corporal', 'Frequencia_Cardiaca']\n",
        "\n",
        "\n",
        "# 3. Inicializar o StandardScaler\n",
        "scaler = StandardScaler()\n",
        "\n",
        "# 4. Ajustar (fit) o scaler APENAS nos dados de treino e transformar (transform)\n",
        "# Criar cópias para evitar SettingWithCopyWarning\n",
        "X_train_scaled = X_train.copy()\n",
        "X_test_scaled = X_test.copy()\n",
        "\n",
        "X_train_scaled[numerical_cols] = scaler.fit_transform(X_train[numerical_cols])\n",
        "\n",
        "# 5. Transformar os dados de teste usando o scaler já ajustado nos dados de treino\n",
        "X_test_scaled[numerical_cols] = scaler.transform(X_test[numerical_cols])\n",
        "\n",
        "print(\"X_train_scaled (Após Padronização nos dados de Treino):\")\n",
        "print(X_train_scaled.head())\n",
        "print(\"\\nVerificando médias e desvios padrão de X_train_scaled para as colunas numéricas:\")\n",
        "print(X_train_scaled[numerical_cols].agg(['mean', 'std']).round(2)) # Arredondar para melhor visualização\n",
        "\n",
        "print(\"\\nX_test_scaled (Após Padronização usando os parâmetros do Treino):\")\n",
        "print(X_test_scaled.head())\n",
        "print(\"\\nVerificando médias e desvios padrão de X_test_scaled para as colunas numéricas:\")\n",
        "print(X_test_scaled[numerical_cols].agg(['mean', 'std']).round(2))"
      ],
      "metadata": {
        "colab": {
          "base_uri": "https://localhost:8080/"
        },
        "id": "t_oqbQ6nTWFP",
        "outputId": "b6776f4a-0ad8-4585-e86c-48b18f6e59c5"
      },
      "execution_count": 241,
      "outputs": [
        {
          "output_type": "stream",
          "name": "stdout",
          "text": [
            "X_train_scaled (Após Padronização nos dados de Treino):\n",
            "        Idade  Pressao_Sistolica  Pressao_Diastolica  Nivel_Glicose  \\\n",
            "177  1.778394           1.444429            1.690795       1.874114   \n",
            "467  1.481803           1.444429            0.968859       1.874114   \n",
            "507 -0.890923           0.360954            0.246924      -0.263873   \n",
            "486  0.592031           1.173560           -1.196946      -0.263873   \n",
            "328  0.369588          -1.264257           -0.475011      -0.564998   \n",
            "\n",
            "     Temperatura_Corporal  Frequencia_Cardiaca  Mapeamento_idade  \n",
            "177             -0.505064            -1.072902                 2  \n",
            "467             -0.505064             1.928331                 2  \n",
            "507              2.357371             0.177612                 1  \n",
            "486              1.641762             1.428125                 2  \n",
            "328             -0.505064            -0.572696                 1  \n",
            "\n",
            "Verificando médias e desvios padrão de X_train_scaled para as colunas numéricas:\n",
            "      Idade  Pressao_Sistolica  Pressao_Diastolica  Nivel_Glicose  \\\n",
            "mean    0.0                0.0                -0.0            0.0   \n",
            "std     1.0                1.0                 1.0            1.0   \n",
            "\n",
            "      Temperatura_Corporal  Frequencia_Cardiaca  \n",
            "mean                   0.0                 -0.0  \n",
            "std                    1.0                  1.0  \n",
            "\n",
            "X_test_scaled (Após Padronização usando os parâmetros do Treino):\n",
            "        Idade  Pressao_Sistolica  Pressao_Diastolica  Nivel_Glicose  \\\n",
            "752 -0.075298           0.902692           -0.475011      -0.324098   \n",
            "519 -0.001150           1.444429            1.690795       1.874114   \n",
            "210  1.481803           1.444429            1.329827       2.476364   \n",
            "611 -0.520184           0.360954            0.968859      -0.384323   \n",
            "914 -0.965070           0.360954            0.246924      -0.384323   \n",
            "\n",
            "     Temperatura_Corporal  Frequencia_Cardiaca  Mapeamento_idade  \n",
            "752             -0.505064             0.427714                 1  \n",
            "519             -0.505064            -0.572696                 1  \n",
            "210             -0.505064            -1.823210                 2  \n",
            "611             -0.505064            -1.823210                 1  \n",
            "914              2.357371             0.177612                 1  \n",
            "\n",
            "Verificando médias e desvios padrão de X_test_scaled para as colunas numéricas:\n",
            "      Idade  Pressao_Sistolica  Pressao_Diastolica  Nivel_Glicose  \\\n",
            "mean  -0.04              -0.03               -0.03          -0.05   \n",
            "std    1.00               0.99                1.01           0.97   \n",
            "\n",
            "      Temperatura_Corporal  Frequencia_Cardiaca  \n",
            "mean                 -0.10                -0.12  \n",
            "std                   0.93                 1.03  \n"
          ]
        }
      ]
    },
    {
      "cell_type": "code",
      "source": [
        "# Visualização da distribuição após a padronização (exemplo para uma característica)\n",
        "plt.figure(figsize=(8, 6))\n",
        "sns.histplot(X_test_scaled['Idade'], kde=True)\n",
        "plt.title('Distribuição da Idade (Padronizado)')\n",
        "plt.xlabel('Distribuição da Idade Padronizado')\n",
        "plt.ylabel('Frequência')\n",
        "plt.show()"
      ],
      "metadata": {
        "id": "fyfnu7jSGxcA",
        "colab": {
          "base_uri": "https://localhost:8080/",
          "height": 564
        },
        "outputId": "8db7636b-8927-40be-d588-46d6b0029009"
      },
      "execution_count": 239,
      "outputs": [
        {
          "output_type": "display_data",
          "data": {
            "text/plain": [
              "<Figure size 800x600 with 1 Axes>"
            ],
            "image/png": "[encoded data removed]"
          },
          "metadata": {}
        }
      ]
    },
    {
      "cell_type": "markdown",
      "source": [
        "Mesmo após a padronização é possível observar que a curva de distribuição da idade se mantém."
      ],
      "metadata": {
        "id": "zmeMPbfhGxcA"
      }
    },
    {
      "cell_type": "markdown",
      "source": [
        "## Tratamento de Valores Nulos\n",
        "\n",
        "O dataset Pregnancy não possui valores nulos. No entanto, o tratamento de valores nulos é crucial e pode envolver imputação (preenchimento com média, mediana, moda) ou remoção de linhas/colunas."
      ],
      "metadata": {
        "id": "UC1f5d_BGTVB"
      }
    },
    {
      "cell_type": "code",
      "source": [
        "# Verificar a presença de valores nulos no dataset original\n",
        "print(\"Valores nulos no dataset Iris:\")\n",
        "Dataset.isnull().sum()"
      ],
      "metadata": {
        "id": "fNQUvAnwG8fL",
        "colab": {
          "base_uri": "https://localhost:8080/",
          "height": 317
        },
        "outputId": "ebad48d8-4314-4fb9-b9c8-30d4f6101fa4"
      },
      "execution_count": null,
      "outputs": [
        {
          "output_type": "stream",
          "name": "stdout",
          "text": [
            "Valores nulos no dataset Iris:\n"
          ]
        },
        {
          "output_type": "execute_result",
          "data": {
            "text/plain": [
              "Idade                   0\n",
              "Pressao_Sistolica       0\n",
              "Pressao_Diastolica      0\n",
              "Nivel_Glicose           0\n",
              "Temperatura_Corporal    0\n",
              "Frequencia_Cardiaca     0\n",
              "Nivel_Risco             0\n",
              "dtype: int64"
            ],
            "text/html": [
              "<div>\n",
              "<style scoped>\n",
              "    .dataframe tbody tr th:only-of-type {\n",
              "        vertical-align: middle;\n",
              "    }\n",
              "\n",
              "    .dataframe tbody tr th {\n",
              "        vertical-align: top;\n",
              "    }\n",
              "\n",
              "    .dataframe thead th {\n",
              "        text-align: right;\n",
              "    }\n",
              "</style>\n",
              "<table border=\"1\" class=\"dataframe\">\n",
              "  <thead>\n",
              "    <tr style=\"text-align: right;\">\n",
              "      <th></th>\n",
              "      <th>0</th>\n",
              "    </tr>\n",
              "  </thead>\n",
              "  <tbody>\n",
              "    <tr>\n",
              "      <th>Idade</th>\n",
              "      <td>0</td>\n",
              "    </tr>\n",
              "    <tr>\n",
              "      <th>Pressao_Sistolica</th>\n",
              "      <td>0</td>\n",
              "    </tr>\n",
              "    <tr>\n",
              "      <th>Pressao_Diastolica</th>\n",
              "      <td>0</td>\n",
              "    </tr>\n",
              "    <tr>\n",
              "      <th>Nivel_Glicose</th>\n",
              "      <td>0</td>\n",
              "    </tr>\n",
              "    <tr>\n",
              "      <th>Temperatura_Corporal</th>\n",
              "      <td>0</td>\n",
              "    </tr>\n",
              "    <tr>\n",
              "      <th>Frequencia_Cardiaca</th>\n",
              "      <td>0</td>\n",
              "    </tr>\n",
              "    <tr>\n",
              "      <th>Nivel_Risco</th>\n",
              "      <td>0</td>\n",
              "    </tr>\n",
              "  </tbody>\n",
              "</table>\n",
              "</div><br><label><b>dtype:</b> int64</label>"
            ]
          },
          "metadata": {},
          "execution_count": 65
        }
      ]
    },
    {
      "cell_type": "markdown",
      "source": [
        "## Outras Transformações e Etapas de Pré-Processamento\n",
        "\n",
        "Outras etapas de pré-processamento incluem a seleção de características, redução de dimensionalidade (como PCA) ou criação de novas características (feature engineering). O que você faria a mais?\n",
        "\n"
      ],
      "metadata": {
        "id": "rBl8S0hDGap4"
      }
    },
    {
      "cell_type": "markdown",
      "source": [
        "A Análise de Componentes Principais (PCA) é uma técnica poderosa de redução de dimensionalidade. Em termos simples, ela te ajuda a pegar um conjunto de dados com muitas variáveis (features) e transformá-lo em um conjunto com menos variáveis, chamadas de Componentes Principais (PCs), sem perder muita informação.\n",
        "\n",
        "Imagine que você tem várias variáveis que medem aspectos de um paciente, como Idade, Peso, Altura, Pressão Arterial, Nível de Glicose, etc. Muitas dessas variáveis podem estar correlacionadas (como vimos na sua matriz de correlação, onde Pressão Sistólica e Diastólica são muito correlacionadas). O PCA busca encontrar novas variáveis (os componentes principais) que são combinações lineares das variáveis originais e que são não correlacionadas entre si."
      ],
      "metadata": {
        "id": "Sx9XVoGhMK1u"
      }
    },
    {
      "cell_type": "markdown",
      "source": [
        "Como o PCA Funciona?\n",
        "\n",
        "O processo de fazer PCA geralmente envolve os seguintes passos:\n",
        "\n",
        "Padronização dos Dados:\n",
        "\n",
        "Por que fazer: O PCA é muito sensível à escala das variáveis. Se uma variável tem uma faixa de valores muito maior que outra (por exemplo, \"Salário\" vs. \"Idade\"), ela pode dominar o cálculo das componentes principais, mesmo que não seja a mais importante intrinsecamente. A padronização (usando StandardScaler do scikit-learn) coloca todas as variáveis na mesma escala, com média 0 e desvio padrão 1. Este é um passo crucial e quase sempre necessário antes de aplicar o PCA.\n",
        "Cálculo da Matriz de Covariância (ou Matriz de Correlação):\n",
        "\n",
        "Por que fazer: Essa matriz mostra como cada par de variáveis varia em conjunto. O PCA usa essa informação para identificar as direções (eixos) de maior variância nos dados.\n",
        "Cálculo dos Autovetores e Autovalores:\n",
        "\n",
        "Autovetores: São as \"direções\" ou \"componentes principais\". Cada autovetor representa um novo eixo no espaço dos dados, ao longo do qual a variância dos dados é máxima. Eles são ortogonais (perpendiculares) entre si, o que significa que as novas componentes principais não são correlacionadas.\n",
        "Autovalores: Cada autovetor tem um autovalor correspondente. O autovalor indica a \"quantidade de variância\" (ou importância) que o respectivo autovetor (componente principal) captura dos dados originais. Componentes com autovalores maiores são mais importantes.\n",
        "Seleção dos Componentes Principais:\n",
        "\n",
        "Por que fazer: O objetivo é reduzir a dimensionalidade. Você escolhe um subconjunto dos autovetores (as componentes principais) que capturam a maior parte da variância total dos dados. Geralmente, você seleciona os componentes com os maiores autovalores. Uma prática comum é escolher componentes que, juntos, expliquem uma certa porcentagem da variância (e.g., 90% ou 95%).\n",
        "Projeção dos Dados:\n",
        "\n",
        "Por que fazer: Uma vez que você selecionou as n componentes principais, você projeta seus dados originais (já padronizados) nesses novos eixos. O resultado é um novo conjunto de dados com n colunas (as n componentes principais), que representam a informação mais importante dos dados originais, mas em uma dimensão menor.\n"
      ],
      "metadata": {
        "id": "Go_ayMzUMR97"
      }
    },
    {
      "cell_type": "code",
      "source": [
        "# 1. PADRONIZAÇÃO dos dados de treino (X_train) antes do PCA ---\n",
        "# O PCA é sensível à escala. É recomendado usar StandardScaler antes do PCA.\n",
        "scaler_std = StandardScaler()\n",
        "scaler_std.fit(X_train) # Aprende média e desvio padrão APENAS de X_train\n",
        "X_train_scaled = scaler_std.transform(X_train)"
      ],
      "metadata": {
        "id": "c8mJOHaJMk9z"
      },
      "execution_count": 242,
      "outputs": []
    },
    {
      "cell_type": "code",
      "source": [
        "# 2. Transformar para DataFrame para manter os nomes das colunas (útil para inspeção)\n",
        "df_X_train_scaled = pd.DataFrame(X_train_scaled, columns=X_train.columns, index=X_train.index)\n",
        "\n",
        "print(\"DataFrame X_train Padronizado (StandardScaler) - Primeiras 5 linhas:\")\n",
        "print(df_X_train_scaled.head())"
      ],
      "metadata": {
        "colab": {
          "base_uri": "https://localhost:8080/"
        },
        "id": "zvrHDRGVMsVJ",
        "outputId": "71e293d6-acae-49ab-a023-95c55c6d69bf"
      },
      "execution_count": 243,
      "outputs": [
        {
          "output_type": "stream",
          "name": "stdout",
          "text": [
            "DataFrame X_train Padronizado (StandardScaler) - Primeiras 5 linhas:\n",
            "        Idade  Pressao_Sistolica  Pressao_Diastolica  Nivel_Glicose  \\\n",
            "177  1.778394           1.444429            1.690795       1.874114   \n",
            "467  1.481803           1.444429            0.968859       1.874114   \n",
            "507 -0.890923           0.360954            0.246924      -0.263873   \n",
            "486  0.592031           1.173560           -1.196946      -0.263873   \n",
            "328  0.369588          -1.264257           -0.475011      -0.564998   \n",
            "\n",
            "     Temperatura_Corporal  Frequencia_Cardiaca  Mapeamento_idade  \n",
            "177             -0.505064            -1.072902          1.652749  \n",
            "467             -0.505064             1.928331          1.652749  \n",
            "507              2.357371             0.177612         -0.605053  \n",
            "486              1.641762             1.428125          1.652749  \n",
            "328             -0.505064            -0.572696         -0.605053  \n"
          ]
        }
      ]
    },
    {
      "cell_type": "code",
      "source": [
        "# 3. Aplicar o PCA ---\n",
        "# Você pode especificar o número de componentes ou a variância explicada\n",
        "# Opção 1: Especificar o número de componentes (ex: 2 para visualização)\n",
        "pca = PCA(n_components=2)"
      ],
      "metadata": {
        "id": "TG0Y-BlBM12x"
      },
      "execution_count": 246,
      "outputs": []
    },
    {
      "cell_type": "code",
      "source": [
        "# 4. Especificar a porcentagem da variância a ser explicada (ex: 95%)\n",
        "pca = PCA(n_components=0.95) # PCA vai determinar quantas componentes são necessárias para 95% da variância"
      ],
      "metadata": {
        "id": "jlCvg7-8NR-t"
      },
      "execution_count": 247,
      "outputs": []
    },
    {
      "cell_type": "code",
      "source": [
        "# 5. Treinar o PCA nos dados padronizados de treino\n",
        "pca.fit(df_X_train_scaled)"
      ],
      "metadata": {
        "colab": {
          "base_uri": "https://localhost:8080/",
          "height": 80
        },
        "id": "dmAi9ZVlNWZC",
        "outputId": "e4622e7c-d691-4abe-deb8-d357f558c631"
      },
      "execution_count": 248,
      "outputs": [
        {
          "output_type": "execute_result",
          "data": {
            "text/plain": [
              "PCA(n_components=0.95)"
            ],
            "text/html": [
              "<style>#sk-container-id-1 {\n",
              "  /* Definition of color scheme common for light and dark mode */\n",
              "  --sklearn-color-text: #000;\n",
              "  --sklearn-color-text-muted: #666;\n",
              "  --sklearn-color-line: gray;\n",
              "  /* Definition of color scheme for unfitted estimators */\n",
              "  --sklearn-color-unfitted-level-0: #fff5e6;\n",
              "  --sklearn-color-unfitted-level-1: #f6e4d2;\n",
              "  --sklearn-color-unfitted-level-2: #ffe0b3;\n",
              "  --sklearn-color-unfitted-level-3: chocolate;\n",
              "  /* Definition of color scheme for fitted estimators */\n",
              "  --sklearn-color-fitted-level-0: #f0f8ff;\n",
              "  --sklearn-color-fitted-level-1: #d4ebff;\n",
              "  --sklearn-color-fitted-level-2: #b3dbfd;\n",
              "  --sklearn-color-fitted-level-3: cornflowerblue;\n",
              "\n",
              "  /* Specific color for light theme */\n",
              "  --sklearn-color-text-on-default-background: var(--sg-text-color, var(--theme-code-foreground, var(--jp-content-font-color1, black)));\n",
              "  --sklearn-color-background: var(--sg-background-color, var(--theme-background, var(--jp-layout-color0, white)));\n",
              "  --sklearn-color-border-box: var(--sg-text-color, var(--theme-code-foreground, var(--jp-content-font-color1, black)));\n",
              "  --sklearn-color-icon: #696969;\n",
              "\n",
              "  @media (prefers-color-scheme: dark) {\n",
              "    /* Redefinition of color scheme for dark theme */\n",
              "    --sklearn-color-text-on-default-background: var(--sg-text-color, var(--theme-code-foreground, var(--jp-content-font-color1, white)));\n",
              "    --sklearn-color-background: var(--sg-background-color, var(--theme-background, var(--jp-layout-color0, #111)));\n",
              "    --sklearn-color-border-box: var(--sg-text-color, var(--theme-code-foreground, var(--jp-content-font-color1, white)));\n",
              "    --sklearn-color-icon: #878787;\n",
              "  }\n",
              "}\n",
              "\n",
              "#sk-container-id-1 {\n",
              "  color: var(--sklearn-color-text);\n",
              "}\n",
              "\n",
              "#sk-container-id-1 pre {\n",
              "  padding: 0;\n",
              "}\n",
              "\n",
              "#sk-container-id-1 input.sk-hidden--visually {\n",
              "  border: 0;\n",
              "  clip: rect(1px 1px 1px 1px);\n",
              "  clip: rect(1px, 1px, 1px, 1px);\n",
              "  height: 1px;\n",
              "  margin: -1px;\n",
              "  overflow: hidden;\n",
              "  padding: 0;\n",
              "  position: absolute;\n",
              "  width: 1px;\n",
              "}\n",
              "\n",
              "#sk-container-id-1 div.sk-dashed-wrapped {\n",
              "  border: 1px dashed var(--sklearn-color-line);\n",
              "  margin: 0 0.4em 0.5em 0.4em;\n",
              "  box-sizing: border-box;\n",
              "  padding-bottom: 0.4em;\n",
              "  background-color: var(--sklearn-color-background);\n",
              "}\n",
              "\n",
              "#sk-container-id-1 div.sk-container {\n",
              "  /* jupyter's `normalize.less` sets `[hidden] { display: none; }`\n",
              "     but bootstrap.min.css set `[hidden] { display: none !important; }`\n",
              "     so we also need the `!important` here to be able to override the\n",
              "     default hidden behavior on the sphinx rendered scikit-learn.org.\n",
              "     See: https://github.com/scikit-learn/scikit-learn/issues/21755 */\n",
              "  display: inline-block !important;\n",
              "  position: relative;\n",
              "}\n",
              "\n",
              "#sk-container-id-1 div.sk-text-repr-fallback {\n",
              "  display: none;\n",
              "}\n",
              "\n",
              "div.sk-parallel-item,\n",
              "div.sk-serial,\n",
              "div.sk-item {\n",
              "  /* draw centered vertical line to link estimators */\n",
              "  background-image: linear-gradient(var(--sklearn-color-text-on-default-background), var(--sklearn-color-text-on-default-background));\n",
              "  background-size: 2px 100%;\n",
              "  background-repeat: no-repeat;\n",
              "  background-position: center center;\n",
              "}\n",
              "\n",
              "/* Parallel-specific style estimator block */\n",
              "\n",
              "#sk-container-id-1 div.sk-parallel-item::after {\n",
              "  content: \"\";\n",
              "  width: 100%;\n",
              "  border-bottom: 2px solid var(--sklearn-color-text-on-default-background);\n",
              "  flex-grow: 1;\n",
              "}\n",
              "\n",
              "#sk-container-id-1 div.sk-parallel {\n",
              "  display: flex;\n",
              "  align-items: stretch;\n",
              "  justify-content: center;\n",
              "  background-color: var(--sklearn-color-background);\n",
              "  position: relative;\n",
              "}\n",
              "\n",
              "#sk-container-id-1 div.sk-parallel-item {\n",
              "  display: flex;\n",
              "  flex-direction: column;\n",
              "}\n",
              "\n",
              "#sk-container-id-1 div.sk-parallel-item:first-child::after {\n",
              "  align-self: flex-end;\n",
              "  width: 50%;\n",
              "}\n",
              "\n",
              "#sk-container-id-1 div.sk-parallel-item:last-child::after {\n",
              "  align-self: flex-start;\n",
              "  width: 50%;\n",
              "}\n",
              "\n",
              "#sk-container-id-1 div.sk-parallel-item:only-child::after {\n",
              "  width: 0;\n",
              "}\n",
              "\n",
              "/* Serial-specific style estimator block */\n",
              "\n",
              "#sk-container-id-1 div.sk-serial {\n",
              "  display: flex;\n",
              "  flex-direction: column;\n",
              "  align-items: center;\n",
              "  background-color: var(--sklearn-color-background);\n",
              "  padding-right: 1em;\n",
              "  padding-left: 1em;\n",
              "}\n",
              "\n",
              "\n",
              "/* Toggleable style: style used for estimator/Pipeline/ColumnTransformer box that is\n",
              "clickable and can be expanded/collapsed.\n",
              "- Pipeline and ColumnTransformer use this feature and define the default style\n",
              "- Estimators will overwrite some part of the style using the `sk-estimator` class\n",
              "*/\n",
              "\n",
              "/* Pipeline and ColumnTransformer style (default) */\n",
              "\n",
              "#sk-container-id-1 div.sk-toggleable {\n",
              "  /* Default theme specific background. It is overwritten whether we have a\n",
              "  specific estimator or a Pipeline/ColumnTransformer */\n",
              "  background-color: var(--sklearn-color-background);\n",
              "}\n",
              "\n",
              "/* Toggleable label */\n",
              "#sk-container-id-1 label.sk-toggleable__label {\n",
              "  cursor: pointer;\n",
              "  display: flex;\n",
              "  width: 100%;\n",
              "  margin-bottom: 0;\n",
              "  padding: 0.5em;\n",
              "  box-sizing: border-box;\n",
              "  text-align: center;\n",
              "  align-items: start;\n",
              "  justify-content: space-between;\n",
              "  gap: 0.5em;\n",
              "}\n",
              "\n",
              "#sk-container-id-1 label.sk-toggleable__label .caption {\n",
              "  font-size: 0.6rem;\n",
              "  font-weight: lighter;\n",
              "  color: var(--sklearn-color-text-muted);\n",
              "}\n",
              "\n",
              "#sk-container-id-1 label.sk-toggleable__label-arrow:before {\n",
              "  /* Arrow on the left of the label */\n",
              "  content: \"▸\";\n",
              "  float: left;\n",
              "  margin-right: 0.25em;\n",
              "  color: var(--sklearn-color-icon);\n",
              "}\n",
              "\n",
              "#sk-container-id-1 label.sk-toggleable__label-arrow:hover:before {\n",
              "  color: var(--sklearn-color-text);\n",
              "}\n",
              "\n",
              "/* Toggleable content - dropdown */\n",
              "\n",
              "#sk-container-id-1 div.sk-toggleable__content {\n",
              "  max-height: 0;\n",
              "  max-width: 0;\n",
              "  overflow: hidden;\n",
              "  text-align: left;\n",
              "  /* unfitted */\n",
              "  background-color: var(--sklearn-color-unfitted-level-0);\n",
              "}\n",
              "\n",
              "#sk-container-id-1 div.sk-toggleable__content.fitted {\n",
              "  /* fitted */\n",
              "  background-color: var(--sklearn-color-fitted-level-0);\n",
              "}\n",
              "\n",
              "#sk-container-id-1 div.sk-toggleable__content pre {\n",
              "  margin: 0.2em;\n",
              "  border-radius: 0.25em;\n",
              "  color: var(--sklearn-color-text);\n",
              "  /* unfitted */\n",
              "  background-color: var(--sklearn-color-unfitted-level-0);\n",
              "}\n",
              "\n",
              "#sk-container-id-1 div.sk-toggleable__content.fitted pre {\n",
              "  /* unfitted */\n",
              "  background-color: var(--sklearn-color-fitted-level-0);\n",
              "}\n",
              "\n",
              "#sk-container-id-1 input.sk-toggleable__control:checked~div.sk-toggleable__content {\n",
              "  /* Expand drop-down */\n",
              "  max-height: 200px;\n",
              "  max-width: 100%;\n",
              "  overflow: auto;\n",
              "}\n",
              "\n",
              "#sk-container-id-1 input.sk-toggleable__control:checked~label.sk-toggleable__label-arrow:before {\n",
              "  content: \"▾\";\n",
              "}\n",
              "\n",
              "/* Pipeline/ColumnTransformer-specific style */\n",
              "\n",
              "#sk-container-id-1 div.sk-label input.sk-toggleable__control:checked~label.sk-toggleable__label {\n",
              "  color: var(--sklearn-color-text);\n",
              "  background-color: var(--sklearn-color-unfitted-level-2);\n",
              "}\n",
              "\n",
              "#sk-container-id-1 div.sk-label.fitted input.sk-toggleable__control:checked~label.sk-toggleable__label {\n",
              "  background-color: var(--sklearn-color-fitted-level-2);\n",
              "}\n",
              "\n",
              "/* Estimator-specific style */\n",
              "\n",
              "/* Colorize estimator box */\n",
              "#sk-container-id-1 div.sk-estimator input.sk-toggleable__control:checked~label.sk-toggleable__label {\n",
              "  /* unfitted */\n",
              "  background-color: var(--sklearn-color-unfitted-level-2);\n",
              "}\n",
              "\n",
              "#sk-container-id-1 div.sk-estimator.fitted input.sk-toggleable__control:checked~label.sk-toggleable__label {\n",
              "  /* fitted */\n",
              "  background-color: var(--sklearn-color-fitted-level-2);\n",
              "}\n",
              "\n",
              "#sk-container-id-1 div.sk-label label.sk-toggleable__label,\n",
              "#sk-container-id-1 div.sk-label label {\n",
              "  /* The background is the default theme color */\n",
              "  color: var(--sklearn-color-text-on-default-background);\n",
              "}\n",
              "\n",
              "/* On hover, darken the color of the background */\n",
              "#sk-container-id-1 div.sk-label:hover label.sk-toggleable__label {\n",
              "  color: var(--sklearn-color-text);\n",
              "  background-color: var(--sklearn-color-unfitted-level-2);\n",
              "}\n",
              "\n",
              "/* Label box, darken color on hover, fitted */\n",
              "#sk-container-id-1 div.sk-label.fitted:hover label.sk-toggleable__label.fitted {\n",
              "  color: var(--sklearn-color-text);\n",
              "  background-color: var(--sklearn-color-fitted-level-2);\n",
              "}\n",
              "\n",
              "/* Estimator label */\n",
              "\n",
              "#sk-container-id-1 div.sk-label label {\n",
              "  font-family: monospace;\n",
              "  font-weight: bold;\n",
              "  display: inline-block;\n",
              "  line-height: 1.2em;\n",
              "}\n",
              "\n",
              "#sk-container-id-1 div.sk-label-container {\n",
              "  text-align: center;\n",
              "}\n",
              "\n",
              "/* Estimator-specific */\n",
              "#sk-container-id-1 div.sk-estimator {\n",
              "  font-family: monospace;\n",
              "  border: 1px dotted var(--sklearn-color-border-box);\n",
              "  border-radius: 0.25em;\n",
              "  box-sizing: border-box;\n",
              "  margin-bottom: 0.5em;\n",
              "  /* unfitted */\n",
              "  background-color: var(--sklearn-color-unfitted-level-0);\n",
              "}\n",
              "\n",
              "#sk-container-id-1 div.sk-estimator.fitted {\n",
              "  /* fitted */\n",
              "  background-color: var(--sklearn-color-fitted-level-0);\n",
              "}\n",
              "\n",
              "/* on hover */\n",
              "#sk-container-id-1 div.sk-estimator:hover {\n",
              "  /* unfitted */\n",
              "  background-color: var(--sklearn-color-unfitted-level-2);\n",
              "}\n",
              "\n",
              "#sk-container-id-1 div.sk-estimator.fitted:hover {\n",
              "  /* fitted */\n",
              "  background-color: var(--sklearn-color-fitted-level-2);\n",
              "}\n",
              "\n",
              "/* Specification for estimator info (e.g. \"i\" and \"?\") */\n",
              "\n",
              "/* Common style for \"i\" and \"?\" */\n",
              "\n",
              ".sk-estimator-doc-link,\n",
              "a:link.sk-estimator-doc-link,\n",
              "a:visited.sk-estimator-doc-link {\n",
              "  float: right;\n",
              "  font-size: smaller;\n",
              "  line-height: 1em;\n",
              "  font-family: monospace;\n",
              "  background-color: var(--sklearn-color-background);\n",
              "  border-radius: 1em;\n",
              "  height: 1em;\n",
              "  width: 1em;\n",
              "  text-decoration: none !important;\n",
              "  margin-left: 0.5em;\n",
              "  text-align: center;\n",
              "  /* unfitted */\n",
              "  border: var(--sklearn-color-unfitted-level-1) 1pt solid;\n",
              "  color: var(--sklearn-color-unfitted-level-1);\n",
              "}\n",
              "\n",
              ".sk-estimator-doc-link.fitted,\n",
              "a:link.sk-estimator-doc-link.fitted,\n",
              "a:visited.sk-estimator-doc-link.fitted {\n",
              "  /* fitted */\n",
              "  border: var(--sklearn-color-fitted-level-1) 1pt solid;\n",
              "  color: var(--sklearn-color-fitted-level-1);\n",
              "}\n",
              "\n",
              "/* On hover */\n",
              "div.sk-estimator:hover .sk-estimator-doc-link:hover,\n",
              ".sk-estimator-doc-link:hover,\n",
              "div.sk-label-container:hover .sk-estimator-doc-link:hover,\n",
              ".sk-estimator-doc-link:hover {\n",
              "  /* unfitted */\n",
              "  background-color: var(--sklearn-color-unfitted-level-3);\n",
              "  color: var(--sklearn-color-background);\n",
              "  text-decoration: none;\n",
              "}\n",
              "\n",
              "div.sk-estimator.fitted:hover .sk-estimator-doc-link.fitted:hover,\n",
              ".sk-estimator-doc-link.fitted:hover,\n",
              "div.sk-label-container:hover .sk-estimator-doc-link.fitted:hover,\n",
              ".sk-estimator-doc-link.fitted:hover {\n",
              "  /* fitted */\n",
              "  background-color: var(--sklearn-color-fitted-level-3);\n",
              "  color: var(--sklearn-color-background);\n",
              "  text-decoration: none;\n",
              "}\n",
              "\n",
              "/* Span, style for the box shown on hovering the info icon */\n",
              ".sk-estimator-doc-link span {\n",
              "  display: none;\n",
              "  z-index: 9999;\n",
              "  position: relative;\n",
              "  font-weight: normal;\n",
              "  right: .2ex;\n",
              "  padding: .5ex;\n",
              "  margin: .5ex;\n",
              "  width: min-content;\n",
              "  min-width: 20ex;\n",
              "  max-width: 50ex;\n",
              "  color: var(--sklearn-color-text);\n",
              "  box-shadow: 2pt 2pt 4pt #999;\n",
              "  /* unfitted */\n",
              "  background: var(--sklearn-color-unfitted-level-0);\n",
              "  border: .5pt solid var(--sklearn-color-unfitted-level-3);\n",
              "}\n",
              "\n",
              ".sk-estimator-doc-link.fitted span {\n",
              "  /* fitted */\n",
              "  background: var(--sklearn-color-fitted-level-0);\n",
              "  border: var(--sklearn-color-fitted-level-3);\n",
              "}\n",
              "\n",
              ".sk-estimator-doc-link:hover span {\n",
              "  display: block;\n",
              "}\n",
              "\n",
              "/* \"?\"-specific style due to the `<a>` HTML tag */\n",
              "\n",
              "#sk-container-id-1 a.estimator_doc_link {\n",
              "  float: right;\n",
              "  font-size: 1rem;\n",
              "  line-height: 1em;\n",
              "  font-family: monospace;\n",
              "  background-color: var(--sklearn-color-background);\n",
              "  border-radius: 1rem;\n",
              "  height: 1rem;\n",
              "  width: 1rem;\n",
              "  text-decoration: none;\n",
              "  /* unfitted */\n",
              "  color: var(--sklearn-color-unfitted-level-1);\n",
              "  border: var(--sklearn-color-unfitted-level-1) 1pt solid;\n",
              "}\n",
              "\n",
              "#sk-container-id-1 a.estimator_doc_link.fitted {\n",
              "  /* fitted */\n",
              "  border: var(--sklearn-color-fitted-level-1) 1pt solid;\n",
              "  color: var(--sklearn-color-fitted-level-1);\n",
              "}\n",
              "\n",
              "/* On hover */\n",
              "#sk-container-id-1 a.estimator_doc_link:hover {\n",
              "  /* unfitted */\n",
              "  background-color: var(--sklearn-color-unfitted-level-3);\n",
              "  color: var(--sklearn-color-background);\n",
              "  text-decoration: none;\n",
              "}\n",
              "\n",
              "#sk-container-id-1 a.estimator_doc_link.fitted:hover {\n",
              "  /* fitted */\n",
              "  background-color: var(--sklearn-color-fitted-level-3);\n",
              "}\n",
              "</style><div id=\"sk-container-id-1\" class=\"sk-top-container\"><div class=\"sk-text-repr-fallback\"><pre>PCA(n_components=0.95)</pre><b>In a Jupyter environment, please rerun this cell to show the HTML representation or trust the notebook. <br />On GitHub, the HTML representation is unable to render, please try loading this page with nbviewer.org.</b></div><div class=\"sk-container\" hidden><div class=\"sk-item\"><div class=\"sk-estimator fitted sk-toggleable\"><input class=\"sk-toggleable__control sk-hidden--visually\" id=\"sk-estimator-id-1\" type=\"checkbox\" checked><label for=\"sk-estimator-id-1\" class=\"sk-toggleable__label fitted sk-toggleable__label-arrow\"><div><div>PCA</div></div><div><a class=\"sk-estimator-doc-link fitted\" rel=\"noreferrer\" target=\"_blank\" href=\"https://scikit-learn.org/1.6/modules/generated/sklearn.decomposition.PCA.html\">?<span>Documentation for PCA</span></a><span class=\"sk-estimator-doc-link fitted\">i<span>Fitted</span></span></div></label><div class=\"sk-toggleable__content fitted\"><pre>PCA(n_components=0.95)</pre></div> </div></div></div></div>"
            ]
          },
          "metadata": {},
          "execution_count": 248
        }
      ]
    },
    {
      "cell_type": "code",
      "source": [
        "# 6. Transformar os dados de treino para as novas componentes principais\n",
        "X_train_pca = pca.transform(df_X_train_scaled)\n",
        "\n",
        "\n",
        "print(f\"\\nNúmero original de features: {X_train.shape[1]}\")\n",
        "print(f\"Número de componentes principais geradas: {pca.n_components_}\")\n",
        "print(f\"Forma de X_train_pca: {X_train_pca.shape}\")"
      ],
      "metadata": {
        "colab": {
          "base_uri": "https://localhost:8080/"
        },
        "id": "UL57jxBzNdJ2",
        "outputId": "87c298e6-19a7-4587-9eda-e4a55fbcab16"
      },
      "execution_count": 250,
      "outputs": [
        {
          "output_type": "stream",
          "name": "stdout",
          "text": [
            "\n",
            "Número original de features: 7\n",
            "Número de componentes principais geradas: 5\n",
            "Forma de X_train_pca: (709, 5)\n"
          ]
        }
      ]
    },
    {
      "cell_type": "code",
      "source": [
        "# 7. Explicar a variância capturada por cada componente\n",
        "explained_variance_ratio = pca.explained_variance_ratio_\n",
        "print(\"\\nVariância explicada por cada componente principal:\")\n",
        "for i, ratio in enumerate(explained_variance_ratio):\n",
        "    print(f\"PC{i+1}: {ratio:.4f} ({ratio*100:.2f}%)\")\n",
        "\n",
        "print(f\"\\nVariância acumulada explicada pelas {pca.n_components_} componentes: {explained_variance_ratio.sum():.4f} ({explained_variance_ratio.sum()*100:.2f}%)\")"
      ],
      "metadata": {
        "colab": {
          "base_uri": "https://localhost:8080/"
        },
        "id": "t3mLy6EONnK3",
        "outputId": "f2f00fd2-ba83-4c60-ca57-4455d4c4620a"
      },
      "execution_count": 251,
      "outputs": [
        {
          "output_type": "stream",
          "name": "stdout",
          "text": [
            "\n",
            "Variância explicada por cada componente principal:\n",
            "PC1: 0.4577 (45.77%)\n",
            "PC2: 0.1803 (18.03%)\n",
            "PC3: 0.1290 (12.90%)\n",
            "PC4: 0.1117 (11.17%)\n",
            "PC5: 0.0734 (7.34%)\n",
            "\n",
            "Variância acumulada explicada pelas 5 componentes: 0.9521 (95.21%)\n",
            "------------------------------\n"
          ]
        }
      ]
    },
    {
      "cell_type": "code",
      "source": [
        "# 8. Criar um DataFrame com as componentes principais para facilitar a visualização e uso\n",
        "df_pca = pd.DataFrame(data=X_train_pca,\n",
        "                      columns=[f'PC{i+1}' for i in range(pca.n_components_)],\n",
        "                      index=X_train.index) # Manter o índice para possível combinação com y_train\n",
        "\n",
        "print(\"\\nDataFrame com Componentes Principais (X_train) - Primeiras 5 linhas:\")\n",
        "print(df_pca.head())"
      ],
      "metadata": {
        "colab": {
          "base_uri": "https://localhost:8080/"
        },
        "id": "4ozszuGmNrOH",
        "outputId": "a5a2807d-6e9a-4ad0-c5b4-715a308ba92f"
      },
      "execution_count": 252,
      "outputs": [
        {
          "output_type": "stream",
          "name": "stdout",
          "text": [
            "\n",
            "DataFrame com Componentes Principais (X_train) - Primeiras 5 linhas:\n",
            "          PC1       PC2       PC3       PC4       PC5\n",
            "177  3.740058 -0.470132 -0.561684  0.987006  0.487810\n",
            "467  3.399427  1.588018  0.814820 -0.771492  0.161354\n",
            "507 -1.046370  0.574034  1.429421  1.787329 -0.554294\n",
            "486  0.575665  2.264601  0.132120  0.481334 -1.303813\n",
            "328 -0.988699 -0.333172 -1.090149 -0.411138  0.098183\n"
          ]
        }
      ]
    },
    {
      "cell_type": "code",
      "source": [
        "# 9. Visualização do PCA (para 2 componentes) ---\n",
        "if pca.n_components_ == 2:\n",
        "    plt.figure(figsize=(10, 7))\n",
        "    # Usamos y_train para colorir os pontos pelo nível de risco\n",
        "    sns.scatterplot(x=df_pca['PC1'], y=df_pca['PC2'], hue=y_train, palette='viridis', s=100, alpha=0.7)\n",
        "    plt.title('Dados de Treino Projetados nas 2 Primeiras Componentes Principais')\n",
        "    plt.xlabel(f'Componente Principal 1 ({explained_variance_ratio[0]*100:.2f}% de Variância)')\n",
        "    plt.ylabel(f'Componente Principal 2 ({explained_variance_ratio[1]*100:.2f}% de Variância)')\n",
        "    plt.grid(True)\n",
        "    plt.show()"
      ],
      "metadata": {
        "id": "ZG6FHYweNytR"
      },
      "execution_count": 253,
      "outputs": []
    },
    {
      "cell_type": "code",
      "source": [
        "# 10. Aplicar a mesma transformação PCA ao conjunto de teste (X_test) ---\n",
        "# Importante: NÃO FAÇA pca.fit(X_test_scaled). Apenas transforme usando o PCA JÁ TREINADO.\n",
        "X_test_scaled = scaler_std.transform(X_test) # Escala X_test com o mesmo scaler_std do X_train\n",
        "X_test_pca = pca.transform(X_test_scaled)\n",
        "df_test_pca = pd.DataFrame(data=X_test_pca,\n",
        "                           columns=[f'PC{i+1}' for i in range(pca.n_components_)],\n",
        "                           index=X_test.index)\n",
        "print(\"\\nDataFrame com Componentes Principais (X_test) - Primeiras 5 linhas:\")\n",
        "print(df_test_pca.head())"
      ],
      "metadata": {
        "colab": {
          "base_uri": "https://localhost:8080/"
        },
        "id": "GdFSOwUmMjPq",
        "outputId": "77dd8aba-c5ef-4561-a323-c96f88de0c49"
      },
      "execution_count": 254,
      "outputs": [
        {
          "output_type": "stream",
          "name": "stdout",
          "text": [
            "\n",
            "DataFrame com Componentes Principais (X_test) - Primeiras 5 linhas:\n",
            "          PC1       PC2       PC3       PC4       PC5\n",
            "752 -0.115755 -0.362599  0.544425 -0.708775 -0.205740\n",
            "519  1.934400 -1.243181  1.378834  0.605426  1.280225\n",
            "210  3.659103 -0.751977 -0.878359  1.434133  1.294757\n",
            "611 -0.035603 -2.187987 -0.099750  0.696403  0.098867\n",
            "914 -1.128450  0.527231  1.442815  1.767687 -0.636617\n"
          ]
        },
        {
          "output_type": "stream",
          "name": "stderr",
          "text": [
            "/usr/local/lib/python3.11/dist-packages/sklearn/utils/validation.py:2739: UserWarning: X does not have valid feature names, but PCA was fitted with feature names\n",
            "  warnings.warn(\n"
          ]
        }
      ]
    },
    {
      "cell_type": "code",
      "source": [
        "# 1. PADRONIZAÇÃO dos dados de treino (X_train) antes do PCA ---\n",
        "# O PCA é sensível à escala. É recomendado usar StandardScaler antes do PCA.\n",
        "scaler_std = StandardScaler()\n",
        "scaler_std.fit(X_train) # Aprende média e desvio padrão APENAS de X_train\n",
        "X_train_scaled = scaler_std.transform(X_train)\n",
        "\n",
        "# 2. Transformar para DataFrame para manter os nomes das colunas (útil para inspeção)\n",
        "df_X_train_scaled = pd.DataFrame(X_train_scaled, columns=X_train.columns, index=X_train.index)\n",
        "\n",
        "print(\"DataFrame X_train Padronizado (StandardScaler) - Primeiras 5 linhas:\")\n",
        "print(df_X_train_scaled.head())\n",
        "\n",
        "# 3. Aplicar o PCA ---\n",
        "# Você pode especificar o número de componentes ou a variância explicada\n",
        "# Opção 1: Especificar o número de componentes (ex: 2 para visualização)\n",
        "pca = PCA(n_components=2)\n",
        "\n",
        "# 4. Especificar a porcentagem da variância a ser explicada (ex: 95%)\n",
        "pca = PCA(n_components=0.95) # PCA vai determinar quantas componentes são necessárias para 95% da variância\n",
        "\n",
        "# 5. Treinar o PCA nos dados padronizados de treino\n",
        "pca.fit(df_X_train_scaled)\n",
        "\n",
        "# 6. Transformar os dados de treino para as novas componentes principais\n",
        "X_train_pca = pca.transform(df_X_train_scaled)\n",
        "\n",
        "\n",
        "print(f\"\\nNúmero original de features: {X_train.shape[1]}\")\n",
        "print(f\"Número de componentes principais geradas: {pca.n_components_}\")\n",
        "print(f\"Forma de X_train_pca: {X_train_pca.shape}\")\n",
        "\n",
        "\n",
        "# 7. Explicar a variância capturada por cada componente\n",
        "explained_variance_ratio = pca.explained_variance_ratio_\n",
        "print(\"\\nVariância explicada por cada componente principal:\")\n",
        "for i, ratio in enumerate(explained_variance_ratio):\n",
        "    print(f\"PC{i+1}: {ratio:.4f} ({ratio*100:.2f}%)\")\n",
        "\n",
        "print(f\"\\nVariância acumulada explicada pelas {pca.n_components_} componentes: {explained_variance_ratio.sum():.4f} ({explained_variance_ratio.sum()*100:.2f}%)\")\n",
        "\n",
        "\n",
        "8. Criar um DataFrame com as componentes principais para facilitar a visualização e uso\n",
        "df_pca = pd.DataFrame(data=X_train_pca,\n",
        "                      columns=[f'PC{i+1}' for i in range(pca.n_components_)],\n",
        "                      index=X_train.index) # Manter o índice para possível combinação com y_train\n",
        "\n",
        "print(\"\\nDataFrame com Componentes Principais (X_train) - Primeiras 5 linhas:\")\n",
        "print(df_pca.head())\n",
        "\n",
        "# 9. Visualização do PCA (para 2 componentes) ---\n",
        "if pca.n_components_ == 2:\n",
        "    plt.figure(figsize=(10, 7))\n",
        "    # Usamos y_train para colorir os pontos pelo nível de risco\n",
        "    sns.scatterplot(x=df_pca['PC1'], y=df_pca['PC2'], hue=y_train, palette='viridis', s=100, alpha=0.7)\n",
        "    plt.title('Dados de Treino Projetados nas 2 Primeiras Componentes Principais')\n",
        "    plt.xlabel(f'Componente Principal 1 ({explained_variance_ratio[0]*100:.2f}% de Variância)')\n",
        "    plt.ylabel(f'Componente Principal 2 ({explained_variance_ratio[1]*100:.2f}% de Variância)')\n",
        "    plt.grid(True)\n",
        "    plt.show()\n",
        "\n",
        "    # 10. Aplicar a mesma transformação PCA ao conjunto de teste (X_test) ---\n",
        "# Importante: NÃO FAÇA pca.fit(X_test_scaled). Apenas transforme usando o PCA JÁ TREINADO.\n",
        "X_test_scaled = scaler_std.transform(X_test) # Escala X_test com o mesmo scaler_std do X_train\n",
        "X_test_pca = pca.transform(X_test_scaled)\n",
        "df_test_pca = pd.DataFrame(data=X_test_pca,\n",
        "                           columns=[f'PC{i+1}' for i in range(pca.n_components_)],\n",
        "                           index=X_test.index)\n",
        "print(\"\\nDataFrame com Componentes Principais (X_test) - Primeiras 5 linhas:\")\n",
        "print(df_test_pca.head())\n"
      ],
      "metadata": {
        "id": "e3j-Wqd_Oyi6"
      },
      "execution_count": null,
      "outputs": []
    },
    {
      "cell_type": "markdown",
      "source": [
        "Entendendo e Analisando os Resultados do PCA\n",
        "\n",
        "Você já tem os principais elementos para começar sua análise:\n",
        "\n",
        "pca.n_components_: O número de componentes principais que foram geradas para explicar 95% da variância. Isso te diz o quanto você conseguiu reduzir a dimensionalidade.\n",
        "explained_variance_ratio: A porcentagem de variância que cada componente principal individualmente explica. Isso é crucial para entender a importância relativa de cada PC.\n",
        "X_train_pca (ou df_pca) e X_test_pca (ou df_test_pca): Seus conjuntos de dados de treino e teste transformados para o novo espaço de componentes principais. Estas são as novas \"features\" que você usará.\n",
        "Gráfico de Dispersão (scatterplot): Se você usou n_components=2, esse gráfico é uma visualização poderosa da estrutura dos seus dados em um espaço reduzido, colorindo-os pelo nível de risco (y_train)."
      ],
      "metadata": {
        "id": "tQ7OTSuTQGOn"
      }
    },
    {
      "cell_type": "markdown",
      "source": [
        "1. Interpretação das Componentes Principais (Cargas/Loadings)\n",
        "\n",
        "Embora seu código não tenha explicitamente mostrado as cargas (coeficientes) das variáveis originais em cada componente, esta é uma das análises mais importantes após o PCA.\n",
        "\n",
        "O que fazer: Acesse pca.components_. Cada linha desta matriz corresponde a uma componente principal, e cada coluna corresponde a uma variável original. Os valores indicam o \"peso\" ou a \"contribuição\" de cada variável original para aquela componente principal.\n",
        "Para que serve: Ao examinar as variáveis com os maiores pesos (positivos ou negativos) em uma componente, você pode tentar nomear ou interpretar o que essa componente representa. Por exemplo, se a PC1 tem altos pesos em \"renda\", \"educação\" e \"bens\", ela pode representar um \"índice de prosperidade econômica\". Isso é fundamental para entender o significado do seu novo espaço de características.\n",
        "\n",
        "\n",
        "2. Reavaliar a Matriz de Correlação (Após o PCA)\n",
        "\n",
        "Você perguntou: \"refazer a matriz de correlação?\". A resposta é sim, mas com um propósito diferente.\n",
        "\n",
        "Matriz de Correlação das Componentes Principais: Por construção, as componentes principais são ortogonais e, portanto, não correlacionadas entre si. Se você calcular a matriz de correlação para df_pca (ou X_train_pca), você verá que os valores fora da diagonal principal serão muito próximos de zero.\n",
        "Para que serve: Isso valida que o PCA fez seu trabalho de remover a redundância e a multicolinearidade entre as features. Não há mais \"informação duplicada\" entre suas novas variáveis. Não é necessário fazer isso para \"resolver\" a multicolinearidade novamente, mas é uma verificação de sanidade.\n",
        "3. Treinamento de Modelos de Machine Learning\n",
        "\n",
        "Este é o principal objetivo de se aplicar o PCA para redução de dimensionalidade.\n",
        "\n",
        "O que fazer: Use df_pca (para treino) e df_test_pca (para teste) como suas novas entradas (X) para qualquer modelo de machine learning (regressão logística, SVM, Random Forest, etc.) que você pretenda construir.\n",
        "Para que serve:\n",
        "Melhora de Desempenho: Modelos podem treinar mais rápido e serem mais robustos, especialmente se suas features originais tinham alta dimensionalidade e/ou multicolinearidade.\n",
        "Redução de Overfitting: Ao usar menos componentes, você pode diminuir o risco de overfitting, pois o modelo tem menos parâmetros para aprender.\n",
        "Eficiência Computacional: Treinar modelos com menos features é inerentemente mais rápido.\n",
        "4. Visualização Aprofundada (se n_components_ > 2)\n",
        "\n",
        "Se você escolheu n_components=0.95 (e, portanto, obteve mais de 2 componentes), a visualização direta fica mais difícil, mas ainda é possível:\n",
        "\n",
        "Gráfico de Scree: Um gráfico de barras que mostra a variância explicada por cada componente em ordem decrescente. Isso ajuda a visualizar o \"cotovelo\" que indica onde a maioria da variância é capturada, justificando a escolha do número de componentes.\n",
        "Análise das Cargas (novamente): Para entender as componentes que não puderam ser visualizadas diretamente, as cargas se tornam ainda mais importantes para a interpretação.\n",
        "5. Avaliação da Perda de Informação\n",
        "\n",
        "Embora o PCA seja ótimo para redução de dimensionalidade, sempre há uma perda de informação quando você não retém 100% da variância.\n",
        "\n",
        "O que fazer: Compare o desempenho dos seus modelos de machine learning usando as features originais vs. as features transformadas pelo PCA.\n",
        "Para que serve: Para garantir que a redução de dimensionalidade não prejudicou a capacidade preditiva do seu modelo de forma significativa. Se o desempenho cair muito, talvez você precise incluir mais componentes (aumentar a porcentagem de variância explicada) ou reconsiderar se o PCA é a melhor abordagem para o seu problema.\n",
        "Conclusão\n",
        "\n",
        "Você está no caminho certo! O PCA é uma ferramenta poderosa para transformar e simplificar seus dados. Seu próximo grande passo é usar essas novas componentes principais para construir e treinar seus modelos de machine learning, além de aprofundar a interpretação do que cada componente realmente significa em termos das suas variáveis originais.\n",
        "\n",
        "Qual o próximo passo que você gostaria de dar? Treinar um modelo, talvez?"
      ],
      "metadata": {
        "id": "nDSgvvE5QVcB"
      }
    },
    {
      "cell_type": "markdown",
      "source": [
        "# Conclusão\n",
        "Responder as 3 questoes:\n",
        "É comprovado cientificamente que a idade da gestacional acima dos 35 anos (35+), por sí só, aumenta o risco gestacional.\n",
        "\n",
        "Qual o percentual deste grupo de risco na amostra avaliada?\n",
        "\n",
        "Qual a classificação de risco do grupo 35+ em relação ao restantes dos dados?\n",
        "\n",
        "Qual a correlação entre a idade materna 35+ e o risco gestacional?"
      ],
      "metadata": {
        "id": "OY_GDjf1G-PM"
      }
    }
  ]
}