{
  "nbformat": 4,
  "nbformat_minor": 0,
  "metadata": {
    "colab": {
      "provenance": [],
      "include_colab_link": true
    },
    "kernelspec": {
      "name": "python3",
      "display_name": "Python 3"
    },
    "language_info": {
      "name": "python"
    }
  },
  "cells": [
    {
      "cell_type": "markdown",
      "metadata": {
        "id": "view-in-github",
        "colab_type": "text"
      },
      "source": [
        "<a href=\"https://colab.research.google.com/github/AlineFiori/MVP/blob/main/Template_An%C3%A1lise_de_Dados_Pregnancy.ipynb\" target=\"_parent\"><img src=\"https://colab.research.google.com/assets/colab-badge.svg\" alt=\"Open In Colab\"/></a>"
      ]
    },
    {
      "cell_type": "markdown",
      "source": [
        "# MVP Análise de Dados e Boas Práticas\n",
        "\n",
        "**Nome:** Aline Fiori Gonçalves\n",
        "\n",
        "**Matrícula:** 4052025000106\n",
        "\n",
        "**Dataset:** [Pregnancy](https://www.kaggle.com/datasets/csafrit2/maternal-health-risk-data?resource=download)"
      ],
      "metadata": {
        "id": "cmYX3PLx58Jg"
      }
    },
    {
      "cell_type": "markdown",
      "source": [
        "# 1. Descrição do Problema\n",
        "\n",
        "O conjunto de dados 'Pregnancy' foi compilado com o objetivo de identificar características de saúde em mulheres gestantes que possam indicar risco à gestação. Nele, é possível analisar aspectos cruciais como idade gestacional, pressão arterial, glicemia, frequência cardíaca e a classificação de risco gestacional associada, entre outros."
      ],
      "metadata": {
        "id": "YW_JS-EEBFaR"
      }
    },
    {
      "cell_type": "markdown",
      "source": [
        "## 1.1 Hipóteses do Problema\n",
        "\n",
        "Em relação a idade gestacional 35+ (de 35 anos para cima):\n",
        "\n",
        "- Qual o percentual deste grupo de risco na amostra avaliada?\n",
        "\n",
        "- Qual a classificação de risco do grupo 35+ em relação ao restantes dos dados?\n",
        "\n",
        "- Qual a correlação entre a idade materna 35+ e o risco gestacional?"
      ],
      "metadata": {
        "id": "Gm6mOo5PBYwr"
      }
    },
    {
      "cell_type": "markdown",
      "source": [
        "## 1.2 Tipo de Problema\n",
        "\n",
        "Este é um problema de **classificação supervisionada**. Dado um conjunto de características (idade gestacional, pressáo arterial, glicemia e frequencia cardiaca), o objetivo é prever a qual o risco gestacional."
      ],
      "metadata": {
        "id": "x1zNNZt6BfdF"
      }
    },
    {
      "cell_type": "markdown",
      "source": [
        "## 1.3 Atributos do Dataset\n",
        "\n",
        "O dataset Pregnancy contém 1.014 amostras, 07 colunas, e 03 classificações diferentes de risco gestacional.\n",
        "\n",
        "Possui cinco atributos:\n",
        "\n",
        "- ***Age*** (idade em anos da gestante)\n",
        "- ***SystolicBP*** (valor máximo da pressão arterial em mmHg)\n",
        "- ***DiastolicBP*** (valor mínimo da pressão arterial em mmHg)\n",
        "- ***BS (Blood Glicose)*** (níveis de glicose no sangue em termos de concentração molar, mmol/L)\n",
        "- ***BodyTemp*** (temperatura corporal em Fahrenheit)\n",
        "- ***HeartRate*** (frequência cardíaca normal em repouso, em batimentos por minuto)\n",
        "- ***Risk Level*** (nível de intensidade de risco previsto durante a gravidez)"
      ],
      "metadata": {
        "id": "FC6QJHhWBnzH"
      }
    },
    {
      "cell_type": "markdown",
      "source": [
        "## 1.4 Seleção de Dados\n",
        "\n",
        "Para responder um dos questionamentos levantados na hipotese do problema, será necessario criar uma coluna no dataset Pregnancy classificando a idade gestacional em \"35+\"."
      ],
      "metadata": {
        "id": "N91bTLbiBxrm"
      }
    },
    {
      "cell_type": "markdown",
      "source": [
        "# 2. Importação das Bibliotecas\n",
        "Esta seção consolida todas as importações de bibliotecas necessárias para a análise, visualização e pré-processamento dos dados."
      ],
      "metadata": {
        "id": "DObGnkf0bJBh"
      }
    },
    {
      "cell_type": "code",
      "source": [
        "# Importar bibliotecas\n",
        "import pandas as pd #manipulação e análise de dados\n",
        "import numpy as np #computação numérica e científica em Python\n",
        "import matplotlib.pyplot as plt #plotagem e visualização de dados\n",
        "import seaborn as sns #visualização de dados científicos\n",
        "from sklearn.model_selection import train_test_split #utilizado na valiação de modelos de Machine Learning, divide o dataset em treino e teste\n",
        "from sklearn.preprocessing import MinMaxScaler #para escalonamento de dados (normalização)\n",
        "from sklearn.preprocessing import StandardScaler #para padronizacao de dados (média de 0 e desvio padrão de 1)\n",
        "from sklearn.decomposition import PCA #explicar"
      ],
      "metadata": {
        "id": "tCohWn2jbkDB"
      },
      "execution_count": 1,
      "outputs": []
    },
    {
      "cell_type": "markdown",
      "source": [
        "# 3. Importação do Dataset\n",
        "\n",
        "Esta seção consolida todas as etapas de carregamento inicial do dataset Pregnancy."
      ],
      "metadata": {
        "id": "Cb0ZpQxB1HGu"
      }
    },
    {
      "cell_type": "code",
      "source": [
        "# 1. Link do GitHub em que o dataset 'Pregnancy' está salvo\n",
        "url_github = 'https://github.com/AlineFiori/MVP/raw/refs/heads/main/Maternal%20Health%20Risk%20Data%20Set.csv.xls'"
      ],
      "metadata": {
        "id": "p3DuPNtm6Bam"
      },
      "execution_count": 2,
      "outputs": []
    },
    {
      "cell_type": "code",
      "source": [
        "# 2. Carregar os dados da url para um data frame pandas\n",
        "Dataset = pd.read_csv(url_github)"
      ],
      "metadata": {
        "id": "QYfROr5-9AvT"
      },
      "execution_count": 3,
      "outputs": []
    },
    {
      "cell_type": "code",
      "source": [
        "# 3. Primeiras linhas\n",
        "Dataset.head()"
      ],
      "metadata": {
        "colab": {
          "base_uri": "https://localhost:8080/",
          "height": 204
        },
        "id": "AKb_BDQ6E6sR",
        "outputId": "d02b17e2-4f00-4159-ac18-f01b84eb6371"
      },
      "execution_count": 4,
      "outputs": [
        {
          "output_type": "execute_result",
          "data": {
            "text/plain": [
              "   Age  SystolicBP  DiastolicBP    BS  BodyTemp  HeartRate  RiskLevel\n",
              "0   25         130           80  15.0      98.0         86  high risk\n",
              "1   35         140           90  13.0      98.0         70  high risk\n",
              "2   29          90           70   8.0     100.0         80  high risk\n",
              "3   30         140           85   7.0      98.0         70  high risk\n",
              "4   35         120           60   6.1      98.0         76   low risk"
            ],
            "text/html": [
              "\n",
              "  <div id=\"df-ae944db7-18ed-4b00-b1fa-86883dd0c4d1\" class=\"colab-df-container\">\n",
              "    <div>\n",
              "<style scoped>\n",
              "    .dataframe tbody tr th:only-of-type {\n",
              "        vertical-align: middle;\n",
              "    }\n",
              "\n",
              "    .dataframe tbody tr th {\n",
              "        vertical-align: top;\n",
              "    }\n",
              "\n",
              "    .dataframe thead th {\n",
              "        text-align: right;\n",
              "    }\n",
              "</style>\n",
              "<table border=\"1\" class=\"dataframe\">\n",
              "  <thead>\n",
              "    <tr style=\"text-align: right;\">\n",
              "      <th></th>\n",
              "      <th>Age</th>\n",
              "      <th>SystolicBP</th>\n",
              "      <th>DiastolicBP</th>\n",
              "      <th>BS</th>\n",
              "      <th>BodyTemp</th>\n",
              "      <th>HeartRate</th>\n",
              "      <th>RiskLevel</th>\n",
              "    </tr>\n",
              "  </thead>\n",
              "  <tbody>\n",
              "    <tr>\n",
              "      <th>0</th>\n",
              "      <td>25</td>\n",
              "      <td>130</td>\n",
              "      <td>80</td>\n",
              "      <td>15.0</td>\n",
              "      <td>98.0</td>\n",
              "      <td>86</td>\n",
              "      <td>high risk</td>\n",
              "    </tr>\n",
              "    <tr>\n",
              "      <th>1</th>\n",
              "      <td>35</td>\n",
              "      <td>140</td>\n",
              "      <td>90</td>\n",
              "      <td>13.0</td>\n",
              "      <td>98.0</td>\n",
              "      <td>70</td>\n",
              "      <td>high risk</td>\n",
              "    </tr>\n",
              "    <tr>\n",
              "      <th>2</th>\n",
              "      <td>29</td>\n",
              "      <td>90</td>\n",
              "      <td>70</td>\n",
              "      <td>8.0</td>\n",
              "      <td>100.0</td>\n",
              "      <td>80</td>\n",
              "      <td>high risk</td>\n",
              "    </tr>\n",
              "    <tr>\n",
              "      <th>3</th>\n",
              "      <td>30</td>\n",
              "      <td>140</td>\n",
              "      <td>85</td>\n",
              "      <td>7.0</td>\n",
              "      <td>98.0</td>\n",
              "      <td>70</td>\n",
              "      <td>high risk</td>\n",
              "    </tr>\n",
              "    <tr>\n",
              "      <th>4</th>\n",
              "      <td>35</td>\n",
              "      <td>120</td>\n",
              "      <td>60</td>\n",
              "      <td>6.1</td>\n",
              "      <td>98.0</td>\n",
              "      <td>76</td>\n",
              "      <td>low risk</td>\n",
              "    </tr>\n",
              "  </tbody>\n",
              "</table>\n",
              "</div>\n",
              "    <div class=\"colab-df-buttons\">\n",
              "\n",
              "  <div class=\"colab-df-container\">\n",
              "    <button class=\"colab-df-convert\" onclick=\"convertToInteractive('df-ae944db7-18ed-4b00-b1fa-86883dd0c4d1')\"\n",
              "            title=\"Convert this dataframe to an interactive table.\"\n",
              "            style=\"display:none;\">\n",
              "\n",
              "  <svg xmlns=\"http://www.w3.org/2000/svg\" height=\"24px\" viewBox=\"0 -960 960 960\">\n",
              "    <path d=\"M120-120v-720h720v720H120Zm60-500h600v-160H180v160Zm220 220h160v-160H400v160Zm0 220h160v-160H400v160ZM180-400h160v-160H180v160Zm440 0h160v-160H620v160ZM180-180h160v-160H180v160Zm440 0h160v-160H620v160Z\"/>\n",
              "  </svg>\n",
              "    </button>\n",
              "\n",
              "  <style>\n",
              "    .colab-df-container {\n",
              "      display:flex;\n",
              "      gap: 12px;\n",
              "    }\n",
              "\n",
              "    .colab-df-convert {\n",
              "      background-color: #E8F0FE;\n",
              "      border: none;\n",
              "      border-radius: 50%;\n",
              "      cursor: pointer;\n",
              "      display: none;\n",
              "      fill: #1967D2;\n",
              "      height: 32px;\n",
              "      padding: 0 0 0 0;\n",
              "      width: 32px;\n",
              "    }\n",
              "\n",
              "    .colab-df-convert:hover {\n",
              "      background-color: #E2EBFA;\n",
              "      box-shadow: 0px 1px 2px rgba(60, 64, 67, 0.3), 0px 1px 3px 1px rgba(60, 64, 67, 0.15);\n",
              "      fill: #174EA6;\n",
              "    }\n",
              "\n",
              "    .colab-df-buttons div {\n",
              "      margin-bottom: 4px;\n",
              "    }\n",
              "\n",
              "    [theme=dark] .colab-df-convert {\n",
              "      background-color: #3B4455;\n",
              "      fill: #D2E3FC;\n",
              "    }\n",
              "\n",
              "    [theme=dark] .colab-df-convert:hover {\n",
              "      background-color: #434B5C;\n",
              "      box-shadow: 0px 1px 3px 1px rgba(0, 0, 0, 0.15);\n",
              "      filter: drop-shadow(0px 1px 2px rgba(0, 0, 0, 0.3));\n",
              "      fill: #FFFFFF;\n",
              "    }\n",
              "  </style>\n",
              "\n",
              "    <script>\n",
              "      const buttonEl =\n",
              "        document.querySelector('#df-ae944db7-18ed-4b00-b1fa-86883dd0c4d1 button.colab-df-convert');\n",
              "      buttonEl.style.display =\n",
              "        google.colab.kernel.accessAllowed ? 'block' : 'none';\n",
              "\n",
              "      async function convertToInteractive(key) {\n",
              "        const element = document.querySelector('#df-ae944db7-18ed-4b00-b1fa-86883dd0c4d1');\n",
              "        const dataTable =\n",
              "          await google.colab.kernel.invokeFunction('convertToInteractive',\n",
              "                                                    [key], {});\n",
              "        if (!dataTable) return;\n",
              "\n",
              "        const docLinkHtml = 'Like what you see? Visit the ' +\n",
              "          '<a target=\"_blank\" href=https://colab.research.google.com/notebooks/data_table.ipynb>data table notebook</a>'\n",
              "          + ' to learn more about interactive tables.';\n",
              "        element.innerHTML = '';\n",
              "        dataTable['output_type'] = 'display_data';\n",
              "        await google.colab.output.renderOutput(dataTable, element);\n",
              "        const docLink = document.createElement('div');\n",
              "        docLink.innerHTML = docLinkHtml;\n",
              "        element.appendChild(docLink);\n",
              "      }\n",
              "    </script>\n",
              "  </div>\n",
              "\n",
              "\n",
              "    <div id=\"df-b28d86cd-7e1e-40cc-ae4a-09e0f0960616\">\n",
              "      <button class=\"colab-df-quickchart\" onclick=\"quickchart('df-b28d86cd-7e1e-40cc-ae4a-09e0f0960616')\"\n",
              "                title=\"Suggest charts\"\n",
              "                style=\"display:none;\">\n",
              "\n",
              "<svg xmlns=\"http://www.w3.org/2000/svg\" height=\"24px\"viewBox=\"0 0 24 24\"\n",
              "     width=\"24px\">\n",
              "    <g>\n",
              "        <path d=\"M19 3H5c-1.1 0-2 .9-2 2v14c0 1.1.9 2 2 2h14c1.1 0 2-.9 2-2V5c0-1.1-.9-2-2-2zM9 17H7v-7h2v7zm4 0h-2V7h2v10zm4 0h-2v-4h2v4z\"/>\n",
              "    </g>\n",
              "</svg>\n",
              "      </button>\n",
              "\n",
              "<style>\n",
              "  .colab-df-quickchart {\n",
              "      --bg-color: #E8F0FE;\n",
              "      --fill-color: #1967D2;\n",
              "      --hover-bg-color: #E2EBFA;\n",
              "      --hover-fill-color: #174EA6;\n",
              "      --disabled-fill-color: #AAA;\n",
              "      --disabled-bg-color: #DDD;\n",
              "  }\n",
              "\n",
              "  [theme=dark] .colab-df-quickchart {\n",
              "      --bg-color: #3B4455;\n",
              "      --fill-color: #D2E3FC;\n",
              "      --hover-bg-color: #434B5C;\n",
              "      --hover-fill-color: #FFFFFF;\n",
              "      --disabled-bg-color: #3B4455;\n",
              "      --disabled-fill-color: #666;\n",
              "  }\n",
              "\n",
              "  .colab-df-quickchart {\n",
              "    background-color: var(--bg-color);\n",
              "    border: none;\n",
              "    border-radius: 50%;\n",
              "    cursor: pointer;\n",
              "    display: none;\n",
              "    fill: var(--fill-color);\n",
              "    height: 32px;\n",
              "    padding: 0;\n",
              "    width: 32px;\n",
              "  }\n",
              "\n",
              "  .colab-df-quickchart:hover {\n",
              "    background-color: var(--hover-bg-color);\n",
              "    box-shadow: 0 1px 2px rgba(60, 64, 67, 0.3), 0 1px 3px 1px rgba(60, 64, 67, 0.15);\n",
              "    fill: var(--button-hover-fill-color);\n",
              "  }\n",
              "\n",
              "  .colab-df-quickchart-complete:disabled,\n",
              "  .colab-df-quickchart-complete:disabled:hover {\n",
              "    background-color: var(--disabled-bg-color);\n",
              "    fill: var(--disabled-fill-color);\n",
              "    box-shadow: none;\n",
              "  }\n",
              "\n",
              "  .colab-df-spinner {\n",
              "    border: 2px solid var(--fill-color);\n",
              "    border-color: transparent;\n",
              "    border-bottom-color: var(--fill-color);\n",
              "    animation:\n",
              "      spin 1s steps(1) infinite;\n",
              "  }\n",
              "\n",
              "  @keyframes spin {\n",
              "    0% {\n",
              "      border-color: transparent;\n",
              "      border-bottom-color: var(--fill-color);\n",
              "      border-left-color: var(--fill-color);\n",
              "    }\n",
              "    20% {\n",
              "      border-color: transparent;\n",
              "      border-left-color: var(--fill-color);\n",
              "      border-top-color: var(--fill-color);\n",
              "    }\n",
              "    30% {\n",
              "      border-color: transparent;\n",
              "      border-left-color: var(--fill-color);\n",
              "      border-top-color: var(--fill-color);\n",
              "      border-right-color: var(--fill-color);\n",
              "    }\n",
              "    40% {\n",
              "      border-color: transparent;\n",
              "      border-right-color: var(--fill-color);\n",
              "      border-top-color: var(--fill-color);\n",
              "    }\n",
              "    60% {\n",
              "      border-color: transparent;\n",
              "      border-right-color: var(--fill-color);\n",
              "    }\n",
              "    80% {\n",
              "      border-color: transparent;\n",
              "      border-right-color: var(--fill-color);\n",
              "      border-bottom-color: var(--fill-color);\n",
              "    }\n",
              "    90% {\n",
              "      border-color: transparent;\n",
              "      border-bottom-color: var(--fill-color);\n",
              "    }\n",
              "  }\n",
              "</style>\n",
              "\n",
              "      <script>\n",
              "        async function quickchart(key) {\n",
              "          const quickchartButtonEl =\n",
              "            document.querySelector('#' + key + ' button');\n",
              "          quickchartButtonEl.disabled = true;  // To prevent multiple clicks.\n",
              "          quickchartButtonEl.classList.add('colab-df-spinner');\n",
              "          try {\n",
              "            const charts = await google.colab.kernel.invokeFunction(\n",
              "                'suggestCharts', [key], {});\n",
              "          } catch (error) {\n",
              "            console.error('Error during call to suggestCharts:', error);\n",
              "          }\n",
              "          quickchartButtonEl.classList.remove('colab-df-spinner');\n",
              "          quickchartButtonEl.classList.add('colab-df-quickchart-complete');\n",
              "        }\n",
              "        (() => {\n",
              "          let quickchartButtonEl =\n",
              "            document.querySelector('#df-b28d86cd-7e1e-40cc-ae4a-09e0f0960616 button');\n",
              "          quickchartButtonEl.style.display =\n",
              "            google.colab.kernel.accessAllowed ? 'block' : 'none';\n",
              "        })();\n",
              "      </script>\n",
              "    </div>\n",
              "\n",
              "    </div>\n",
              "  </div>\n"
            ],
            "application/vnd.google.colaboratory.intrinsic+json": {
              "type": "dataframe",
              "variable_name": "Dataset",
              "summary": "{\n  \"name\": \"Dataset\",\n  \"rows\": 1014,\n  \"fields\": [\n    {\n      \"column\": \"Age\",\n      \"properties\": {\n        \"dtype\": \"number\",\n        \"std\": 13,\n        \"min\": 10,\n        \"max\": 70,\n        \"num_unique_values\": 50,\n        \"samples\": [\n          40,\n          43,\n          13\n        ],\n        \"semantic_type\": \"\",\n        \"description\": \"\"\n      }\n    },\n    {\n      \"column\": \"SystolicBP\",\n      \"properties\": {\n        \"dtype\": \"number\",\n        \"std\": 18,\n        \"min\": 70,\n        \"max\": 160,\n        \"num_unique_values\": 19,\n        \"samples\": [\n          130,\n          110,\n          80\n        ],\n        \"semantic_type\": \"\",\n        \"description\": \"\"\n      }\n    },\n    {\n      \"column\": \"DiastolicBP\",\n      \"properties\": {\n        \"dtype\": \"number\",\n        \"std\": 13,\n        \"min\": 49,\n        \"max\": 100,\n        \"num_unique_values\": 16,\n        \"samples\": [\n          80,\n          90,\n          89\n        ],\n        \"semantic_type\": \"\",\n        \"description\": \"\"\n      }\n    },\n    {\n      \"column\": \"BS\",\n      \"properties\": {\n        \"dtype\": \"number\",\n        \"std\": 3.293531721151271,\n        \"min\": 6.0,\n        \"max\": 19.0,\n        \"num_unique_values\": 29,\n        \"samples\": [\n          6.5,\n          7.7,\n          7.1\n        ],\n        \"semantic_type\": \"\",\n        \"description\": \"\"\n      }\n    },\n    {\n      \"column\": \"BodyTemp\",\n      \"properties\": {\n        \"dtype\": \"number\",\n        \"std\": 1.3713843755995325,\n        \"min\": 98.0,\n        \"max\": 103.0,\n        \"num_unique_values\": 8,\n        \"samples\": [\n          100.0,\n          98.4,\n          98.0\n        ],\n        \"semantic_type\": \"\",\n        \"description\": \"\"\n      }\n    },\n    {\n      \"column\": \"HeartRate\",\n      \"properties\": {\n        \"dtype\": \"number\",\n        \"std\": 8,\n        \"min\": 7,\n        \"max\": 90,\n        \"num_unique_values\": 16,\n        \"samples\": [\n          86,\n          70,\n          77\n        ],\n        \"semantic_type\": \"\",\n        \"description\": \"\"\n      }\n    },\n    {\n      \"column\": \"RiskLevel\",\n      \"properties\": {\n        \"dtype\": \"category\",\n        \"num_unique_values\": 3,\n        \"samples\": [\n          \"high risk\",\n          \"low risk\",\n          \"mid risk\"\n        ],\n        \"semantic_type\": \"\",\n        \"description\": \"\"\n      }\n    }\n  ]\n}"
            }
          },
          "metadata": {},
          "execution_count": 4
        }
      ]
    },
    {
      "cell_type": "markdown",
      "source": [
        "# 4. Análise Exploratória de Dados\n",
        "\n",
        "O objetivo desta etapa é entender a estrutura do dataset, identificar padrões, entender as características das variáveis, o que é crucial para as etapas subsequentes de pré-processamento e modelagem."
      ],
      "metadata": {
        "id": "XcHpQ9s_B4n1"
      }
    },
    {
      "cell_type": "markdown",
      "source": [
        "## 4.1 Estrutura do Dataset"
      ],
      "metadata": {
        "id": "v9HJ3fPH4Fzz"
      }
    },
    {
      "cell_type": "code",
      "source": [
        "# 1. Renomear colunas para facilitar o uso\n",
        "colunas_para_renomear = {\n",
        "    'Age': 'Idade',\n",
        "    'SystolicBP': 'Pressao_Sistolica',\n",
        "    'DiastolicBP': 'Pressao_Diastolica',\n",
        "    'BS': 'Nivel_Glicose',\n",
        "    'BodyTemp': 'Temperatura_Corporal',\n",
        "    'HeartRate': 'Frequencia_Cardiaca',\n",
        "    'RiskLevel': 'Nivel_Risco'}\n",
        "\n",
        "\n",
        "Dataset = Dataset.rename(columns=colunas_para_renomear)\n",
        "\n",
        "print(\"\\nBase com colunas renomeadas - Primeiras 5 linhas:\")\n",
        "print(Dataset.head())"
      ],
      "metadata": {
        "id": "cvcLmjzHND3T",
        "outputId": "e44a3e73-8a5e-4b85-c111-1839c62e1d6d",
        "colab": {
          "base_uri": "https://localhost:8080/"
        }
      },
      "execution_count": 5,
      "outputs": [
        {
          "output_type": "stream",
          "name": "stdout",
          "text": [
            "\n",
            "Base comcolunas renomeadas - Primeiras 5 linhas:\n",
            "   Idade  Pressao_Sistolica  Pressao_Diastolica  Nivel_Glicose  \\\n",
            "0     25                130                  80           15.0   \n",
            "1     35                140                  90           13.0   \n",
            "2     29                 90                  70            8.0   \n",
            "3     30                140                  85            7.0   \n",
            "4     35                120                  60            6.1   \n",
            "\n",
            "   Temperatura_Corporal  Frequencia_Cardiaca Nivel_Risco  \n",
            "0                  98.0                   86   high risk  \n",
            "1                  98.0                   70   high risk  \n",
            "2                 100.0                   80   high risk  \n",
            "3                  98.0                   70   high risk  \n",
            "4                  98.0                   76    low risk  \n"
          ]
        }
      ]
    },
    {
      "cell_type": "code",
      "source": [
        "# 2. Criar nova coluna 'Idade_35+' para classificar a idade gestacional\n",
        "# np.where(condição, valor_se_verdadeiro, valor_se_falso)\n",
        "Dataset['Idade_35+'] = np.where(Dataset['Idade'] >= 35, 1, 0) # 1 para >=35 anos, 0 para <35 anos\n",
        "\n",
        "print(\"\\nBase com nova coluna - Primeiras 5 linhas:\")\n",
        "print(Dataset.head())"
      ],
      "metadata": {
        "colab": {
          "base_uri": "https://localhost:8080/"
        },
        "id": "tWVOucMYa-li",
        "outputId": "03afb480-b90b-4a78-9d3b-26cdc324748c"
      },
      "execution_count": 9,
      "outputs": [
        {
          "output_type": "stream",
          "name": "stdout",
          "text": [
            "\n",
            "Base com nova coluna - Primeiras 5 linhas:\n",
            "   Idade  Pressao_Sistolica  Pressao_Diastolica  Nivel_Glicose  \\\n",
            "0     25                130                  80           15.0   \n",
            "1     35                140                  90           13.0   \n",
            "2     29                 90                  70            8.0   \n",
            "3     30                140                  85            7.0   \n",
            "4     35                120                  60            6.1   \n",
            "\n",
            "   Temperatura_Corporal  Frequencia_Cardiaca Nivel_Risco  Idade_35+  \n",
            "0                  98.0                   86   high risk          0  \n",
            "1                  98.0                   70   high risk          1  \n",
            "2                 100.0                   80   high risk          0  \n",
            "3                  98.0                   70   high risk          0  \n",
            "4                  98.0                   76    low risk          1  \n"
          ]
        }
      ]
    },
    {
      "cell_type": "code",
      "source": [
        "print(\"\\n--- Valores únicos na coluna 'Nivel_Risco': ---\")\n",
        "# Isso retorna um array com todos os valores distintos (sem duplicatas)\n",
        "print(Dataset['Nivel_Risco'].unique())"
      ],
      "metadata": {
        "id": "GMWJLR0P4IuO",
        "outputId": "e44a0a29-16a9-4718-d5f4-5befe4a68ed6",
        "colab": {
          "base_uri": "https://localhost:8080/",
          "height": 571
        }
      },
      "execution_count": 68,
      "outputs": [
        {
          "output_type": "stream",
          "name": "stdout",
          "text": [
            "\n",
            "--- Valores únicos na coluna 'Nivel_Risco': ---\n"
          ]
        },
        {
          "output_type": "error",
          "ename": "KeyError",
          "evalue": "'Nivel_Risco'",
          "traceback": [
            "\u001b[0;31m---------------------------------------------------------------------------\u001b[0m",
            "\u001b[0;31mKeyError\u001b[0m                                  Traceback (most recent call last)",
            "\u001b[0;32m/usr/local/lib/python3.11/dist-packages/pandas/core/indexes/base.py\u001b[0m in \u001b[0;36mget_loc\u001b[0;34m(self, key)\u001b[0m\n\u001b[1;32m   3804\u001b[0m         \u001b[0;32mtry\u001b[0m\u001b[0;34m:\u001b[0m\u001b[0;34m\u001b[0m\u001b[0;34m\u001b[0m\u001b[0m\n\u001b[0;32m-> 3805\u001b[0;31m             \u001b[0;32mreturn\u001b[0m \u001b[0mself\u001b[0m\u001b[0;34m.\u001b[0m\u001b[0m_engine\u001b[0m\u001b[0;34m.\u001b[0m\u001b[0mget_loc\u001b[0m\u001b[0;34m(\u001b[0m\u001b[0mcasted_key\u001b[0m\u001b[0;34m)\u001b[0m\u001b[0;34m\u001b[0m\u001b[0;34m\u001b[0m\u001b[0m\n\u001b[0m\u001b[1;32m   3806\u001b[0m         \u001b[0;32mexcept\u001b[0m \u001b[0mKeyError\u001b[0m \u001b[0;32mas\u001b[0m \u001b[0merr\u001b[0m\u001b[0;34m:\u001b[0m\u001b[0;34m\u001b[0m\u001b[0;34m\u001b[0m\u001b[0m\n",
            "\u001b[0;32mindex.pyx\u001b[0m in \u001b[0;36mpandas._libs.index.IndexEngine.get_loc\u001b[0;34m()\u001b[0m\n",
            "\u001b[0;32mindex.pyx\u001b[0m in \u001b[0;36mpandas._libs.index.IndexEngine.get_loc\u001b[0;34m()\u001b[0m\n",
            "\u001b[0;32mpandas/_libs/hashtable_class_helper.pxi\u001b[0m in \u001b[0;36mpandas._libs.hashtable.PyObjectHashTable.get_item\u001b[0;34m()\u001b[0m\n",
            "\u001b[0;32mpandas/_libs/hashtable_class_helper.pxi\u001b[0m in \u001b[0;36mpandas._libs.hashtable.PyObjectHashTable.get_item\u001b[0;34m()\u001b[0m\n",
            "\u001b[0;31mKeyError\u001b[0m: 'Nivel_Risco'",
            "\nThe above exception was the direct cause of the following exception:\n",
            "\u001b[0;31mKeyError\u001b[0m                                  Traceback (most recent call last)",
            "\u001b[0;32m/tmp/ipython-input-68-1621928906.py\u001b[0m in \u001b[0;36m<cell line: 0>\u001b[0;34m()\u001b[0m\n\u001b[1;32m      1\u001b[0m \u001b[0mprint\u001b[0m\u001b[0;34m(\u001b[0m\u001b[0;34m\"\\n--- Valores únicos na coluna 'Nivel_Risco': ---\"\u001b[0m\u001b[0;34m)\u001b[0m\u001b[0;34m\u001b[0m\u001b[0;34m\u001b[0m\u001b[0m\n\u001b[1;32m      2\u001b[0m \u001b[0;31m# Isso retorna um array com todos os valores distintos (sem duplicatas)\u001b[0m\u001b[0;34m\u001b[0m\u001b[0;34m\u001b[0m\u001b[0m\n\u001b[0;32m----> 3\u001b[0;31m \u001b[0mprint\u001b[0m\u001b[0;34m(\u001b[0m\u001b[0mDataset\u001b[0m\u001b[0;34m[\u001b[0m\u001b[0;34m'Nivel_Risco'\u001b[0m\u001b[0;34m]\u001b[0m\u001b[0;34m.\u001b[0m\u001b[0munique\u001b[0m\u001b[0;34m(\u001b[0m\u001b[0;34m)\u001b[0m\u001b[0;34m)\u001b[0m\u001b[0;34m\u001b[0m\u001b[0;34m\u001b[0m\u001b[0m\n\u001b[0m",
            "\u001b[0;32m/usr/local/lib/python3.11/dist-packages/pandas/core/frame.py\u001b[0m in \u001b[0;36m__getitem__\u001b[0;34m(self, key)\u001b[0m\n\u001b[1;32m   4100\u001b[0m             \u001b[0;32mif\u001b[0m \u001b[0mself\u001b[0m\u001b[0;34m.\u001b[0m\u001b[0mcolumns\u001b[0m\u001b[0;34m.\u001b[0m\u001b[0mnlevels\u001b[0m \u001b[0;34m>\u001b[0m \u001b[0;36m1\u001b[0m\u001b[0;34m:\u001b[0m\u001b[0;34m\u001b[0m\u001b[0;34m\u001b[0m\u001b[0m\n\u001b[1;32m   4101\u001b[0m                 \u001b[0;32mreturn\u001b[0m \u001b[0mself\u001b[0m\u001b[0;34m.\u001b[0m\u001b[0m_getitem_multilevel\u001b[0m\u001b[0;34m(\u001b[0m\u001b[0mkey\u001b[0m\u001b[0;34m)\u001b[0m\u001b[0;34m\u001b[0m\u001b[0;34m\u001b[0m\u001b[0m\n\u001b[0;32m-> 4102\u001b[0;31m             \u001b[0mindexer\u001b[0m \u001b[0;34m=\u001b[0m \u001b[0mself\u001b[0m\u001b[0;34m.\u001b[0m\u001b[0mcolumns\u001b[0m\u001b[0;34m.\u001b[0m\u001b[0mget_loc\u001b[0m\u001b[0;34m(\u001b[0m\u001b[0mkey\u001b[0m\u001b[0;34m)\u001b[0m\u001b[0;34m\u001b[0m\u001b[0;34m\u001b[0m\u001b[0m\n\u001b[0m\u001b[1;32m   4103\u001b[0m             \u001b[0;32mif\u001b[0m \u001b[0mis_integer\u001b[0m\u001b[0;34m(\u001b[0m\u001b[0mindexer\u001b[0m\u001b[0;34m)\u001b[0m\u001b[0;34m:\u001b[0m\u001b[0;34m\u001b[0m\u001b[0;34m\u001b[0m\u001b[0m\n\u001b[1;32m   4104\u001b[0m                 \u001b[0mindexer\u001b[0m \u001b[0;34m=\u001b[0m \u001b[0;34m[\u001b[0m\u001b[0mindexer\u001b[0m\u001b[0;34m]\u001b[0m\u001b[0;34m\u001b[0m\u001b[0;34m\u001b[0m\u001b[0m\n",
            "\u001b[0;32m/usr/local/lib/python3.11/dist-packages/pandas/core/indexes/base.py\u001b[0m in \u001b[0;36mget_loc\u001b[0;34m(self, key)\u001b[0m\n\u001b[1;32m   3810\u001b[0m             ):\n\u001b[1;32m   3811\u001b[0m                 \u001b[0;32mraise\u001b[0m \u001b[0mInvalidIndexError\u001b[0m\u001b[0;34m(\u001b[0m\u001b[0mkey\u001b[0m\u001b[0;34m)\u001b[0m\u001b[0;34m\u001b[0m\u001b[0;34m\u001b[0m\u001b[0m\n\u001b[0;32m-> 3812\u001b[0;31m             \u001b[0;32mraise\u001b[0m \u001b[0mKeyError\u001b[0m\u001b[0;34m(\u001b[0m\u001b[0mkey\u001b[0m\u001b[0;34m)\u001b[0m \u001b[0;32mfrom\u001b[0m \u001b[0merr\u001b[0m\u001b[0;34m\u001b[0m\u001b[0;34m\u001b[0m\u001b[0m\n\u001b[0m\u001b[1;32m   3813\u001b[0m         \u001b[0;32mexcept\u001b[0m \u001b[0mTypeError\u001b[0m\u001b[0;34m:\u001b[0m\u001b[0;34m\u001b[0m\u001b[0;34m\u001b[0m\u001b[0m\n\u001b[1;32m   3814\u001b[0m             \u001b[0;31m# If we have a listlike key, _check_indexing_error will raise\u001b[0m\u001b[0;34m\u001b[0m\u001b[0;34m\u001b[0m\u001b[0m\n",
            "\u001b[0;31mKeyError\u001b[0m: 'Nivel_Risco'"
          ]
        }
      ]
    },
    {
      "cell_type": "code",
      "source": [
        "# 3. Criar nova coluna 'Nivel_Risco_Numerico' para classificar o nível de risco\n",
        "\n",
        "def mapear_nivel_risco_para_numerico(row):\n",
        "    if row['Nivel_Risco'] == 'high risk':\n",
        "        return 0\n",
        "    elif row['Nivel_Risco'] == 'mid risk':\n",
        "        return 1\n",
        "    elif row['Nivel_Risco'] == 'low risk': # Correção da sintaxe aqui\n",
        "        return 2\n",
        "    else: # Para qualquer outro valor inesperado\n",
        "        return np.nan # Retorna Not a Number para valores não mapeados\n",
        "\n",
        "# Aplicar a função ao DataFrame e atribuir à nova coluna 'Nivel_Risco_Numerico'\n",
        "Dataset['Nivel_Risco_Numerico'] = Dataset.apply(mapear_nivel_risco_para_numerico, axis=1)\n",
        "\n",
        "print(\"\\nBase com nova coluna - Primeiras 5 linhas:\")\n",
        "print(Dataset.head())"
      ],
      "metadata": {
        "colab": {
          "base_uri": "https://localhost:8080/",
          "height": 537
        },
        "id": "OykOYNM6yvob",
        "outputId": "37f83d26-547b-4184-9d87-6764cdff41d6"
      },
      "execution_count": 66,
      "outputs": [
        {
          "output_type": "error",
          "ename": "KeyError",
          "evalue": "'Nivel_Risco'",
          "traceback": [
            "\u001b[0;31m---------------------------------------------------------------------------\u001b[0m",
            "\u001b[0;31mKeyError\u001b[0m                                  Traceback (most recent call last)",
            "\u001b[0;32m/usr/local/lib/python3.11/dist-packages/pandas/core/indexes/base.py\u001b[0m in \u001b[0;36mget_loc\u001b[0;34m(self, key)\u001b[0m\n\u001b[1;32m   3804\u001b[0m         \u001b[0;32mtry\u001b[0m\u001b[0;34m:\u001b[0m\u001b[0;34m\u001b[0m\u001b[0;34m\u001b[0m\u001b[0m\n\u001b[0;32m-> 3805\u001b[0;31m             \u001b[0;32mreturn\u001b[0m \u001b[0mself\u001b[0m\u001b[0;34m.\u001b[0m\u001b[0m_engine\u001b[0m\u001b[0;34m.\u001b[0m\u001b[0mget_loc\u001b[0m\u001b[0;34m(\u001b[0m\u001b[0mcasted_key\u001b[0m\u001b[0;34m)\u001b[0m\u001b[0;34m\u001b[0m\u001b[0;34m\u001b[0m\u001b[0m\n\u001b[0m\u001b[1;32m   3806\u001b[0m         \u001b[0;32mexcept\u001b[0m \u001b[0mKeyError\u001b[0m \u001b[0;32mas\u001b[0m \u001b[0merr\u001b[0m\u001b[0;34m:\u001b[0m\u001b[0;34m\u001b[0m\u001b[0;34m\u001b[0m\u001b[0m\n",
            "\u001b[0;32mindex.pyx\u001b[0m in \u001b[0;36mpandas._libs.index.IndexEngine.get_loc\u001b[0;34m()\u001b[0m\n",
            "\u001b[0;32mindex.pyx\u001b[0m in \u001b[0;36mpandas._libs.index.IndexEngine.get_loc\u001b[0;34m()\u001b[0m\n",
            "\u001b[0;32mpandas/_libs/hashtable_class_helper.pxi\u001b[0m in \u001b[0;36mpandas._libs.hashtable.PyObjectHashTable.get_item\u001b[0;34m()\u001b[0m\n",
            "\u001b[0;32mpandas/_libs/hashtable_class_helper.pxi\u001b[0m in \u001b[0;36mpandas._libs.hashtable.PyObjectHashTable.get_item\u001b[0;34m()\u001b[0m\n",
            "\u001b[0;31mKeyError\u001b[0m: 'Nivel_Risco'",
            "\nThe above exception was the direct cause of the following exception:\n",
            "\u001b[0;31mKeyError\u001b[0m                                  Traceback (most recent call last)",
            "\u001b[0;32m/tmp/ipython-input-66-3863989369.py\u001b[0m in \u001b[0;36m<cell line: 0>\u001b[0;34m()\u001b[0m\n\u001b[1;32m     12\u001b[0m \u001b[0;34m\u001b[0m\u001b[0m\n\u001b[1;32m     13\u001b[0m \u001b[0;31m# Aplicar a função ao DataFrame e atribuir à nova coluna 'Nivel_Risco_Numerico'\u001b[0m\u001b[0;34m\u001b[0m\u001b[0;34m\u001b[0m\u001b[0m\n\u001b[0;32m---> 14\u001b[0;31m \u001b[0mDataset\u001b[0m\u001b[0;34m[\u001b[0m\u001b[0;34m'Nivel_Risco_Numerico'\u001b[0m\u001b[0;34m]\u001b[0m \u001b[0;34m=\u001b[0m \u001b[0mDataset\u001b[0m\u001b[0;34m.\u001b[0m\u001b[0mapply\u001b[0m\u001b[0;34m(\u001b[0m\u001b[0mmapear_nivel_risco_para_numerico\u001b[0m\u001b[0;34m,\u001b[0m \u001b[0maxis\u001b[0m\u001b[0;34m=\u001b[0m\u001b[0;36m1\u001b[0m\u001b[0;34m)\u001b[0m\u001b[0;34m\u001b[0m\u001b[0;34m\u001b[0m\u001b[0m\n\u001b[0m\u001b[1;32m     15\u001b[0m \u001b[0;34m\u001b[0m\u001b[0m\n\u001b[1;32m     16\u001b[0m \u001b[0mprint\u001b[0m\u001b[0;34m(\u001b[0m\u001b[0;34m\"\\nBase com nova coluna - Primeiras 5 linhas:\"\u001b[0m\u001b[0;34m)\u001b[0m\u001b[0;34m\u001b[0m\u001b[0;34m\u001b[0m\u001b[0m\n",
            "\u001b[0;32m/usr/local/lib/python3.11/dist-packages/pandas/core/frame.py\u001b[0m in \u001b[0;36mapply\u001b[0;34m(self, func, axis, raw, result_type, args, by_row, engine, engine_kwargs, **kwargs)\u001b[0m\n\u001b[1;32m  10372\u001b[0m             \u001b[0mkwargs\u001b[0m\u001b[0;34m=\u001b[0m\u001b[0mkwargs\u001b[0m\u001b[0;34m,\u001b[0m\u001b[0;34m\u001b[0m\u001b[0;34m\u001b[0m\u001b[0m\n\u001b[1;32m  10373\u001b[0m         )\n\u001b[0;32m> 10374\u001b[0;31m         \u001b[0;32mreturn\u001b[0m \u001b[0mop\u001b[0m\u001b[0;34m.\u001b[0m\u001b[0mapply\u001b[0m\u001b[0;34m(\u001b[0m\u001b[0;34m)\u001b[0m\u001b[0;34m.\u001b[0m\u001b[0m__finalize__\u001b[0m\u001b[0;34m(\u001b[0m\u001b[0mself\u001b[0m\u001b[0;34m,\u001b[0m \u001b[0mmethod\u001b[0m\u001b[0;34m=\u001b[0m\u001b[0;34m\"apply\"\u001b[0m\u001b[0;34m)\u001b[0m\u001b[0;34m\u001b[0m\u001b[0;34m\u001b[0m\u001b[0m\n\u001b[0m\u001b[1;32m  10375\u001b[0m \u001b[0;34m\u001b[0m\u001b[0m\n\u001b[1;32m  10376\u001b[0m     def map(\n",
            "\u001b[0;32m/usr/local/lib/python3.11/dist-packages/pandas/core/apply.py\u001b[0m in \u001b[0;36mapply\u001b[0;34m(self)\u001b[0m\n\u001b[1;32m    914\u001b[0m             \u001b[0;32mreturn\u001b[0m \u001b[0mself\u001b[0m\u001b[0;34m.\u001b[0m\u001b[0mapply_raw\u001b[0m\u001b[0;34m(\u001b[0m\u001b[0mengine\u001b[0m\u001b[0;34m=\u001b[0m\u001b[0mself\u001b[0m\u001b[0;34m.\u001b[0m\u001b[0mengine\u001b[0m\u001b[0;34m,\u001b[0m \u001b[0mengine_kwargs\u001b[0m\u001b[0;34m=\u001b[0m\u001b[0mself\u001b[0m\u001b[0;34m.\u001b[0m\u001b[0mengine_kwargs\u001b[0m\u001b[0;34m)\u001b[0m\u001b[0;34m\u001b[0m\u001b[0;34m\u001b[0m\u001b[0m\n\u001b[1;32m    915\u001b[0m \u001b[0;34m\u001b[0m\u001b[0m\n\u001b[0;32m--> 916\u001b[0;31m         \u001b[0;32mreturn\u001b[0m \u001b[0mself\u001b[0m\u001b[0;34m.\u001b[0m\u001b[0mapply_standard\u001b[0m\u001b[0;34m(\u001b[0m\u001b[0;34m)\u001b[0m\u001b[0;34m\u001b[0m\u001b[0;34m\u001b[0m\u001b[0m\n\u001b[0m\u001b[1;32m    917\u001b[0m \u001b[0;34m\u001b[0m\u001b[0m\n\u001b[1;32m    918\u001b[0m     \u001b[0;32mdef\u001b[0m \u001b[0magg\u001b[0m\u001b[0;34m(\u001b[0m\u001b[0mself\u001b[0m\u001b[0;34m)\u001b[0m\u001b[0;34m:\u001b[0m\u001b[0;34m\u001b[0m\u001b[0;34m\u001b[0m\u001b[0m\n",
            "\u001b[0;32m/usr/local/lib/python3.11/dist-packages/pandas/core/apply.py\u001b[0m in \u001b[0;36mapply_standard\u001b[0;34m(self)\u001b[0m\n\u001b[1;32m   1061\u001b[0m     \u001b[0;32mdef\u001b[0m \u001b[0mapply_standard\u001b[0m\u001b[0;34m(\u001b[0m\u001b[0mself\u001b[0m\u001b[0;34m)\u001b[0m\u001b[0;34m:\u001b[0m\u001b[0;34m\u001b[0m\u001b[0;34m\u001b[0m\u001b[0m\n\u001b[1;32m   1062\u001b[0m         \u001b[0;32mif\u001b[0m \u001b[0mself\u001b[0m\u001b[0;34m.\u001b[0m\u001b[0mengine\u001b[0m \u001b[0;34m==\u001b[0m \u001b[0;34m\"python\"\u001b[0m\u001b[0;34m:\u001b[0m\u001b[0;34m\u001b[0m\u001b[0;34m\u001b[0m\u001b[0m\n\u001b[0;32m-> 1063\u001b[0;31m             \u001b[0mresults\u001b[0m\u001b[0;34m,\u001b[0m \u001b[0mres_index\u001b[0m \u001b[0;34m=\u001b[0m \u001b[0mself\u001b[0m\u001b[0;34m.\u001b[0m\u001b[0mapply_series_generator\u001b[0m\u001b[0;34m(\u001b[0m\u001b[0;34m)\u001b[0m\u001b[0;34m\u001b[0m\u001b[0;34m\u001b[0m\u001b[0m\n\u001b[0m\u001b[1;32m   1064\u001b[0m         \u001b[0;32melse\u001b[0m\u001b[0;34m:\u001b[0m\u001b[0;34m\u001b[0m\u001b[0;34m\u001b[0m\u001b[0m\n\u001b[1;32m   1065\u001b[0m             \u001b[0mresults\u001b[0m\u001b[0;34m,\u001b[0m \u001b[0mres_index\u001b[0m \u001b[0;34m=\u001b[0m \u001b[0mself\u001b[0m\u001b[0;34m.\u001b[0m\u001b[0mapply_series_numba\u001b[0m\u001b[0;34m(\u001b[0m\u001b[0;34m)\u001b[0m\u001b[0;34m\u001b[0m\u001b[0;34m\u001b[0m\u001b[0m\n",
            "\u001b[0;32m/usr/local/lib/python3.11/dist-packages/pandas/core/apply.py\u001b[0m in \u001b[0;36mapply_series_generator\u001b[0;34m(self)\u001b[0m\n\u001b[1;32m   1079\u001b[0m             \u001b[0;32mfor\u001b[0m \u001b[0mi\u001b[0m\u001b[0;34m,\u001b[0m \u001b[0mv\u001b[0m \u001b[0;32min\u001b[0m \u001b[0menumerate\u001b[0m\u001b[0;34m(\u001b[0m\u001b[0mseries_gen\u001b[0m\u001b[0;34m)\u001b[0m\u001b[0;34m:\u001b[0m\u001b[0;34m\u001b[0m\u001b[0;34m\u001b[0m\u001b[0m\n\u001b[1;32m   1080\u001b[0m                 \u001b[0;31m# ignore SettingWithCopy here in case the user mutates\u001b[0m\u001b[0;34m\u001b[0m\u001b[0;34m\u001b[0m\u001b[0m\n\u001b[0;32m-> 1081\u001b[0;31m                 \u001b[0mresults\u001b[0m\u001b[0;34m[\u001b[0m\u001b[0mi\u001b[0m\u001b[0;34m]\u001b[0m \u001b[0;34m=\u001b[0m \u001b[0mself\u001b[0m\u001b[0;34m.\u001b[0m\u001b[0mfunc\u001b[0m\u001b[0;34m(\u001b[0m\u001b[0mv\u001b[0m\u001b[0;34m,\u001b[0m \u001b[0;34m*\u001b[0m\u001b[0mself\u001b[0m\u001b[0;34m.\u001b[0m\u001b[0margs\u001b[0m\u001b[0;34m,\u001b[0m \u001b[0;34m**\u001b[0m\u001b[0mself\u001b[0m\u001b[0;34m.\u001b[0m\u001b[0mkwargs\u001b[0m\u001b[0;34m)\u001b[0m\u001b[0;34m\u001b[0m\u001b[0;34m\u001b[0m\u001b[0m\n\u001b[0m\u001b[1;32m   1082\u001b[0m                 \u001b[0;32mif\u001b[0m \u001b[0misinstance\u001b[0m\u001b[0;34m(\u001b[0m\u001b[0mresults\u001b[0m\u001b[0;34m[\u001b[0m\u001b[0mi\u001b[0m\u001b[0;34m]\u001b[0m\u001b[0;34m,\u001b[0m \u001b[0mABCSeries\u001b[0m\u001b[0;34m)\u001b[0m\u001b[0;34m:\u001b[0m\u001b[0;34m\u001b[0m\u001b[0;34m\u001b[0m\u001b[0m\n\u001b[1;32m   1083\u001b[0m                     \u001b[0;31m# If we have a view on v, we need to make a copy because\u001b[0m\u001b[0;34m\u001b[0m\u001b[0;34m\u001b[0m\u001b[0m\n",
            "\u001b[0;32m/tmp/ipython-input-66-3863989369.py\u001b[0m in \u001b[0;36mmapear_nivel_risco_para_numerico\u001b[0;34m(row)\u001b[0m\n\u001b[1;32m      2\u001b[0m \u001b[0;34m\u001b[0m\u001b[0m\n\u001b[1;32m      3\u001b[0m \u001b[0;32mdef\u001b[0m \u001b[0mmapear_nivel_risco_para_numerico\u001b[0m\u001b[0;34m(\u001b[0m\u001b[0mrow\u001b[0m\u001b[0;34m)\u001b[0m\u001b[0;34m:\u001b[0m\u001b[0;34m\u001b[0m\u001b[0;34m\u001b[0m\u001b[0m\n\u001b[0;32m----> 4\u001b[0;31m     \u001b[0;32mif\u001b[0m \u001b[0mrow\u001b[0m\u001b[0;34m[\u001b[0m\u001b[0;34m'Nivel_Risco'\u001b[0m\u001b[0;34m]\u001b[0m \u001b[0;34m==\u001b[0m \u001b[0;34m'high risk'\u001b[0m\u001b[0;34m:\u001b[0m\u001b[0;34m\u001b[0m\u001b[0;34m\u001b[0m\u001b[0m\n\u001b[0m\u001b[1;32m      5\u001b[0m         \u001b[0;32mreturn\u001b[0m \u001b[0;36m0\u001b[0m\u001b[0;34m\u001b[0m\u001b[0;34m\u001b[0m\u001b[0m\n\u001b[1;32m      6\u001b[0m     \u001b[0;32melif\u001b[0m \u001b[0mrow\u001b[0m\u001b[0;34m[\u001b[0m\u001b[0;34m'Nivel_Risco'\u001b[0m\u001b[0;34m]\u001b[0m \u001b[0;34m==\u001b[0m \u001b[0;34m'mid risk'\u001b[0m\u001b[0;34m:\u001b[0m\u001b[0;34m\u001b[0m\u001b[0;34m\u001b[0m\u001b[0m\n",
            "\u001b[0;32m/usr/local/lib/python3.11/dist-packages/pandas/core/series.py\u001b[0m in \u001b[0;36m__getitem__\u001b[0;34m(self, key)\u001b[0m\n\u001b[1;32m   1119\u001b[0m \u001b[0;34m\u001b[0m\u001b[0m\n\u001b[1;32m   1120\u001b[0m         \u001b[0;32melif\u001b[0m \u001b[0mkey_is_scalar\u001b[0m\u001b[0;34m:\u001b[0m\u001b[0;34m\u001b[0m\u001b[0;34m\u001b[0m\u001b[0m\n\u001b[0;32m-> 1121\u001b[0;31m             \u001b[0;32mreturn\u001b[0m \u001b[0mself\u001b[0m\u001b[0;34m.\u001b[0m\u001b[0m_get_value\u001b[0m\u001b[0;34m(\u001b[0m\u001b[0mkey\u001b[0m\u001b[0;34m)\u001b[0m\u001b[0;34m\u001b[0m\u001b[0;34m\u001b[0m\u001b[0m\n\u001b[0m\u001b[1;32m   1122\u001b[0m \u001b[0;34m\u001b[0m\u001b[0m\n\u001b[1;32m   1123\u001b[0m         \u001b[0;31m# Convert generator to list before going through hashable part\u001b[0m\u001b[0;34m\u001b[0m\u001b[0;34m\u001b[0m\u001b[0m\n",
            "\u001b[0;32m/usr/local/lib/python3.11/dist-packages/pandas/core/series.py\u001b[0m in \u001b[0;36m_get_value\u001b[0;34m(self, label, takeable)\u001b[0m\n\u001b[1;32m   1235\u001b[0m \u001b[0;34m\u001b[0m\u001b[0m\n\u001b[1;32m   1236\u001b[0m         \u001b[0;31m# Similar to Index.get_value, but we do not fall back to positional\u001b[0m\u001b[0;34m\u001b[0m\u001b[0;34m\u001b[0m\u001b[0m\n\u001b[0;32m-> 1237\u001b[0;31m         \u001b[0mloc\u001b[0m \u001b[0;34m=\u001b[0m \u001b[0mself\u001b[0m\u001b[0;34m.\u001b[0m\u001b[0mindex\u001b[0m\u001b[0;34m.\u001b[0m\u001b[0mget_loc\u001b[0m\u001b[0;34m(\u001b[0m\u001b[0mlabel\u001b[0m\u001b[0;34m)\u001b[0m\u001b[0;34m\u001b[0m\u001b[0;34m\u001b[0m\u001b[0m\n\u001b[0m\u001b[1;32m   1238\u001b[0m \u001b[0;34m\u001b[0m\u001b[0m\n\u001b[1;32m   1239\u001b[0m         \u001b[0;32mif\u001b[0m \u001b[0mis_integer\u001b[0m\u001b[0;34m(\u001b[0m\u001b[0mloc\u001b[0m\u001b[0;34m)\u001b[0m\u001b[0;34m:\u001b[0m\u001b[0;34m\u001b[0m\u001b[0;34m\u001b[0m\u001b[0m\n",
            "\u001b[0;32m/usr/local/lib/python3.11/dist-packages/pandas/core/indexes/base.py\u001b[0m in \u001b[0;36mget_loc\u001b[0;34m(self, key)\u001b[0m\n\u001b[1;32m   3810\u001b[0m             ):\n\u001b[1;32m   3811\u001b[0m                 \u001b[0;32mraise\u001b[0m \u001b[0mInvalidIndexError\u001b[0m\u001b[0;34m(\u001b[0m\u001b[0mkey\u001b[0m\u001b[0;34m)\u001b[0m\u001b[0;34m\u001b[0m\u001b[0;34m\u001b[0m\u001b[0m\n\u001b[0;32m-> 3812\u001b[0;31m             \u001b[0;32mraise\u001b[0m \u001b[0mKeyError\u001b[0m\u001b[0;34m(\u001b[0m\u001b[0mkey\u001b[0m\u001b[0;34m)\u001b[0m \u001b[0;32mfrom\u001b[0m \u001b[0merr\u001b[0m\u001b[0;34m\u001b[0m\u001b[0;34m\u001b[0m\u001b[0m\n\u001b[0m\u001b[1;32m   3813\u001b[0m         \u001b[0;32mexcept\u001b[0m \u001b[0mTypeError\u001b[0m\u001b[0;34m:\u001b[0m\u001b[0;34m\u001b[0m\u001b[0;34m\u001b[0m\u001b[0m\n\u001b[1;32m   3814\u001b[0m             \u001b[0;31m# If we have a listlike key, _check_indexing_error will raise\u001b[0m\u001b[0;34m\u001b[0m\u001b[0;34m\u001b[0m\u001b[0m\n",
            "\u001b[0;31mKeyError\u001b[0m: 'Nivel_Risco'"
          ]
        }
      ]
    },
    {
      "cell_type": "code",
      "source": [
        "# 4. Visão geral: total de linhas e colunas\n",
        "print(f\"Total de instâncias (linhas): {len(Dataset)}\")\n",
        "print(f\"Total de colunas: {len(Dataset.columns)}\")"
      ],
      "metadata": {
        "id": "CBEBmoTSPKDQ",
        "outputId": "d59ceff8-9b1f-454e-c3fe-78000d66e975",
        "colab": {
          "base_uri": "https://localhost:8080/"
        }
      },
      "execution_count": 53,
      "outputs": [
        {
          "output_type": "stream",
          "name": "stdout",
          "text": [
            "Total de instâncias (linhas): 1014\n",
            "Total de colunas: 9\n"
          ]
        }
      ]
    },
    {
      "cell_type": "code",
      "source": [
        "# 5. Análise de tipos de dados e valores nao nulos\n",
        "print(\"\\nInformações sobre os tipos de dados e valores não nulos\")\n",
        "Dataset.info()"
      ],
      "metadata": {
        "id": "4qM2vPudP2mh",
        "outputId": "59fee46d-41ab-4a73-a299-aa980821198c",
        "colab": {
          "base_uri": "https://localhost:8080/"
        }
      },
      "execution_count": 54,
      "outputs": [
        {
          "output_type": "stream",
          "name": "stdout",
          "text": [
            "\n",
            "Informações sobre os tipos de dados e valores não nulos\n",
            "<class 'pandas.core.frame.DataFrame'>\n",
            "RangeIndex: 1014 entries, 0 to 1013\n",
            "Data columns (total 9 columns):\n",
            " #   Column                Non-Null Count  Dtype  \n",
            "---  ------                --------------  -----  \n",
            " 0   Idade                 1014 non-null   int64  \n",
            " 1   Pressao_Sistolica     1014 non-null   int64  \n",
            " 2   Pressao_Diastolica    1014 non-null   int64  \n",
            " 3   Nivel_Glicose         1014 non-null   float64\n",
            " 4   Temperatura_Corporal  1014 non-null   float64\n",
            " 5   Frequencia_Cardiaca   1014 non-null   int64  \n",
            " 6   Nivel_Risco           1014 non-null   object \n",
            " 7   Idade_35+             1014 non-null   int64  \n",
            " 8   Nivel_Risco_Numerico  1014 non-null   int64  \n",
            "dtypes: float64(2), int64(6), object(1)\n",
            "memory usage: 71.4+ KB\n"
          ]
        }
      ]
    },
    {
      "cell_type": "code",
      "source": [
        "# 6. Verificação de valores ausentes\n",
        "print(\"\\nVerificação de Valores Ausentes\")\n",
        "print(Dataset.isnull().sum())"
      ],
      "metadata": {
        "id": "o9jePjEfQ7vI",
        "outputId": "1a094f67-fd09-40ca-d36e-4e037f85fb70",
        "colab": {
          "base_uri": "https://localhost:8080/"
        }
      },
      "execution_count": 55,
      "outputs": [
        {
          "output_type": "stream",
          "name": "stdout",
          "text": [
            "\n",
            "Verificação de Valores Ausentes\n",
            "Idade                   0\n",
            "Pressao_Sistolica       0\n",
            "Pressao_Diastolica      0\n",
            "Nivel_Glicose           0\n",
            "Temperatura_Corporal    0\n",
            "Frequencia_Cardiaca     0\n",
            "Nivel_Risco             0\n",
            "Idade_35+               0\n",
            "Nivel_Risco_Numerico    0\n",
            "dtype: int64\n"
          ]
        }
      ]
    },
    {
      "cell_type": "markdown",
      "source": [
        "## 4.2 Estatística Descritiva"
      ],
      "metadata": {
        "id": "dy0Md-0N4O03"
      }
    },
    {
      "cell_type": "code",
      "source": [
        "# 1. Estatística Descritiva - Geral\n",
        "print(\"\\nEstatísticas descritivas das colunas numéricas\")\n",
        "print(Dataset.describe().T) # .T para transpor e facilitar a leitura, prefiro a visualização desta forma"
      ],
      "metadata": {
        "id": "2FVslBW6QEPL",
        "outputId": "580a69be-248b-4806-a26d-b65d62207641",
        "colab": {
          "base_uri": "https://localhost:8080/"
        }
      },
      "execution_count": 13,
      "outputs": [
        {
          "output_type": "stream",
          "name": "stdout",
          "text": [
            "\n",
            "Estatísticas descritivas das colunas numéricas\n",
            "                       count        mean        std   min    25%    50%  \\\n",
            "Idade                 1014.0   29.871795  13.474386  10.0   19.0   26.0   \n",
            "Pressao_Sistolica     1014.0  113.198225  18.403913  70.0  100.0  120.0   \n",
            "Pressao_Diastolica    1014.0   76.460552  13.885796  49.0   65.0   80.0   \n",
            "Nivel_Glicose         1014.0    8.725986   3.293532   6.0    6.9    7.5   \n",
            "Temperatura_Corporal  1014.0   98.665089   1.371384  98.0   98.0   98.0   \n",
            "Frequencia_Cardiaca   1014.0   74.301775   8.088702   7.0   70.0   76.0   \n",
            "Idade_35+             1014.0    0.313609   0.464189   0.0    0.0    0.0   \n",
            "\n",
            "                        75%    max  \n",
            "Idade                  39.0   70.0  \n",
            "Pressao_Sistolica     120.0  160.0  \n",
            "Pressao_Diastolica     90.0  100.0  \n",
            "Nivel_Glicose           8.0   19.0  \n",
            "Temperatura_Corporal   98.0  103.0  \n",
            "Frequencia_Cardiaca    80.0   90.0  \n",
            "Idade_35+               1.0    1.0  \n"
          ]
        }
      ]
    },
    {
      "cell_type": "code",
      "source": [
        "# 2. Estatísticas descritivas agrupadas por tipo de risco\n",
        "Dataset.groupby('Nivel_Risco').describe()"
      ],
      "metadata": {
        "id": "iH6ov-UMHHHJ",
        "colab": {
          "base_uri": "https://localhost:8080/",
          "height": 253
        },
        "outputId": "c3d33d1f-c378-4da4-c8f1-1425a2e6e01a"
      },
      "execution_count": 14,
      "outputs": [
        {
          "output_type": "execute_result",
          "data": {
            "text/plain": [
              "             Idade                                                      \\\n",
              "             count       mean        std   min   25%   50%   75%   max   \n",
              "Nivel_Risco                                                              \n",
              "high risk    272.0  36.216912  13.032206  12.0  25.0  35.0  48.0  65.0   \n",
              "low risk     406.0  26.869458  13.121661  10.0  17.0  22.0  32.0  70.0   \n",
              "mid risk     336.0  28.363095  12.552660  10.0  19.0  25.0  32.0  60.0   \n",
              "\n",
              "            Pressao_Sistolica              ... Frequencia_Cardiaca        \\\n",
              "                        count        mean  ...                 75%   max   \n",
              "Nivel_Risco                                ...                             \n",
              "high risk               272.0  124.194853  ...                86.0  90.0   \n",
              "low risk                406.0  105.866995  ...                77.0  88.0   \n",
              "mid risk                336.0  113.154762  ...                78.0  88.0   \n",
              "\n",
              "            Idade_35+                                               \n",
              "                count      mean       std  min  25%  50%  75%  max  \n",
              "Nivel_Risco                                                         \n",
              "high risk       272.0  0.566176  0.496515  0.0  0.0  1.0  1.0  1.0  \n",
              "low risk        406.0  0.229064  0.420749  0.0  0.0  0.0  0.0  1.0  \n",
              "mid risk        336.0  0.211310  0.408846  0.0  0.0  0.0  0.0  1.0  \n",
              "\n",
              "[3 rows x 56 columns]"
            ],
            "text/html": [
              "\n",
              "  <div id=\"df-548071d2-c939-4344-ab92-be5681be8d88\" class=\"colab-df-container\">\n",
              "    <div>\n",
              "<style scoped>\n",
              "    .dataframe tbody tr th:only-of-type {\n",
              "        vertical-align: middle;\n",
              "    }\n",
              "\n",
              "    .dataframe tbody tr th {\n",
              "        vertical-align: top;\n",
              "    }\n",
              "\n",
              "    .dataframe thead tr th {\n",
              "        text-align: left;\n",
              "    }\n",
              "\n",
              "    .dataframe thead tr:last-of-type th {\n",
              "        text-align: right;\n",
              "    }\n",
              "</style>\n",
              "<table border=\"1\" class=\"dataframe\">\n",
              "  <thead>\n",
              "    <tr>\n",
              "      <th></th>\n",
              "      <th colspan=\"8\" halign=\"left\">Idade</th>\n",
              "      <th colspan=\"2\" halign=\"left\">Pressao_Sistolica</th>\n",
              "      <th>...</th>\n",
              "      <th colspan=\"2\" halign=\"left\">Frequencia_Cardiaca</th>\n",
              "      <th colspan=\"8\" halign=\"left\">Idade_35+</th>\n",
              "    </tr>\n",
              "    <tr>\n",
              "      <th></th>\n",
              "      <th>count</th>\n",
              "      <th>mean</th>\n",
              "      <th>std</th>\n",
              "      <th>min</th>\n",
              "      <th>25%</th>\n",
              "      <th>50%</th>\n",
              "      <th>75%</th>\n",
              "      <th>max</th>\n",
              "      <th>count</th>\n",
              "      <th>mean</th>\n",
              "      <th>...</th>\n",
              "      <th>75%</th>\n",
              "      <th>max</th>\n",
              "      <th>count</th>\n",
              "      <th>mean</th>\n",
              "      <th>std</th>\n",
              "      <th>min</th>\n",
              "      <th>25%</th>\n",
              "      <th>50%</th>\n",
              "      <th>75%</th>\n",
              "      <th>max</th>\n",
              "    </tr>\n",
              "    <tr>\n",
              "      <th>Nivel_Risco</th>\n",
              "      <th></th>\n",
              "      <th></th>\n",
              "      <th></th>\n",
              "      <th></th>\n",
              "      <th></th>\n",
              "      <th></th>\n",
              "      <th></th>\n",
              "      <th></th>\n",
              "      <th></th>\n",
              "      <th></th>\n",
              "      <th></th>\n",
              "      <th></th>\n",
              "      <th></th>\n",
              "      <th></th>\n",
              "      <th></th>\n",
              "      <th></th>\n",
              "      <th></th>\n",
              "      <th></th>\n",
              "      <th></th>\n",
              "      <th></th>\n",
              "      <th></th>\n",
              "    </tr>\n",
              "  </thead>\n",
              "  <tbody>\n",
              "    <tr>\n",
              "      <th>high risk</th>\n",
              "      <td>272.0</td>\n",
              "      <td>36.216912</td>\n",
              "      <td>13.032206</td>\n",
              "      <td>12.0</td>\n",
              "      <td>25.0</td>\n",
              "      <td>35.0</td>\n",
              "      <td>48.0</td>\n",
              "      <td>65.0</td>\n",
              "      <td>272.0</td>\n",
              "      <td>124.194853</td>\n",
              "      <td>...</td>\n",
              "      <td>86.0</td>\n",
              "      <td>90.0</td>\n",
              "      <td>272.0</td>\n",
              "      <td>0.566176</td>\n",
              "      <td>0.496515</td>\n",
              "      <td>0.0</td>\n",
              "      <td>0.0</td>\n",
              "      <td>1.0</td>\n",
              "      <td>1.0</td>\n",
              "      <td>1.0</td>\n",
              "    </tr>\n",
              "    <tr>\n",
              "      <th>low risk</th>\n",
              "      <td>406.0</td>\n",
              "      <td>26.869458</td>\n",
              "      <td>13.121661</td>\n",
              "      <td>10.0</td>\n",
              "      <td>17.0</td>\n",
              "      <td>22.0</td>\n",
              "      <td>32.0</td>\n",
              "      <td>70.0</td>\n",
              "      <td>406.0</td>\n",
              "      <td>105.866995</td>\n",
              "      <td>...</td>\n",
              "      <td>77.0</td>\n",
              "      <td>88.0</td>\n",
              "      <td>406.0</td>\n",
              "      <td>0.229064</td>\n",
              "      <td>0.420749</td>\n",
              "      <td>0.0</td>\n",
              "      <td>0.0</td>\n",
              "      <td>0.0</td>\n",
              "      <td>0.0</td>\n",
              "      <td>1.0</td>\n",
              "    </tr>\n",
              "    <tr>\n",
              "      <th>mid risk</th>\n",
              "      <td>336.0</td>\n",
              "      <td>28.363095</td>\n",
              "      <td>12.552660</td>\n",
              "      <td>10.0</td>\n",
              "      <td>19.0</td>\n",
              "      <td>25.0</td>\n",
              "      <td>32.0</td>\n",
              "      <td>60.0</td>\n",
              "      <td>336.0</td>\n",
              "      <td>113.154762</td>\n",
              "      <td>...</td>\n",
              "      <td>78.0</td>\n",
              "      <td>88.0</td>\n",
              "      <td>336.0</td>\n",
              "      <td>0.211310</td>\n",
              "      <td>0.408846</td>\n",
              "      <td>0.0</td>\n",
              "      <td>0.0</td>\n",
              "      <td>0.0</td>\n",
              "      <td>0.0</td>\n",
              "      <td>1.0</td>\n",
              "    </tr>\n",
              "  </tbody>\n",
              "</table>\n",
              "<p>3 rows × 56 columns</p>\n",
              "</div>\n",
              "    <div class=\"colab-df-buttons\">\n",
              "\n",
              "  <div class=\"colab-df-container\">\n",
              "    <button class=\"colab-df-convert\" onclick=\"convertToInteractive('df-548071d2-c939-4344-ab92-be5681be8d88')\"\n",
              "            title=\"Convert this dataframe to an interactive table.\"\n",
              "            style=\"display:none;\">\n",
              "\n",
              "  <svg xmlns=\"http://www.w3.org/2000/svg\" height=\"24px\" viewBox=\"0 -960 960 960\">\n",
              "    <path d=\"M120-120v-720h720v720H120Zm60-500h600v-160H180v160Zm220 220h160v-160H400v160Zm0 220h160v-160H400v160ZM180-400h160v-160H180v160Zm440 0h160v-160H620v160ZM180-180h160v-160H180v160Zm440 0h160v-160H620v160Z\"/>\n",
              "  </svg>\n",
              "    </button>\n",
              "\n",
              "  <style>\n",
              "    .colab-df-container {\n",
              "      display:flex;\n",
              "      gap: 12px;\n",
              "    }\n",
              "\n",
              "    .colab-df-convert {\n",
              "      background-color: #E8F0FE;\n",
              "      border: none;\n",
              "      border-radius: 50%;\n",
              "      cursor: pointer;\n",
              "      display: none;\n",
              "      fill: #1967D2;\n",
              "      height: 32px;\n",
              "      padding: 0 0 0 0;\n",
              "      width: 32px;\n",
              "    }\n",
              "\n",
              "    .colab-df-convert:hover {\n",
              "      background-color: #E2EBFA;\n",
              "      box-shadow: 0px 1px 2px rgba(60, 64, 67, 0.3), 0px 1px 3px 1px rgba(60, 64, 67, 0.15);\n",
              "      fill: #174EA6;\n",
              "    }\n",
              "\n",
              "    .colab-df-buttons div {\n",
              "      margin-bottom: 4px;\n",
              "    }\n",
              "\n",
              "    [theme=dark] .colab-df-convert {\n",
              "      background-color: #3B4455;\n",
              "      fill: #D2E3FC;\n",
              "    }\n",
              "\n",
              "    [theme=dark] .colab-df-convert:hover {\n",
              "      background-color: #434B5C;\n",
              "      box-shadow: 0px 1px 3px 1px rgba(0, 0, 0, 0.15);\n",
              "      filter: drop-shadow(0px 1px 2px rgba(0, 0, 0, 0.3));\n",
              "      fill: #FFFFFF;\n",
              "    }\n",
              "  </style>\n",
              "\n",
              "    <script>\n",
              "      const buttonEl =\n",
              "        document.querySelector('#df-548071d2-c939-4344-ab92-be5681be8d88 button.colab-df-convert');\n",
              "      buttonEl.style.display =\n",
              "        google.colab.kernel.accessAllowed ? 'block' : 'none';\n",
              "\n",
              "      async function convertToInteractive(key) {\n",
              "        const element = document.querySelector('#df-548071d2-c939-4344-ab92-be5681be8d88');\n",
              "        const dataTable =\n",
              "          await google.colab.kernel.invokeFunction('convertToInteractive',\n",
              "                                                    [key], {});\n",
              "        if (!dataTable) return;\n",
              "\n",
              "        const docLinkHtml = 'Like what you see? Visit the ' +\n",
              "          '<a target=\"_blank\" href=https://colab.research.google.com/notebooks/data_table.ipynb>data table notebook</a>'\n",
              "          + ' to learn more about interactive tables.';\n",
              "        element.innerHTML = '';\n",
              "        dataTable['output_type'] = 'display_data';\n",
              "        await google.colab.output.renderOutput(dataTable, element);\n",
              "        const docLink = document.createElement('div');\n",
              "        docLink.innerHTML = docLinkHtml;\n",
              "        element.appendChild(docLink);\n",
              "      }\n",
              "    </script>\n",
              "  </div>\n",
              "\n",
              "\n",
              "    <div id=\"df-9f051dcc-9466-451d-909f-8e47906bfd9b\">\n",
              "      <button class=\"colab-df-quickchart\" onclick=\"quickchart('df-9f051dcc-9466-451d-909f-8e47906bfd9b')\"\n",
              "                title=\"Suggest charts\"\n",
              "                style=\"display:none;\">\n",
              "\n",
              "<svg xmlns=\"http://www.w3.org/2000/svg\" height=\"24px\"viewBox=\"0 0 24 24\"\n",
              "     width=\"24px\">\n",
              "    <g>\n",
              "        <path d=\"M19 3H5c-1.1 0-2 .9-2 2v14c0 1.1.9 2 2 2h14c1.1 0 2-.9 2-2V5c0-1.1-.9-2-2-2zM9 17H7v-7h2v7zm4 0h-2V7h2v10zm4 0h-2v-4h2v4z\"/>\n",
              "    </g>\n",
              "</svg>\n",
              "      </button>\n",
              "\n",
              "<style>\n",
              "  .colab-df-quickchart {\n",
              "      --bg-color: #E8F0FE;\n",
              "      --fill-color: #1967D2;\n",
              "      --hover-bg-color: #E2EBFA;\n",
              "      --hover-fill-color: #174EA6;\n",
              "      --disabled-fill-color: #AAA;\n",
              "      --disabled-bg-color: #DDD;\n",
              "  }\n",
              "\n",
              "  [theme=dark] .colab-df-quickchart {\n",
              "      --bg-color: #3B4455;\n",
              "      --fill-color: #D2E3FC;\n",
              "      --hover-bg-color: #434B5C;\n",
              "      --hover-fill-color: #FFFFFF;\n",
              "      --disabled-bg-color: #3B4455;\n",
              "      --disabled-fill-color: #666;\n",
              "  }\n",
              "\n",
              "  .colab-df-quickchart {\n",
              "    background-color: var(--bg-color);\n",
              "    border: none;\n",
              "    border-radius: 50%;\n",
              "    cursor: pointer;\n",
              "    display: none;\n",
              "    fill: var(--fill-color);\n",
              "    height: 32px;\n",
              "    padding: 0;\n",
              "    width: 32px;\n",
              "  }\n",
              "\n",
              "  .colab-df-quickchart:hover {\n",
              "    background-color: var(--hover-bg-color);\n",
              "    box-shadow: 0 1px 2px rgba(60, 64, 67, 0.3), 0 1px 3px 1px rgba(60, 64, 67, 0.15);\n",
              "    fill: var(--button-hover-fill-color);\n",
              "  }\n",
              "\n",
              "  .colab-df-quickchart-complete:disabled,\n",
              "  .colab-df-quickchart-complete:disabled:hover {\n",
              "    background-color: var(--disabled-bg-color);\n",
              "    fill: var(--disabled-fill-color);\n",
              "    box-shadow: none;\n",
              "  }\n",
              "\n",
              "  .colab-df-spinner {\n",
              "    border: 2px solid var(--fill-color);\n",
              "    border-color: transparent;\n",
              "    border-bottom-color: var(--fill-color);\n",
              "    animation:\n",
              "      spin 1s steps(1) infinite;\n",
              "  }\n",
              "\n",
              "  @keyframes spin {\n",
              "    0% {\n",
              "      border-color: transparent;\n",
              "      border-bottom-color: var(--fill-color);\n",
              "      border-left-color: var(--fill-color);\n",
              "    }\n",
              "    20% {\n",
              "      border-color: transparent;\n",
              "      border-left-color: var(--fill-color);\n",
              "      border-top-color: var(--fill-color);\n",
              "    }\n",
              "    30% {\n",
              "      border-color: transparent;\n",
              "      border-left-color: var(--fill-color);\n",
              "      border-top-color: var(--fill-color);\n",
              "      border-right-color: var(--fill-color);\n",
              "    }\n",
              "    40% {\n",
              "      border-color: transparent;\n",
              "      border-right-color: var(--fill-color);\n",
              "      border-top-color: var(--fill-color);\n",
              "    }\n",
              "    60% {\n",
              "      border-color: transparent;\n",
              "      border-right-color: var(--fill-color);\n",
              "    }\n",
              "    80% {\n",
              "      border-color: transparent;\n",
              "      border-right-color: var(--fill-color);\n",
              "      border-bottom-color: var(--fill-color);\n",
              "    }\n",
              "    90% {\n",
              "      border-color: transparent;\n",
              "      border-bottom-color: var(--fill-color);\n",
              "    }\n",
              "  }\n",
              "</style>\n",
              "\n",
              "      <script>\n",
              "        async function quickchart(key) {\n",
              "          const quickchartButtonEl =\n",
              "            document.querySelector('#' + key + ' button');\n",
              "          quickchartButtonEl.disabled = true;  // To prevent multiple clicks.\n",
              "          quickchartButtonEl.classList.add('colab-df-spinner');\n",
              "          try {\n",
              "            const charts = await google.colab.kernel.invokeFunction(\n",
              "                'suggestCharts', [key], {});\n",
              "          } catch (error) {\n",
              "            console.error('Error during call to suggestCharts:', error);\n",
              "          }\n",
              "          quickchartButtonEl.classList.remove('colab-df-spinner');\n",
              "          quickchartButtonEl.classList.add('colab-df-quickchart-complete');\n",
              "        }\n",
              "        (() => {\n",
              "          let quickchartButtonEl =\n",
              "            document.querySelector('#df-9f051dcc-9466-451d-909f-8e47906bfd9b button');\n",
              "          quickchartButtonEl.style.display =\n",
              "            google.colab.kernel.accessAllowed ? 'block' : 'none';\n",
              "        })();\n",
              "      </script>\n",
              "    </div>\n",
              "\n",
              "    </div>\n",
              "  </div>\n"
            ],
            "application/vnd.google.colaboratory.intrinsic+json": {
              "type": "dataframe"
            }
          },
          "metadata": {},
          "execution_count": 14
        }
      ]
    },
    {
      "cell_type": "markdown",
      "source": [
        "count = contagem de registros do dataset\n",
        "\n",
        "mean = média\n",
        "\n",
        "std = desvio padrão\n",
        "\n",
        "min = valor mínimo da categoria\n",
        "\n",
        "25% = valor de 25% dos registros da categoria\n",
        "\n",
        "75% = valor de 75% dos registros da categoria\n",
        "\n",
        "max = valor máximo da categoria"
      ],
      "metadata": {
        "id": "UDQevY3J6E8H"
      }
    },
    {
      "cell_type": "code",
      "source": [
        "# 3. Calcular o % de gestantes com idade >= 35 anos\n",
        "\n",
        "# Calcular a contagem de valores para 'Idade_35+' e normalizar para obter proporções\n",
        "proportions_idade2 = Dataset['Idade_35+'].value_counts(normalize=True)\n",
        "\n",
        "# Obter o percentual de '1' (gestantes com 35+ anos)\n",
        "percent_idade2_equals_1 = proportions_idade2.get(1, 0) * 100 # .get(1, 0) para lidar se não houver '1's\n",
        "\n",
        "print(f\"Contagem de valores para 'Idade_35+':\")\n",
        "print(Dataset['Idade_35+'].value_counts())\n",
        "\n",
        "print(f\"\\nPercentual de gestantes com 35 anos ou mais (Idade_35+ = 1): {percent_idade2_equals_1:.2f}%\")\n",
        "\n",
        "# Se quiser ver todas as proporções:\n",
        "print(\"\\nProporções de 'Idade_35+':\")\n",
        "print(proportions_idade2)"
      ],
      "metadata": {
        "colab": {
          "base_uri": "https://localhost:8080/"
        },
        "id": "obAdmSpnenay",
        "outputId": "e364fb7c-4ffa-4688-9c9a-d2955a212c95"
      },
      "execution_count": 22,
      "outputs": [
        {
          "output_type": "stream",
          "name": "stdout",
          "text": [
            "Contagem de valores para 'Idade_35+':\n",
            "Idade_35+\n",
            "0    696\n",
            "1    318\n",
            "Name: count, dtype: int64\n",
            "\n",
            "Percentual de gestantes com 35 anos ou mais (Idade_35+ = 1): 31.36%\n",
            "\n",
            "Proporções de 'Idade_35+':\n",
            "Idade_35+\n",
            "0    0.686391\n",
            "1    0.313609\n",
            "Name: proportion, dtype: float64\n"
          ]
        }
      ]
    },
    {
      "cell_type": "markdown",
      "source": [
        "## 4.3 Análise de Variáveis Numéricas e Categóricas"
      ],
      "metadata": {
        "id": "uabqXXr12ooZ"
      }
    },
    {
      "cell_type": "code",
      "source": [
        "# 1. Análise de variáveis: analisando a frequencia de distribuição de idade no dataset\n",
        "\n",
        "plt.figure(figsize=(8, 6))\n",
        "# Histograma do comprimento da sépala (um dos atributos)\n",
        "sns.histplot(Dataset['Idade'], kde=True)\n",
        "plt.title('Histograma de Idade')\n",
        "plt.xlabel('Idade')\n",
        "plt.ylabel('Frequencia')\n",
        "plt.show()"
      ],
      "metadata": {
        "colab": {
          "base_uri": "https://localhost:8080/",
          "height": 564
        },
        "id": "xFULQrKiGPqj",
        "outputId": "ae0de15a-b5ab-43f7-d421-0c292bca77c9"
      },
      "execution_count": 23,
      "outputs": [
        {
          "output_type": "display_data",
          "data": {
            "text/plain": [
              "<Figure size 800x600 with 1 Axes>"
            ],
            "image/png": "[encoded data removed]"
          },
          "metadata": {}
        }
      ]
    },
    {
      "cell_type": "markdown",
      "source": [
        "O gráfico mostra que há maior volume de dados de gestantes com idade inferior a 35 anos."
      ],
      "metadata": {
        "id": "9Wjg9LnpwBFD"
      }
    },
    {
      "cell_type": "code",
      "source": [
        "# 2. Análise de variáveis: analisando o % de idade gestacional 35+\n",
        "\n",
        "# Calcular a contagem de valores para 'Idade_35+' e normalizar para obter percentuais\n",
        "proportions_idade35_plus = Dataset['Idade_35+'].value_counts(normalize=True) * 100\n",
        "\n",
        "# Preparar os dados para o gráfico de barras\n",
        "plot_data = pd.DataFrame({\n",
        "    'Grupo Idade': ['Idade < 35 anos', 'Idade >= 35 anos'], # Rótulos claros para o gráfico\n",
        "    'Percentual': [proportions_idade35_plus.get(0, 0), proportions_idade35_plus.get(1, 0)]\n",
        "})\n",
        "\n",
        "# Criar o gráfico de barras\n",
        "plt.figure(figsize=(9, 6)) # Aumentar ligeiramente o tamanho para melhor visualização\n",
        "sns.barplot(x='Grupo Idade', y='Percentual', data=plot_data)\n",
        "            #palette='viridis') # 'viridis' é uma boa paleta de cores\n",
        "\n",
        "# Adicionar rótulos de percentual nas barras para clareza\n",
        "for index, row in plot_data.iterrows():\n",
        "    plt.text(index, row.Percentual, f'{row.Percentual:.2f}%',\n",
        "             color='black', ha=\"center\", va='bottom', fontsize=12)\n",
        "\n",
        "plt.title('Distribuição Percentual de Gestantes por Faixa Etária', fontsize=14)\n",
        "plt.xlabel('Faixa Etária', fontsize=12)\n",
        "plt.ylabel('Percentual de Gestantes (%)', fontsize=12)\n",
        "plt.ylim(0, 100) # Garantir que o eixo Y vá de 0 a 100%\n",
        "plt.grid(axis='y', linestyle='--', alpha=0.7) # Adicionar grade para facilitar a leitura\n",
        "plt.xticks(fontsize=11)\n",
        "\n",
        "# Mostrar o gráfico\n",
        "plt.show()"
      ],
      "metadata": {
        "colab": {
          "base_uri": "https://localhost:8080/",
          "height": 571
        },
        "id": "tkFrYB90jFUJ",
        "outputId": "d8b078ad-6be6-480e-90a0-bbb91283e86b"
      },
      "execution_count": 29,
      "outputs": [
        {
          "output_type": "display_data",
          "data": {
            "text/plain": [
              "<Figure size 900x600 with 1 Axes>"
            ],
            "image/png": "[encoded data removed]"
          },
          "metadata": {}
        }
      ]
    },
    {
      "cell_type": "markdown",
      "source": [
        "Confirmando a análise do gráfico anterior, do total de dados da base:\n",
        "- 68,64% dos dados são de gestantes com idade inferior a 35 anos\n",
        "- 31,36% dos dados são de gestantes com idade superior ou igual a 35 anos."
      ],
      "metadata": {
        "id": "HcwA_djcwaBr"
      }
    },
    {
      "cell_type": "code",
      "source": [
        "# 3. Análise de duas variáveis: analisando a idade em relação ao risco gestacional\n",
        "# Gráfico Boxplot\n",
        "plt.figure(figsize=(10, 6))\n",
        "sns.boxplot(x='Nivel_Risco', y='Idade', data=Dataset, order=['low risk', 'mid risk', 'high risk'])\n",
        "\n",
        "# Correcting the title and labels\n",
        "plt.title('Idade por Nível de Risco')\n",
        "plt.xlabel('Nível de Risco')\n",
        "plt.ylabel('Idade')\n",
        "plt.tight_layout()\n",
        "plt.show()"
      ],
      "metadata": {
        "id": "CXYVIeNfHHHJ",
        "colab": {
          "base_uri": "https://localhost:8080/",
          "height": 607
        },
        "outputId": "c95ad837-f7f7-4899-f79c-f596b5b4a70b"
      },
      "execution_count": 30,
      "outputs": [
        {
          "output_type": "display_data",
          "data": {
            "text/plain": [
              "<Figure size 1000x600 with 1 Axes>"
            ],
            "image/png": "[encoded data removed]"
          },
          "metadata": {}
        }
      ]
    },
    {
      "cell_type": "markdown",
      "source": [
        "Este gráfico demonstra que temos 03 categorias de risco sendo o maior risco gestacional (hight risk) concentrado em idades >= 35 anos."
      ],
      "metadata": {
        "id": "IFcRuVJDxknz"
      }
    },
    {
      "cell_type": "code",
      "source": [
        "# 4. Análise de duas variáveis: analisando o % de nível de risco por idade\n",
        "\n",
        "# Gráfico Barras\n",
        "\n",
        "# 1. Calcular os percentuais para o dataset total\n",
        "percent_total = Dataset['Nivel_Risco'].value_counts(normalize=True) * 100\n",
        "# Transformar em DataFrame para facilitar a manipulação\n",
        "percent_total_df = percent_total.reset_index()\n",
        "percent_total_df.columns = ['Nivel_Risco', 'Percentage']\n",
        "\n",
        "# 2. Filtrar o DataFrame para idade maior que 35\n",
        "df_age_gt_35 = Dataset[Dataset['Idade'] >= 35]\n",
        "\n",
        "# 3. Calcular os percentuais para o dataset filtrado (idade > 35)\n",
        "percent_age_gt_35 = df_age_gt_35['Nivel_Risco'].value_counts(normalize=True) * 100\n",
        "# Transformar em DataFrame\n",
        "percent_age_gt_35_df = percent_age_gt_35.reset_index()\n",
        "percent_age_gt_35_df.columns = ['Nivel_Risco', 'Percentage']\n",
        "\n",
        "# Obter os níveis de risco únicos para os rótulos do eixo X\n",
        "risk_levels = sorted(percent_total_df['Nivel_Risco'].unique())\n",
        "\n",
        "# Configurações para o gráfico\n",
        "width = 0.35 # Largura das barras\n",
        "x_pos = range(len(risk_levels)) # Posições para as barras no eixo X\n",
        "\n",
        "# Criar a figura e os eixos\n",
        "fig, ax = plt.subplots(figsize=(10, 6))\n",
        "\n",
        "# Plotar as barras para o dataset total\n",
        "bars_total = ax.bar([p - width/2 for p in x_pos], percent_total_df['Percentage'], width, label='Total Dataset', color='skyblue')\n",
        "\n",
        "# Plotar as barras para o dataset filtrado (idade > 35)\n",
        "bars_age_gt_35 = ax.bar([p + width/2 for p in x_pos], percent_age_gt_35_df['Percentage'], width, label='Idade > 35 anos', color='lightcoral')\n",
        "\n",
        "# Adicionar rótulos, título e legenda\n",
        "ax.set_xlabel('Nível de Risco')\n",
        "ax.set_ylabel('Porcentagem (%)')\n",
        "ax.set_title('Comparação do Nível de Risco por Porcentagem (Matplotlib)')\n",
        "ax.set_xticks(x_pos)\n",
        "ax.set_xticklabels(risk_levels)\n",
        "ax.legend()\n",
        "ax.grid(axis='y', linestyle='--', alpha=0.7)\n",
        "\n",
        "# Adicionar os valores percentuais nas barras\n",
        "def autolabel(bars):\n",
        "    for bar in bars:\n",
        "        height = bar.get_height()\n",
        "        ax.annotate(f'{height:.1f}%',\n",
        "                    xy=(bar.get_x() + bar.get_width() / 2, height),\n",
        "                    xytext=(0, 3),  # 3 points vertical offset\n",
        "                    textcoords=\"offset points\",\n",
        "                    ha='center', va='bottom')\n",
        "\n",
        "autolabel(bars_total)\n",
        "autolabel(bars_age_gt_35)\n",
        "\n",
        "\n",
        "# Mostrar o gráfico\n",
        "plt.show()\n"
      ],
      "metadata": {
        "colab": {
          "base_uri": "https://localhost:8080/",
          "height": 565
        },
        "id": "EJVwQn37hSsv",
        "outputId": "91586403-6ea5-4a55-ea62-b4f5ce9f5494"
      },
      "execution_count": 32,
      "outputs": [
        {
          "output_type": "display_data",
          "data": {
            "text/plain": [
              "<Figure size 1000x600 with 1 Axes>"
            ],
            "image/png": "[encoded data removed]"
          },
          "metadata": {}
        }
      ]
    },
    {
      "cell_type": "markdown",
      "source": [
        "O gráfico de barras evidencia que temos 03 categorias de riscos no dataset, sendo a categoria de maior a que tem maior representatividade de gestantes com idade >= 35 anos."
      ],
      "metadata": {
        "id": "5VVAMJ3MHKVe"
      }
    },
    {
      "cell_type": "markdown",
      "source": [
        "## 4.4 Matriz de Correlação\n",
        "\n",
        "As correlações positivas indicam que as variáveis tendem a se mover na mesma direção.\n",
        "\n",
        "As correlações negativas indicam que elas tendem a se mover em direções opostas.\n",
        "\n",
        "A força da correlação (o quão perto de 1 ou -1 o valor está) indica o quão forte é essa relação linear."
      ],
      "metadata": {
        "id": "3_ERHJAPEZAt"
      }
    },
    {
      "cell_type": "code",
      "source": [
        "# 1. Matriz de Correlação\n",
        "\n",
        "# Definir colunas numéricas\n",
        "numeric_cols = [\n",
        "    'Idade',\n",
        "    'Pressao_Sistolica',\n",
        "    'Pressao_Diastolica',\n",
        "    'Nivel_Glicose',\n",
        "    'Temperatura_Corporal',\n",
        "    'Frequencia_Cardiaca',\n",
        "    'Idade_35+'\n",
        "]\n",
        "\n",
        "\n",
        "# Calcular a matriz de correlação\n",
        "matriz_correlacao = Dataset[numeric_cols].corr()\n",
        "\n",
        "# Mostrar resultado da matriz de correlação\n",
        "print(\"\\n--- Matriz de Correlação das Características Numéricas ---\")\n",
        "print(matriz_correlacao)\n"
      ],
      "metadata": {
        "colab": {
          "base_uri": "https://localhost:8080/"
        },
        "id": "ap4pNENRo_d-",
        "outputId": "48561f39-0de2-4579-f2ff-648d09420cb1"
      },
      "execution_count": 43,
      "outputs": [
        {
          "output_type": "stream",
          "name": "stdout",
          "text": [
            "\n",
            "--- Matriz de Correlação das Características Numéricas ---\n",
            "                         Idade  Pressao_Sistolica  Pressao_Diastolica  \\\n",
            "Idade                 1.000000           0.416045            0.398026   \n",
            "Pressao_Sistolica     0.416045           1.000000            0.787006   \n",
            "Pressao_Diastolica    0.398026           0.787006            1.000000   \n",
            "Nivel_Glicose         0.473284           0.425172            0.423824   \n",
            "Temperatura_Corporal -0.255323          -0.286616           -0.257538   \n",
            "Frequencia_Cardiaca   0.079798          -0.023108           -0.046151   \n",
            "Idade_35+             0.858554           0.326090            0.347741   \n",
            "\n",
            "                      Nivel_Glicose  Temperatura_Corporal  \\\n",
            "Idade                      0.473284             -0.255323   \n",
            "Pressao_Sistolica          0.425172             -0.286616   \n",
            "Pressao_Diastolica         0.423824             -0.257538   \n",
            "Nivel_Glicose              1.000000             -0.103493   \n",
            "Temperatura_Corporal      -0.103493              1.000000   \n",
            "Frequencia_Cardiaca        0.142867              0.098771   \n",
            "Idade_35+                  0.499476             -0.213223   \n",
            "\n",
            "                      Frequencia_Cardiaca  Idade_35+  \n",
            "Idade                            0.079798   0.858554  \n",
            "Pressao_Sistolica               -0.023108   0.326090  \n",
            "Pressao_Diastolica              -0.046151   0.347741  \n",
            "Nivel_Glicose                    0.142867   0.499476  \n",
            "Temperatura_Corporal             0.098771  -0.213223  \n",
            "Frequencia_Cardiaca              1.000000   0.038395  \n",
            "Idade_35+                        0.038395   1.000000  \n"
          ]
        }
      ]
    },
    {
      "cell_type": "code",
      "source": [
        "# 2. Gerar e exibir o mapa de calor\n",
        "plt.figure(figsize=(8, 6))\n",
        "sns.heatmap(matriz_correlacao, annot=True, cmap='coolwarm', fmt=\".2f\")\n",
        "plt.title('Matriz de Correlação das Características Numéricas')\n",
        "plt.show()"
      ],
      "metadata": {
        "colab": {
          "base_uri": "https://localhost:8080/",
          "height": 686
        },
        "id": "0eTVxHMk3MeH",
        "outputId": "7c873f07-52c2-48c3-f3e7-91739858a62e"
      },
      "execution_count": 39,
      "outputs": [
        {
          "output_type": "display_data",
          "data": {
            "text/plain": [
              "<Figure size 800x600 with 2 Axes>"
            ],
            "image/png": "[encoded data removed]"
          },
          "metadata": {}
        }
      ]
    },
    {
      "cell_type": "markdown",
      "source": [
        "**Análise da Matriz de Correlação das Características Numéricas**\n",
        "\n",
        "**Correlações Fortes e Esperadas:**\n",
        "\n",
        "- Pressao_Sistolica e Pressao_Diastolica (0.787006): Existe uma forte correlação positiva entre a pressão sistólica e a diastólica. Isso é esperado, pois ambas medem aspectos da pressão arterial e geralmente aumentam ou diminuem juntas.\n",
        "\n",
        "- Idade e Idade_35+ (0.858554): Há uma correlação extremamente forte e positiva entre Idade e a nova coluna Idade_35+. Isso é perfeitamente normal e esperado, já que Idade_35+ foi criada diretamente a partir da Idade para categorizar idades acima de 35 anos.\n",
        "\n",
        "\n",
        "**Correlações Moderadas a Fortes:**\n",
        "\n",
        "- Idade e Nivel_Glicose (0.473284): Há uma correlação positiva moderada. Isso sugere que, à medida que a idade da gestante aumenta, o nível de glicose no sangue tende a ser mais elevado. Isso é um insight importante, pois níveis elevados de glicose podem indicar risco gestacional (como diabetes gestacional).\n",
        "\n",
        "- Nivel_Glicose e Idade_35+ (0.499476): Similarmente, o grupo Idade_35+ (gestantes com 35 anos ou mais) mostra uma correlação positiva moderada com Nivel_Glicose. Isso reforça a ideia de que a idade mais avançada pode estar associada a níveis mais altos de glicose.\n",
        "\n",
        "- Idade com Pressao_Sistolica (0.416045) e Pressao_Diastolica (0.398026): Há correlações positivas moderadas da idade com ambos os tipos de pressão arterial. Isso pode indicar que gestantes mais velhas tendem a ter pressões arteriais ligeiramente mais altas.\n",
        "\n",
        "- Nivel_Glicose com Pressao_Sistolica (0.425172) e Pressao_Diastolica (0.423824): Níveis de glicose mostram correlação positiva moderada com a pressão arterial. Isso é clinicamente relevante, pois condições como diabetes e hipertensão são frequentemente interligadas e aumentam o risco na gravidez.\n",
        "\n",
        "\n",
        "\n",
        "**Correlações Negativas (Moderadas a Fracas):**\n",
        "\n",
        "- Temperatura_Corporal com Idade (-0.255323), Pressao_Sistolica (-0.286616), Pressao_Diastolica (-0.257538), Nivel_Glicose (-0.103493) e Idade_35+ (-0.213223): Temperatura_Corporal mostra correlações negativas fracas a moderadas com a maioria das outras variáveis. Isso sugere que, à medida que essas outras variáveis aumentam, a temperatura corporal tende a ser ligeiramente menor, ou vice-versa. Embora as correlações sejam de baixa intensidade, indicam uma tendência oposta.\n",
        "\n",
        "\n",
        "**Correlações Fracas**:\n",
        "\n",
        "- Frequencia_Cardiaca: Esta variável apresenta correlações muito próximas de zero com a maioria das outras variáveis (Idade, Pressao_Sistolica, Pressao_Diastolica, Idade_35+). Isso sugere que a frequência cardíaca, por si só, não tem uma forte relação linear com as outras características medidas neste dataset. Ou seja, ela tende a variar independentemente dessas outras medidas.\n",
        "\n",
        "\n",
        "\n",
        "**Implicações ao Risco Gestacional**:\n",
        "\n",
        "As correlações mostram que Idade, Pressão Arterial e Nível de Glicose estão mais interligados. Isso sugere que esses fatores podem atuar em conjunto na determinação do risco gestacional."
      ],
      "metadata": {
        "id": "M8OdE0BZ46jw"
      }
    },
    {
      "cell_type": "code",
      "source": [
        "# 3. Matriz de correlação de idade x risco gestacional\n",
        "\n",
        "## Filtrar o DataFrame para incluir apenas pessoas com idade maior ou igual a 35\n",
        "df_idade_maior_35 = Dataset[Dataset['Idade'] >= 35].copy() # .copy() para evitar SettingWithCopyWarning\n",
        "\n",
        "# Selecionar as colunas para a matriz de correlação\n",
        "colunas_para_correlacao_df = df_idade_maior_35[['Idade', 'Nivel_Risco_Numerico']]\n",
        "\n",
        "# Calcular a matriz de correlação\n",
        "matriz_correlacao_idade_risco = colunas_para_correlacao_df.corr()\n",
        "\n",
        "print(\"\\nMatriz de Correlação para Idade >= 35 e Risco Gestacional:\")\n",
        "print(matriz_correlacao_idade_risco)\n",
        "\n",
        "\n",
        "# Opcional: Visualizar a matriz de correlação com um heatmap (requer seaborn)\n",
        "plt.figure(figsize=(6, 5))\n",
        "sns.heatmap(matriz_correlacao, annot=True, cmap='coolwarm', fmt=\".2f\", linewidths=.5)\n",
        "plt.title('Matriz de Correlação (Idade 35+ e Risco Gestacional)')\n",
        "plt.show()"
      ],
      "metadata": {
        "colab": {
          "base_uri": "https://localhost:8080/",
          "height": 553
        },
        "id": "Nd9Wzoph1rTA",
        "outputId": "bac822cf-6263-42a1-90f0-67810f33b74f"
      },
      "execution_count": 58,
      "outputs": [
        {
          "output_type": "stream",
          "name": "stdout",
          "text": [
            "\n",
            "Matriz de Correlação para Idade >= 35 e Risco Gestacional:\n",
            "                         Idade  Nivel_Risco_Numerico\n",
            "Idade                 1.000000              0.117465\n",
            "Nivel_Risco_Numerico  0.117465              1.000000\n"
          ]
        },
        {
          "output_type": "display_data",
          "data": {
            "text/plain": [
              "<Figure size 600x500 with 2 Axes>"
            ],
            "image/png": "[encoded data removed]"
          },
          "metadata": {}
        }
      ]
    },
    {
      "cell_type": "markdown",
      "source": [
        "**Análise da Matriz de Correlação Idade 35+ e Risco Gestacional**\n",
        "\n",
        "A direção da correlação está é cientificamente esperado (idade crescente → risco crescente), assumindo a codificação ascendente do risco, porém apesar da direção correta, a correlação é muito fraca. Isso sugere que a Idade como uma variável contínua, por si só, tem uma capacidade linear muito limitada de prever ou explicar o Nivel_Risco neste dataset. Ou seja, um modelo linear simples baseado apenas na idade provavelmente não será muito eficaz.\n",
        "\n",
        "\n",
        "A idade pode ser mais relevante em combinação ou interação com outras variáveis, como pressão arterial, nível de glicose, etc.\n",
        "\n",
        "Em resumo, essa matriz, com o coeficiente positivo, confirma a direção esperada da relação (Idade → Risco), mas a força fraca da correlação linear indica que a Idade sozinha não é um forte preditor linear do risco gestacional neste dataset."
      ],
      "metadata": {
        "id": "s3fkrLiR6FB9"
      }
    },
    {
      "cell_type": "markdown",
      "source": [
        "# 5. Pré-Processamento de Dados\n",
        "\n",
        "O pré-processamento de dados é uma etapa crucial para preparar os dados para modelagem, ou seja, transformar os dados brutos em um formato adequado para algoritmos de aprendizado de máquina, garantindo que estejam no formato correto e otimizados para o desempenho do algoritmo."
      ],
      "metadata": {
        "id": "VDovmxgDFcbF"
      }
    },
    {
      "cell_type": "markdown",
      "source": [
        "## Treino e Teste\n",
        "\n",
        "O conjunto de treino é usado para \"ensinar\" o modelo a encontrar padrões nos dados.\n",
        "\n",
        "O conjunto de teste é um conjunto de dados \"invisível\" que o modelo nunca viu durante o treinamento. Ele é usado para simular como o modelo se comportaria com novos dados do mundo real, dando uma estimativa imparcial de sua capacidade de generalização."
      ],
      "metadata": {
        "id": "Cl5QdzJLMUMG"
      }
    },
    {
      "cell_type": "code",
      "source": [
        "# 1. Separar features (X) e target (y)\n",
        "# X serão todas as colunas, exceto 'Nivel_Risco'\n",
        "X = Dataset.drop('Nivel_Risco_Numerico', axis=1)\n",
        "\n",
        "# y será a coluna 'Nivel_Risco'\n",
        "y = Dataset['Nivel_Risco_Numerico']"
      ],
      "metadata": {
        "id": "82kzmWnHFkb6"
      },
      "execution_count": 62,
      "outputs": []
    },
    {
      "cell_type": "code",
      "source": [
        "# 2. Dividir os dados em conjuntos de treino e teste\n",
        "\n",
        "# - Train_test_split(...): Esta é a função que faz a divisão:\n",
        "# - X, y: São os dados de entrada e a variável alvo.\n",
        "# - Test_size=0.3: Define que 30% dos dados serão usados para o conjunto de teste e os 70% restantes para o conjunto de treino.\n",
        "# - Random_state=42: garante que a divisão seja a mesma toda vez que você rodar o código.\n",
        "    #Isso é crucial para a reprodutibilidade dos seus experimentos.\n",
        "# - Stratify=y: é crucial para problemas de classificação, garantindo que as proporções de cada\n",
        "    # nível de risco (neste caso, 'low risk', 'mid risk', 'high risk') sejam mantidas nos conjuntos de treino e teste.\n",
        "\n",
        "X_train, X_test, y_train, y_test = train_test_split(X, y, test_size=0.3, random_state=42)"
      ],
      "metadata": {
        "id": "zzxbuTbIeuuU"
      },
      "execution_count": 63,
      "outputs": []
    },
    {
      "cell_type": "code",
      "source": [
        "# 3. Imprimir as dimensões dos conjuntos para verificar\n",
        "print(f\"Dimensão total do Dataset: {Dataset.shape}\")\n",
        "print(f\"Dimensão de X (features): {X.shape}\")\n",
        "print(f\"Dimensão de y (target): {y.shape}\")\n",
        "print(\"-\" * 40)\n",
        "print(f\"Dimensão do conjunto de treino (X_train): {X_train.shape}\")\n",
        "print(f\"Dimensão do conjunto de teste (X_test): {X_test.shape}\")\n",
        "print(f\"Dimensão do target de treino (y_train): {y_train.shape}\")\n",
        "print(f\"Dimensão do target de teste (y_test): {y_test.shape}\")\n",
        "print(\"-\" * 40)\n",
        "print(\"Distribuição do Nivel_Risco no Dataset original:\")\n",
        "print(y.value_counts(normalize=True))\n",
        "print(\"\\nDistribuição do Nivel_Risco no conjunto de treino:\")\n",
        "print(y_train.value_counts(normalize=True))\n",
        "print(\"\\nDistribuição do Nivel_Risco no conjunto de teste:\")\n",
        "print(y_test.value_counts(normalize=True))"
      ],
      "metadata": {
        "colab": {
          "base_uri": "https://localhost:8080/"
        },
        "id": "rRhMXWaPId-J",
        "outputId": "78214d66-bca2-45f4-eaa1-3613c00a1945"
      },
      "execution_count": 64,
      "outputs": [
        {
          "output_type": "stream",
          "name": "stdout",
          "text": [
            "Dimensão total do Dataset: (1014, 8)\n",
            "Dimensão de X (features): (1014, 7)\n",
            "Dimensão de y (target): (1014,)\n",
            "----------------------------------------\n",
            "Dimensão do conjunto de treino (X_train): (709, 7)\n",
            "Dimensão do conjunto de teste (X_test): (305, 7)\n",
            "Dimensão do target de treino (y_train): (709,)\n",
            "Dimensão do target de teste (y_test): (305,)\n",
            "----------------------------------------\n",
            "Distribuição do Nivel_Risco no Dataset original:\n",
            "Nivel_Risco_Numerico\n",
            "1.0    0.59882\n",
            "3.0    0.40118\n",
            "Name: proportion, dtype: float64\n",
            "\n",
            "Distribuição do Nivel_Risco no conjunto de treino:\n",
            "Nivel_Risco_Numerico\n",
            "1.0    0.595876\n",
            "3.0    0.404124\n",
            "Name: proportion, dtype: float64\n",
            "\n",
            "Distribuição do Nivel_Risco no conjunto de teste:\n",
            "Nivel_Risco_Numerico\n",
            "1.0    0.606218\n",
            "3.0    0.393782\n",
            "Name: proportion, dtype: float64\n"
          ]
        }
      ]
    },
    {
      "cell_type": "markdown",
      "source": [
        "## Normalização\n",
        "\n",
        "A normalização escala os dados para um intervalo fixo, geralmente entre 0 e 1. É útil quando o algoritmo de machine learning assume que as características estão em uma escala semelhante.\n",
        "\n"
      ],
      "metadata": {
        "id": "7wQ9wP_zGJkk"
      }
    },
    {
      "cell_type": "code",
      "source": [
        "# 1. Normalizar os dados de treino e teste\n",
        "scaler_norm = MinMaxScaler()\n",
        "\n",
        "# Aprende os valores mínimos e máximos APENAS de X_train\n",
        "scaler_norm.fit(X_train)\n",
        "X_train_normalized = scaler_norm.transform(X_train)\n",
        "\n",
        "# Transformar X_train_normalized de volta para um DataFrame, mantendo os nomes das colunas\n",
        "df_X_train_normalized = pd.DataFrame(X_train_normalized, columns=X_train.columns, index=X_train.index)\n",
        "\n",
        "print(\"\\nDataFrame X_train Normalizado (Min-Max) - Primeiras 5 linhas:\")\n",
        "print(df_X_train_normalized.head())\n",
        "\n"
      ],
      "metadata": {
        "id": "bngDh1AJCvo2"
      },
      "execution_count": null,
      "outputs": []
    },
    {
      "cell_type": "code",
      "source": [
        "# 2. Combinar X_train_normalized e y_train para a Matriz de Correlação\n",
        "\n",
        "df_train_combined = pd.concat([df_X_train_normalized, y_train], axis=1)"
      ],
      "metadata": {
        "id": "vIrCAPQyJDJ2"
      },
      "execution_count": null,
      "outputs": []
    },
    {
      "cell_type": "code",
      "source": [
        "# 3. Calcular a Matriz de Correlação ---\n",
        "correlation_matrix = df_train_combined.corr()\n",
        "\n",
        "print(\"\\nMatriz de Correlação (Dados de Treino Normalizados e Target):\")\n",
        "print(correlation_matrix)"
      ],
      "metadata": {
        "id": "R_EW5gsKJelT"
      },
      "execution_count": null,
      "outputs": []
    },
    {
      "cell_type": "code",
      "source": [
        "# 4. Visualizar a Matriz de Correlação ---\n",
        "plt.figure(figsize=(10, 8))\n",
        "sns.heatmap(correlation_matrix, annot=True, cmap='coolwarm', fmt=\".2f\", linewidths=.5)\n",
        "plt.title('Matriz de Correlação dos Dados de Treino Normalizados e Target')\n",
        "plt.show()"
      ],
      "metadata": {
        "id": "nMa7zm-cJiLg"
      },
      "execution_count": null,
      "outputs": []
    },
    {
      "cell_type": "markdown",
      "source": [
        "Correlações com Nivel_Risco_Numerico (Sua Variável Alvo)\n",
        "\n",
        "Vamos focar em como cada característica se relaciona com o Nivel_Risco_Numerico, pois isso é crucial para entender quais características podem ser bons preditores:\n",
        "\n",
        "Nível de Glicose (0.671069):\n",
        "\n",
        "Esta é a correlação positiva mais forte com o Nivel_Risco_Numerico. Isso é um achado significativo! Sugere que, à medida que o Nível de Glicose aumenta, o Nível de Risco Numérico tende a aumentar consideravelmente. Esta é uma característica muito importante para prever o risco.\n",
        "Pressão Sistólica (0.433841) e Pressão Diastólica (0.401318):\n",
        "\n",
        "Ambas têm correlações positivas moderadas com o Nivel_Risco_Numerico. Isso indica que, à medida que as pressões arteriais aumentam, o nível de risco tende a subir. São características relevantes, mas o Nível de Glicose parece ter uma relação mais forte.\n",
        "Idade (0.355948) e Mapeamento_idade (0.348056):\n",
        "\n",
        "Possuem correlações positivas fracas a moderadas com o Nivel_Risco_Numerico. Isso sugere que a idade tem alguma influência no risco, mas não é o fator principal por si só. Como a \"Idade\" e o \"Mapeamento_idade\" são altamente correlacionados entre si, provavelmente você escolherá apenas uma delas para seu modelo.\n",
        "Frequência Cardíaca (0.253006):\n",
        "\n",
        "Apresenta uma correlação positiva fraca com o Nivel_Risco_Numerico. A Frequência Cardíaca parece ter uma relação discreta com o risco, menos impactante que o Nível de Glicose ou as Pressões.\n",
        "Temperatura Corporal (0.184649):\n",
        "\n",
        "Mostra uma correlação positiva muito fraca com o Nivel_Risco_Numerico. Isso indica que a Temperatura Corporal tem pouquíssima relação linear com o nível de risco. É provável que esta variável não seja um preditor muito útil no seu modelo.\n",
        "Considerações Finais\n",
        "\n",
        "Prioridade de Variáveis: O Nível de Glicose se destaca como o fator mais correlacionado ao Nivel_Risco_Numerico. Pressão Sistólica e Diastólica também são importantes.\n",
        "Multicolinearidade: Fique atento às variáveis altamente correlacionadas entre si (como Pressão Sistólica/Diastólica e Idade/Mapeamento_idade). Em modelos de regressão linear, ter variáveis muito correlacionadas pode inflacionar a variância dos coeficientes, tornando-os menos estáveis e mais difíceis de interpretar. Você pode considerar remover uma delas ou usar técnicas como PCA (Análise de Componentes Principais).\n",
        "Correlação vs. Causalidade: Lembre-se sempre que correlação não implica causalidade. Esses resultados indicam tendências, mas não provam que uma variável causa a outra."
      ],
      "metadata": {
        "id": "tQAtjq-DKWRE"
      }
    },
    {
      "cell_type": "code",
      "source": [
        "# Visualização da distribuição após a normalização (exemplo para uma característica)\n",
        "plt.figure(figsize=(8, 6))\n",
        "sns.histplot(df_normalized['Idade'], kde=True)\n",
        "plt.title('Distribuição da Idade (Normalizado)')\n",
        "plt.xlabel('Idade Normalizada')\n",
        "plt.ylabel('Frequência')\n",
        "plt.show()"
      ],
      "metadata": {
        "id": "y5Ni6N10HDDU"
      },
      "execution_count": null,
      "outputs": []
    },
    {
      "cell_type": "markdown",
      "source": [
        "O histograma de *Idade* após a normalização mostra que os valores foram escalados para o intervalo de 0 a 1, mantendo a forma da distribuição original."
      ],
      "metadata": {
        "id": "Eyb-mWfqHDDU"
      }
    },
    {
      "cell_type": "code",
      "source": [
        "#Matriz de Correlacao de idade x risco gestacional com dados normalizados\n",
        "\n",
        "# Criar um mapeamento de strings para números\n",
        "mapeamento_risco = {\n",
        "    'low risk': 1,\n",
        "    'medium risk': 2,\n",
        "    'high risk': 3}\n",
        "\n",
        "\n",
        "# Aplicar o mapeamento à coluna 'Nivel_Risco'\n",
        "Dataset['Nivel_Risco_Numerico'] = Dataset['Nivel_Risco'].map(mapeamento_risco)\n",
        "\n",
        "\n",
        "print(\"\\nDataset Após Mapeamento de Risco:\")\n",
        "print(Dataset)\n",
        "print(\"-\" * 30)\n",
        "\n",
        "\n",
        "# Agora, selecione apenas as colunas numéricas para normalizar.\n",
        "# No meu exemplo, vamos normalizar 'Idade', 'Pressao' e 'Nivel_Risco_Numerico'.\n",
        "colunas_para_normalizar = ['Idade', 'Nivel_Risco_Numerico']\n",
        "df_para_normalizar = Dataset[colunas_para_normalizar]\n",
        "\n",
        "\n",
        "# 3. Aplicar a Normalização Min-Max aos dados numéricos\n",
        "scaler_minmax = MinMaxScaler()\n",
        "df_normalized_minmax = pd.DataFrame(scaler_minmax.fit_transform(df_para_normalizar),\n",
        "                                    columns=df_para_normalizar.columns)\n",
        "\n",
        "print(\"\\nDataFrame Normalizado (Min-Max):\")\n",
        "print(df_normalized_minmax)\n",
        "print(\"-\" * 30)\n",
        "\n",
        "\n",
        "## Matriz de Correlação dos Dados Normalizados\n",
        "\n",
        "#Agora que os dados estão normalizados e numéricos, podemos calcular a matriz de correlação.\n",
        "\n",
        "\n",
        "# 4. Calcular a Matriz de Correlação para dados normalizados\n",
        "correlation_matrix = df_normalized_minmax.corr()\n",
        "\n",
        "print(\"\\nMatriz de Correlação (Dados Normalizados):\")\n",
        "print(correlation_matrix)\n",
        "\n",
        "# 5. Visualizar a Matriz de Correlação\n",
        "plt.figure(figsize=(8, 6))\n",
        "sns.heatmap(correlation_matrix, annot=True, cmap='coolwarm', fmt=\".2f\", linewidths=.5)\n",
        "plt.title('Matriz de Correlação de Dados Normalizados')\n",
        "plt.show()"
      ],
      "metadata": {
        "id": "Fhdlbbt865gm"
      },
      "execution_count": null,
      "outputs": []
    },
    {
      "cell_type": "markdown",
      "source": [
        "O valor principal a ser observado na matriz é 0.330881. Este número representa o coeficiente de correlação de Pearson entre a Idade e o Nível de Risco Numérico.\n",
        "\n",
        "Vamos detalhar o que isso significa:\n",
        "\n",
        "Sinal Positivo (+): O fato de o valor ser positivo (0.330881) indica que há uma correlação positiva. Isso significa que, à medida que a Idade aumenta, o Nivel_Risco_Numerico também tende a aumentar, e vice-versa. As duas variáveis se movem na mesma direção.\n",
        "\n",
        "Magnitude (0.330881): A magnitude do valor (quão perto de 1 ele está) indica a força da correlação. Um valor de 0.330881 é considerado uma correlação positiva fraca a moderada. Isso sugere que existe uma relação, mas ela não é extremamente forte ou determinante.\n",
        "\n",
        "Em Resumo\n",
        "\n",
        "Para os dados analisados, há uma tendência de que pessoas mais velhas apresentem um Nível de Risco Numérico um pouco mais elevado. No entanto, essa relação não é muito forte. A idade, por si só, explica apenas uma pequena parte da variação no nível de risco. Isso significa que outros fatores, além da idade, provavelmente têm uma influência maior no Nível de Risco Numérico."
      ],
      "metadata": {
        "id": "k-k_K8iM-H2C"
      }
    },
    {
      "cell_type": "markdown",
      "source": [
        "## Padronização\n",
        "\n",
        "A padronização (ou Z-score scaling) transforma os dados para ter média 0 e desvio padrão 1. explicar maissssssss"
      ],
      "metadata": {
        "id": "UOSAwBz0GOAM"
      }
    },
    {
      "cell_type": "code",
      "source": [
        "# Identificar as colunas numéricas para padronização\n",
        "# Excluímos 'RiskLevel' porque é categórica (já tratada com codificação, como One-Hot)\n",
        "numerical_cols = ['Idade', 'Pressao_Sistolica', 'Pressao_Diastolica', 'Nivel_Glicose', 'Temperatura_Corporal', 'Frequencia_Cardiaca']\n",
        "\n",
        "\n",
        "# 3. Inicializar o StandardScaler\n",
        "scaler = StandardScaler()\n",
        "\n",
        "# 4. Ajustar (fit) o scaler APENAS nos dados de treino e transformar (transform)\n",
        "# Criar cópias para evitar SettingWithCopyWarning\n",
        "X_train_scaled = X_train.copy()\n",
        "X_test_scaled = X_test.copy()\n",
        "\n",
        "X_train_scaled[numerical_cols] = scaler.fit_transform(X_train[numerical_cols])\n",
        "\n",
        "# 5. Transformar os dados de teste usando o scaler já ajustado nos dados de treino\n",
        "X_test_scaled[numerical_cols] = scaler.transform(X_test[numerical_cols])\n",
        "\n",
        "print(\"X_train_scaled (Após Padronização nos dados de Treino):\")\n",
        "print(X_train_scaled.head())\n",
        "print(\"\\nVerificando médias e desvios padrão de X_train_scaled para as colunas numéricas:\")\n",
        "print(X_train_scaled[numerical_cols].agg(['mean', 'std']).round(2)) # Arredondar para melhor visualização\n",
        "\n",
        "print(\"\\nX_test_scaled (Após Padronização usando os parâmetros do Treino):\")\n",
        "print(X_test_scaled.head())\n",
        "print(\"\\nVerificando médias e desvios padrão de X_test_scaled para as colunas numéricas:\")\n",
        "print(X_test_scaled[numerical_cols].agg(['mean', 'std']).round(2))"
      ],
      "metadata": {
        "id": "t_oqbQ6nTWFP"
      },
      "execution_count": null,
      "outputs": []
    },
    {
      "cell_type": "code",
      "source": [
        "# Visualização da distribuição após a padronização (exemplo para uma característica)\n",
        "plt.figure(figsize=(8, 6))\n",
        "sns.histplot(X_test_scaled['Idade'], kde=True)\n",
        "plt.title('Distribuição da Idade (Padronizado)')\n",
        "plt.xlabel('Distribuição da Idade Padronizado')\n",
        "plt.ylabel('Frequência')\n",
        "plt.show()"
      ],
      "metadata": {
        "id": "fyfnu7jSGxcA"
      },
      "execution_count": null,
      "outputs": []
    },
    {
      "cell_type": "markdown",
      "source": [
        "Mesmo após a padronização é possível observar que a curva de distribuição da idade se mantém."
      ],
      "metadata": {
        "id": "zmeMPbfhGxcA"
      }
    },
    {
      "cell_type": "markdown",
      "source": [
        "## Tratamento de Valores Nulos\n",
        "\n",
        "O dataset Pregnancy não possui valores nulos. No entanto, o tratamento de valores nulos é crucial e pode envolver imputação (preenchimento com média, mediana, moda) ou remoção de linhas/colunas."
      ],
      "metadata": {
        "id": "UC1f5d_BGTVB"
      }
    },
    {
      "cell_type": "code",
      "source": [
        "# Verificar a presença de valores nulos no dataset original\n",
        "print(\"Valores nulos no dataset Iris:\")\n",
        "Dataset.isnull().sum()"
      ],
      "metadata": {
        "id": "fNQUvAnwG8fL"
      },
      "execution_count": null,
      "outputs": []
    },
    {
      "cell_type": "markdown",
      "source": [
        "## Outras Transformações e Etapas de Pré-Processamento\n",
        "\n",
        "Outras etapas de pré-processamento incluem a seleção de características, redução de dimensionalidade (como PCA) ou criação de novas características (feature engineering). O que você faria a mais?\n",
        "\n"
      ],
      "metadata": {
        "id": "rBl8S0hDGap4"
      }
    },
    {
      "cell_type": "markdown",
      "source": [
        "A Análise de Componentes Principais (PCA) é uma técnica poderosa de redução de dimensionalidade. Em termos simples, ela te ajuda a pegar um conjunto de dados com muitas variáveis (features) e transformá-lo em um conjunto com menos variáveis, chamadas de Componentes Principais (PCs), sem perder muita informação.\n",
        "\n",
        "Imagine que você tem várias variáveis que medem aspectos de um paciente, como Idade, Peso, Altura, Pressão Arterial, Nível de Glicose, etc. Muitas dessas variáveis podem estar correlacionadas (como vimos na sua matriz de correlação, onde Pressão Sistólica e Diastólica são muito correlacionadas). O PCA busca encontrar novas variáveis (os componentes principais) que são combinações lineares das variáveis originais e que são não correlacionadas entre si."
      ],
      "metadata": {
        "id": "Sx9XVoGhMK1u"
      }
    },
    {
      "cell_type": "markdown",
      "source": [
        "Como o PCA Funciona?\n",
        "\n",
        "O processo de fazer PCA geralmente envolve os seguintes passos:\n",
        "\n",
        "Padronização dos Dados:\n",
        "\n",
        "Por que fazer: O PCA é muito sensível à escala das variáveis. Se uma variável tem uma faixa de valores muito maior que outra (por exemplo, \"Salário\" vs. \"Idade\"), ela pode dominar o cálculo das componentes principais, mesmo que não seja a mais importante intrinsecamente. A padronização (usando StandardScaler do scikit-learn) coloca todas as variáveis na mesma escala, com média 0 e desvio padrão 1. Este é um passo crucial e quase sempre necessário antes de aplicar o PCA.\n",
        "Cálculo da Matriz de Covariância (ou Matriz de Correlação):\n",
        "\n",
        "Por que fazer: Essa matriz mostra como cada par de variáveis varia em conjunto. O PCA usa essa informação para identificar as direções (eixos) de maior variância nos dados.\n",
        "Cálculo dos Autovetores e Autovalores:\n",
        "\n",
        "Autovetores: São as \"direções\" ou \"componentes principais\". Cada autovetor representa um novo eixo no espaço dos dados, ao longo do qual a variância dos dados é máxima. Eles são ortogonais (perpendiculares) entre si, o que significa que as novas componentes principais não são correlacionadas.\n",
        "Autovalores: Cada autovetor tem um autovalor correspondente. O autovalor indica a \"quantidade de variância\" (ou importância) que o respectivo autovetor (componente principal) captura dos dados originais. Componentes com autovalores maiores são mais importantes.\n",
        "Seleção dos Componentes Principais:\n",
        "\n",
        "Por que fazer: O objetivo é reduzir a dimensionalidade. Você escolhe um subconjunto dos autovetores (as componentes principais) que capturam a maior parte da variância total dos dados. Geralmente, você seleciona os componentes com os maiores autovalores. Uma prática comum é escolher componentes que, juntos, expliquem uma certa porcentagem da variância (e.g., 90% ou 95%).\n",
        "Projeção dos Dados:\n",
        "\n",
        "Por que fazer: Uma vez que você selecionou as n componentes principais, você projeta seus dados originais (já padronizados) nesses novos eixos. O resultado é um novo conjunto de dados com n colunas (as n componentes principais), que representam a informação mais importante dos dados originais, mas em uma dimensão menor.\n"
      ],
      "metadata": {
        "id": "Go_ayMzUMR97"
      }
    },
    {
      "cell_type": "code",
      "source": [
        "# 1. PADRONIZAÇÃO dos dados de treino (X_train) antes do PCA ---\n",
        "# O PCA é sensível à escala. É recomendado usar StandardScaler antes do PCA.\n",
        "scaler_std = StandardScaler()\n",
        "scaler_std.fit(X_train) # Aprende média e desvio padrão APENAS de X_train\n",
        "X_train_scaled = scaler_std.transform(X_train)"
      ],
      "metadata": {
        "id": "c8mJOHaJMk9z"
      },
      "execution_count": null,
      "outputs": []
    },
    {
      "cell_type": "code",
      "source": [
        "# 2. Transformar para DataFrame para manter os nomes das colunas (útil para inspeção)\n",
        "df_X_train_scaled = pd.DataFrame(X_train_scaled, columns=X_train.columns, index=X_train.index)\n",
        "\n",
        "print(\"DataFrame X_train Padronizado (StandardScaler) - Primeiras 5 linhas:\")\n",
        "print(df_X_train_scaled.head())"
      ],
      "metadata": {
        "id": "zvrHDRGVMsVJ"
      },
      "execution_count": null,
      "outputs": []
    },
    {
      "cell_type": "code",
      "source": [
        "# 3. Aplicar o PCA ---\n",
        "# Você pode especificar o número de componentes ou a variância explicada\n",
        "# Opção 1: Especificar o número de componentes (ex: 2 para visualização)\n",
        "pca = PCA(n_components=2)"
      ],
      "metadata": {
        "id": "TG0Y-BlBM12x"
      },
      "execution_count": null,
      "outputs": []
    },
    {
      "cell_type": "code",
      "source": [
        "# 4. Especificar a porcentagem da variância a ser explicada (ex: 95%)\n",
        "pca = PCA(n_components=0.95) # PCA vai determinar quantas componentes são necessárias para 95% da variância"
      ],
      "metadata": {
        "id": "jlCvg7-8NR-t"
      },
      "execution_count": null,
      "outputs": []
    },
    {
      "cell_type": "code",
      "source": [
        "# 5. Treinar o PCA nos dados padronizados de treino\n",
        "pca.fit(df_X_train_scaled)"
      ],
      "metadata": {
        "id": "dmAi9ZVlNWZC"
      },
      "execution_count": null,
      "outputs": []
    },
    {
      "cell_type": "code",
      "source": [
        "# 6. Transformar os dados de treino para as novas componentes principais\n",
        "X_train_pca = pca.transform(df_X_train_scaled)\n",
        "\n",
        "\n",
        "print(f\"\\nNúmero original de features: {X_train.shape[1]}\")\n",
        "print(f\"Número de componentes principais geradas: {pca.n_components_}\")\n",
        "print(f\"Forma de X_train_pca: {X_train_pca.shape}\")"
      ],
      "metadata": {
        "colab": {
          "base_uri": "https://localhost:8080/",
          "height": 207
        },
        "id": "UL57jxBzNdJ2",
        "outputId": "d21f8975-1de1-47ff-99ea-9dbca769906f"
      },
      "execution_count": 61,
      "outputs": [
        {
          "output_type": "error",
          "ename": "NameError",
          "evalue": "name 'pca' is not defined",
          "traceback": [
            "\u001b[0;31m---------------------------------------------------------------------------\u001b[0m",
            "\u001b[0;31mNameError\u001b[0m                                 Traceback (most recent call last)",
            "\u001b[0;32m/tmp/ipython-input-61-2309123632.py\u001b[0m in \u001b[0;36m<cell line: 0>\u001b[0;34m()\u001b[0m\n\u001b[1;32m      1\u001b[0m \u001b[0;31m# 6. Transformar os dados de treino para as novas componentes principais\u001b[0m\u001b[0;34m\u001b[0m\u001b[0;34m\u001b[0m\u001b[0m\n\u001b[0;32m----> 2\u001b[0;31m \u001b[0mX_train_pca\u001b[0m \u001b[0;34m=\u001b[0m \u001b[0mpca\u001b[0m\u001b[0;34m.\u001b[0m\u001b[0mtransform\u001b[0m\u001b[0;34m(\u001b[0m\u001b[0mdf_X_train_scaled\u001b[0m\u001b[0;34m)\u001b[0m\u001b[0;34m\u001b[0m\u001b[0;34m\u001b[0m\u001b[0m\n\u001b[0m\u001b[1;32m      3\u001b[0m \u001b[0;34m\u001b[0m\u001b[0m\n\u001b[1;32m      4\u001b[0m \u001b[0;34m\u001b[0m\u001b[0m\n\u001b[1;32m      5\u001b[0m \u001b[0mprint\u001b[0m\u001b[0;34m(\u001b[0m\u001b[0;34mf\"\\nNúmero original de features: {X_train.shape[1]}\"\u001b[0m\u001b[0;34m)\u001b[0m\u001b[0;34m\u001b[0m\u001b[0;34m\u001b[0m\u001b[0m\n",
            "\u001b[0;31mNameError\u001b[0m: name 'pca' is not defined"
          ]
        }
      ]
    },
    {
      "cell_type": "code",
      "source": [
        "# 7. Explicar a variância capturada por cada componente\n",
        "explained_variance_ratio = pca.explained_variance_ratio_\n",
        "print(\"\\nVariância explicada por cada componente principal:\")\n",
        "for i, ratio in enumerate(explained_variance_ratio):\n",
        "    print(f\"PC{i+1}: {ratio:.4f} ({ratio*100:.2f}%)\")\n",
        "\n",
        "print(f\"\\nVariância acumulada explicada pelas {pca.n_components_} componentes: {explained_variance_ratio.sum():.4f} ({explained_variance_ratio.sum()*100:.2f}%)\")"
      ],
      "metadata": {
        "id": "t3mLy6EONnK3"
      },
      "execution_count": null,
      "outputs": []
    },
    {
      "cell_type": "code",
      "source": [
        "# 8. Criar um DataFrame com as componentes principais para facilitar a visualização e uso\n",
        "df_pca = pd.DataFrame(data=X_train_pca,\n",
        "                      columns=[f'PC{i+1}' for i in range(pca.n_components_)],\n",
        "                      index=X_train.index) # Manter o índice para possível combinação com y_train\n",
        "\n",
        "print(\"\\nDataFrame com Componentes Principais (X_train) - Primeiras 5 linhas:\")\n",
        "print(df_pca.head())"
      ],
      "metadata": {
        "id": "4ozszuGmNrOH"
      },
      "execution_count": null,
      "outputs": []
    },
    {
      "cell_type": "code",
      "source": [
        "# 9. Visualização do PCA (para 2 componentes) ---\n",
        "if pca.n_components_ == 2:\n",
        "    plt.figure(figsize=(10, 7))\n",
        "    # Usamos y_train para colorir os pontos pelo nível de risco\n",
        "    sns.scatterplot(x=df_pca['PC1'], y=df_pca['PC2'], hue=y_train, palette='viridis', s=100, alpha=0.7)\n",
        "    plt.title('Dados de Treino Projetados nas 2 Primeiras Componentes Principais')\n",
        "    plt.xlabel(f'Componente Principal 1 ({explained_variance_ratio[0]*100:.2f}% de Variância)')\n",
        "    plt.ylabel(f'Componente Principal 2 ({explained_variance_ratio[1]*100:.2f}% de Variância)')\n",
        "    plt.grid(True)\n",
        "    plt.show()"
      ],
      "metadata": {
        "id": "ZG6FHYweNytR"
      },
      "execution_count": null,
      "outputs": []
    },
    {
      "cell_type": "code",
      "source": [
        "# 10. Aplicar a mesma transformação PCA ao conjunto de teste (X_test) ---\n",
        "# Importante: NÃO FAÇA pca.fit(X_test_scaled). Apenas transforme usando o PCA JÁ TREINADO.\n",
        "X_test_scaled = scaler_std.transform(X_test) # Escala X_test com o mesmo scaler_std do X_train\n",
        "X_test_pca = pca.transform(X_test_scaled)\n",
        "df_test_pca = pd.DataFrame(data=X_test_pca,\n",
        "                           columns=[f'PC{i+1}' for i in range(pca.n_components_)],\n",
        "                           index=X_test.index)\n",
        "print(\"\\nDataFrame com Componentes Principais (X_test) - Primeiras 5 linhas:\")\n",
        "print(df_test_pca.head())"
      ],
      "metadata": {
        "id": "GdFSOwUmMjPq"
      },
      "execution_count": null,
      "outputs": []
    },
    {
      "cell_type": "code",
      "source": [
        "# 1. PADRONIZAÇÃO dos dados de treino (X_train) antes do PCA ---\n",
        "# O PCA é sensível à escala. É recomendado usar StandardScaler antes do PCA.\n",
        "scaler_std = StandardScaler()\n",
        "scaler_std.fit(X_train) # Aprende média e desvio padrão APENAS de X_train\n",
        "X_train_scaled = scaler_std.transform(X_train)\n",
        "\n",
        "# 2. Transformar para DataFrame para manter os nomes das colunas (útil para inspeção)\n",
        "df_X_train_scaled = pd.DataFrame(X_train_scaled, columns=X_train.columns, index=X_train.index)\n",
        "\n",
        "print(\"DataFrame X_train Padronizado (StandardScaler) - Primeiras 5 linhas:\")\n",
        "print(df_X_train_scaled.head())\n",
        "\n",
        "# 3. Aplicar o PCA ---\n",
        "# Você pode especificar o número de componentes ou a variância explicada\n",
        "# Opção 1: Especificar o número de componentes (ex: 2 para visualização)\n",
        "pca = PCA(n_components=2)\n",
        "\n",
        "# 4. Especificar a porcentagem da variância a ser explicada (ex: 95%)\n",
        "pca = PCA(n_components=0.95) # PCA vai determinar quantas componentes são necessárias para 95% da variância\n",
        "\n",
        "# 5. Treinar o PCA nos dados padronizados de treino\n",
        "pca.fit(df_X_train_scaled)\n",
        "\n",
        "# 6. Transformar os dados de treino para as novas componentes principais\n",
        "X_train_pca = pca.transform(df_X_train_scaled)\n",
        "\n",
        "\n",
        "print(f\"\\nNúmero original de features: {X_train.shape[1]}\")\n",
        "print(f\"Número de componentes principais geradas: {pca.n_components_}\")\n",
        "print(f\"Forma de X_train_pca: {X_train_pca.shape}\")\n",
        "\n",
        "\n",
        "# 7. Explicar a variância capturada por cada componente\n",
        "explained_variance_ratio = pca.explained_variance_ratio_\n",
        "print(\"\\nVariância explicada por cada componente principal:\")\n",
        "for i, ratio in enumerate(explained_variance_ratio):\n",
        "    print(f\"PC{i+1}: {ratio:.4f} ({ratio*100:.2f}%)\")\n",
        "\n",
        "print(f\"\\nVariância acumulada explicada pelas {pca.n_components_} componentes: {explained_variance_ratio.sum():.4f} ({explained_variance_ratio.sum()*100:.2f}%)\")\n",
        "\n",
        "\n",
        "8. Criar um DataFrame com as componentes principais para facilitar a visualização e uso\n",
        "df_pca = pd.DataFrame(data=X_train_pca,\n",
        "                      columns=[f'PC{i+1}' for i in range(pca.n_components_)],\n",
        "                      index=X_train.index) # Manter o índice para possível combinação com y_train\n",
        "\n",
        "print(\"\\nDataFrame com Componentes Principais (X_train) - Primeiras 5 linhas:\")\n",
        "print(df_pca.head())\n",
        "\n",
        "# 9. Visualização do PCA (para 2 componentes) ---\n",
        "if pca.n_components_ == 2:\n",
        "    plt.figure(figsize=(10, 7))\n",
        "    # Usamos y_train para colorir os pontos pelo nível de risco\n",
        "    sns.scatterplot(x=df_pca['PC1'], y=df_pca['PC2'], hue=y_train, palette='viridis', s=100, alpha=0.7)\n",
        "    plt.title('Dados de Treino Projetados nas 2 Primeiras Componentes Principais')\n",
        "    plt.xlabel(f'Componente Principal 1 ({explained_variance_ratio[0]*100:.2f}% de Variância)')\n",
        "    plt.ylabel(f'Componente Principal 2 ({explained_variance_ratio[1]*100:.2f}% de Variância)')\n",
        "    plt.grid(True)\n",
        "    plt.show()\n",
        "\n",
        "    # 10. Aplicar a mesma transformação PCA ao conjunto de teste (X_test) ---\n",
        "# Importante: NÃO FAÇA pca.fit(X_test_scaled). Apenas transforme usando o PCA JÁ TREINADO.\n",
        "X_test_scaled = scaler_std.transform(X_test) # Escala X_test com o mesmo scaler_std do X_train\n",
        "X_test_pca = pca.transform(X_test_scaled)\n",
        "df_test_pca = pd.DataFrame(data=X_test_pca,\n",
        "                           columns=[f'PC{i+1}' for i in range(pca.n_components_)],\n",
        "                           index=X_test.index)\n",
        "print(\"\\nDataFrame com Componentes Principais (X_test) - Primeiras 5 linhas:\")\n",
        "print(df_test_pca.head())\n"
      ],
      "metadata": {
        "id": "e3j-Wqd_Oyi6"
      },
      "execution_count": null,
      "outputs": []
    },
    {
      "cell_type": "markdown",
      "source": [
        "Entendendo e Analisando os Resultados do PCA\n",
        "\n",
        "Você já tem os principais elementos para começar sua análise:\n",
        "\n",
        "pca.n_components_: O número de componentes principais que foram geradas para explicar 95% da variância. Isso te diz o quanto você conseguiu reduzir a dimensionalidade.\n",
        "explained_variance_ratio: A porcentagem de variância que cada componente principal individualmente explica. Isso é crucial para entender a importância relativa de cada PC.\n",
        "X_train_pca (ou df_pca) e X_test_pca (ou df_test_pca): Seus conjuntos de dados de treino e teste transformados para o novo espaço de componentes principais. Estas são as novas \"features\" que você usará.\n",
        "Gráfico de Dispersão (scatterplot): Se você usou n_components=2, esse gráfico é uma visualização poderosa da estrutura dos seus dados em um espaço reduzido, colorindo-os pelo nível de risco (y_train)."
      ],
      "metadata": {
        "id": "tQ7OTSuTQGOn"
      }
    },
    {
      "cell_type": "markdown",
      "source": [
        "1. Interpretação das Componentes Principais (Cargas/Loadings)\n",
        "\n",
        "Embora seu código não tenha explicitamente mostrado as cargas (coeficientes) das variáveis originais em cada componente, esta é uma das análises mais importantes após o PCA.\n",
        "\n",
        "O que fazer: Acesse pca.components_. Cada linha desta matriz corresponde a uma componente principal, e cada coluna corresponde a uma variável original. Os valores indicam o \"peso\" ou a \"contribuição\" de cada variável original para aquela componente principal.\n",
        "Para que serve: Ao examinar as variáveis com os maiores pesos (positivos ou negativos) em uma componente, você pode tentar nomear ou interpretar o que essa componente representa. Por exemplo, se a PC1 tem altos pesos em \"renda\", \"educação\" e \"bens\", ela pode representar um \"índice de prosperidade econômica\". Isso é fundamental para entender o significado do seu novo espaço de características.\n",
        "\n",
        "\n",
        "2. Reavaliar a Matriz de Correlação (Após o PCA)\n",
        "\n",
        "Você perguntou: \"refazer a matriz de correlação?\". A resposta é sim, mas com um propósito diferente.\n",
        "\n",
        "Matriz de Correlação das Componentes Principais: Por construção, as componentes principais são ortogonais e, portanto, não correlacionadas entre si. Se você calcular a matriz de correlação para df_pca (ou X_train_pca), você verá que os valores fora da diagonal principal serão muito próximos de zero.\n",
        "Para que serve: Isso valida que o PCA fez seu trabalho de remover a redundância e a multicolinearidade entre as features. Não há mais \"informação duplicada\" entre suas novas variáveis. Não é necessário fazer isso para \"resolver\" a multicolinearidade novamente, mas é uma verificação de sanidade.\n",
        "3. Treinamento de Modelos de Machine Learning\n",
        "\n",
        "Este é o principal objetivo de se aplicar o PCA para redução de dimensionalidade.\n",
        "\n",
        "O que fazer: Use df_pca (para treino) e df_test_pca (para teste) como suas novas entradas (X) para qualquer modelo de machine learning (regressão logística, SVM, Random Forest, etc.) que você pretenda construir.\n",
        "Para que serve:\n",
        "Melhora de Desempenho: Modelos podem treinar mais rápido e serem mais robustos, especialmente se suas features originais tinham alta dimensionalidade e/ou multicolinearidade.\n",
        "Redução de Overfitting: Ao usar menos componentes, você pode diminuir o risco de overfitting, pois o modelo tem menos parâmetros para aprender.\n",
        "Eficiência Computacional: Treinar modelos com menos features é inerentemente mais rápido.\n",
        "4. Visualização Aprofundada (se n_components_ > 2)\n",
        "\n",
        "Se você escolheu n_components=0.95 (e, portanto, obteve mais de 2 componentes), a visualização direta fica mais difícil, mas ainda é possível:\n",
        "\n",
        "Gráfico de Scree: Um gráfico de barras que mostra a variância explicada por cada componente em ordem decrescente. Isso ajuda a visualizar o \"cotovelo\" que indica onde a maioria da variância é capturada, justificando a escolha do número de componentes.\n",
        "Análise das Cargas (novamente): Para entender as componentes que não puderam ser visualizadas diretamente, as cargas se tornam ainda mais importantes para a interpretação.\n",
        "5. Avaliação da Perda de Informação\n",
        "\n",
        "Embora o PCA seja ótimo para redução de dimensionalidade, sempre há uma perda de informação quando você não retém 100% da variância.\n",
        "\n",
        "O que fazer: Compare o desempenho dos seus modelos de machine learning usando as features originais vs. as features transformadas pelo PCA.\n",
        "Para que serve: Para garantir que a redução de dimensionalidade não prejudicou a capacidade preditiva do seu modelo de forma significativa. Se o desempenho cair muito, talvez você precise incluir mais componentes (aumentar a porcentagem de variância explicada) ou reconsiderar se o PCA é a melhor abordagem para o seu problema.\n",
        "Conclusão\n",
        "\n",
        "Você está no caminho certo! O PCA é uma ferramenta poderosa para transformar e simplificar seus dados. Seu próximo grande passo é usar essas novas componentes principais para construir e treinar seus modelos de machine learning, além de aprofundar a interpretação do que cada componente realmente significa em termos das suas variáveis originais.\n",
        "\n",
        "Qual o próximo passo que você gostaria de dar? Treinar um modelo, talvez?"
      ],
      "metadata": {
        "id": "nDSgvvE5QVcB"
      }
    },
    {
      "cell_type": "markdown",
      "source": [
        "# 6. Conclusão\n",
        "Responder as 3 questoes:\n",
        "É comprovado cientificamente que a idade da gestacional acima dos 35 anos (35+), por sí só, aumenta o risco gestacional.\n",
        "\n",
        "Qual o percentual deste grupo de risco na amostra avaliada?\n",
        "\n",
        "Qual a classificação de risco do grupo 35+ em relação ao restantes dos dados?\n",
        "\n",
        "Qual a correlação entre a idade materna 35+ e o risco gestacional?"
      ],
      "metadata": {
        "id": "OY_GDjf1G-PM"
      }
    }
  ]
}